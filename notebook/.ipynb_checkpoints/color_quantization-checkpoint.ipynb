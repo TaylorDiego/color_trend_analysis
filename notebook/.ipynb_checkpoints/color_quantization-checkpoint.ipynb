{
 "cells": [
  {
   "cell_type": "code",
   "execution_count": 1,
   "metadata": {
    "collapsed": true
   },
   "outputs": [],
   "source": [
    "import numpy as np\n",
    "import cv2\n",
    "from colorthief import ColorThief\n",
    "import io\n",
    "import matplotlib.pyplot as plt\n",
    "%matplotlib inline"
   ]
  },
  {
   "cell_type": "code",
   "execution_count": 2,
   "metadata": {
    "collapsed": true
   },
   "outputs": [],
   "source": [
    "test_images = ['/Users/Rabbit/Downloads/china_test.jpg', \n",
    "               '/Users/Rabbit/Downloads/vilnius_test.jpg', \n",
    "               '/Users/Rabbit/Downloads/spices_test.jpg']"
   ]
  },
  {
   "cell_type": "code",
   "execution_count": 3,
   "metadata": {
    "collapsed": true
   },
   "outputs": [],
   "source": [
    "loc_fashion_images = ['/Users/Rabbit/capstone/materials/scrape_fashion_2/2003.86.1.png', \n",
    "                     '/Users/Rabbit/capstone/materials/scrape_fashion_2/2006.44.1.png', \n",
    "                     '/Users/Rabbit/capstone/materials/scrape_fashion_2/2006.56.1.png', \n",
    "                     '/Users/Rabbit/capstone/materials/scrape_fashion_2/2006.56.2.png', \n",
    "                     '/Users/Rabbit/capstone/materials/scrape_fashion_2/2007.30.1.png', \n",
    "                     '/Users/Rabbit/capstone/materials/scrape_fashion_2/2008.4.1.png', \n",
    "                     '/Users/Rabbit/capstone/materials/scrape_fashion_2/2010.98.1.png', \n",
    "                     '/Users/Rabbit/capstone/materials/scrape_fashion_2/74.32.4.png', \n",
    "                     '/Users/Rabbit/capstone/materials/scrape_fashion_2/76.64.1.png', \n",
    "                     '/Users/Rabbit/capstone/materials/scrape_fashion_2/80.1.4.png']"
   ]
  },
  {
   "cell_type": "code",
   "execution_count": null,
   "metadata": {
    "collapsed": true
   },
   "outputs": [],
   "source": []
  },
  {
   "cell_type": "code",
   "execution_count": 4,
   "metadata": {
    "collapsed": true
   },
   "outputs": [],
   "source": [
    "# image_path = loc_fashion_images[1]"
   ]
  },
  {
   "cell_type": "code",
   "execution_count": null,
   "metadata": {
    "collapsed": true
   },
   "outputs": [],
   "source": []
  },
  {
   "cell_type": "code",
   "execution_count": 5,
   "metadata": {},
   "outputs": [],
   "source": [
    "# !ls ../../dyanye_clothing_era_classifier/"
   ]
  },
  {
   "cell_type": "code",
   "execution_count": null,
   "metadata": {
    "collapsed": true
   },
   "outputs": [],
   "source": []
  },
  {
   "cell_type": "code",
   "execution_count": 6,
   "metadata": {
    "collapsed": true
   },
   "outputs": [],
   "source": [
    "# img = cv2.imread('/Users/Rabbit/Downloads/china_test.jpg')\n",
    "# img.shape"
   ]
  },
  {
   "cell_type": "code",
   "execution_count": null,
   "metadata": {},
   "outputs": [],
   "source": []
  },
  {
   "cell_type": "code",
   "execution_count": 7,
   "metadata": {
    "collapsed": true
   },
   "outputs": [],
   "source": [
    "# Z = img.reshape((-1, 3))\n",
    "\n",
    "# # convert to np.float32\n",
    "# Z = np.float32(Z)\n",
    "\n",
    "# # define criteria, number of clusters(K) and apply kmeans()\n",
    "# criteria = (cv2.TERM_CRITERIA_EPS + cv2.TERM_CRITERIA_MAX_ITER, 10, 1.0)\n",
    "# K = 7\n",
    "# ret, label, center=cv2.kmeans(Z,K,None,criteria,10,cv2.KMEANS_RANDOM_CENTERS)"
   ]
  },
  {
   "cell_type": "code",
   "execution_count": 8,
   "metadata": {
    "collapsed": true
   },
   "outputs": [],
   "source": [
    "# # Now convert back into uint8, and make original image\n",
    "# center = np.uint8(center)\n",
    "# res = center[label.flatten()]\n",
    "# res2 = res.reshape((img.shape))\n",
    "\n",
    "# # cv2.imshow('res2',res2)\n",
    "# # cv2.waitKey(0)\n",
    "# # cv2.destroyAllWindows()"
   ]
  },
  {
   "cell_type": "code",
   "execution_count": 9,
   "metadata": {
    "collapsed": true
   },
   "outputs": [],
   "source": [
    "# center"
   ]
  },
  {
   "cell_type": "code",
   "execution_count": 10,
   "metadata": {
    "collapsed": true
   },
   "outputs": [],
   "source": [
    "# img_path = loc_fashion_images[1]"
   ]
  },
  {
   "cell_type": "code",
   "execution_count": 11,
   "metadata": {
    "collapsed": true
   },
   "outputs": [],
   "source": [
    "img_path = test_images[1]"
   ]
  },
  {
   "cell_type": "code",
   "execution_count": 12,
   "metadata": {
    "collapsed": true
   },
   "outputs": [],
   "source": [
    "# colorthief = ColorThief(pic_test)\n",
    "\n",
    "#     def get_color_array(self):\n",
    "# #         \"\"\"\"\"\"\n",
    "# #         color_arr = convert_rgb_to_percent(self.img_palette)\n",
    "# #         return color_arr\n",
    "\n",
    "\n",
    "# #     def convert_rgb_to_percent(img_palette):\n",
    "# #         \"\"\"\"\"\"\n",
    "#         for color in img_palette:\n",
    "#             for rgb_val in color:\n",
    "#                 color_val.append(rgb_val/255)\n",
    "#             color_arr.append(tuple(color_val))\n",
    "#             color_val.clear()\n",
    "#         return color_arr\n",
    "\n"
   ]
  },
  {
   "cell_type": "code",
   "execution_count": 128,
   "metadata": {},
   "outputs": [],
   "source": [
    "class Palettization():\n",
    "    \"\"\"processes a single image path and returns image, centroids(dominant colors), palette\"\"\"\n",
    "    \n",
    "    def __init__(self, img_path):\n",
    "        self.img_path = img_path\n",
    "        self.img_palette = self.get_palette_()\n",
    "        self.color_arr = self.get_color_array()\n",
    "        self.centroid_list = self.arrayify_centroids()\n",
    "        self.counts = self.centroid_cos_similar()\n",
    "\n",
    "    def get_palette_(self):\n",
    "        \"\"\"return image color palette\"\"\"\n",
    "        colorthief = ColorThief(self.img_path)\n",
    "        img_palette = colorthief.get_palette(color_count=7, quality=1)\n",
    "        return img_palette\n",
    "\n",
    "\n",
    "    def get_color_array(self):\n",
    "        \"\"\"return array of palette colors\"\"\"\n",
    "        color_arr = []\n",
    "        for color in self.img_palette:\n",
    "            color_val = []\n",
    "            for rgb_val in color:\n",
    "                color_val.append(rgb_val/255)\n",
    "            color_arr.append(tuple(color_val))\n",
    "        return color_arr\n",
    "\n",
    "\n",
    "    def arrayify_centroids(self):\n",
    "        \"\"\"return array of image palette (centroids)\"\"\"\n",
    "        self.centroid_lst = np.array(self.img_palette)\n",
    "        return self.centroid_lst\n",
    "    \n",
    "    def _centroid_cos_similar(self, pixels, centroid):\n",
    "        numerator = (pixels * centroid).sum(axis=1)\n",
    "        denominator = (np.linalg.norm(pixels, axis=1) * np.linalg.norm(centroid))\n",
    "        return (numerator / denominator)  \n",
    "\n",
    "\n",
    "    def centroid_cos_similar(self):\n",
    "        \"\"\"\"\"\"\n",
    "        lst = []\n",
    "        centroid_lst = self.img_palette\n",
    "        img = cv2.imread(self.img_path)\n",
    "        img = cv2.cvtColor(img, cv2.COLOR_BGR2RGB)\n",
    "        \n",
    "        for centroid in centroid_lst:\n",
    "            lst.append(self._centroid_cos_similar(img.reshape(-1, 3), centroid))\n",
    "\n",
    "        centroid_argmax = np.array(lst).argmax(axis=0)\n",
    "\n",
    "        _, counts = np.unique(centroid_argmax, return_counts=True)\n",
    "        return counts\n",
    "\n",
    "    \n",
    "    def zip_centroid_count(self):\n",
    "        \"\"\"\"\"\"\n",
    "        return [{'rgb': rgb, 'count':count} for rgb, count in zip(self.img_palette, self.counts)]\n",
    "    \n",
    "    \n",
    "    def display_palette(self):\n",
    "        \"\"\"\"\"\"\n",
    "        self.get_color_array()\n",
    "        return plt.imshow([(self.color_arr)])\n",
    "\n",
    "    \n",
    "    def display_img(self):\n",
    "        \"\"\"\"\"\"\n",
    "        colorthief = ColorThief(self.img_path)\n",
    "        img = colorthief.image\n",
    "        return img"
   ]
  },
  {
   "cell_type": "code",
   "execution_count": 129,
   "metadata": {},
   "outputs": [],
   "source": [
    "palette_me_now = Palettization(img_path)"
   ]
  },
  {
   "cell_type": "code",
   "execution_count": 130,
   "metadata": {},
   "outputs": [
    {
     "data": {
      "text/plain": [
       "[{'count': 266171, 'rgb': (200, 161, 70)},\n",
       " {'count': 239798, 'rgb': (36, 46, 40)},\n",
       " {'count': 51464, 'rgb': (130, 146, 146)},\n",
       " {'count': 13455, 'rgb': (171, 176, 172)},\n",
       " {'count': 90169, 'rgb': (123, 145, 125)},\n",
       " {'count': 18908, 'rgb': (109, 112, 101)},\n",
       " {'count': 16698, 'rgb': (62, 85, 101)}]"
      ]
     },
     "execution_count": 130,
     "metadata": {},
     "output_type": "execute_result"
    }
   ],
   "source": [
    "palette_me_now.zip_centroid_count()"
   ]
  },
  {
   "cell_type": "code",
   "execution_count": 131,
   "metadata": {},
   "outputs": [
    {
     "name": "stderr",
     "output_type": "stream",
     "text": [
      "/anaconda/envs/py36/lib/python3.6/site-packages/ipykernel_launcher.py:39: RuntimeWarning: invalid value encountered in true_divide\n"
     ]
    }
   ],
   "source": [
    "try_me = [Palettization(link) for link in test_images]"
   ]
  },
  {
   "cell_type": "code",
   "execution_count": 132,
   "metadata": {},
   "outputs": [
    {
     "data": {
      "text/plain": [
       "[<__main__.Palettization at 0x127edbd68>,\n",
       " <__main__.Palettization at 0x127edbb70>,\n",
       " <__main__.Palettization at 0x11be30390>]"
      ]
     },
     "execution_count": 132,
     "metadata": {},
     "output_type": "execute_result"
    }
   ],
   "source": [
    "try_me"
   ]
  },
  {
   "cell_type": "code",
   "execution_count": 100,
   "metadata": {},
   "outputs": [
    {
     "data": {
      "image/png": "[encoded data removed]",
      "text/plain": [
       "<matplotlib.figure.Figure at 0x11bdfc240>"
      ]
     },
     "metadata": {},
     "output_type": "display_data"
    }
   ],
   "source": [
    "for item in try_me:\n",
    "    item.display_palette()\n",
    "    item.display_palette()"
   ]
  },
  {
   "cell_type": "code",
   "execution_count": null,
   "metadata": {
    "collapsed": true
   },
   "outputs": [],
   "source": []
  },
  {
   "cell_type": "code",
   "execution_count": null,
   "metadata": {
    "collapsed": true
   },
   "outputs": [],
   "source": []
  },
  {
   "cell_type": "code",
   "execution_count": 67,
   "metadata": {},
   "outputs": [
    {
     "data": {
      "text/plain": [
       "array([[200, 161,  70],\n",
       "       [ 36,  46,  40],\n",
       "       [130, 146, 146],\n",
       "       [171, 176, 172],\n",
       "       [123, 145, 125],\n",
       "       [109, 112, 101],\n",
       "       [ 62,  85, 101]])"
      ]
     },
     "execution_count": 67,
     "metadata": {},
     "output_type": "execute_result"
    }
   ],
   "source": [
    "arrayify_centroids(img_path)"
   ]
  },
  {
   "cell_type": "code",
   "execution_count": 68,
   "metadata": {},
   "outputs": [
    {
     "data": {
      "text/plain": [
       "[(200, 161, 70),\n",
       " (36, 46, 40),\n",
       " (130, 146, 146),\n",
       " (171, 176, 172),\n",
       " (123, 145, 125),\n",
       " (109, 112, 101),\n",
       " (62, 85, 101)]"
      ]
     },
     "execution_count": 68,
     "metadata": {},
     "output_type": "execute_result"
    }
   ],
   "source": [
    "get_palette(img_path)"
   ]
  },
  {
   "cell_type": "code",
   "execution_count": 69,
   "metadata": {},
   "outputs": [
    {
     "ename": "TypeError",
     "evalue": "display_palette() missing 1 required positional argument: 'color_arr'",
     "output_type": "error",
     "traceback": [
      "\u001b[0;31m---------------------------------------------------------------------------\u001b[0m",
      "\u001b[0;31mTypeError\u001b[0m                                 Traceback (most recent call last)",
      "\u001b[0;32m<ipython-input-69-22c76e122e21>\u001b[0m in \u001b[0;36m<module>\u001b[0;34m()\u001b[0m\n\u001b[0;32m----> 1\u001b[0;31m \u001b[0mdisplay_palette\u001b[0m\u001b[0;34m(\u001b[0m\u001b[0;34m)\u001b[0m\u001b[0;34m\u001b[0m\u001b[0m\n\u001b[0m",
      "\u001b[0;31mTypeError\u001b[0m: display_palette() missing 1 required positional argument: 'color_arr'"
     ]
    }
   ],
   "source": [
    "display_palette()"
   ]
  },
  {
   "cell_type": "code",
   "execution_count": 34,
   "metadata": {},
   "outputs": [
    {
     "ename": "NameError",
     "evalue": "name 'color_arr' is not defined",
     "output_type": "error",
     "traceback": [
      "\u001b[0;31m---------------------------------------------------------------------------\u001b[0m",
      "\u001b[0;31mNameError\u001b[0m                                 Traceback (most recent call last)",
      "\u001b[0;32m<ipython-input-34-f651865db327>\u001b[0m in \u001b[0;36m<module>\u001b[0;34m()\u001b[0m\n\u001b[0;32m----> 1\u001b[0;31m \u001b[0mdisplay_palette\u001b[0m\u001b[0;34m(\u001b[0m\u001b[0mcolor_arr\u001b[0m\u001b[0;34m)\u001b[0m\u001b[0;34m\u001b[0m\u001b[0m\n\u001b[0m",
      "\u001b[0;31mNameError\u001b[0m: name 'color_arr' is not defined"
     ]
    }
   ],
   "source": [
    "display_palette(color_arr)"
   ]
  },
  {
   "cell_type": "code",
   "execution_count": 33,
   "metadata": {},
   "outputs": [
    {
     "ename": "NameError",
     "evalue": "name 'colorthief' is not defined",
     "output_type": "error",
     "traceback": [
      "\u001b[0;31m---------------------------------------------------------------------------\u001b[0m",
      "\u001b[0;31mNameError\u001b[0m                                 Traceback (most recent call last)",
      "\u001b[0;32m<ipython-input-33-d0e8f8a7f774>\u001b[0m in \u001b[0;36m<module>\u001b[0;34m()\u001b[0m\n\u001b[0;32m----> 1\u001b[0;31m \u001b[0mdisplay_img\u001b[0m\u001b[0;34m(\u001b[0m\u001b[0mimg_path\u001b[0m\u001b[0;34m)\u001b[0m\u001b[0;34m\u001b[0m\u001b[0m\n\u001b[0m",
      "\u001b[0;32m<ipython-input-30-0e6c0b560234>\u001b[0m in \u001b[0;36mdisplay_img\u001b[0;34m(img_path)\u001b[0m\n\u001b[1;32m     29\u001b[0m \u001b[0;32mdef\u001b[0m \u001b[0mdisplay_img\u001b[0m\u001b[0;34m(\u001b[0m\u001b[0mimg_path\u001b[0m\u001b[0;34m)\u001b[0m\u001b[0;34m:\u001b[0m\u001b[0;34m\u001b[0m\u001b[0m\n\u001b[1;32m     30\u001b[0m     \u001b[0;34m\"\"\"\"\"\"\u001b[0m\u001b[0;34m\u001b[0m\u001b[0m\n\u001b[0;32m---> 31\u001b[0;31m     \u001b[0;32mreturn\u001b[0m \u001b[0mcolorthief\u001b[0m\u001b[0;34m.\u001b[0m\u001b[0mimage\u001b[0m\u001b[0;34m\u001b[0m\u001b[0m\n\u001b[0m\u001b[1;32m     32\u001b[0m \u001b[0;34m\u001b[0m\u001b[0m\n\u001b[1;32m     33\u001b[0m \u001b[0;32mdef\u001b[0m \u001b[0mdisplay_palette\u001b[0m\u001b[0;34m(\u001b[0m\u001b[0mcolor_arr\u001b[0m\u001b[0;34m)\u001b[0m\u001b[0;34m:\u001b[0m\u001b[0;34m\u001b[0m\u001b[0m\n",
      "\u001b[0;31mNameError\u001b[0m: name 'colorthief' is not defined"
     ]
    }
   ],
   "source": [
    "display_img(img_path)"
   ]
  },
  {
   "cell_type": "code",
   "execution_count": null,
   "metadata": {},
   "outputs": [],
   "source": [
    "color_arr"
   ]
  },
  {
   "cell_type": "code",
   "execution_count": null,
   "metadata": {},
   "outputs": [],
   "source": [
    "# lst = []\n",
    "\n",
    "# for centroid in centroid_lst:\n",
    "#     lst.append(centroid_cos_similar(img.reshape(-1, 3), centroid))\n",
    "    \n",
    "# centroid_argmax = np.array(lst).argmax(axis=0)\n",
    "\n",
    "# cos_sim_test = np.unique(centroid_argmax, return_counts=True)\n",
    "# cos_sim_test"
   ]
  },
  {
   "cell_type": "code",
   "execution_count": null,
   "metadata": {},
   "outputs": [],
   "source": [
    "centroid_lst"
   ]
  },
  {
   "cell_type": "code",
   "execution_count": null,
   "metadata": {},
   "outputs": [],
   "source": [
    "plt.imshow([(centroid_lst).astype('uint8')])"
   ]
  },
  {
   "cell_type": "code",
   "execution_count": null,
   "metadata": {},
   "outputs": [],
   "source": [
    "\n",
    "# get_palette(pic_test)\n",
    "# array_centroids(pic_test)"
   ]
  },
  {
   "cell_type": "code",
   "execution_count": null,
   "metadata": {},
   "outputs": [],
   "source": [
    "# lst = []\n",
    "# for centroid in centroid_lst:\n",
    "#     lst.append(centroid_cos_similar(img.reshape(-1, 3), centroid))"
   ]
  },
  {
   "cell_type": "code",
   "execution_count": null,
   "metadata": {},
   "outputs": [],
   "source": [
    "# centroid_argmax = np.array(lst).argmax(axis=0)"
   ]
  },
  {
   "cell_type": "code",
   "execution_count": null,
   "metadata": {},
   "outputs": [],
   "source": [
    "# cos_sim_test = np.unique(centroid_argmax, return_counts=True)\n",
    "# cos_sim_test"
   ]
  },
  {
   "cell_type": "code",
   "execution_count": null,
   "metadata": {
    "collapsed": true
   },
   "outputs": [],
   "source": []
  },
  {
   "cell_type": "code",
   "execution_count": null,
   "metadata": {
    "collapsed": true
   },
   "outputs": [],
   "source": [
    "# import numpy as np\n",
    "\n",
    "# def centroid_euclidean_dist(pixels, centroid):\n",
    "#     dist = np.linalg.norm(pixels - centroid, axis=1)\n",
    "# #     (np.linalg.norm(pixels, axis=1) * np.linalg.norm(centroid))\n",
    "#     return dist"
   ]
  },
  {
   "cell_type": "code",
   "execution_count": null,
   "metadata": {
    "collapsed": true
   },
   "outputs": [],
   "source": [
    "# lst = []\n",
    "# for centroid in centroid_lst:\n",
    "#     lst.append(centroid_euclidean_dist(img.reshape(-1, 3), centroid))"
   ]
  },
  {
   "cell_type": "code",
   "execution_count": null,
   "metadata": {
    "collapsed": true
   },
   "outputs": [],
   "source": [
    "# lst"
   ]
  },
  {
   "cell_type": "code",
   "execution_count": null,
   "metadata": {
    "collapsed": true
   },
   "outputs": [],
   "source": [
    "# centroid_argmin = np.array(lst).argmin(axis=0)"
   ]
  },
  {
   "cell_type": "code",
   "execution_count": null,
   "metadata": {
    "collapsed": true
   },
   "outputs": [],
   "source": [
    "# np.unique(centroid_argmin, return_counts=True)"
   ]
  },
  {
   "cell_type": "code",
   "execution_count": null,
   "metadata": {
    "collapsed": true
   },
   "outputs": [],
   "source": [
    "# centroid_dict"
   ]
  },
  {
   "cell_type": "code",
   "execution_count": null,
   "metadata": {
    "collapsed": true
   },
   "outputs": [],
   "source": [
    "# plt.imshow([(centroid_lst[]).astype('uint8')])"
   ]
  },
  {
   "cell_type": "code",
   "execution_count": null,
   "metadata": {
    "collapsed": true
   },
   "outputs": [],
   "source": []
  },
  {
   "cell_type": "code",
   "execution_count": null,
   "metadata": {
    "collapsed": true
   },
   "outputs": [],
   "source": [
    "# import colorgram\n",
    "\n",
    "# img = ('/Users/Rabbit/capstone/materials/scrape_fashion_2/76.64.1.png')"
   ]
  },
  {
   "cell_type": "code",
   "execution_count": null,
   "metadata": {
    "collapsed": true
   },
   "outputs": [],
   "source": [
    "# colors = colorgram.extract(img, 6)"
   ]
  },
  {
   "cell_type": "code",
   "execution_count": null,
   "metadata": {
    "collapsed": true
   },
   "outputs": [],
   "source": [
    "# colors[0]"
   ]
  },
  {
   "cell_type": "code",
   "execution_count": null,
   "metadata": {
    "collapsed": true
   },
   "outputs": [],
   "source": []
  },
  {
   "cell_type": "code",
   "execution_count": null,
   "metadata": {
    "collapsed": true
   },
   "outputs": [],
   "source": []
  }
 ],
 "metadata": {
  "kernelspec": {
   "display_name": "Python 3",
   "language": "python",
   "name": "python3"
  },
  "language_info": {
   "codemirror_mode": {
    "name": "ipython",
    "version": 3
   },
   "file_extension": ".py",
   "mimetype": "text/x-python",
   "name": "python",
   "nbconvert_exporter": "python",
   "pygments_lexer": "ipython3",
   "version": "3.6.2"
  }
 },
 "nbformat": 4,
 "nbformat_minor": 2
}
