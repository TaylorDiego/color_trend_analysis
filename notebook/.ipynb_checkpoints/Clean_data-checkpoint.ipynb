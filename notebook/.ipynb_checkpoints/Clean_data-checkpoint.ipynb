{
 "cells": [
  {
   "cell_type": "code",
   "execution_count": 1,
   "metadata": {
    "collapsed": true
   },
   "outputs": [],
   "source": [
    "from pymongo import MongoClient\n",
    "import pandas as pd\n",
    "import numpy as np\n",
    "import matplotlib.pyplot as plt\n",
    "from PIL import Image, ImageFilter\n",
    "from colorthief import ColorThief\n",
    "import io\n",
    "\n",
    "%matplotlib inline"
   ]
  },
  {
   "cell_type": "code",
   "execution_count": 2,
   "metadata": {
    "collapsed": true
   },
   "outputs": [],
   "source": [
    "client = MongoClient('localhost', 27017)\n",
    "db = client.fashion"
   ]
  },
  {
   "cell_type": "code",
   "execution_count": 3,
   "metadata": {
    "collapsed": true
   },
   "outputs": [],
   "source": [
    "collection = db.fashion\n",
    "data = pd.DataFrame(list(collection.find()))"
   ]
  },
  {
   "cell_type": "code",
   "execution_count": 22,
   "metadata": {},
   "outputs": [
    {
     "data": {
      "text/plain": [
       "(1001, 10)"
      ]
     },
     "execution_count": 22,
     "metadata": {},
     "output_type": "execute_result"
    }
   ],
   "source": [
    "df = data.copy()\n",
    "df.shape"
   ]
  },
  {
   "cell_type": "code",
   "execution_count": 23,
   "metadata": {},
   "outputs": [
    {
     "name": "stdout",
     "output_type": "stream",
     "text": [
      "<class 'pandas.core.frame.DataFrame'>\n",
      "RangeIndex: 1001 entries, 0 to 1000\n",
      "Data columns (total 10 columns):\n",
      "_id              1001 non-null object\n",
      "country          999 non-null object\n",
      "credit           1000 non-null object\n",
      "date             1001 non-null object\n",
      "description      588 non-null object\n",
      "image            1001 non-null object\n",
      "medium           1000 non-null object\n",
      "name             1001 non-null object\n",
      "object number    1001 non-null object\n",
      "rgba_arr         1001 non-null object\n",
      "dtypes: object(10)\n",
      "memory usage: 78.3+ KB\n"
     ]
    }
   ],
   "source": [
    "df.info()"
   ]
  },
  {
   "cell_type": "markdown",
   "metadata": {},
   "source": [
    "  "
   ]
  },
  {
   "cell_type": "code",
   "execution_count": 26,
   "metadata": {},
   "outputs": [
    {
     "data": {
      "text/plain": [
       "['1900-1905',\n",
       " '1903',\n",
       " '1904',\n",
       " '1905-1915',\n",
       " '1907',\n",
       " '1908',\n",
       " '1912',\n",
       " '1913',\n",
       " '1914-1918',\n",
       " '1915-1920',\n",
       " '1923',\n",
       " '1924',\n",
       " '1925',\n",
       " '1926',\n",
       " '1926-1927',\n",
       " '1927',\n",
       " '1928',\n",
       " '1929',\n",
       " '1929-1930',\n",
       " '1930',\n",
       " '1930-1932',\n",
       " '1930s',\n",
       " '1932',\n",
       " '1933',\n",
       " '1933 - 1940',\n",
       " '1934',\n",
       " '1935',\n",
       " '1936',\n",
       " '1936-1942',\n",
       " '1937',\n",
       " '1938',\n",
       " '1939',\n",
       " '1940',\n",
       " '1940s',\n",
       " '1941',\n",
       " '1942',\n",
       " '1942-1943',\n",
       " '1944',\n",
       " '1944-1945',\n",
       " '1945',\n",
       " '1945-1949',\n",
       " '1945-1955',\n",
       " '1946',\n",
       " '1947',\n",
       " '1948-1950',\n",
       " '1950',\n",
       " '1950-1951',\n",
       " '1950s',\n",
       " '1951',\n",
       " '1951-1952',\n",
       " '1952',\n",
       " '1953',\n",
       " '1953-1954',\n",
       " '1953-1955',\n",
       " '1954',\n",
       " '1954-1955',\n",
       " '1954-56',\n",
       " '1955',\n",
       " '1955-1959',\n",
       " '1956',\n",
       " '1956-1957',\n",
       " '1957',\n",
       " '1958',\n",
       " '1958-1959',\n",
       " '1960',\n",
       " '1960-1963',\n",
       " '1960-1964',\n",
       " '1960s',\n",
       " '1961',\n",
       " '1962',\n",
       " '1963',\n",
       " '1963-1964',\n",
       " '1964',\n",
       " '1964-1965',\n",
       " '1965',\n",
       " '1965-1967',\n",
       " '1965-1968',\n",
       " '1965-1970',\n",
       " '1965-1972',\n",
       " '1966',\n",
       " '1966-1967',\n",
       " '1967',\n",
       " '1967-1968',\n",
       " '1967-1969',\n",
       " '1968',\n",
       " '1968-1969',\n",
       " '1968-1971',\n",
       " '1969',\n",
       " '1970',\n",
       " '1970-1971',\n",
       " '1970-1972',\n",
       " '1971',\n",
       " '1972',\n",
       " '1973',\n",
       " '1973-1974',\n",
       " '1973-1975',\n",
       " '1974',\n",
       " '1975',\n",
       " '1976',\n",
       " '1977',\n",
       " '1977-1978',\n",
       " '1978',\n",
       " '1980',\n",
       " '1980-1981',\n",
       " '1980s',\n",
       " '1981',\n",
       " '1982',\n",
       " '1982-1983',\n",
       " '1983',\n",
       " '1983-1984',\n",
       " '1984',\n",
       " '1984-1985',\n",
       " '1985',\n",
       " '1985-1988',\n",
       " '1986',\n",
       " '1987',\n",
       " '1987-1990',\n",
       " '1988',\n",
       " '1988-1989',\n",
       " '1989',\n",
       " '1990',\n",
       " '1991',\n",
       " '1992',\n",
       " '1993',\n",
       " '1993-1994',\n",
       " '1994',\n",
       " '1995',\n",
       " '1997',\n",
       " '1998',\n",
       " '1999',\n",
       " '1999-2000',\n",
       " '2000',\n",
       " '2001',\n",
       " '2002',\n",
       " '2002-2003',\n",
       " '2003',\n",
       " '2004',\n",
       " '2005',\n",
       " '2006',\n",
       " '2007',\n",
       " '2008',\n",
       " '2009',\n",
       " '2010',\n",
       " '2014',\n",
       " 'Early 20th century',\n",
       " 'Fall 1935',\n",
       " 'Fall 1936',\n",
       " 'Fall 1939',\n",
       " 'Fall 1948',\n",
       " 'Fall 1950',\n",
       " 'Fall 1954',\n",
       " 'Fall 1955',\n",
       " 'Fall 1956',\n",
       " 'Fall 1957',\n",
       " 'Fall 1959',\n",
       " 'Fall 1963',\n",
       " 'Fall 1965',\n",
       " 'Fall 1966',\n",
       " 'Fall 1967',\n",
       " 'Fall 1970',\n",
       " 'Fall 1977',\n",
       " 'Fall 1978-1979',\n",
       " 'Fall 1982',\n",
       " 'Fall 1983',\n",
       " 'Fall 1984',\n",
       " 'Fall 1985',\n",
       " 'Fall 1986',\n",
       " 'Fall 1987',\n",
       " 'Fall 1988',\n",
       " 'Fall 1989',\n",
       " 'Fall 1990',\n",
       " 'Fall 1991',\n",
       " 'Fall 1992',\n",
       " 'Fall 1993',\n",
       " 'Fall 1994',\n",
       " 'Fall 1996',\n",
       " 'Fall 1997',\n",
       " 'Fall 1998',\n",
       " 'Fall 1999-2000',\n",
       " 'Fall 2000',\n",
       " 'Fall 2001',\n",
       " 'Fall 2002',\n",
       " 'Fall 2002-2003',\n",
       " 'Fall 2003',\n",
       " 'Fall 2004',\n",
       " 'Fall 2005',\n",
       " 'Fall 2006',\n",
       " 'Fall 2007',\n",
       " 'Fall 2007-2008',\n",
       " 'Fall 2008',\n",
       " 'Fall 2009',\n",
       " 'Fall 2010',\n",
       " 'Fall 2011',\n",
       " 'Fall 2012',\n",
       " 'Fall 2013',\n",
       " 'Fall 2014',\n",
       " 'Fall 2015',\n",
       " 'Fall 2016',\n",
       " 'Fall/Winter 1959',\n",
       " 'Fall/Winter 1971',\n",
       " 'Fall/Winter 1991-1992',\n",
       " 'Fall/Winter 1995-1996',\n",
       " 'Fall/Winter 1999',\n",
       " 'Fall/Winter 2002-2003',\n",
       " 'Fall/Winter 2010',\n",
       " 'Fall/Winter 2011',\n",
       " 'Fall/winter 1997-1998',\n",
       " 'Resort 1952-1953',\n",
       " 'Resort 1990-1991',\n",
       " 'Resort 1993',\n",
       " 'Spring 1934',\n",
       " 'Spring 1957',\n",
       " 'Spring 1961',\n",
       " 'Spring 1964',\n",
       " 'Spring 1970',\n",
       " 'Spring 1981',\n",
       " 'Spring 1982',\n",
       " 'Spring 1983',\n",
       " 'Spring 1988',\n",
       " 'Spring 1989',\n",
       " 'Spring 1991',\n",
       " 'Spring 1992',\n",
       " 'Spring 1993',\n",
       " 'Spring 1994',\n",
       " 'Spring 1995',\n",
       " 'Spring 1997',\n",
       " 'Spring 1998',\n",
       " 'Spring 1999',\n",
       " 'Spring 2001',\n",
       " 'Spring 2002',\n",
       " 'Spring 2003',\n",
       " 'Spring 2004',\n",
       " 'Spring 2005',\n",
       " 'Spring 2006',\n",
       " 'Spring 2007',\n",
       " 'Spring 2008',\n",
       " 'Spring 2009',\n",
       " 'Spring 2010',\n",
       " 'Spring 2011',\n",
       " 'Spring 2013',\n",
       " 'Spring 2015',\n",
       " 'Spring 2016',\n",
       " 'Spring/Summer 1965',\n",
       " 'Spring/Summer 1989',\n",
       " 'Spring/Summer 1994',\n",
       " 'Spring/Summer 1998',\n",
       " 'Spring/Summer 2005',\n",
       " 'Spring/Summer 2007',\n",
       " 'Spring/Summer 2010',\n",
       " 'Spring/Summer 2016',\n",
       " 'Spring/summer 1958',\n",
       " 'Summer 2006',\n",
       " 'Winter 1983',\n",
       " 'Winter 1986',\n",
       " 'Winter 1991',\n",
       " 'Winter 2006-2007',\n",
       " 'c 1927',\n",
       " 'c. 1888',\n",
       " 'c. 1902',\n",
       " 'c. 1905',\n",
       " 'c. 1907',\n",
       " 'c. 1909',\n",
       " 'c. 1910',\n",
       " 'c. 1913',\n",
       " 'c. 1915',\n",
       " 'c. 1916',\n",
       " 'c. 1917',\n",
       " 'c. 1918',\n",
       " 'c. 1920',\n",
       " 'c. 1922',\n",
       " 'c. 1924',\n",
       " 'c. 1925',\n",
       " 'c. 1926',\n",
       " 'c. 1927',\n",
       " 'c. 1928',\n",
       " 'c. 1929',\n",
       " 'c. 1930',\n",
       " 'c. 1931',\n",
       " 'c. 1932',\n",
       " 'c. 1933',\n",
       " 'c. 1934',\n",
       " 'c. 1935',\n",
       " 'c. 1936',\n",
       " 'c. 1938',\n",
       " 'c. 1940',\n",
       " 'c. 1942',\n",
       " 'c. 1945',\n",
       " 'c. 1946',\n",
       " 'c. 1948',\n",
       " 'c. 1954',\n",
       " 'c. 1955',\n",
       " 'c. 1956',\n",
       " 'c. 1957',\n",
       " 'c. 1959',\n",
       " 'c. 1960',\n",
       " 'c. 1960-1965',\n",
       " 'c. 1961',\n",
       " 'c. 1962',\n",
       " 'c. 1963',\n",
       " 'c. 1964',\n",
       " 'c. 1965',\n",
       " 'c. 1966',\n",
       " 'c. 1967',\n",
       " 'c. 1968',\n",
       " 'c. 1970',\n",
       " 'c. 1971',\n",
       " 'c. 1972',\n",
       " 'c. 1973',\n",
       " 'c. 1975',\n",
       " 'c. 1976',\n",
       " 'c. 1977',\n",
       " 'c. 1979',\n",
       " 'c. 1984',\n",
       " 'c. 1985',\n",
       " 'c. 1987',\n",
       " 'c. 1988',\n",
       " 'c. 1990',\n",
       " 'c. 1993',\n",
       " 'c. 1996',\n",
       " 'c.1900',\n",
       " 'c.1903',\n",
       " 'c.1904',\n",
       " 'c.1908',\n",
       " 'c.1910',\n",
       " 'c.1910-1920',\n",
       " 'c.1912',\n",
       " 'c.1913',\n",
       " 'c.1915',\n",
       " 'c.1916',\n",
       " 'c.1920',\n",
       " 'c.1924',\n",
       " 'c.1925',\n",
       " 'c.1927',\n",
       " 'c.1928',\n",
       " 'c.1929',\n",
       " 'c.1931',\n",
       " 'c.1932',\n",
       " 'c.1935',\n",
       " 'c.1937',\n",
       " 'c.1938',\n",
       " 'c.1939',\n",
       " 'c.1940',\n",
       " 'c.1942',\n",
       " 'c.1943',\n",
       " 'c.1945',\n",
       " 'c.1946',\n",
       " 'c.1947',\n",
       " 'c.1948',\n",
       " 'c.1949',\n",
       " 'c.1950',\n",
       " 'c.1952',\n",
       " 'c.1953',\n",
       " 'c.1954',\n",
       " 'c.1955',\n",
       " 'c.1956',\n",
       " 'c.1957',\n",
       " 'c.1958',\n",
       " 'c.1959',\n",
       " 'c.1960',\n",
       " 'c.1962',\n",
       " 'c.1963',\n",
       " 'c.1964',\n",
       " 'c.1965',\n",
       " 'c.1966',\n",
       " 'c.1967',\n",
       " 'c.1968',\n",
       " 'c.1969',\n",
       " 'c.1970',\n",
       " 'c.1970-1975',\n",
       " 'c.1971',\n",
       " 'c.1972',\n",
       " 'c.1973',\n",
       " 'c.1973-1975',\n",
       " 'c.1974',\n",
       " 'c.1975',\n",
       " 'c.1976',\n",
       " 'c.1977',\n",
       " 'c.1978',\n",
       " 'c.1979',\n",
       " 'c.1980',\n",
       " 'c.1982',\n",
       " 'c.1982-1983',\n",
       " 'c.1984',\n",
       " 'c.1986',\n",
       " 'c.1987',\n",
       " 'c.1988',\n",
       " 'c.1989',\n",
       " 'c.1990',\n",
       " 'c.1992',\n",
       " 'c.1993',\n",
       " 'c.1994',\n",
       " 'c.1995',\n",
       " 'c.1998',\n",
       " 'c.2000',\n",
       " 'circa 1941',\n",
       " 'late 1970s',\n",
       " 'spring 1994']"
      ]
     },
     "execution_count": 26,
     "metadata": {},
     "output_type": "execute_result"
    }
   ],
   "source": [
    "sorted(df['date'].unique())"
   ]
  },
  {
   "cell_type": "code",
   "execution_count": 27,
   "metadata": {
    "collapsed": true
   },
   "outputs": [],
   "source": [
    "df['date'] = df['date'].str.strip()"
   ]
  },
  {
   "cell_type": "code",
   "execution_count": 28,
   "metadata": {
    "collapsed": true
   },
   "outputs": [],
   "source": [
    "mask = df['date'].str.contains('c.')\n",
    "df['circa'] = mask"
   ]
  },
  {
   "cell_type": "code",
   "execution_count": 29,
   "metadata": {
    "collapsed": true
   },
   "outputs": [],
   "source": [
    "df['date'] = df['date'].str.replace('c. ', '')"
   ]
  },
  {
   "cell_type": "code",
   "execution_count": 30,
   "metadata": {
    "collapsed": true
   },
   "outputs": [],
   "source": [
    "df['date'] = df['date'].str.replace('c.', '')"
   ]
  },
  {
   "cell_type": "code",
   "execution_count": null,
   "metadata": {
    "collapsed": true
   },
   "outputs": [],
   "source": []
  },
  {
   "cell_type": "code",
   "execution_count": 31,
   "metadata": {
    "collapsed": true
   },
   "outputs": [],
   "source": [
    "seasons = ['Spring','Summer', 'Winter', 'Fall', 'Autumn']\n",
    "mask = df['date'].str.contains('|'.join(seasons))"
   ]
  },
  {
   "cell_type": "code",
   "execution_count": 32,
   "metadata": {
    "collapsed": true
   },
   "outputs": [],
   "source": [
    "for ssn in seasons:\n",
    "    mask = df['date'].str.contains(ssn)\n",
    "    df[str(ssn)] = mask"
   ]
  },
  {
   "cell_type": "code",
   "execution_count": 12,
   "metadata": {
    "collapsed": true
   },
   "outputs": [],
   "source": [
    "# df['date'] = df['date'].str.strip()"
   ]
  },
  {
   "cell_type": "code",
   "execution_count": 33,
   "metadata": {
    "collapsed": true
   },
   "outputs": [],
   "source": [
    "df['date'] = df['date'].str.replace('/', '')"
   ]
  },
  {
   "cell_type": "code",
   "execution_count": 34,
   "metadata": {
    "collapsed": true
   },
   "outputs": [],
   "source": [
    "for ssn in seasons:\n",
    "    df['date'] = df['date'].str.replace(ssn, '')"
   ]
  },
  {
   "cell_type": "code",
   "execution_count": 36,
   "metadata": {},
   "outputs": [],
   "source": [
    "for ssn in seasons:\n",
    "    df['date'] = df['date'].str.replace(ssn.lower(), '')"
   ]
  },
  {
   "cell_type": "code",
   "execution_count": 37,
   "metadata": {
    "collapsed": true
   },
   "outputs": [],
   "source": [
    "df['date'] = df['date'].str.replace('Early 20th ntury', '1900-1919')"
   ]
  },
  {
   "cell_type": "code",
   "execution_count": 38,
   "metadata": {
    "collapsed": true
   },
   "outputs": [],
   "source": [
    "df['date'] = df['date'].str.replace('late', '')"
   ]
  },
  {
   "cell_type": "code",
   "execution_count": 39,
   "metadata": {
    "collapsed": true
   },
   "outputs": [],
   "source": [
    "df['date'] = df['date'].str.replace('Resort', '')"
   ]
  },
  {
   "cell_type": "code",
   "execution_count": 40,
   "metadata": {
    "collapsed": true
   },
   "outputs": [],
   "source": [
    "df['date'] = df['date'].str.replace('r', '')"
   ]
  },
  {
   "cell_type": "code",
   "execution_count": 41,
   "metadata": {
    "collapsed": true
   },
   "outputs": [],
   "source": [
    "df['date'] = df['date'].str.replace('s', '')"
   ]
  },
  {
   "cell_type": "code",
   "execution_count": 42,
   "metadata": {
    "collapsed": true
   },
   "outputs": [],
   "source": [
    "df['date'] = df['date'].str.replace(' ', '')"
   ]
  },
  {
   "cell_type": "code",
   "execution_count": 43,
   "metadata": {},
   "outputs": [
    {
     "data": {
      "text/plain": [
       "['1888',\n",
       " '1900',\n",
       " '1900-1905',\n",
       " '1900-1919',\n",
       " '1902',\n",
       " '1903',\n",
       " '1904',\n",
       " '1905',\n",
       " '1905-1915',\n",
       " '1907',\n",
       " '1908',\n",
       " '1909',\n",
       " '1910',\n",
       " '1910-1920',\n",
       " '1912',\n",
       " '1913',\n",
       " '1914-1918',\n",
       " '1915',\n",
       " '1915-1920',\n",
       " '1916',\n",
       " '1917',\n",
       " '1918',\n",
       " '1920',\n",
       " '1922',\n",
       " '1923',\n",
       " '1924',\n",
       " '1925',\n",
       " '1926',\n",
       " '1926-1927',\n",
       " '1927',\n",
       " '1928',\n",
       " '1929',\n",
       " '1929-1930',\n",
       " '1930',\n",
       " '1930-1932',\n",
       " '1931',\n",
       " '1932',\n",
       " '1933',\n",
       " '1933-1940',\n",
       " '1934',\n",
       " '1935',\n",
       " '1936',\n",
       " '1936-1942',\n",
       " '1937',\n",
       " '1938',\n",
       " '1939',\n",
       " '1940',\n",
       " '1941',\n",
       " '1942',\n",
       " '1942-1943',\n",
       " '1943',\n",
       " '1944',\n",
       " '1944-1945',\n",
       " '1945',\n",
       " '1945-1949',\n",
       " '1945-1955',\n",
       " '1946',\n",
       " '1947',\n",
       " '1948',\n",
       " '1948-1950',\n",
       " '1949',\n",
       " '1950',\n",
       " '1950-1951',\n",
       " '1951',\n",
       " '1951-1952',\n",
       " '1952',\n",
       " '1952-1953',\n",
       " '1953',\n",
       " '1953-1954',\n",
       " '1953-1955',\n",
       " '1954',\n",
       " '1954-1955',\n",
       " '1954-56',\n",
       " '1955',\n",
       " '1955-1959',\n",
       " '1956',\n",
       " '1956-1957',\n",
       " '1957',\n",
       " '1958',\n",
       " '1958-1959',\n",
       " '1959',\n",
       " '1960',\n",
       " '1960-1963',\n",
       " '1960-1964',\n",
       " '1960-1965',\n",
       " '1961',\n",
       " '1962',\n",
       " '1963',\n",
       " '1963-1964',\n",
       " '1964',\n",
       " '1964-1965',\n",
       " '1965',\n",
       " '1965-1967',\n",
       " '1965-1968',\n",
       " '1965-1970',\n",
       " '1965-1972',\n",
       " '1966',\n",
       " '1966-1967',\n",
       " '1967',\n",
       " '1967-1968',\n",
       " '1967-1969',\n",
       " '1968',\n",
       " '1968-1969',\n",
       " '1968-1971',\n",
       " '1969',\n",
       " '1970',\n",
       " '1970-1971',\n",
       " '1970-1972',\n",
       " '1970-1975',\n",
       " '1971',\n",
       " '1972',\n",
       " '1973',\n",
       " '1973-1974',\n",
       " '1973-1975',\n",
       " '1974',\n",
       " '1975',\n",
       " '1976',\n",
       " '1977',\n",
       " '1977-1978',\n",
       " '1978',\n",
       " '1978-1979',\n",
       " '1979',\n",
       " '1980',\n",
       " '1980-1981',\n",
       " '1981',\n",
       " '1982',\n",
       " '1982-1983',\n",
       " '1983',\n",
       " '1983-1984',\n",
       " '1984',\n",
       " '1984-1985',\n",
       " '1985',\n",
       " '1985-1988',\n",
       " '1986',\n",
       " '1987',\n",
       " '1987-1990',\n",
       " '1988',\n",
       " '1988-1989',\n",
       " '1989',\n",
       " '1990',\n",
       " '1990-1991',\n",
       " '1991',\n",
       " '1991-1992',\n",
       " '1992',\n",
       " '1993',\n",
       " '1993-1994',\n",
       " '1994',\n",
       " '1995',\n",
       " '1995-1996',\n",
       " '1996',\n",
       " '1997',\n",
       " '1997-1998',\n",
       " '1998',\n",
       " '1999',\n",
       " '1999-2000',\n",
       " '2000',\n",
       " '2001',\n",
       " '2002',\n",
       " '2002-2003',\n",
       " '2003',\n",
       " '2004',\n",
       " '2005',\n",
       " '2006',\n",
       " '2006-2007',\n",
       " '2007',\n",
       " '2007-2008',\n",
       " '2008',\n",
       " '2009',\n",
       " '2010',\n",
       " '2011',\n",
       " '2012',\n",
       " '2013',\n",
       " '2014',\n",
       " '2015',\n",
       " '2016']"
      ]
     },
     "execution_count": 43,
     "metadata": {},
     "output_type": "execute_result"
    }
   ],
   "source": [
    "sorted(df['date'].unique())"
   ]
  },
  {
   "cell_type": "code",
   "execution_count": null,
   "metadata": {
    "collapsed": true
   },
   "outputs": [],
   "source": []
  },
  {
   "cell_type": "code",
   "execution_count": 48,
   "metadata": {
    "collapsed": true
   },
   "outputs": [],
   "source": [
    "df['year_min'] = df['date'].str[0:4]"
   ]
  },
  {
   "cell_type": "code",
   "execution_count": 49,
   "metadata": {},
   "outputs": [
    {
     "data": {
      "text/plain": [
       "['1888',\n",
       " '1900',\n",
       " '1902',\n",
       " '1903',\n",
       " '1904',\n",
       " '1905',\n",
       " '1907',\n",
       " '1908',\n",
       " '1909',\n",
       " '1910',\n",
       " '1912',\n",
       " '1913',\n",
       " '1914',\n",
       " '1915',\n",
       " '1916',\n",
       " '1917',\n",
       " '1918',\n",
       " '1920',\n",
       " '1922',\n",
       " '1923',\n",
       " '1924',\n",
       " '1925',\n",
       " '1926',\n",
       " '1927',\n",
       " '1928',\n",
       " '1929',\n",
       " '1930',\n",
       " '1931',\n",
       " '1932',\n",
       " '1933',\n",
       " '1934',\n",
       " '1935',\n",
       " '1936',\n",
       " '1937',\n",
       " '1938',\n",
       " '1939',\n",
       " '1940',\n",
       " '1941',\n",
       " '1942',\n",
       " '1943',\n",
       " '1944',\n",
       " '1945',\n",
       " '1946',\n",
       " '1947',\n",
       " '1948',\n",
       " '1949',\n",
       " '1950',\n",
       " '1951',\n",
       " '1952',\n",
       " '1953',\n",
       " '1954',\n",
       " '1955',\n",
       " '1956',\n",
       " '1957',\n",
       " '1958',\n",
       " '1959',\n",
       " '1960',\n",
       " '1961',\n",
       " '1962',\n",
       " '1963',\n",
       " '1964',\n",
       " '1965',\n",
       " '1966',\n",
       " '1967',\n",
       " '1968',\n",
       " '1969',\n",
       " '1970',\n",
       " '1971',\n",
       " '1972',\n",
       " '1973',\n",
       " '1974',\n",
       " '1975',\n",
       " '1976',\n",
       " '1977',\n",
       " '1978',\n",
       " '1979',\n",
       " '1980',\n",
       " '1981',\n",
       " '1982',\n",
       " '1983',\n",
       " '1984',\n",
       " '1985',\n",
       " '1986',\n",
       " '1987',\n",
       " '1988',\n",
       " '1989',\n",
       " '1990',\n",
       " '1991',\n",
       " '1992',\n",
       " '1993',\n",
       " '1994',\n",
       " '1995',\n",
       " '1996',\n",
       " '1997',\n",
       " '1998',\n",
       " '1999',\n",
       " '2000',\n",
       " '2001',\n",
       " '2002',\n",
       " '2003',\n",
       " '2004',\n",
       " '2005',\n",
       " '2006',\n",
       " '2007',\n",
       " '2008',\n",
       " '2009',\n",
       " '2010',\n",
       " '2011',\n",
       " '2012',\n",
       " '2013',\n",
       " '2014',\n",
       " '2015',\n",
       " '2016']"
      ]
     },
     "execution_count": 49,
     "metadata": {},
     "output_type": "execute_result"
    }
   ],
   "source": [
    "sorted(df['year_min'].unique())"
   ]
  },
  {
   "cell_type": "code",
   "execution_count": null,
   "metadata": {
    "collapsed": true
   },
   "outputs": [],
   "source": []
  },
  {
   "cell_type": "code",
   "execution_count": 52,
   "metadata": {},
   "outputs": [],
   "source": [
    "df['decade'] = df['year_min'].str[0:3] + '0'"
   ]
  },
  {
   "cell_type": "code",
   "execution_count": 53,
   "metadata": {},
   "outputs": [
    {
     "data": {
      "text/plain": [
       "['1880',\n",
       " '1900',\n",
       " '1910',\n",
       " '1920',\n",
       " '1930',\n",
       " '1940',\n",
       " '1950',\n",
       " '1960',\n",
       " '1970',\n",
       " '1980',\n",
       " '1990',\n",
       " '2000',\n",
       " '2010']"
      ]
     },
     "execution_count": 53,
     "metadata": {},
     "output_type": "execute_result"
    }
   ],
   "source": [
    "sorted(df['decade'].unique())"
   ]
  },
  {
   "cell_type": "code",
   "execution_count": null,
   "metadata": {
    "collapsed": true
   },
   "outputs": [],
   "source": []
  },
  {
   "cell_type": "code",
   "execution_count": 56,
   "metadata": {},
   "outputs": [
    {
     "ename": "KeyError",
     "evalue": "'the label [156] is not in the [index]'",
     "output_type": "error",
     "traceback": [
      "\u001b[0;31m---------------------------------------------------------------------------\u001b[0m",
      "\u001b[0;31mKeyError\u001b[0m                                  Traceback (most recent call last)",
      "\u001b[0;32m~/anaconda3/lib/python3.6/site-packages/pandas/core/indexing.py\u001b[0m in \u001b[0;36m_has_valid_type\u001b[0;34m(self, key, axis)\u001b[0m\n\u001b[1;32m   1433\u001b[0m                 \u001b[0;32mif\u001b[0m \u001b[0;32mnot\u001b[0m \u001b[0max\u001b[0m\u001b[0;34m.\u001b[0m\u001b[0mcontains\u001b[0m\u001b[0;34m(\u001b[0m\u001b[0mkey\u001b[0m\u001b[0;34m)\u001b[0m\u001b[0;34m:\u001b[0m\u001b[0;34m\u001b[0m\u001b[0m\n\u001b[0;32m-> 1434\u001b[0;31m                     \u001b[0merror\u001b[0m\u001b[0;34m(\u001b[0m\u001b[0;34m)\u001b[0m\u001b[0;34m\u001b[0m\u001b[0m\n\u001b[0m\u001b[1;32m   1435\u001b[0m             \u001b[0;32mexcept\u001b[0m \u001b[0mTypeError\u001b[0m \u001b[0;32mas\u001b[0m \u001b[0me\u001b[0m\u001b[0;34m:\u001b[0m\u001b[0;34m\u001b[0m\u001b[0m\n",
      "\u001b[0;32m~/anaconda3/lib/python3.6/site-packages/pandas/core/indexing.py\u001b[0m in \u001b[0;36merror\u001b[0;34m()\u001b[0m\n\u001b[1;32m   1428\u001b[0m                 raise KeyError(\"the label [%s] is not in the [%s]\" %\n\u001b[0;32m-> 1429\u001b[0;31m                                (key, self.obj._get_axis_name(axis)))\n\u001b[0m\u001b[1;32m   1430\u001b[0m \u001b[0;34m\u001b[0m\u001b[0m\n",
      "\u001b[0;31mKeyError\u001b[0m: 'the label [156] is not in the [index]'",
      "\nDuring handling of the above exception, another exception occurred:\n",
      "\u001b[0;31mKeyError\u001b[0m                                  Traceback (most recent call last)",
      "\u001b[0;32m<ipython-input-56-6aaf0e926072>\u001b[0m in \u001b[0;36m<module>\u001b[0;34m()\u001b[0m\n\u001b[1;32m      1\u001b[0m \u001b[0mlengths\u001b[0m \u001b[0;34m=\u001b[0m \u001b[0mlist\u001b[0m\u001b[0;34m(\u001b[0m\u001b[0;34m)\u001b[0m\u001b[0;34m\u001b[0m\u001b[0m\n\u001b[1;32m      2\u001b[0m \u001b[0;32mfor\u001b[0m \u001b[0mi\u001b[0m \u001b[0;32min\u001b[0m \u001b[0mrange\u001b[0m\u001b[0;34m(\u001b[0m\u001b[0;36m1001\u001b[0m\u001b[0;34m)\u001b[0m\u001b[0;34m:\u001b[0m\u001b[0;34m\u001b[0m\u001b[0m\n\u001b[0;32m----> 3\u001b[0;31m     \u001b[0mratio\u001b[0m \u001b[0;34m=\u001b[0m \u001b[0mlen\u001b[0m\u001b[0;34m(\u001b[0m\u001b[0mdf\u001b[0m\u001b[0;34m.\u001b[0m\u001b[0mloc\u001b[0m\u001b[0;34m[\u001b[0m\u001b[0mi\u001b[0m\u001b[0;34m]\u001b[0m\u001b[0;34m[\u001b[0m\u001b[0;34m'rgba_arr'\u001b[0m\u001b[0;34m]\u001b[0m\u001b[0;34m)\u001b[0m\u001b[0;34m\u001b[0m\u001b[0m\n\u001b[0m\u001b[1;32m      4\u001b[0m     \u001b[0;32mif\u001b[0m \u001b[0mratio\u001b[0m \u001b[0;34m%\u001b[0m \u001b[0;36m3\u001b[0m \u001b[0;34m!=\u001b[0m \u001b[0;36m0\u001b[0m \u001b[0;32mor\u001b[0m \u001b[0mratio\u001b[0m \u001b[0;34m%\u001b[0m \u001b[0;36m4\u001b[0m \u001b[0;34m!=\u001b[0m \u001b[0;36m0\u001b[0m\u001b[0;34m:\u001b[0m\u001b[0;34m\u001b[0m\u001b[0m\n\u001b[1;32m      5\u001b[0m         \u001b[0mprint\u001b[0m\u001b[0;34m(\u001b[0m\u001b[0mi\u001b[0m\u001b[0;34m,\u001b[0m \u001b[0mratio\u001b[0m\u001b[0;34m)\u001b[0m\u001b[0;34m\u001b[0m\u001b[0m\n",
      "\u001b[0;32m~/anaconda3/lib/python3.6/site-packages/pandas/core/indexing.py\u001b[0m in \u001b[0;36m__getitem__\u001b[0;34m(self, key)\u001b[0m\n\u001b[1;32m   1326\u001b[0m         \u001b[0;32melse\u001b[0m\u001b[0;34m:\u001b[0m\u001b[0;34m\u001b[0m\u001b[0m\n\u001b[1;32m   1327\u001b[0m             \u001b[0mkey\u001b[0m \u001b[0;34m=\u001b[0m \u001b[0mcom\u001b[0m\u001b[0;34m.\u001b[0m\u001b[0m_apply_if_callable\u001b[0m\u001b[0;34m(\u001b[0m\u001b[0mkey\u001b[0m\u001b[0;34m,\u001b[0m \u001b[0mself\u001b[0m\u001b[0;34m.\u001b[0m\u001b[0mobj\u001b[0m\u001b[0;34m)\u001b[0m\u001b[0;34m\u001b[0m\u001b[0m\n\u001b[0;32m-> 1328\u001b[0;31m             \u001b[0;32mreturn\u001b[0m \u001b[0mself\u001b[0m\u001b[0;34m.\u001b[0m\u001b[0m_getitem_axis\u001b[0m\u001b[0;34m(\u001b[0m\u001b[0mkey\u001b[0m\u001b[0;34m,\u001b[0m \u001b[0maxis\u001b[0m\u001b[0;34m=\u001b[0m\u001b[0;36m0\u001b[0m\u001b[0;34m)\u001b[0m\u001b[0;34m\u001b[0m\u001b[0m\n\u001b[0m\u001b[1;32m   1329\u001b[0m \u001b[0;34m\u001b[0m\u001b[0m\n\u001b[1;32m   1330\u001b[0m     \u001b[0;32mdef\u001b[0m \u001b[0m_is_scalar_access\u001b[0m\u001b[0;34m(\u001b[0m\u001b[0mself\u001b[0m\u001b[0;34m,\u001b[0m \u001b[0mkey\u001b[0m\u001b[0;34m)\u001b[0m\u001b[0;34m:\u001b[0m\u001b[0;34m\u001b[0m\u001b[0m\n",
      "\u001b[0;32m~/anaconda3/lib/python3.6/site-packages/pandas/core/indexing.py\u001b[0m in \u001b[0;36m_getitem_axis\u001b[0;34m(self, key, axis)\u001b[0m\n\u001b[1;32m   1549\u001b[0m \u001b[0;34m\u001b[0m\u001b[0m\n\u001b[1;32m   1550\u001b[0m         \u001b[0;31m# fall thru to straight lookup\u001b[0m\u001b[0;34m\u001b[0m\u001b[0;34m\u001b[0m\u001b[0m\n\u001b[0;32m-> 1551\u001b[0;31m         \u001b[0mself\u001b[0m\u001b[0;34m.\u001b[0m\u001b[0m_has_valid_type\u001b[0m\u001b[0;34m(\u001b[0m\u001b[0mkey\u001b[0m\u001b[0;34m,\u001b[0m \u001b[0maxis\u001b[0m\u001b[0;34m)\u001b[0m\u001b[0;34m\u001b[0m\u001b[0m\n\u001b[0m\u001b[1;32m   1552\u001b[0m         \u001b[0;32mreturn\u001b[0m \u001b[0mself\u001b[0m\u001b[0;34m.\u001b[0m\u001b[0m_get_label\u001b[0m\u001b[0;34m(\u001b[0m\u001b[0mkey\u001b[0m\u001b[0;34m,\u001b[0m \u001b[0maxis\u001b[0m\u001b[0;34m=\u001b[0m\u001b[0maxis\u001b[0m\u001b[0;34m)\u001b[0m\u001b[0;34m\u001b[0m\u001b[0m\n\u001b[1;32m   1553\u001b[0m \u001b[0;34m\u001b[0m\u001b[0m\n",
      "\u001b[0;32m~/anaconda3/lib/python3.6/site-packages/pandas/core/indexing.py\u001b[0m in \u001b[0;36m_has_valid_type\u001b[0;34m(self, key, axis)\u001b[0m\n\u001b[1;32m   1440\u001b[0m                 \u001b[0;32mraise\u001b[0m\u001b[0;34m\u001b[0m\u001b[0m\n\u001b[1;32m   1441\u001b[0m             \u001b[0;32mexcept\u001b[0m\u001b[0;34m:\u001b[0m\u001b[0;34m\u001b[0m\u001b[0m\n\u001b[0;32m-> 1442\u001b[0;31m                 \u001b[0merror\u001b[0m\u001b[0;34m(\u001b[0m\u001b[0;34m)\u001b[0m\u001b[0;34m\u001b[0m\u001b[0m\n\u001b[0m\u001b[1;32m   1443\u001b[0m \u001b[0;34m\u001b[0m\u001b[0m\n\u001b[1;32m   1444\u001b[0m         \u001b[0;32mreturn\u001b[0m \u001b[0;32mTrue\u001b[0m\u001b[0;34m\u001b[0m\u001b[0m\n",
      "\u001b[0;32m~/anaconda3/lib/python3.6/site-packages/pandas/core/indexing.py\u001b[0m in \u001b[0;36merror\u001b[0;34m()\u001b[0m\n\u001b[1;32m   1427\u001b[0m                                     \"key\")\n\u001b[1;32m   1428\u001b[0m                 raise KeyError(\"the label [%s] is not in the [%s]\" %\n\u001b[0;32m-> 1429\u001b[0;31m                                (key, self.obj._get_axis_name(axis)))\n\u001b[0m\u001b[1;32m   1430\u001b[0m \u001b[0;34m\u001b[0m\u001b[0m\n\u001b[1;32m   1431\u001b[0m             \u001b[0;32mtry\u001b[0m\u001b[0;34m:\u001b[0m\u001b[0;34m\u001b[0m\u001b[0m\n",
      "\u001b[0;31mKeyError\u001b[0m: 'the label [156] is not in the [index]'"
     ]
    }
   ],
   "source": [
    "# lengths = list()\n",
    "# for i in range(1001):\n",
    "#     ratio = len(df.loc[i]['rgba_arr'])\n",
    "#     if ratio % 3 != 0 or ratio % 4 != 0:\n",
    "#         print(i, ratio)"
   ]
  },
  {
   "cell_type": "code",
   "execution_count": 55,
   "metadata": {
    "collapsed": true
   },
   "outputs": [],
   "source": [
    "# df.drop(df.index[[156]], inplace=True)"
   ]
  },
  {
   "cell_type": "code",
   "execution_count": null,
   "metadata": {
    "collapsed": true
   },
   "outputs": [],
   "source": []
  },
  {
   "cell_type": "code",
   "execution_count": null,
   "metadata": {
    "collapsed": true
   },
   "outputs": [],
   "source": []
  }
 ],
 "metadata": {
  "kernelspec": {
   "display_name": "Python 3",
   "language": "python",
   "name": "python3"
  },
  "language_info": {
   "codemirror_mode": {
    "name": "ipython",
    "version": 3
   },
   "file_extension": ".py",
   "mimetype": "text/x-python",
   "name": "python",
   "nbconvert_exporter": "python",
   "pygments_lexer": "ipython3",
   "version": "3.6.2"
  }
 },
 "nbformat": 4,
 "nbformat_minor": 2
}
