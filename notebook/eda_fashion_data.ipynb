{
 "cells": [
  {
   "cell_type": "code",
   "execution_count": null,
   "metadata": {},
   "outputs": [],
   "source": [
    "!pwd"
   ]
  },
  {
   "cell_type": "code",
<<<<<<< HEAD
<<<<<<< HEAD
   "execution_count": 2,
=======
<<<<<<< HEAD
   "execution_count": 2,
=======
   "execution_count": 216,
>>>>>>> c75443aaa83e9472231281efc24c6c5067310e20
>>>>>>> caa67d4a04188f608ea84de4f63643107281fde4
=======
   "execution_count": null,
>>>>>>> fb0fc27fc2ff0de558d187aa64b17e18187f3e31
   "metadata": {
    "collapsed": true
   },
   "outputs": [],
   "source": [
    "from pymongo import MongoClient\n",
    "import pandas as pd\n",
    "import numpy as np\n",
    "import matplotlib.pyplot as plt\n",
    "from PIL import Image, ImageFilter\n",
    "from colorthief import ColorThief\n",
    "import io\n",
    "\n",
    "%matplotlib inline"
   ]
  },
  {
   "cell_type": "code",
   "execution_count": null,
   "metadata": {
    "collapsed": true
   },
   "outputs": [],
   "source": [
    "client = MongoClient('localhost', 27017)"
   ]
  },
  {
   "cell_type": "code",
   "execution_count": null,
   "metadata": {
    "collapsed": true
   },
   "outputs": [],
   "source": [
    "db = client.fashion"
   ]
  },
  {
   "cell_type": "code",
   "execution_count": null,
   "metadata": {
    "collapsed": true
   },
   "outputs": [],
   "source": [
    "collection = db.fashion\n",
    "data = pd.DataFrame(list(collection.find()))"
   ]
  },
  {
   "cell_type": "code",
   "execution_count": null,
   "metadata": {},
   "outputs": [],
   "source": [
    "list(collection.find_one())"
   ]
  },
  {
   "cell_type": "code",
   "execution_count": null,
   "metadata": {
    "collapsed": true
   },
   "outputs": [],
   "source": [
    "#blah = list(collection.find())"
   ]
  },
  {
   "cell_type": "code",
   "execution_count": null,
   "metadata": {
    "collapsed": true
   },
   "outputs": [],
   "source": [
    "# terms = []\n",
    "# for item in blah:\n",
    "#     for key in item:\n",
    "#         terms.append(key)\n",
    "# from collections import Counter\n",
    "# Counter(terms)"
   ]
  },
  {
   "cell_type": "code",
   "execution_count": null,
   "metadata": {
    "collapsed": true
   },
   "outputs": [],
   "source": [
    "#collection.find().count()"
   ]
  },
  {
   "cell_type": "code",
   "execution_count": null,
   "metadata": {
    "collapsed": true
   },
   "outputs": [],
   "source": [
    "#type(data)"
   ]
  },
  {
   "cell_type": "code",
   "execution_count": null,
   "metadata": {
    "collapsed": true
   },
   "outputs": [],
   "source": [
    "#data.describe()"
   ]
  },
  {
   "cell_type": "code",
   "execution_count": null,
   "metadata": {
    "collapsed": true
   },
   "outputs": [],
   "source": [
    "#data.info()"
   ]
  },
  {
   "cell_type": "code",
   "execution_count": null,
   "metadata": {
    "collapsed": true
   },
   "outputs": [],
   "source": [
    "#import re"
   ]
  },
  {
   "cell_type": "code",
   "execution_count": null,
   "metadata": {
    "collapsed": true
   },
   "outputs": [],
   "source": [
    "df = data.copy()"
   ]
  },
  {
   "cell_type": "code",
   "execution_count": null,
   "metadata": {
    "collapsed": true
   },
   "outputs": [],
   "source": [
    "df['date'] = df['date'].str.strip()"
   ]
  },
  {
   "cell_type": "code",
   "execution_count": null,
   "metadata": {},
   "outputs": [],
   "source": [
    "df[df['date'].str.contains('c.')]"
   ]
  },
  {
   "cell_type": "code",
   "execution_count": null,
   "metadata": {
    "collapsed": true
   },
   "outputs": [],
   "source": [
    "mask = df['date'].str.contains('c.')\n",
    "df['circa'] = mask"
   ]
  },
  {
   "cell_type": "code",
   "execution_count": null,
   "metadata": {},
   "outputs": [],
   "source": [
    "df.shape"
   ]
  },
  {
   "cell_type": "code",
   "execution_count": null,
   "metadata": {},
   "outputs": [],
   "source": [
    "df['date'].unique()"
   ]
  },
  {
   "cell_type": "code",
   "execution_count": null,
   "metadata": {
    "collapsed": true
   },
   "outputs": [],
   "source": [
    "df['date'] = df['date'].str.replace('c. ', '')"
   ]
  },
  {
   "cell_type": "code",
   "execution_count": null,
   "metadata": {
    "collapsed": true
   },
   "outputs": [],
   "source": [
    "df['date'] = df['date'].str.replace('c.', '')"
   ]
  },
  {
   "cell_type": "code",
   "execution_count": null,
   "metadata": {},
   "outputs": [],
   "source": [
    "df['date'].unique()"
   ]
  },
  {
   "cell_type": "code",
   "execution_count": null,
   "metadata": {
    "collapsed": true
   },
   "outputs": [],
   "source": []
  },
  {
   "cell_type": "code",
   "execution_count": null,
   "metadata": {
    "collapsed": true
   },
   "outputs": [],
   "source": []
  },
  {
   "cell_type": "code",
   "execution_count": null,
   "metadata": {
    "collapsed": true
   },
   "outputs": [],
   "source": [
    "seasons = ['Spring','Summer', 'Winter', 'Fall', 'Autumn']\n",
    "mask = df['date'].str.contains('|'.join(seasons))"
   ]
  },
  {
   "cell_type": "code",
   "execution_count": null,
   "metadata": {
    "collapsed": true
   },
   "outputs": [],
   "source": []
  },
  {
   "cell_type": "code",
   "execution_count": null,
   "metadata": {
    "collapsed": true
   },
   "outputs": [],
   "source": [
    "for ssn in seasons:\n",
    "    mask = df['date'].str.contains(ssn)\n",
    "    df[str(ssn)] = mask"
   ]
  },
  {
   "cell_type": "code",
   "execution_count": null,
   "metadata": {},
   "outputs": [],
   "source": [
    "df.shape"
   ]
  },
  {
   "cell_type": "code",
   "execution_count": null,
   "metadata": {},
   "outputs": [],
   "source": [
    "df.columns"
   ]
  },
  {
   "cell_type": "code",
   "execution_count": null,
   "metadata": {
    "collapsed": true
   },
   "outputs": [],
   "source": [
    "del df['Autumn']"
   ]
  },
  {
   "cell_type": "code",
   "execution_count": null,
   "metadata": {
    "collapsed": true
   },
   "outputs": [],
   "source": []
  },
  {
   "cell_type": "code",
   "execution_count": null,
   "metadata": {},
   "outputs": [],
   "source": [
    "df.shape"
   ]
  },
  {
   "cell_type": "code",
   "execution_count": null,
   "metadata": {
    "collapsed": true
   },
   "outputs": [],
   "source": [
    "df['date'] = df['date'].str.strip()"
   ]
  },
  {
   "cell_type": "code",
   "execution_count": null,
   "metadata": {},
   "outputs": [],
   "source": [
    "df"
   ]
  },
  {
   "cell_type": "code",
   "execution_count": null,
   "metadata": {
    "collapsed": true
   },
   "outputs": [],
   "source": []
  },
  {
   "cell_type": "code",
   "execution_count": null,
   "metadata": {},
   "outputs": [],
   "source": [
    "df.shape"
   ]
  },
  {
   "cell_type": "code",
   "execution_count": null,
   "metadata": {},
   "outputs": [],
   "source": [
    "df.tail(50)"
   ]
  },
  {
   "cell_type": "code",
   "execution_count": null,
   "metadata": {
    "collapsed": true
   },
   "outputs": [],
   "source": [
    "df['date'] = df['date'].str.replace('Early 20th ntury', '1900-1919')"
   ]
  },
  {
   "cell_type": "code",
   "execution_count": null,
   "metadata": {
    "collapsed": true
   },
   "outputs": [],
   "source": [
    "df['date'] = df['date'].str.replace('c. ', '')"
   ]
  },
  {
   "cell_type": "code",
   "execution_count": null,
   "metadata": {
    "collapsed": true
   },
   "outputs": [],
   "source": [
    "#df['date'].unique()"
   ]
  },
  {
   "cell_type": "code",
   "execution_count": null,
   "metadata": {
    "collapsed": true
   },
   "outputs": [],
   "source": [
    "#seasons"
   ]
  },
  {
   "cell_type": "code",
   "execution_count": null,
   "metadata": {
    "collapsed": true
   },
   "outputs": [],
   "source": [
    "for ssn in seasons:\n",
    "    df['date'] = df['date'].str.replace(ssn, '')"
   ]
  },
  {
   "cell_type": "code",
   "execution_count": null,
   "metadata": {
    "collapsed": true
   },
   "outputs": [],
   "source": [
    "df['date'] = df['date'].str.strip()"
   ]
  },
  {
   "cell_type": "code",
   "execution_count": null,
   "metadata": {
    "collapsed": true
   },
   "outputs": [],
   "source": [
    "for ssn in seasons:\n",
    "    df['date'] = df['date'].str.replace(ssn.lower(), '')"
   ]
  },
  {
   "cell_type": "code",
   "execution_count": null,
   "metadata": {
    "collapsed": true
   },
   "outputs": [],
   "source": [
    "df['date'] = df['date'].str.replace('/', '')"
   ]
  },
  {
   "cell_type": "code",
   "execution_count": null,
   "metadata": {
    "collapsed": true
   },
   "outputs": [],
   "source": [
    "df['date'] = df['date'].str.strip()"
   ]
  },
  {
   "cell_type": "code",
   "execution_count": null,
   "metadata": {
    "collapsed": true
   },
   "outputs": [],
   "source": [
    "df['date'] = df['date'].str.replace('late', '')"
   ]
  },
  {
   "cell_type": "code",
   "execution_count": null,
   "metadata": {
    "collapsed": true
   },
   "outputs": [],
   "source": [
    "df['date'] = df['date'].str.replace('Resort', '')"
   ]
  },
  {
   "cell_type": "code",
   "execution_count": null,
   "metadata": {
    "collapsed": true
   },
   "outputs": [],
   "source": [
    "df['date'] = df['date'].str.replace('r', '')"
   ]
  },
  {
   "cell_type": "code",
   "execution_count": null,
   "metadata": {
    "collapsed": true
   },
   "outputs": [],
   "source": [
    "df['date'] = df['date'].str.replace('s', '')"
   ]
  },
  {
   "cell_type": "code",
   "execution_count": null,
   "metadata": {
    "collapsed": true
   },
   "outputs": [],
   "source": [
    "df['date'] = df['date'].str.strip()"
   ]
  },
  {
   "cell_type": "code",
   "execution_count": null,
   "metadata": {
    "collapsed": true
   },
   "outputs": [],
   "source": [
    "df['date'] = df['date'].str.replace(' ', '')"
   ]
  },
  {
   "cell_type": "code",
   "execution_count": null,
   "metadata": {
    "collapsed": true
   },
   "outputs": [],
   "source": [
    "df['year_min'] = df['date'].str[0:4]"
   ]
  },
  {
   "cell_type": "code",
   "execution_count": null,
   "metadata": {},
   "outputs": [],
   "source": [
    "sorted(df['year_min'].unique())"
   ]
  },
  {
   "cell_type": "code",
   "execution_count": null,
   "metadata": {
    "collapsed": true
   },
   "outputs": [],
   "source": []
  },
  {
   "cell_type": "code",
   "execution_count": null,
   "metadata": {
    "collapsed": true
   },
   "outputs": [],
   "source": []
  },
  {
   "cell_type": "code",
   "execution_count": null,
   "metadata": {
    "collapsed": true
   },
   "outputs": [],
   "source": [
    "#df['single_year'] = df['date']"
   ]
  },
  {
   "cell_type": "code",
   "execution_count": null,
   "metadata": {},
   "outputs": [],
   "source": [
    "df[df['date'].str.contains('late') == True]"
   ]
  },
  {
   "cell_type": "code",
   "execution_count": null,
   "metadata": {},
   "outputs": [],
   "source": [
    "df.year_min.unique()"
   ]
  },
  {
   "cell_type": "code",
   "execution_count": null,
   "metadata": {
    "collapsed": true
   },
   "outputs": [],
   "source": [
    "df['decade'] = df['year_min'].str[0:3] + '0'"
   ]
  },
  {
   "cell_type": "code",
   "execution_count": null,
   "metadata": {},
   "outputs": [],
   "source": [
    "df.decade.unique()"
   ]
  },
  {
   "cell_type": "code",
   "execution_count": null,
   "metadata": {},
   "outputs": [],
   "source": [
    "sorted(df['decade'].unique())"
   ]
  },
  {
   "cell_type": "code",
   "execution_count": null,
   "metadata": {
    "collapsed": true
   },
   "outputs": [],
   "source": []
  },
  {
   "cell_type": "code",
   "execution_count": null,
   "metadata": {
    "collapsed": true
   },
   "outputs": [],
   "source": [
    "#bleh = sorted(list(df['year_max'].unique()))"
   ]
  },
  {
   "cell_type": "code",
   "execution_count": null,
   "metadata": {
    "collapsed": true
   },
   "outputs": [],
   "source": [
    "#bleh"
   ]
  },
  {
   "cell_type": "code",
   "execution_count": null,
   "metadata": {
    "collapsed": true
   },
   "outputs": [],
   "source": [
    "#sorted(df['date'])[]"
   ]
  },
  {
   "cell_type": "code",
   "execution_count": null,
   "metadata": {
    "collapsed": true
   },
   "outputs": [],
   "source": [
    "# df['year_min'] = df['date'].str[0:4]"
   ]
  },
  {
   "cell_type": "code",
   "execution_count": null,
   "metadata": {
    "collapsed": true
   },
   "outputs": [],
   "source": [
    "# def infer_min_year():\n",
    "#     for idx in range(len(df['date'])):\n",
    "#         if len(df['date'][idx]) < 5:\n",
    "#             df['year_min'][idx]= df['date'][idx]\n",
    "#         else:\n",
    "#             df['year_min'] = df['date'].map(lambda x: x[0:4])\n",
    "#     return df['year_min']"
   ]
  },
  {
   "cell_type": "code",
   "execution_count": null,
   "metadata": {
    "collapsed": true
   },
   "outputs": [],
   "source": [
    "# infer_min_year()"
   ]
  },
  {
   "cell_type": "code",
   "execution_count": null,
   "metadata": {
    "collapsed": true
   },
   "outputs": [],
   "source": [
    "# def infer_max_year():\n",
    "#     for idx in range(len(df['date'])):\n",
    "#         if len(df['date'][idx]) < 5:\n",
    "#             df['year_max']= df['date']\n",
    "#         else:\n",
    "#             df['year_max']= df.loc[\n",
    "#     return df['year_max']"
   ]
  },
  {
   "cell_type": "code",
   "execution_count": null,
   "metadata": {
    "collapsed": true
   },
   "outputs": [],
   "source": [
    "# df['year_max'] = df.loc[]"
   ]
  },
  {
   "cell_type": "code",
   "execution_count": null,
   "metadata": {
    "collapsed": true
   },
   "outputs": [],
   "source": [
    "# df_ = df.copy()"
   ]
  },
  {
   "cell_type": "code",
   "execution_count": null,
   "metadata": {
    "collapsed": true
   },
   "outputs": [],
   "source": [
    "def last_four(x):\n",
    "    return x[-4:]\n",
    "\n",
    "df[\"year_max\"] = df.date.apply(last_four)"
   ]
  },
  {
   "cell_type": "code",
   "execution_count": null,
   "metadata": {},
   "outputs": [],
   "source": [
    "df.year_max.unique()"
   ]
  },
  {
   "cell_type": "code",
   "execution_count": null,
   "metadata": {},
   "outputs": [],
   "source": [
    "sorted(df['date'].unique())"
   ]
  },
  {
   "cell_type": "code",
   "execution_count": null,
   "metadata": {
    "collapsed": true
   },
   "outputs": [],
   "source": []
  },
  {
   "cell_type": "code",
   "execution_count": null,
   "metadata": {
    "collapsed": true
   },
   "outputs": [],
   "source": []
  },
  {
   "cell_type": "code",
   "execution_count": null,
   "metadata": {},
   "outputs": [],
   "source": [
    "# infer_max_year()"
   ]
  },
  {
   "cell_type": "code",
   "execution_count": null,
   "metadata": {
    "collapsed": true
   },
   "outputs": [],
   "source": [
    "# df['date']"
   ]
  },
  {
   "cell_type": "code",
   "execution_count": null,
   "metadata": {
    "collapsed": true
   },
   "outputs": [],
   "source": [
    "# df['date'].str[:-4]"
   ]
  },
  {
   "cell_type": "code",
   "execution_count": null,
   "metadata": {
    "collapsed": true
   },
   "outputs": [],
   "source": [
    "df['year_max'] = df['date'].str.replace('-', '')"
   ]
  },
  {
   "cell_type": "code",
   "execution_count": null,
   "metadata": {
    "collapsed": true
   },
   "outputs": [],
   "source": [
    "df['year_max'] = df.date.apply(lambda x: x[-1:-4])"
   ]
  },
  {
   "cell_type": "code",
   "execution_count": null,
   "metadata": {
    "collapsed": true
   },
   "outputs": [],
   "source": [
    "df['year_max']"
   ]
  },
  {
   "cell_type": "code",
   "execution_count": null,
   "metadata": {
    "collapsed": true
   },
   "outputs": [],
   "source": [
    "def infer_max_year():\n",
    "    for year in df['date']:\n",
    "        if df['date'][year].str.contains('-'):\n",
    "            df['year_min'] = df['date'].apply(lambda x: x[0:4])\n",
    "        else:\n",
    "            df['year_min'][year]= df['date']"
   ]
  },
  {
   "cell_type": "code",
   "execution_count": null,
   "metadata": {
    "collapsed": true
   },
   "outputs": [],
   "source": [
    "infer_max_year()"
   ]
  },
  {
   "cell_type": "code",
   "execution_count": null,
   "metadata": {
    "collapsed": true
   },
   "outputs": [],
   "source": [
    "df[df['object number'] == 'P85.35.2']['date']"
   ]
  },
  {
   "cell_type": "code",
   "execution_count": null,
   "metadata": {
    "collapsed": true
   },
   "outputs": [],
   "source": [
    "df[df['date'] == '1916']"
   ]
  },
  {
   "cell_type": "code",
   "execution_count": null,
   "metadata": {
    "collapsed": true
   },
   "outputs": [],
   "source": [
    "pic_zero = df.loc[0]"
   ]
  },
  {
   "cell_type": "code",
<<<<<<< HEAD
<<<<<<< HEAD
   "execution_count": 70,
   "metadata": {},
   "outputs": [
    {
     "data": {
      "text/plain": [
       "_id                                       59e69af80386b0109bb37f73\n",
       "country                                                        USA\n",
       "credit                                 Gift of Mrs. Howard Serrell\n",
       "date                                                          1912\n",
       "description      Meta Buehner wore this dress for her wedding t...\n",
       "image            b'\\x89PNG\\r\\n\\x1a\\n\\x00\\x00\\x00\\rIHDR\\x00\\x00\\...\n",
       "medium           Champagne silk jacquard with metallic yarns, i...\n",
       "name                                                 Wedding dress\n",
       "object number                                            95.145.10\n",
       "rgba_arr         b'\\x80\\x03cnumpy.core.multiarray\\n_reconstruct...\n",
       "circa                                                         True\n",
       "Spring                                                       False\n",
       "Summer                                                       False\n",
       "Winter                                                       False\n",
       "Fall                                                         False\n",
       "year_min                                                      1912\n",
       "decade                                                        1910\n",
       "year_max                                                      1912\n",
       "Name: 0, dtype: object"
      ]
     },
     "execution_count": 70,
     "metadata": {},
     "output_type": "execute_result"
    }
   ],
=======
   "execution_count": null,
   "metadata": {
    "collapsed": true
   },
   "outputs": [],
>>>>>>> caa67d4a04188f608ea84de4f63643107281fde4
=======
   "execution_count": null,
   "metadata": {},
   "outputs": [],
>>>>>>> fb0fc27fc2ff0de558d187aa64b17e18187f3e31
   "source": [
    "pic_zero"
   ]
  },
  {
   "cell_type": "code",
<<<<<<< HEAD
   "execution_count": null,
=======
   "execution_count": 70,
>>>>>>> caa67d4a04188f608ea84de4f63643107281fde4
   "metadata": {
    "collapsed": true
   },
   "outputs": [],
   "source": [
    "rgba_zero = df.loc[1]['rgba_arr']"
   ]
  },
  {
   "cell_type": "code",
<<<<<<< HEAD
   "execution_count": null,
   "metadata": {
    "collapsed": true
   },
   "outputs": [],
=======
   "execution_count": 71,
   "metadata": {},
   "outputs": [
    {
     "data": {
      "text/plain": [
       "[128,\n",
       " 3,\n",
       " 99,\n",
       " 110,\n",
       " 117,\n",
       " 109,\n",
       " 112,\n",
       " 121,\n",
       " 46,\n",
       " 99,\n",
       " 111,\n",
       " 114,\n",
       " 101,\n",
       " 46,\n",
       " 109,\n",
       " 117,\n",
       " 108,\n",
       " 116,\n",
       " 105,\n",
       " 97,\n",
       " 114,\n",
       " 114,\n",
       " 97,\n",
       " 121,\n",
       " 10,\n",
       " 95,\n",
       " 114,\n",
       " 101,\n",
       " 99,\n",
       " 111,\n",
       " 110,\n",
       " 115,\n",
       " 116,\n",
       " 114,\n",
       " 117,\n",
       " 99,\n",
       " 116,\n",
       " 10,\n",
       " 113,\n",
       " 0,\n",
       " 99,\n",
       " 110,\n",
       " 117,\n",
       " 109,\n",
       " 112,\n",
       " 121,\n",
       " 10,\n",
       " 110,\n",
       " 100,\n",
       " 97,\n",
       " 114,\n",
       " 114,\n",
       " 97,\n",
       " 121,\n",
       " 10,\n",
       " 113,\n",
       " 1,\n",
       " 75,\n",
       " 0,\n",
       " 133,\n",
       " 113,\n",
       " 2,\n",
       " 67,\n",
       " 1,\n",
       " 98,\n",
       " 113,\n",
       " 3,\n",
       " 135,\n",
       " 113,\n",
       " 4,\n",
       " 82,\n",
       " 113,\n",
       " 5,\n",
       " 40,\n",
       " 75,\n",
       " 1,\n",
       " 77,\n",
       " 94,\n",
       " 1,\n",
       " 77,\n",
       " 94,\n",
       " 1,\n",
       " 75,\n",
       " 4,\n",
       " 135,\n",
       " 113,\n",
       " 6,\n",
       " 99,\n",
       " 110,\n",
       " 117,\n",
       " 109,\n",
       " 112,\n",
       " 121,\n",
       " 10,\n",
       " 100,\n",
       " 116,\n",
       " 121,\n",
       " 112,\n",
       " 101,\n",
       " 10,\n",
       " 113,\n",
       " 7,\n",
       " 88,\n",
       " 2,\n",
       " 0,\n",
       " 0,\n",
       " 0,\n",
       " 117,\n",
       " 49,\n",
       " 113,\n",
       " 8,\n",
       " 75,\n",
       " 0,\n",
       " 75,\n",
       " 1,\n",
       " 135,\n",
       " 113,\n",
       " 9,\n",
       " 82,\n",
       " 113,\n",
       " 10,\n",
       " 40,\n",
       " 75,\n",
       " 3,\n",
       " 88,\n",
       " 1,\n",
       " 0,\n",
       " 0,\n",
       " 0,\n",
       " 124,\n",
       " 113,\n",
       " 11,\n",
       " 78,\n",
       " 78,\n",
       " 78,\n",
       " 74,\n",
       " 255,\n",
       " 255,\n",
       " 255,\n",
       " 255,\n",
       " 74,\n",
       " 255,\n",
       " 255,\n",
       " 255,\n",
       " 255,\n",
       " 75,\n",
       " 0,\n",
       " 116,\n",
       " 113,\n",
       " 12,\n",
       " 98,\n",
       " 137,\n",
       " 66,\n",
       " 16,\n",
       " 122,\n",
       " 7,\n",
       " 0,\n",
       " 255,\n",
       " 255,\n",
       " 255,\n",
       " 255,\n",
       " 255,\n",
       " 255,\n",
       " 255,\n",
       " 255,\n",
       " 255,\n",
       " 255,\n",
       " 255,\n",
       " 255,\n",
       " 255,\n",
       " 255,\n",
       " 255,\n",
       " 255,\n",
       " 255,\n",
       " 255,\n",
       " 255,\n",
       " 255,\n",
       " 255,\n",
       " 255,\n",
       " 255,\n",
       " 255,\n",
       " 255,\n",
       " 255,\n",
       " 255,\n",
       " 255,\n",
       " 255,\n",
       " 255,\n",
       " 255,\n",
       " 255,\n",
       " 255,\n",
       " 255,\n",
       " 255,\n",
       " 255,\n",
       " 255,\n",
       " 255,\n",
       " 255,\n",
       " 255,\n",
       " 255,\n",
       " 255,\n",
       " 255,\n",
       " 255,\n",
       " 255,\n",
       " 255,\n",
       " 255,\n",
       " 255,\n",
       " 255,\n",
       " 255,\n",
       " 255,\n",
       " 255,\n",
       " 255,\n",
       " 255,\n",
       " 255,\n",
       " 255,\n",
       " 255,\n",
       " 255,\n",
       " 255,\n",
       " 255,\n",
       " 255,\n",
       " 255,\n",
       " 255,\n",
       " 255,\n",
       " 255,\n",
       " 255,\n",
       " 255,\n",
       " 255,\n",
       " 255,\n",
       " 255,\n",
       " 255,\n",
       " 255,\n",
       " 255,\n",
       " 255,\n",
       " 255,\n",
       " 255,\n",
       " 255,\n",
       " 255,\n",
       " 255,\n",
       " 255,\n",
       " 255,\n",
       " 255,\n",
       " 255,\n",
       " 255,\n",
       " 255,\n",
       " 255,\n",
       " 255,\n",
       " 255,\n",
       " 255,\n",
       " 255,\n",
       " 255,\n",
       " 255,\n",
       " 255,\n",
       " 255,\n",
       " 255,\n",
       " 255,\n",
       " 255,\n",
       " 255,\n",
       " 255,\n",
       " 255,\n",
       " 255,\n",
       " 255,\n",
       " 255,\n",
       " 255,\n",
       " 255,\n",
       " 255,\n",
       " 255,\n",
       " 255,\n",
       " 255,\n",
       " 255,\n",
       " 255,\n",
       " 255,\n",
       " 255,\n",
       " 255,\n",
       " 255,\n",
       " 255,\n",
       " 255,\n",
       " 255,\n",
       " 255,\n",
       " 255,\n",
       " 255,\n",
       " 255,\n",
       " 255,\n",
       " 255,\n",
       " 255,\n",
       " 255,\n",
       " 255,\n",
       " 255,\n",
       " 255,\n",
       " 255,\n",
       " 255,\n",
       " 255,\n",
       " 255,\n",
       " 255,\n",
       " 255,\n",
       " 255,\n",
       " 255,\n",
       " 255,\n",
       " 255,\n",
       " 255,\n",
       " 255,\n",
       " 255,\n",
       " 255,\n",
       " 255,\n",
       " 255,\n",
       " 255,\n",
       " 255,\n",
       " 255,\n",
       " 255,\n",
       " 255,\n",
       " 255,\n",
       " 255,\n",
       " 255,\n",
       " 255,\n",
       " 255,\n",
       " 255,\n",
       " 255,\n",
       " 255,\n",
       " 255,\n",
       " 255,\n",
       " 255,\n",
       " 255,\n",
       " 255,\n",
       " 255,\n",
       " 255,\n",
       " 255,\n",
       " 255,\n",
       " 255,\n",
       " 255,\n",
       " 255,\n",
       " 255,\n",
       " 255,\n",
       " 255,\n",
       " 255,\n",
       " 255,\n",
       " 255,\n",
       " 255,\n",
       " 255,\n",
       " 255,\n",
       " 255,\n",
       " 255,\n",
       " 255,\n",
       " 255,\n",
       " 255,\n",
       " 255,\n",
       " 255,\n",
       " 255,\n",
       " 255,\n",
       " 255,\n",
       " 255,\n",
       " 255,\n",
       " 255,\n",
       " 255,\n",
       " 255,\n",
       " 255,\n",
       " 255,\n",
       " 255,\n",
       " 255,\n",
       " 255,\n",
       " 255,\n",
       " 255,\n",
       " 255,\n",
       " 255,\n",
       " 255,\n",
       " 255,\n",
       " 255,\n",
       " 255,\n",
       " 255,\n",
       " 255,\n",
       " 255,\n",
       " 255,\n",
       " 255,\n",
       " 255,\n",
       " 255,\n",
       " 255,\n",
       " 255,\n",
       " 255,\n",
       " 255,\n",
       " 253,\n",
       " 255,\n",
       " 255,\n",
       " 255,\n",
       " 253,\n",
       " 255,\n",
       " 255,\n",
       " 255,\n",
       " 253,\n",
       " 255,\n",
       " 255,\n",
       " 255,\n",
       " 253,\n",
       " 255,\n",
       " 76,\n",
       " 72,\n",
       " 69,\n",
       " 255,\n",
       " 73,\n",
       " 69,\n",
       " 66,\n",
       " 255,\n",
       " 77,\n",
       " 73,\n",
       " 70,\n",
       " 255,\n",
       " 79,\n",
       " 75,\n",
       " 72,\n",
       " 255,\n",
       " 75,\n",
       " 70,\n",
       " 66,\n",
       " 255,\n",
       " 80,\n",
       " 75,\n",
       " 71,\n",
       " 255,\n",
       " 76,\n",
       " 73,\n",
       " 68,\n",
       " 255,\n",
       " 76,\n",
       " 73,\n",
       " 68,\n",
       " 255,\n",
       " 76,\n",
       " 73,\n",
       " 68,\n",
       " 255,\n",
       " 77,\n",
       " 74,\n",
       " 69,\n",
       " 255,\n",
       " 77,\n",
       " 74,\n",
       " 69,\n",
       " 255,\n",
       " 78,\n",
       " 75,\n",
       " 70,\n",
       " 255,\n",
       " 78,\n",
       " 75,\n",
       " 70,\n",
       " 255,\n",
       " 78,\n",
       " 75,\n",
       " 70,\n",
       " 255,\n",
       " 80,\n",
       " 77,\n",
       " 72,\n",
       " 255,\n",
       " 80,\n",
       " 77,\n",
       " 72,\n",
       " 255,\n",
       " 80,\n",
       " 77,\n",
       " 72,\n",
       " 255,\n",
       " 81,\n",
       " 78,\n",
       " 73,\n",
       " 255,\n",
       " 81,\n",
       " 78,\n",
       " 73,\n",
       " 255,\n",
       " 82,\n",
       " 79,\n",
       " 74,\n",
       " 255,\n",
       " 82,\n",
       " 79,\n",
       " 74,\n",
       " 255,\n",
       " 82,\n",
       " 79,\n",
       " 74,\n",
       " 255,\n",
       " 84,\n",
       " 81,\n",
       " 76,\n",
       " 255,\n",
       " 84,\n",
       " 81,\n",
       " 76,\n",
       " 255,\n",
       " 84,\n",
       " 81,\n",
       " 76,\n",
       " 255,\n",
       " 85,\n",
       " 82,\n",
       " 77,\n",
       " 255,\n",
       " 85,\n",
       " 82,\n",
       " 77,\n",
       " 255,\n",
       " 86,\n",
       " 83,\n",
       " 78,\n",
       " 255,\n",
       " 86,\n",
       " 83,\n",
       " 78,\n",
       " 255,\n",
       " 86,\n",
       " 83,\n",
       " 78,\n",
       " 255,\n",
       " 87,\n",
       " 84,\n",
       " 79,\n",
       " 255,\n",
       " 87,\n",
       " 84,\n",
       " 79,\n",
       " 255,\n",
       " 87,\n",
       " 84,\n",
       " 79,\n",
       " 255,\n",
       " 88,\n",
       " 85,\n",
       " 80,\n",
       " 255,\n",
       " 88,\n",
       " 85,\n",
       " 80,\n",
       " 255,\n",
       " 89,\n",
       " 86,\n",
       " 81,\n",
       " 255,\n",
       " 89,\n",
       " 86,\n",
       " 81,\n",
       " 255,\n",
       " 89,\n",
       " 86,\n",
       " 81,\n",
       " 255,\n",
       " 91,\n",
       " 88,\n",
       " 83,\n",
       " 255,\n",
       " 91,\n",
       " 88,\n",
       " 83,\n",
       " 255,\n",
       " 91,\n",
       " 88,\n",
       " 83,\n",
       " 255,\n",
       " 92,\n",
       " 89,\n",
       " 84,\n",
       " 255,\n",
       " 92,\n",
       " 89,\n",
       " 84,\n",
       " 255,\n",
       " 93,\n",
       " 90,\n",
       " 85,\n",
       " 255,\n",
       " 93,\n",
       " 90,\n",
       " 85,\n",
       " 255,\n",
       " 93,\n",
       " 90,\n",
       " 85,\n",
       " 255,\n",
       " 94,\n",
       " 91,\n",
       " 86,\n",
       " 255,\n",
       " 94,\n",
       " 91,\n",
       " 86,\n",
       " 255,\n",
       " 94,\n",
       " 91,\n",
       " 86,\n",
       " 255,\n",
       " 95,\n",
       " 92,\n",
       " 87,\n",
       " 255,\n",
       " 95,\n",
       " 92,\n",
       " 87,\n",
       " 255,\n",
       " 96,\n",
       " 93,\n",
       " 88,\n",
       " 255,\n",
       " 96,\n",
       " 93,\n",
       " 88,\n",
       " 255,\n",
       " 96,\n",
       " 93,\n",
       " 88,\n",
       " 255,\n",
       " 98,\n",
       " 95,\n",
       " 90,\n",
       " 255,\n",
       " 98,\n",
       " 95,\n",
       " 90,\n",
       " 255,\n",
       " 98,\n",
       " 95,\n",
       " 90,\n",
       " 255,\n",
       " 99,\n",
       " 96,\n",
       " 91,\n",
       " 255,\n",
       " 99,\n",
       " 96,\n",
       " 91,\n",
       " 255,\n",
       " 100,\n",
       " 97,\n",
       " 92,\n",
       " 255,\n",
       " 100,\n",
       " 97,\n",
       " 92,\n",
       " 255,\n",
       " 100,\n",
       " 97,\n",
       " 92,\n",
       " 255,\n",
       " 100,\n",
       " 97,\n",
       " 92,\n",
       " 255,\n",
       " 100,\n",
       " 97,\n",
       " 92,\n",
       " 255,\n",
       " 100,\n",
       " 97,\n",
       " 92,\n",
       " 255,\n",
       " 101,\n",
       " 98,\n",
       " 93,\n",
       " 255,\n",
       " 101,\n",
       " 98,\n",
       " 93,\n",
       " 255,\n",
       " 102,\n",
       " 99,\n",
       " 94,\n",
       " 255,\n",
       " 102,\n",
       " 99,\n",
       " 94,\n",
       " 255,\n",
       " 102,\n",
       " 99,\n",
       " 94,\n",
       " 255,\n",
       " 103,\n",
       " 100,\n",
       " 95,\n",
       " 255,\n",
       " 103,\n",
       " 100,\n",
       " 95,\n",
       " 255,\n",
       " 103,\n",
       " 100,\n",
       " 95,\n",
       " 255,\n",
       " 104,\n",
       " 101,\n",
       " 96,\n",
       " 255,\n",
       " 104,\n",
       " 101,\n",
       " 96,\n",
       " 255,\n",
       " 105,\n",
       " 102,\n",
       " 97,\n",
       " 255,\n",
       " 105,\n",
       " 102,\n",
       " 97,\n",
       " 255,\n",
       " 105,\n",
       " 102,\n",
       " 97,\n",
       " 255,\n",
       " 105,\n",
       " 102,\n",
       " 97,\n",
       " 255,\n",
       " 105,\n",
       " 102,\n",
       " 97,\n",
       " 255,\n",
       " 105,\n",
       " 102,\n",
       " 97,\n",
       " 255,\n",
       " 106,\n",
       " 103,\n",
       " 98,\n",
       " 255,\n",
       " 106,\n",
       " 103,\n",
       " 98,\n",
       " 255,\n",
       " 107,\n",
       " 104,\n",
       " 99,\n",
       " 255,\n",
       " 107,\n",
       " 104,\n",
       " 99,\n",
       " 255,\n",
       " 107,\n",
       " 104,\n",
       " 99,\n",
       " 255,\n",
       " 106,\n",
       " 103,\n",
       " 98,\n",
       " 255,\n",
       " 106,\n",
       " 103,\n",
       " 98,\n",
       " 255,\n",
       " 106,\n",
       " 103,\n",
       " 98,\n",
       " 255,\n",
       " 107,\n",
       " 104,\n",
       " 99,\n",
       " 255,\n",
       " 107,\n",
       " 104,\n",
       " 99,\n",
       " 255,\n",
       " 108,\n",
       " 105,\n",
       " 100,\n",
       " 255,\n",
       " 108,\n",
       " 105,\n",
       " 100,\n",
       " 255,\n",
       " 108,\n",
       " 105,\n",
       " 100,\n",
       " 255,\n",
       " 108,\n",
       " 105,\n",
       " 100,\n",
       " 255,\n",
       " 108,\n",
       " 105,\n",
       " 100,\n",
       " 255,\n",
       " 108,\n",
       " 105,\n",
       " 100,\n",
       " 255,\n",
       " 108,\n",
       " 105,\n",
       " 100,\n",
       " 255,\n",
       " 108,\n",
       " 105,\n",
       " 100,\n",
       " 255,\n",
       " 108,\n",
       " 105,\n",
       " 100,\n",
       " 255,\n",
       " 108,\n",
       " 105,\n",
       " 100,\n",
       " 255,\n",
       " 108,\n",
       " 105,\n",
       " 100,\n",
       " 255,\n",
       " 110,\n",
       " 107,\n",
       " 102,\n",
       " 255,\n",
       " 110,\n",
       " 107,\n",
       " 102,\n",
       " 255,\n",
       " 110,\n",
       " 107,\n",
       " 102,\n",
       " 255,\n",
       " 110,\n",
       " 107,\n",
       " 102,\n",
       " 255,\n",
       " 110,\n",
       " 107,\n",
       " 102,\n",
       " 255,\n",
       " 110,\n",
       " 107,\n",
       " 102,\n",
       " 255,\n",
       " 110,\n",
       " 107,\n",
       " 102,\n",
       " 255,\n",
       " 110,\n",
       " 107,\n",
       " 102,\n",
       " 255,\n",
       " 111,\n",
       " 108,\n",
       " 103,\n",
       " 255,\n",
       " 111,\n",
       " 108,\n",
       " 103,\n",
       " 255,\n",
       " 111,\n",
       " 108,\n",
       " 103,\n",
       " 255,\n",
       " 111,\n",
       " 108,\n",
       " 103,\n",
       " 255,\n",
       " 111,\n",
       " 108,\n",
       " 103,\n",
       " 255,\n",
       " 111,\n",
       " 108,\n",
       " 103,\n",
       " 255,\n",
       " 111,\n",
       " 108,\n",
       " 103,\n",
       " 255,\n",
       " 111,\n",
       " 108,\n",
       " 103,\n",
       " 255,\n",
       " 111,\n",
       " 108,\n",
       " 103,\n",
       " 255,\n",
       " 111,\n",
       " 108,\n",
       " 103,\n",
       " 255,\n",
       " 111,\n",
       " 108,\n",
       " 103,\n",
       " 255,\n",
       " 111,\n",
       " 108,\n",
       " 103,\n",
       " 255,\n",
       " 111,\n",
       " 108,\n",
       " 103,\n",
       " 255,\n",
       " 111,\n",
       " 108,\n",
       " 103,\n",
       " 255,\n",
       " 111,\n",
       " 108,\n",
       " 103,\n",
       " 255,\n",
       " 111,\n",
       " 108,\n",
       " 103,\n",
       " 255,\n",
       " 111,\n",
       " 108,\n",
       " 103,\n",
       " 255,\n",
       " 111,\n",
       " 108,\n",
       " 103,\n",
       " 255,\n",
       " 111,\n",
       " 108,\n",
       " 103,\n",
       " 255,\n",
       " 111,\n",
       " 108,\n",
       " 103,\n",
       " 255,\n",
       " 111,\n",
       " 108,\n",
       " 103,\n",
       " 255,\n",
       " 111,\n",
       " 108,\n",
       " 103,\n",
       " 255,\n",
       " 111,\n",
       " 108,\n",
       " 103,\n",
       " 255,\n",
       " 111,\n",
       " 108,\n",
       " 103,\n",
       " 255,\n",
       " 111,\n",
       " 108,\n",
       " 103,\n",
       " 255,\n",
       " 111,\n",
       " 108,\n",
       " 103,\n",
       " 255,\n",
       " 111,\n",
       " 108,\n",
       " 103,\n",
       " 255,\n",
       " 111,\n",
       " 108,\n",
       " 103,\n",
       " 255,\n",
       " 111,\n",
       " 108,\n",
       " 103,\n",
       " 255,\n",
       " 111,\n",
       " 108,\n",
       " 103,\n",
       " 255,\n",
       " 111,\n",
       " 108,\n",
       " 103,\n",
       " 255,\n",
       " 111,\n",
       " 108,\n",
       " 103,\n",
       " 255,\n",
       " 110,\n",
       " 107,\n",
       " 102,\n",
       " 255,\n",
       " 110,\n",
       " 107,\n",
       " 102,\n",
       " 255,\n",
       " 110,\n",
       " 107,\n",
       " 102,\n",
       " 255,\n",
       " 110,\n",
       " 107,\n",
       " 102,\n",
       " 255,\n",
       " 110,\n",
       " 107,\n",
       " 102,\n",
       " 255,\n",
       " 110,\n",
       " 107,\n",
       " 102,\n",
       " 255,\n",
       " 110,\n",
       " 107,\n",
       " 102,\n",
       " 255,\n",
       " 110,\n",
       " 107,\n",
       " 102,\n",
       " 255,\n",
       " 109,\n",
       " 106,\n",
       " 101,\n",
       " 255,\n",
       " 109,\n",
       " 106,\n",
       " 101,\n",
       " 255,\n",
       " 109,\n",
       " 106,\n",
       " 101,\n",
       " ...]"
      ]
     },
     "execution_count": 71,
     "metadata": {},
     "output_type": "execute_result"
    }
   ],
>>>>>>> caa67d4a04188f608ea84de4f63643107281fde4
   "source": [
    "list(rgba_zero)"
   ]
  },
  {
   "cell_type": "code",
<<<<<<< HEAD
   "execution_count": null,
   "metadata": {
    "collapsed": true
   },
=======
<<<<<<< HEAD
   "execution_count": 76,
   "metadata": {},
   "outputs": [],
   "source": [
    "test = np.array(list(rgba_zero)).reshape(-1, 4)"
=======
   "execution_count": 209,
   "metadata": {},
>>>>>>> caa67d4a04188f608ea84de4f63643107281fde4
   "outputs": [],
   "source": [
    "rgba_test = np.array(list(rgba_zero)).reshape(-1, 4)"
>>>>>>> c75443aaa83e9472231281efc24c6c5067310e20
   ]
  },
  {
   "cell_type": "code",
<<<<<<< HEAD
   "execution_count": null,
   "metadata": {
    "collapsed": true
   },
   "outputs": [],
=======
   "execution_count": 73,
   "metadata": {},
   "outputs": [
    {
     "data": {
      "text/plain": [
       "122541.0"
      ]
     },
     "execution_count": 73,
     "metadata": {},
     "output_type": "execute_result"
    }
   ],
>>>>>>> caa67d4a04188f608ea84de4f63643107281fde4
   "source": [
    "len(rgba_zero)/4."
   ]
  },
  {
   "cell_type": "code",
<<<<<<< HEAD
   "execution_count": null,
   "metadata": {
    "collapsed": true
   },
   "outputs": [],
=======
   "execution_count": 74,
   "metadata": {},
   "outputs": [
    {
     "data": {
      "text/plain": [
       "array([ 254.94469606,  180.28556973,  173.93469125,  164.29319983])"
      ]
     },
     "execution_count": 74,
     "metadata": {},
     "output_type": "execute_result"
    }
   ],
>>>>>>> caa67d4a04188f608ea84de4f63643107281fde4
   "source": [
    "np.array(list(rgba_zero)).reshape(-1, 4).mean(axis=0)"
   ]
  },
  {
   "cell_type": "code",
<<<<<<< HEAD
<<<<<<< HEAD
   "execution_count": 74,
=======
   "execution_count": 75,
>>>>>>> caa67d4a04188f608ea84de4f63643107281fde4
=======
   "execution_count": null,
>>>>>>> fb0fc27fc2ff0de558d187aa64b17e18187f3e31
   "metadata": {},
   "outputs": [],
   "source": [
    "lengths = list()\n",
    "for i in range(1001):\n",
    "    ratio = len(df.loc[i]['rgba_arr'])\n",
    "    if ratio % 3 != 0 or ratio % 4 != 0:\n",
    "        print(i, ratio)\n",
    "        \n"
   ]
  },
  {
   "cell_type": "code",
<<<<<<< HEAD
   "execution_count": null,
   "metadata": {
    "collapsed": true
   },
   "outputs": [],
   "source": [
    "lengths"
   ]
  },
  {
   "cell_type": "code",
<<<<<<< HEAD
   "execution_count": 71,
=======
   "execution_count": 77,
>>>>>>> caa67d4a04188f608ea84de4f63643107281fde4
=======
   "execution_count": null,
>>>>>>> fb0fc27fc2ff0de558d187aa64b17e18187f3e31
   "metadata": {},
   "outputs": [],
   "source": [
    "df.info()"
   ]
  },
  {
   "cell_type": "code",
<<<<<<< HEAD
<<<<<<< HEAD
   "execution_count": 73,
=======
   "execution_count": 78,
>>>>>>> caa67d4a04188f608ea84de4f63643107281fde4
=======
   "execution_count": null,
>>>>>>> fb0fc27fc2ff0de558d187aa64b17e18187f3e31
   "metadata": {
    "collapsed": true
   },
   "outputs": [],
   "source": [
<<<<<<< HEAD
    "# df.drop(df.index[[156]], inplace=True)"
=======
    "df.drop(df.index[[156]], inplace=True)"
>>>>>>> caa67d4a04188f608ea84de4f63643107281fde4
   ]
  },
  {
   "cell_type": "code",
   "execution_count": null,
   "metadata": {
    "collapsed": true
   },
   "outputs": [],
   "source": []
  },
  {
   "cell_type": "code",
   "execution_count": null,
   "metadata": {
    "collapsed": true
   },
   "outputs": [],
   "source": []
  },
  {
   "cell_type": "code",
   "execution_count": null,
   "metadata": {
    "collapsed": true
   },
   "outputs": [],
   "source": []
  },
  {
   "cell_type": "code",
   "execution_count": null,
   "metadata": {
    "collapsed": true
   },
   "outputs": [],
   "source": [
    "def display_color(color_arr):\n",
    "    return plt.imshow([(color_arr)])\n",
    "\n",
    "def convert_rgb_to_percent(pal_test):\n",
    "    for color in pal_test:\n",
    "        for rgb_val in color:\n",
    "            color_val.append(rgb_val/255)\n",
    "        color_arr.append(tuple(color_val))\n",
    "        color_val.clear()\n",
    "\n",
    "    return color_arr"
   ]
  },
  {
   "cell_type": "code",
   "execution_count": null,
   "metadata": {
    "collapsed": true
   },
   "outputs": [],
   "source": [
    "centroid_argmax = np.array(lst).argmax(axis=0)"
   ]
  },
  {
   "cell_type": "code",
   "execution_count": null,
   "metadata": {
    "collapsed": true
   },
   "outputs": [],
   "source": [
    "from colorthief import ColorThief\n",
    "import io\n",
    "\n",
    "colorthief = ColorThief(pic_test)"
   ]
  },
  {
   "cell_type": "code",
   "execution_count": null,
   "metadata": {
    "collapsed": true
   },
   "outputs": [],
   "source": [
    "palette_list = []\n",
    "color_arr = []\n",
    "color_val = []\n",
    "\n",
    "# pal_test.clear\n",
    "pal_test = colorthief.get_palette(color_count=7, quality=1)\n",
    "pal_test\n",
    "\n",
    "# color_arr.clear\n",
    "color_arr = convert_rgb_to_percent(pal_test)\n",
    "\n",
    "display_color(color_arr)\n",
    "\n",
    "colorthief.image"
   ]
  },
  {
   "cell_type": "code",
   "execution_count": null,
   "metadata": {
    "collapsed": true
   },
   "outputs": [],
   "source": [
    "centroid_lst = np.array(pal_test)"
   ]
  },
  {
   "cell_type": "code",
   "execution_count": null,
   "metadata": {
    "collapsed": true
   },
   "outputs": [],
   "source": [
    "def centroid_cos_similar(pixels, centroid):\n",
    "    numerator = (pixels * centroid).sum(axis=1)\n",
    "    denominator = (np.linalg.norm(pixels, axis=1) * np.linalg.norm(centroid))\n",
    "    return numerator / denominator"
   ]
  },
  {
   "cell_type": "code",
   "execution_count": null,
   "metadata": {
    "collapsed": true
   },
   "outputs": [],
   "source": [
    "lst = []\n",
    "for centroid in centroid_lst:\n",
    "    lst.append(centroid_cos_similar(img.reshape(-1, 3), centroid))"
   ]
  },
  {
   "cell_type": "code",
   "execution_count": null,
   "metadata": {
    "collapsed": true
   },
   "outputs": [],
   "source": [
    "cos_sim_test = np.unique(centroid_argmax, return_counts=True)"
   ]
  },
  {
   "cell_type": "code",
   "execution_count": null,
   "metadata": {
    "collapsed": true
   },
   "outputs": [],
   "source": [
    "cos_sim_test"
   ]
  },
  {
   "cell_type": "code",
   "execution_count": null,
   "metadata": {
    "collapsed": true
   },
   "outputs": [],
   "source": []
  },
  {
   "cell_type": "code",
   "execution_count": null,
   "metadata": {
    "collapsed": true
   },
   "outputs": [],
   "source": []
  }
 ],
 "metadata": {
  "kernelspec": {
   "display_name": "Python 3",
   "language": "python",
   "name": "python3"
  },
  "language_info": {
   "codemirror_mode": {
    "name": "ipython",
    "version": 3
   },
   "file_extension": ".py",
   "mimetype": "text/x-python",
   "name": "python",
   "nbconvert_exporter": "python",
   "pygments_lexer": "ipython3",
   "version": "3.6.2"
  }
 },
 "nbformat": 4,
 "nbformat_minor": 2
}
