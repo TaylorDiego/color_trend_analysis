{
 "cells": [
  {
   "cell_type": "code",
   "execution_count": 1,
   "metadata": {},
   "outputs": [
    {
     "name": "stdout",
     "output_type": "stream",
     "text": [
      "/home/ubuntu/dyanye_clothing_era_classifier/notebook\r\n"
     ]
    }
   ],
   "source": [
    "!pwd"
   ]
  },
  {
   "cell_type": "code",
   "execution_count": 2,
   "metadata": {
    "collapsed": true
   },
   "outputs": [],
   "source": [
    "from pymongo import MongoClient\n",
    "import pandas as pd\n",
    "import numpy as np\n",
    "import matplotlib.pyplot as plt"
   ]
  },
  {
   "cell_type": "code",
   "execution_count": 3,
   "metadata": {
    "collapsed": true
   },
   "outputs": [],
   "source": [
    "client = MongoClient('localhost', 27017)"
   ]
  },
  {
   "cell_type": "code",
   "execution_count": 4,
   "metadata": {
    "collapsed": true
   },
   "outputs": [],
   "source": [
    "db = client.fashion"
   ]
  },
  {
   "cell_type": "code",
   "execution_count": 5,
   "metadata": {
    "collapsed": true
   },
   "outputs": [],
   "source": [
    "collection = db.fashion\n",
    "data = pd.DataFrame(list(collection.find()))"
   ]
  },
  {
   "cell_type": "code",
   "execution_count": 6,
   "metadata": {},
   "outputs": [
    {
     "data": {
      "text/plain": [
       "['_id',\n",
       " 'image',\n",
       " 'rgba_arr',\n",
       " 'name',\n",
       " 'medium',\n",
       " 'date',\n",
       " 'country',\n",
       " 'credit',\n",
       " 'description',\n",
       " 'object number']"
      ]
     },
     "execution_count": 6,
     "metadata": {},
     "output_type": "execute_result"
    }
   ],
   "source": [
    "list(collection.find_one())"
   ]
  },
  {
   "cell_type": "code",
   "execution_count": 7,
   "metadata": {
    "collapsed": true
   },
   "outputs": [],
   "source": [
    "blah = list(collection.find())"
   ]
  },
  {
   "cell_type": "code",
   "execution_count": 8,
   "metadata": {},
   "outputs": [
    {
     "data": {
      "text/plain": [
       "Counter({'_id': 1001,\n",
       "         'country': 999,\n",
       "         'credit': 1000,\n",
       "         'date': 1001,\n",
       "         'description': 588,\n",
       "         'image': 1001,\n",
       "         'medium': 1000,\n",
       "         'name': 1001,\n",
       "         'object number': 1001,\n",
       "         'rgba_arr': 1001})"
      ]
     },
     "execution_count": 8,
     "metadata": {},
     "output_type": "execute_result"
    }
   ],
   "source": [
    "terms = []\n",
    "for item in blah:\n",
    "    for key in item:\n",
    "        terms.append(key)\n",
    "from collections import Counter\n",
    "Counter(terms)"
   ]
  },
  {
   "cell_type": "code",
   "execution_count": 9,
   "metadata": {},
   "outputs": [
    {
     "data": {
      "text/plain": [
       "1001"
      ]
     },
     "execution_count": 9,
     "metadata": {},
     "output_type": "execute_result"
    }
   ],
   "source": [
    "collection.find().count()"
   ]
  },
  {
   "cell_type": "code",
   "execution_count": 10,
   "metadata": {},
   "outputs": [
    {
     "data": {
      "text/plain": [
       "pandas.core.frame.DataFrame"
      ]
     },
     "execution_count": 10,
     "metadata": {},
     "output_type": "execute_result"
    }
   ],
   "source": [
    "type(data)"
   ]
  },
  {
   "cell_type": "code",
   "execution_count": 11,
   "metadata": {},
   "outputs": [
    {
     "data": {
      "text/html": [
       "<div>\n",
       "<style>\n",
       "    .dataframe thead tr:only-child th {\n",
       "        text-align: right;\n",
       "    }\n",
       "\n",
       "    .dataframe thead th {\n",
       "        text-align: left;\n",
       "    }\n",
       "\n",
       "    .dataframe tbody tr th {\n",
       "        vertical-align: top;\n",
       "    }\n",
       "</style>\n",
       "<table border=\"1\" class=\"dataframe\">\n",
       "  <thead>\n",
       "    <tr style=\"text-align: right;\">\n",
       "      <th></th>\n",
       "      <th>_id</th>\n",
       "      <th>country</th>\n",
       "      <th>credit</th>\n",
       "      <th>date</th>\n",
       "      <th>description</th>\n",
       "      <th>image</th>\n",
       "      <th>medium</th>\n",
       "      <th>name</th>\n",
       "      <th>object number</th>\n",
       "      <th>rgba_arr</th>\n",
       "    </tr>\n",
       "  </thead>\n",
       "  <tbody>\n",
       "    <tr>\n",
       "      <th>count</th>\n",
       "      <td>1001</td>\n",
       "      <td>999</td>\n",
       "      <td>1000</td>\n",
       "      <td>1001</td>\n",
       "      <td>588</td>\n",
       "      <td>1001</td>\n",
       "      <td>1000</td>\n",
       "      <td>1001</td>\n",
       "      <td>1001</td>\n",
       "      <td>1001</td>\n",
       "    </tr>\n",
       "    <tr>\n",
       "      <th>unique</th>\n",
       "      <td>1001</td>\n",
       "      <td>23</td>\n",
       "      <td>490</td>\n",
       "      <td>397</td>\n",
       "      <td>563</td>\n",
       "      <td>936</td>\n",
       "      <td>837</td>\n",
       "      <td>122</td>\n",
       "      <td>970</td>\n",
       "      <td>936</td>\n",
       "    </tr>\n",
       "    <tr>\n",
       "      <th>top</th>\n",
       "      <td>59e6b7dd0386b0109bb38220</td>\n",
       "      <td>France</td>\n",
       "      <td>Museum purchase</td>\n",
       "      <td>1968</td>\n",
       "      <td>The simple, tubular mini dress was ubiquitous ...</td>\n",
       "      <td>b'\\x89PNG\\r\\n\\x1a\\n\\x00\\x00\\x00\\rIHDR\\x00\\x00\\...</td>\n",
       "      <td>Cotton</td>\n",
       "      <td>Evening dress</td>\n",
       "      <td>P90.25.6</td>\n",
       "      <td>b'\\x80\\x03cnumpy.core.multiarray\\n_reconstruct...</td>\n",
       "    </tr>\n",
       "    <tr>\n",
       "      <th>freq</th>\n",
       "      <td>1</td>\n",
       "      <td>378</td>\n",
       "      <td>175</td>\n",
       "      <td>20</td>\n",
       "      <td>8</td>\n",
       "      <td>4</td>\n",
       "      <td>22</td>\n",
       "      <td>162</td>\n",
       "      <td>2</td>\n",
       "      <td>4</td>\n",
       "    </tr>\n",
       "  </tbody>\n",
       "</table>\n",
       "</div>"
      ],
      "text/plain": [
       "                             _id country           credit  date  \\\n",
       "count                       1001     999             1000  1001   \n",
       "unique                      1001      23              490   397   \n",
       "top     59e6b7dd0386b0109bb38220  France  Museum purchase  1968   \n",
       "freq                           1     378              175    20   \n",
       "\n",
       "                                              description  \\\n",
       "count                                                 588   \n",
       "unique                                                563   \n",
       "top     The simple, tubular mini dress was ubiquitous ...   \n",
       "freq                                                    8   \n",
       "\n",
       "                                                    image  medium  \\\n",
       "count                                                1001    1000   \n",
       "unique                                                936     837   \n",
       "top     b'\\x89PNG\\r\\n\\x1a\\n\\x00\\x00\\x00\\rIHDR\\x00\\x00\\...  Cotton   \n",
       "freq                                                    4      22   \n",
       "\n",
       "                 name object number  \\\n",
       "count            1001          1001   \n",
       "unique            122           970   \n",
       "top     Evening dress      P90.25.6   \n",
       "freq              162             2   \n",
       "\n",
       "                                                 rgba_arr  \n",
       "count                                                1001  \n",
       "unique                                                936  \n",
       "top     b'\\x80\\x03cnumpy.core.multiarray\\n_reconstruct...  \n",
       "freq                                                    4  "
      ]
     },
     "execution_count": 11,
     "metadata": {},
     "output_type": "execute_result"
    }
   ],
   "source": [
    "data.describe()"
   ]
  },
  {
   "cell_type": "code",
   "execution_count": 12,
   "metadata": {},
   "outputs": [
    {
     "name": "stdout",
     "output_type": "stream",
     "text": [
      "<class 'pandas.core.frame.DataFrame'>\n",
      "RangeIndex: 1001 entries, 0 to 1000\n",
      "Data columns (total 10 columns):\n",
      "_id              1001 non-null object\n",
      "country          999 non-null object\n",
      "credit           1000 non-null object\n",
      "date             1001 non-null object\n",
      "description      588 non-null object\n",
      "image            1001 non-null object\n",
      "medium           1000 non-null object\n",
      "name             1001 non-null object\n",
      "object number    1001 non-null object\n",
      "rgba_arr         1001 non-null object\n",
      "dtypes: object(10)\n",
      "memory usage: 78.3+ KB\n"
     ]
    }
   ],
   "source": [
    "data.info()"
   ]
  },
  {
   "cell_type": "code",
   "execution_count": 41,
   "metadata": {},
   "outputs": [],
   "source": [
    "df['date'] = df['date'].str.strip()"
   ]
  },
  {
   "cell_type": "code",
   "execution_count": 14,
   "metadata": {
    "collapsed": true
   },
   "outputs": [],
   "source": [
    "import re"
   ]
  },
  {
   "cell_type": "code",
   "execution_count": 15,
   "metadata": {
    "collapsed": true
   },
   "outputs": [],
   "source": [
    "df = data.copy()"
   ]
  },
  {
   "cell_type": "code",
   "execution_count": 36,
   "metadata": {},
   "outputs": [
    {
     "data": {
      "text/html": [
       "<div>\n",
       "<style>\n",
       "    .dataframe thead tr:only-child th {\n",
       "        text-align: right;\n",
       "    }\n",
       "\n",
       "    .dataframe thead th {\n",
       "        text-align: left;\n",
       "    }\n",
       "\n",
       "    .dataframe tbody tr th {\n",
       "        vertical-align: top;\n",
       "    }\n",
       "</style>\n",
       "<table border=\"1\" class=\"dataframe\">\n",
       "  <thead>\n",
       "    <tr style=\"text-align: right;\">\n",
       "      <th></th>\n",
       "      <th>_id</th>\n",
       "      <th>country</th>\n",
       "      <th>credit</th>\n",
       "      <th>date</th>\n",
       "      <th>description</th>\n",
       "      <th>image</th>\n",
       "      <th>medium</th>\n",
       "      <th>name</th>\n",
       "      <th>object number</th>\n",
       "      <th>rgba_arr</th>\n",
       "      <th>circa</th>\n",
       "    </tr>\n",
       "  </thead>\n",
       "  <tbody>\n",
       "  </tbody>\n",
       "</table>\n",
       "</div>"
      ],
      "text/plain": [
       "Empty DataFrame\n",
       "Columns: [_id, country, credit, date, description, image, medium, name, object number, rgba_arr, circa]\n",
       "Index: []"
      ]
     },
     "execution_count": 36,
     "metadata": {},
     "output_type": "execute_result"
    }
   ],
   "source": [
    "df[df['date'].str.contains('c.')]"
   ]
  },
  {
   "cell_type": "code",
   "execution_count": 17,
   "metadata": {
    "collapsed": true
   },
   "outputs": [],
   "source": [
    "mask = df['date'].str.contains('c.')"
   ]
  },
  {
   "cell_type": "code",
   "execution_count": 18,
   "metadata": {
    "collapsed": true
   },
   "outputs": [],
   "source": [
    "df['season'] = mask"
   ]
  },
  {
   "cell_type": "code",
   "execution_count": 19,
   "metadata": {},
   "outputs": [
    {
     "data": {
      "text/plain": [
       "(1001, 11)"
      ]
     },
     "execution_count": 19,
     "metadata": {},
     "output_type": "execute_result"
    }
   ],
   "source": [
    "df.shape"
   ]
  },
  {
   "cell_type": "code",
   "execution_count": 33,
   "metadata": {},
   "outputs": [
    {
     "ename": "KeyError",
     "evalue": "10",
     "output_type": "error",
     "traceback": [
      "\u001b[0;31m---------------------------------------------------------------------------\u001b[0m",
      "\u001b[0;31mKeyError\u001b[0m                                  Traceback (most recent call last)",
      "\u001b[0;32m~/anaconda3/lib/python3.6/site-packages/pandas/core/indexes/base.py\u001b[0m in \u001b[0;36mget_loc\u001b[0;34m(self, key, method, tolerance)\u001b[0m\n\u001b[1;32m   2441\u001b[0m             \u001b[0;32mtry\u001b[0m\u001b[0;34m:\u001b[0m\u001b[0;34m\u001b[0m\u001b[0m\n\u001b[0;32m-> 2442\u001b[0;31m                 \u001b[0;32mreturn\u001b[0m \u001b[0mself\u001b[0m\u001b[0;34m.\u001b[0m\u001b[0m_engine\u001b[0m\u001b[0;34m.\u001b[0m\u001b[0mget_loc\u001b[0m\u001b[0;34m(\u001b[0m\u001b[0mkey\u001b[0m\u001b[0;34m)\u001b[0m\u001b[0;34m\u001b[0m\u001b[0m\n\u001b[0m\u001b[1;32m   2443\u001b[0m             \u001b[0;32mexcept\u001b[0m \u001b[0mKeyError\u001b[0m\u001b[0;34m:\u001b[0m\u001b[0;34m\u001b[0m\u001b[0m\n",
      "\u001b[0;32mpandas/_libs/index.pyx\u001b[0m in \u001b[0;36mpandas._libs.index.IndexEngine.get_loc\u001b[0;34m()\u001b[0m\n",
      "\u001b[0;32mpandas/_libs/index.pyx\u001b[0m in \u001b[0;36mpandas._libs.index.IndexEngine.get_loc\u001b[0;34m()\u001b[0m\n",
      "\u001b[0;32mpandas/_libs/hashtable_class_helper.pxi\u001b[0m in \u001b[0;36mpandas._libs.hashtable.PyObjectHashTable.get_item\u001b[0;34m()\u001b[0m\n",
      "\u001b[0;32mpandas/_libs/hashtable_class_helper.pxi\u001b[0m in \u001b[0;36mpandas._libs.hashtable.PyObjectHashTable.get_item\u001b[0;34m()\u001b[0m\n",
      "\u001b[0;31mKeyError\u001b[0m: 10",
      "\nDuring handling of the above exception, another exception occurred:\n",
      "\u001b[0;31mKeyError\u001b[0m                                  Traceback (most recent call last)",
      "\u001b[0;32m<ipython-input-33-8847bfc99ddb>\u001b[0m in \u001b[0;36m<module>\u001b[0;34m()\u001b[0m\n\u001b[0;32m----> 1\u001b[0;31m \u001b[0mdf\u001b[0m\u001b[0;34m[\u001b[0m\u001b[0;36m10\u001b[0m\u001b[0;34m]\u001b[0m\u001b[0;34m\u001b[0m\u001b[0m\n\u001b[0m",
      "\u001b[0;32m~/anaconda3/lib/python3.6/site-packages/pandas/core/frame.py\u001b[0m in \u001b[0;36m__getitem__\u001b[0;34m(self, key)\u001b[0m\n\u001b[1;32m   1962\u001b[0m             \u001b[0;32mreturn\u001b[0m \u001b[0mself\u001b[0m\u001b[0;34m.\u001b[0m\u001b[0m_getitem_multilevel\u001b[0m\u001b[0;34m(\u001b[0m\u001b[0mkey\u001b[0m\u001b[0;34m)\u001b[0m\u001b[0;34m\u001b[0m\u001b[0m\n\u001b[1;32m   1963\u001b[0m         \u001b[0;32melse\u001b[0m\u001b[0;34m:\u001b[0m\u001b[0;34m\u001b[0m\u001b[0m\n\u001b[0;32m-> 1964\u001b[0;31m             \u001b[0;32mreturn\u001b[0m \u001b[0mself\u001b[0m\u001b[0;34m.\u001b[0m\u001b[0m_getitem_column\u001b[0m\u001b[0;34m(\u001b[0m\u001b[0mkey\u001b[0m\u001b[0;34m)\u001b[0m\u001b[0;34m\u001b[0m\u001b[0m\n\u001b[0m\u001b[1;32m   1965\u001b[0m \u001b[0;34m\u001b[0m\u001b[0m\n\u001b[1;32m   1966\u001b[0m     \u001b[0;32mdef\u001b[0m \u001b[0m_getitem_column\u001b[0m\u001b[0;34m(\u001b[0m\u001b[0mself\u001b[0m\u001b[0;34m,\u001b[0m \u001b[0mkey\u001b[0m\u001b[0;34m)\u001b[0m\u001b[0;34m:\u001b[0m\u001b[0;34m\u001b[0m\u001b[0m\n",
      "\u001b[0;32m~/anaconda3/lib/python3.6/site-packages/pandas/core/frame.py\u001b[0m in \u001b[0;36m_getitem_column\u001b[0;34m(self, key)\u001b[0m\n\u001b[1;32m   1969\u001b[0m         \u001b[0;31m# get column\u001b[0m\u001b[0;34m\u001b[0m\u001b[0;34m\u001b[0m\u001b[0m\n\u001b[1;32m   1970\u001b[0m         \u001b[0;32mif\u001b[0m \u001b[0mself\u001b[0m\u001b[0;34m.\u001b[0m\u001b[0mcolumns\u001b[0m\u001b[0;34m.\u001b[0m\u001b[0mis_unique\u001b[0m\u001b[0;34m:\u001b[0m\u001b[0;34m\u001b[0m\u001b[0m\n\u001b[0;32m-> 1971\u001b[0;31m             \u001b[0;32mreturn\u001b[0m \u001b[0mself\u001b[0m\u001b[0;34m.\u001b[0m\u001b[0m_get_item_cache\u001b[0m\u001b[0;34m(\u001b[0m\u001b[0mkey\u001b[0m\u001b[0;34m)\u001b[0m\u001b[0;34m\u001b[0m\u001b[0m\n\u001b[0m\u001b[1;32m   1972\u001b[0m \u001b[0;34m\u001b[0m\u001b[0m\n\u001b[1;32m   1973\u001b[0m         \u001b[0;31m# duplicate columns & possible reduce dimensionality\u001b[0m\u001b[0;34m\u001b[0m\u001b[0;34m\u001b[0m\u001b[0m\n",
      "\u001b[0;32m~/anaconda3/lib/python3.6/site-packages/pandas/core/generic.py\u001b[0m in \u001b[0;36m_get_item_cache\u001b[0;34m(self, item)\u001b[0m\n\u001b[1;32m   1643\u001b[0m         \u001b[0mres\u001b[0m \u001b[0;34m=\u001b[0m \u001b[0mcache\u001b[0m\u001b[0;34m.\u001b[0m\u001b[0mget\u001b[0m\u001b[0;34m(\u001b[0m\u001b[0mitem\u001b[0m\u001b[0;34m)\u001b[0m\u001b[0;34m\u001b[0m\u001b[0m\n\u001b[1;32m   1644\u001b[0m         \u001b[0;32mif\u001b[0m \u001b[0mres\u001b[0m \u001b[0;32mis\u001b[0m \u001b[0;32mNone\u001b[0m\u001b[0;34m:\u001b[0m\u001b[0;34m\u001b[0m\u001b[0m\n\u001b[0;32m-> 1645\u001b[0;31m             \u001b[0mvalues\u001b[0m \u001b[0;34m=\u001b[0m \u001b[0mself\u001b[0m\u001b[0;34m.\u001b[0m\u001b[0m_data\u001b[0m\u001b[0;34m.\u001b[0m\u001b[0mget\u001b[0m\u001b[0;34m(\u001b[0m\u001b[0mitem\u001b[0m\u001b[0;34m)\u001b[0m\u001b[0;34m\u001b[0m\u001b[0m\n\u001b[0m\u001b[1;32m   1646\u001b[0m             \u001b[0mres\u001b[0m \u001b[0;34m=\u001b[0m \u001b[0mself\u001b[0m\u001b[0;34m.\u001b[0m\u001b[0m_box_item_values\u001b[0m\u001b[0;34m(\u001b[0m\u001b[0mitem\u001b[0m\u001b[0;34m,\u001b[0m \u001b[0mvalues\u001b[0m\u001b[0;34m)\u001b[0m\u001b[0;34m\u001b[0m\u001b[0m\n\u001b[1;32m   1647\u001b[0m             \u001b[0mcache\u001b[0m\u001b[0;34m[\u001b[0m\u001b[0mitem\u001b[0m\u001b[0;34m]\u001b[0m \u001b[0;34m=\u001b[0m \u001b[0mres\u001b[0m\u001b[0;34m\u001b[0m\u001b[0m\n",
      "\u001b[0;32m~/anaconda3/lib/python3.6/site-packages/pandas/core/internals.py\u001b[0m in \u001b[0;36mget\u001b[0;34m(self, item, fastpath)\u001b[0m\n\u001b[1;32m   3588\u001b[0m \u001b[0;34m\u001b[0m\u001b[0m\n\u001b[1;32m   3589\u001b[0m             \u001b[0;32mif\u001b[0m \u001b[0;32mnot\u001b[0m \u001b[0misnull\u001b[0m\u001b[0;34m(\u001b[0m\u001b[0mitem\u001b[0m\u001b[0;34m)\u001b[0m\u001b[0;34m:\u001b[0m\u001b[0;34m\u001b[0m\u001b[0m\n\u001b[0;32m-> 3590\u001b[0;31m                 \u001b[0mloc\u001b[0m \u001b[0;34m=\u001b[0m \u001b[0mself\u001b[0m\u001b[0;34m.\u001b[0m\u001b[0mitems\u001b[0m\u001b[0;34m.\u001b[0m\u001b[0mget_loc\u001b[0m\u001b[0;34m(\u001b[0m\u001b[0mitem\u001b[0m\u001b[0;34m)\u001b[0m\u001b[0;34m\u001b[0m\u001b[0m\n\u001b[0m\u001b[1;32m   3591\u001b[0m             \u001b[0;32melse\u001b[0m\u001b[0;34m:\u001b[0m\u001b[0;34m\u001b[0m\u001b[0m\n\u001b[1;32m   3592\u001b[0m                 \u001b[0mindexer\u001b[0m \u001b[0;34m=\u001b[0m \u001b[0mnp\u001b[0m\u001b[0;34m.\u001b[0m\u001b[0marange\u001b[0m\u001b[0;34m(\u001b[0m\u001b[0mlen\u001b[0m\u001b[0;34m(\u001b[0m\u001b[0mself\u001b[0m\u001b[0;34m.\u001b[0m\u001b[0mitems\u001b[0m\u001b[0;34m)\u001b[0m\u001b[0;34m)\u001b[0m\u001b[0;34m[\u001b[0m\u001b[0misnull\u001b[0m\u001b[0;34m(\u001b[0m\u001b[0mself\u001b[0m\u001b[0;34m.\u001b[0m\u001b[0mitems\u001b[0m\u001b[0;34m)\u001b[0m\u001b[0;34m]\u001b[0m\u001b[0;34m\u001b[0m\u001b[0m\n",
      "\u001b[0;32m~/anaconda3/lib/python3.6/site-packages/pandas/core/indexes/base.py\u001b[0m in \u001b[0;36mget_loc\u001b[0;34m(self, key, method, tolerance)\u001b[0m\n\u001b[1;32m   2442\u001b[0m                 \u001b[0;32mreturn\u001b[0m \u001b[0mself\u001b[0m\u001b[0;34m.\u001b[0m\u001b[0m_engine\u001b[0m\u001b[0;34m.\u001b[0m\u001b[0mget_loc\u001b[0m\u001b[0;34m(\u001b[0m\u001b[0mkey\u001b[0m\u001b[0;34m)\u001b[0m\u001b[0;34m\u001b[0m\u001b[0m\n\u001b[1;32m   2443\u001b[0m             \u001b[0;32mexcept\u001b[0m \u001b[0mKeyError\u001b[0m\u001b[0;34m:\u001b[0m\u001b[0;34m\u001b[0m\u001b[0m\n\u001b[0;32m-> 2444\u001b[0;31m                 \u001b[0;32mreturn\u001b[0m \u001b[0mself\u001b[0m\u001b[0;34m.\u001b[0m\u001b[0m_engine\u001b[0m\u001b[0;34m.\u001b[0m\u001b[0mget_loc\u001b[0m\u001b[0;34m(\u001b[0m\u001b[0mself\u001b[0m\u001b[0;34m.\u001b[0m\u001b[0m_maybe_cast_indexer\u001b[0m\u001b[0;34m(\u001b[0m\u001b[0mkey\u001b[0m\u001b[0;34m)\u001b[0m\u001b[0;34m)\u001b[0m\u001b[0;34m\u001b[0m\u001b[0m\n\u001b[0m\u001b[1;32m   2445\u001b[0m \u001b[0;34m\u001b[0m\u001b[0m\n\u001b[1;32m   2446\u001b[0m         \u001b[0mindexer\u001b[0m \u001b[0;34m=\u001b[0m \u001b[0mself\u001b[0m\u001b[0;34m.\u001b[0m\u001b[0mget_indexer\u001b[0m\u001b[0;34m(\u001b[0m\u001b[0;34m[\u001b[0m\u001b[0mkey\u001b[0m\u001b[0;34m]\u001b[0m\u001b[0;34m,\u001b[0m \u001b[0mmethod\u001b[0m\u001b[0;34m=\u001b[0m\u001b[0mmethod\u001b[0m\u001b[0;34m,\u001b[0m \u001b[0mtolerance\u001b[0m\u001b[0;34m=\u001b[0m\u001b[0mtolerance\u001b[0m\u001b[0;34m)\u001b[0m\u001b[0;34m\u001b[0m\u001b[0m\n",
      "\u001b[0;32mpandas/_libs/index.pyx\u001b[0m in \u001b[0;36mpandas._libs.index.IndexEngine.get_loc\u001b[0;34m()\u001b[0m\n",
      "\u001b[0;32mpandas/_libs/index.pyx\u001b[0m in \u001b[0;36mpandas._libs.index.IndexEngine.get_loc\u001b[0;34m()\u001b[0m\n",
      "\u001b[0;32mpandas/_libs/hashtable_class_helper.pxi\u001b[0m in \u001b[0;36mpandas._libs.hashtable.PyObjectHashTable.get_item\u001b[0;34m()\u001b[0m\n",
      "\u001b[0;32mpandas/_libs/hashtable_class_helper.pxi\u001b[0m in \u001b[0;36mpandas._libs.hashtable.PyObjectHashTable.get_item\u001b[0;34m()\u001b[0m\n",
      "\u001b[0;31mKeyError\u001b[0m: 10"
     ]
    }
   ],
   "source": [
    "df[df['date'] == ]"
   ]
  },
  {
   "cell_type": "code",
   "execution_count": 31,
   "metadata": {},
   "outputs": [
    {
     "data": {
      "text/plain": [
       "0                     1912\n",
       "1                     1918\n",
       "2                     1900\n",
       "3                     1916\n",
       "4                     1916\n",
       "5                     1913\n",
       "6                     1910\n",
       "7                     1903\n",
       "8                     1907\n",
       "9                     1915\n",
       "10                    1907\n",
       "11        Early 20th ntury\n",
       "12               1910-1920\n",
       "13               1914-1918\n",
       "14                    1908\n",
       "15                    1904\n",
       "16                    1909\n",
       "17                    1913\n",
       "18                    1888\n",
       "19                    1904\n",
       "20                    1910\n",
       "21                    1900\n",
       "22                    1910\n",
       "23                    1904\n",
       "24                    1912\n",
       "25                    1900\n",
       "26               1900-1905\n",
       "27                    1905\n",
       "28                    1908\n",
       "29                    1905\n",
       "               ...        \n",
       "971              Fall 2010\n",
       "972            Spring 2010\n",
       "973            Spring 2011\n",
       "974              Fall 2011\n",
       "975            Spring 2011\n",
       "976                   2014\n",
       "977            Spring 2010\n",
       "978              Fall 2010\n",
       "979              Fall 2010\n",
       "980            Spring 2011\n",
       "981              Fall 2010\n",
       "982            Spring 2011\n",
       "983            Spring 2015\n",
       "984              Fall 2015\n",
       "985              Fall 2016\n",
       "986              Fall 2012\n",
       "987                   2010\n",
       "988              Fall 2010\n",
       "989     Spring/Summer 2010\n",
       "990            Spring 2011\n",
       "991              Fall 2010\n",
       "992            Spring 2010\n",
       "993            Spring 2010\n",
       "994            Spring 2013\n",
       "995            Spring 2015\n",
       "996                   2010\n",
       "997            Spring 2011\n",
       "998       Fall/Winter 2010\n",
       "999                   2014\n",
       "1000                  2014\n",
       "Name: date, Length: 1001, dtype: object"
      ]
     },
     "execution_count": 31,
     "metadata": {},
     "output_type": "execute_result"
    }
   ],
   "source": [
    "df['date']"
   ]
  },
  {
   "cell_type": "code",
   "execution_count": 37,
   "metadata": {
    "collapsed": true
   },
   "outputs": [],
   "source": [
    "df['date'] = df['date'].str.replace('c. ', '')"
   ]
  },
  {
   "cell_type": "code",
   "execution_count": 38,
   "metadata": {},
   "outputs": [
    {
     "data": {
      "text/plain": [
       "0                     1912\n",
       "1                     1918\n",
       "2                     1900\n",
       "3                     1916\n",
       "4                     1916\n",
       "5                     1913\n",
       "6                     1910\n",
       "7                     1903\n",
       "8                     1907\n",
       "9                     1915\n",
       "10                    1907\n",
       "11        Early 20th ntury\n",
       "12               1910-1920\n",
       "13               1914-1918\n",
       "14                    1908\n",
       "15                    1904\n",
       "16                    1909\n",
       "17                    1913\n",
       "18                    1888\n",
       "19                    1904\n",
       "20                    1910\n",
       "21                    1900\n",
       "22                    1910\n",
       "23                    1904\n",
       "24                    1912\n",
       "25                    1900\n",
       "26               1900-1905\n",
       "27                    1905\n",
       "28                    1908\n",
       "29                    1905\n",
       "               ...        \n",
       "971              Fall 2010\n",
       "972            Spring 2010\n",
       "973            Spring 2011\n",
       "974              Fall 2011\n",
       "975            Spring 2011\n",
       "976                   2014\n",
       "977            Spring 2010\n",
       "978              Fall 2010\n",
       "979              Fall 2010\n",
       "980            Spring 2011\n",
       "981              Fall 2010\n",
       "982            Spring 2011\n",
       "983            Spring 2015\n",
       "984              Fall 2015\n",
       "985              Fall 2016\n",
       "986              Fall 2012\n",
       "987                   2010\n",
       "988              Fall 2010\n",
       "989     Spring/Summer 2010\n",
       "990            Spring 2011\n",
       "991              Fall 2010\n",
       "992            Spring 2010\n",
       "993            Spring 2010\n",
       "994            Spring 2013\n",
       "995            Spring 2015\n",
       "996                   2010\n",
       "997            Spring 2011\n",
       "998       Fall/Winter 2010\n",
       "999                   2014\n",
       "1000                  2014\n",
       "Name: date, Length: 1001, dtype: object"
      ]
     },
     "execution_count": 38,
     "metadata": {},
     "output_type": "execute_result"
    }
   ],
   "source": [
    "df['date']"
   ]
  },
  {
   "cell_type": "code",
   "execution_count": null,
   "metadata": {
    "collapsed": true
   },
   "outputs": [],
   "source": []
  },
  {
   "cell_type": "code",
   "execution_count": 23,
   "metadata": {},
   "outputs": [
    {
     "data": {
      "text/plain": [
       "1001"
      ]
     },
     "execution_count": 23,
     "metadata": {},
     "output_type": "execute_result"
    }
   ],
   "source": [
    "df['date'].str.contains('c. ').count()"
   ]
  },
  {
   "cell_type": "code",
   "execution_count": 24,
   "metadata": {},
   "outputs": [
    {
     "data": {
      "text/plain": [
       "_id              79\n",
       "country          79\n",
       "credit           78\n",
       "date             79\n",
       "description      49\n",
       "image            79\n",
       "medium           78\n",
       "name             79\n",
       "object number    79\n",
       "rgba_arr         79\n",
       "dtype: int64"
      ]
     },
     "execution_count": 24,
     "metadata": {},
     "output_type": "execute_result"
    }
   ],
   "source": [
    "data[data['date'].str.contains('-')].count()"
   ]
  },
  {
   "cell_type": "code",
   "execution_count": 25,
   "metadata": {},
   "outputs": [
    {
     "data": {
      "text/plain": [
       "_id              138\n",
       "country          138\n",
       "credit           138\n",
       "date             138\n",
       "description       86\n",
       "image            138\n",
       "medium           138\n",
       "name             138\n",
       "object number    138\n",
       "rgba_arr         138\n",
       "dtype: int64"
      ]
     },
     "execution_count": 25,
     "metadata": {},
     "output_type": "execute_result"
    }
   ],
   "source": [
    "data[data.date.str.contains('c. ')].count()"
   ]
  },
  {
   "cell_type": "code",
   "execution_count": 26,
   "metadata": {},
   "outputs": [
    {
     "data": {
      "text/plain": [
       "0                  c.1912\n",
       "1                 c. 1918\n",
       "2                  c.1900\n",
       "3                  c.1916\n",
       "4                 c. 1916\n",
       "5                  c.1913\n",
       "6                  c.1910\n",
       "7                  c.1903\n",
       "9                 c. 1915\n",
       "11     Early 20th century\n",
       "12            c.1910-1920\n",
       "14                 c.1908\n",
       "15                 c.1904\n",
       "16                c. 1909\n",
       "18                c. 1888\n",
       "19                 c.1904\n",
       "20                c. 1910\n",
       "21                 c.1900\n",
       "22                 c.1910\n",
       "25                 c.1900\n",
       "27                c. 1905\n",
       "29                c. 1905\n",
       "30                c. 1918\n",
       "32                c. 1915\n",
       "33                c. 1917\n",
       "35                 c.1915\n",
       "36                c. 1907\n",
       "37                c. 1913\n",
       "39                c. 1902\n",
       "40                 c.1915\n",
       "              ...        \n",
       "965             Fall 2014\n",
       "967             Fall 2013\n",
       "968           Spring 2011\n",
       "969           Spring 2011\n",
       "970           Spring 2010\n",
       "971             Fall 2010\n",
       "972           Spring 2010\n",
       "973           Spring 2011\n",
       "974             Fall 2011\n",
       "975           Spring 2011\n",
       "977           Spring 2010\n",
       "978             Fall 2010\n",
       "979             Fall 2010\n",
       "980           Spring 2011\n",
       "981             Fall 2010\n",
       "982           Spring 2011\n",
       "983           Spring 2015\n",
       "984             Fall 2015\n",
       "985             Fall 2016\n",
       "986             Fall 2012\n",
       "988             Fall 2010\n",
       "989    Spring/Summer 2010\n",
       "990           Spring 2011\n",
       "991             Fall 2010\n",
       "992           Spring 2010\n",
       "993           Spring 2010\n",
       "994           Spring 2013\n",
       "995           Spring 2015\n",
       "997           Spring 2011\n",
       "998      Fall/Winter 2010\n",
       "Name: date, Length: 636, dtype: object"
      ]
     },
     "execution_count": 26,
     "metadata": {},
     "output_type": "execute_result"
    }
   ],
   "source": [
    "data.date[~ data.date.str.match('\\d')]"
   ]
  },
  {
   "cell_type": "code",
   "execution_count": null,
   "metadata": {
    "collapsed": true
   },
   "outputs": [],
   "source": []
  },
  {
   "cell_type": "code",
   "execution_count": 27,
   "metadata": {},
   "outputs": [
    {
     "data": {
      "text/plain": [
       "0                  c.1912\n",
       "1                 c. 1918\n",
       "2                  c.1900\n",
       "3                  c.1916\n",
       "4                 c. 1916\n",
       "5                  c.1913\n",
       "6                  c.1910\n",
       "7                  c.1903\n",
       "9                 c. 1915\n",
       "11     Early 20th century\n",
       "12            c.1910-1920\n",
       "14                 c.1908\n",
       "15                 c.1904\n",
       "16                c. 1909\n",
       "18                c. 1888\n",
       "19                 c.1904\n",
       "20                c. 1910\n",
       "21                 c.1900\n",
       "22                 c.1910\n",
       "25                 c.1900\n",
       "27                c. 1905\n",
       "29                c. 1905\n",
       "30                c. 1918\n",
       "32                c. 1915\n",
       "33                c. 1917\n",
       "35                 c.1915\n",
       "36                c. 1907\n",
       "37                c. 1913\n",
       "39                c. 1902\n",
       "40                 c.1915\n",
       "              ...        \n",
       "965             Fall 2014\n",
       "967             Fall 2013\n",
       "968           Spring 2011\n",
       "969           Spring 2011\n",
       "970           Spring 2010\n",
       "971             Fall 2010\n",
       "972           Spring 2010\n",
       "973           Spring 2011\n",
       "974             Fall 2011\n",
       "975           Spring 2011\n",
       "977           Spring 2010\n",
       "978             Fall 2010\n",
       "979             Fall 2010\n",
       "980           Spring 2011\n",
       "981             Fall 2010\n",
       "982           Spring 2011\n",
       "983           Spring 2015\n",
       "984             Fall 2015\n",
       "985             Fall 2016\n",
       "986             Fall 2012\n",
       "988             Fall 2010\n",
       "989    Spring/Summer 2010\n",
       "990           Spring 2011\n",
       "991             Fall 2010\n",
       "992           Spring 2010\n",
       "993           Spring 2010\n",
       "994           Spring 2013\n",
       "995           Spring 2015\n",
       "997           Spring 2011\n",
       "998      Fall/Winter 2010\n",
       "Name: date, Length: 645, dtype: object"
      ]
     },
     "execution_count": 27,
     "metadata": {},
     "output_type": "execute_result"
    }
   ],
   "source": [
    "data.date[~ data.date.str.match('\\d\\d\\d\\d$|\\d\\d\\d\\d-\\d\\d\\d\\d')]"
   ]
  },
  {
   "cell_type": "code",
   "execution_count": 28,
   "metadata": {},
   "outputs": [
    {
     "ename": "SyntaxError",
     "evalue": "invalid syntax (<ipython-input-28-be6e661e7ace>, line 4)",
     "output_type": "error",
     "traceback": [
      "\u001b[0;36m  File \u001b[0;32m\"<ipython-input-28-be6e661e7ace>\"\u001b[0;36m, line \u001b[0;32m4\u001b[0m\n\u001b[0;31m    if s[0:2] = 'c.':\u001b[0m\n\u001b[0m              ^\u001b[0m\n\u001b[0;31mSyntaxError\u001b[0m\u001b[0;31m:\u001b[0m invalid syntax\n"
     ]
    }
   ],
   "source": [
    "def clean_year(s):\n",
    "    s = s.strip()\n",
    "    str_to_strip = ['c.', 'c. ', 'summer', 'spring', 'fall', 'winter',]\n",
    "    if s[0:2] = 'c.':\n",
    "        s = s.replace('c.', '')"
   ]
  },
  {
   "cell_type": "code",
   "execution_count": null,
   "metadata": {
    "collapsed": true
   },
   "outputs": [],
   "source": []
  },
  {
   "cell_type": "code",
   "execution_count": null,
   "metadata": {
    "collapsed": true
   },
   "outputs": [],
   "source": [
    "db.fashion['name'].count()"
   ]
  },
  {
   "cell_type": "code",
   "execution_count": null,
   "metadata": {
    "collapsed": true
   },
   "outputs": [],
   "source": [
    "db.collection_names(include_system_collections=False)"
   ]
  },
  {
   "cell_type": "code",
   "execution_count": null,
   "metadata": {
    "collapsed": true
   },
   "outputs": [],
   "source": [
    "'_id', 'country', 'credit', 'date', 'description', 'image', "
   ]
  },
  {
   "cell_type": "code",
   "execution_count": null,
   "metadata": {
    "collapsed": true
   },
   "outputs": [],
   "source": [
    "db.fashion.find_one()"
   ]
  },
  {
   "cell_type": "code",
   "execution_count": null,
   "metadata": {
    "collapsed": true
   },
   "outputs": [],
   "source": [
    "data.head()"
   ]
  },
  {
   "cell_type": "code",
   "execution_count": null,
   "metadata": {
    "collapsed": true
   },
   "outputs": [],
   "source": []
  }
 ],
 "metadata": {
  "kernelspec": {
   "display_name": "Python 3",
   "language": "python",
   "name": "python3"
  },
  "language_info": {
   "codemirror_mode": {
    "name": "ipython",
    "version": 3
   },
   "file_extension": ".py",
   "mimetype": "text/x-python",
   "name": "python",
   "nbconvert_exporter": "python",
   "pygments_lexer": "ipython3",
   "version": "3.6.2"
  }
 },
 "nbformat": 4,
 "nbformat_minor": 2
}
