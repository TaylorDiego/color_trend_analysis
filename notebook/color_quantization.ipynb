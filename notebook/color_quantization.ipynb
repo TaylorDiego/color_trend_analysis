{
 "cells": [
  {
   "cell_type": "code",
   "execution_count": 1,
   "metadata": {
    "collapsed": true
   },
   "outputs": [],
   "source": [
    "from collections import defaultdict, OrderedDict\n",
    "from operator import itemgetter\n",
    "import numpy as np\n",
    "import cv2\n",
    "from colorthief import ColorThief\n",
    "import io\n",
    "from colorutils import Color\n",
    "import matplotlib.pyplot as plt\n",
    "%matplotlib inline"
   ]
  },
  {
   "cell_type": "code",
   "execution_count": 2,
   "metadata": {
    "collapsed": true
   },
   "outputs": [],
   "source": [
    "test_images = ['/Users/Rabbit/Downloads/china_test.jpg', \n",
    "               '/Users/Rabbit/Downloads/vilnius_test.jpg', \n",
    "               '/Users/Rabbit/Downloads/spices_test.jpg']"
   ]
  },
  {
   "cell_type": "code",
   "execution_count": 3,
   "metadata": {
    "collapsed": true
   },
   "outputs": [],
   "source": [
    "loc_fashion_images = ['/Users/Rabbit/capstone/materials/scrape_fashion_2/2003.86.1.png', \n",
    "                     '/Users/Rabbit/capstone/materials/scrape_fashion_2/2006.44.1.png', \n",
    "                     '/Users/Rabbit/capstone/materials/scrape_fashion_2/2006.56.1.png', \n",
    "                     '/Users/Rabbit/capstone/materials/scrape_fashion_2/2006.56.2.png', \n",
    "                     '/Users/Rabbit/capstone/materials/scrape_fashion_2/2007.30.1.png', \n",
    "                     '/Users/Rabbit/capstone/materials/scrape_fashion_2/2008.4.1.png', \n",
    "                     '/Users/Rabbit/capstone/materials/scrape_fashion_2/2010.98.1.png', \n",
    "                     '/Users/Rabbit/capstone/materials/scrape_fashion_2/74.32.4.png', \n",
    "                     '/Users/Rabbit/capstone/materials/scrape_fashion_2/76.64.1.png', \n",
    "                     '/Users/Rabbit/capstone/materials/scrape_fashion_2/80.1.4.png']"
   ]
  },
  {
   "cell_type": "code",
   "execution_count": 54,
   "metadata": {
    "collapsed": true
   },
   "outputs": [],
   "source": [
    "ColorThief?"
   ]
  },
  {
   "cell_type": "code",
   "execution_count": 4,
   "metadata": {
    "collapsed": true
   },
   "outputs": [],
   "source": [
    "# img_path = loc_fashion_images[1]"
   ]
  },
  {
   "cell_type": "code",
   "execution_count": 5,
   "metadata": {
    "collapsed": true
   },
   "outputs": [],
   "source": [
    "img_path = test_images[1]"
   ]
  },
  {
   "cell_type": "code",
   "execution_count": 20,
   "metadata": {
    "collapsed": true
   },
   "outputs": [],
   "source": [
    "class Palettization():\n",
    "    \"\"\"processes a single image path and returns image, centroids(dominant colors), palette\"\"\"\n",
    "    \n",
    "    def __init__(self, img_path):\n",
    "        self.img_path = img_path\n",
    "        self.rgb_palette = self.get_rgb_palette()\n",
    "        self.hsv_palette = self.get_hsv_palette()\n",
    "        self.color_arr = self.get_color_array()\n",
    "        self.centroid_lst = self.arrayify_centroids()\n",
    "        self.counts = self.centroid_cos_similar()\n",
    "\n",
    "    def get_rgb_palette(self):\n",
    "        \"\"\"return image color palette\"\"\"\n",
    "        colorthief = ColorThief(self.img_path)\n",
    "        rgb_palette = colorthief.get_palette(color_count=9, quality=1)\n",
    "        return rgb_palette\n",
    "\n",
    "\n",
    "    def get_color_array(self):\n",
    "        \"\"\"return array of palette colors\"\"\"\n",
    "        color_arr = []\n",
    "        for color in self.rgb_palette:\n",
    "            color_val = []\n",
    "            for rgb_val in color:\n",
    "                color_val.append(rgb_val / 255)\n",
    "            color_arr.append(tuple(color_val))\n",
    "        return color_arr\n",
    "\n",
    "\n",
    "    def arrayify_centroids(self):\n",
    "        \"\"\"return array of image palette (centroids)\"\"\"\n",
    "        self.centroid_lst = np.array(self.rgb_palette)\n",
    "        return self.centroid_lst\n",
    "    \n",
    "    def _centroid_cos_similar(self, pixels, centroid):\n",
    "        numerator = (pixels * centroid).sum(axis=1)\n",
    "        denominator = (np.linalg.norm(pixels, axis=1) * np.linalg.norm(centroid))\n",
    "        return (numerator / denominator)  \n",
    "\n",
    "\n",
    "    def centroid_cos_similar(self):\n",
    "        \"\"\"\"\"\"\n",
    "        lst = []\n",
    "        self.centroid_lst = self.rgb_palette\n",
    "        img = cv2.imread(self.img_path)\n",
    "        img = cv2.cvtColor(img, cv2.COLOR_BGR2RGB)\n",
    "        \n",
    "        for centroid in self.centroid_lst:\n",
    "            lst.append(self._centroid_cos_similar(img.reshape(-1, 3), centroid))\n",
    "\n",
    "        centroid_argmax = np.array(lst).argmax(axis=0)\n",
    "\n",
    "        _, counts = np.unique(centroid_argmax, return_counts=True)\n",
    "        return counts\n",
    "\n",
    "    \n",
    "    def get_hsv_palette(self):\n",
    "        palette_hsv = []\n",
    "        for color in self.rgb_palette:\n",
    "            c = Color(color)\n",
    "            palette_hsv.append(c.hsv)\n",
    "        return palette_hsv\n",
    "    \n",
    "    def zip_centroid_count(self):\n",
    "        \"\"\"\"\"\"\n",
    "        return [{'rgb': rgb, 'count':count} for rgb, count in zip(self.rgb_palette, self.counts)]\n",
    "    \n",
    "    \n",
    "    def display_palette(self):\n",
    "        \"\"\"\"\"\"\n",
    "        self.get_color_array()\n",
    "        return plt.imshow([(self.color_arr)])\n",
    "\n",
    "    \n",
    "    def display_img(self):\n",
    "        \"\"\"\"\"\"\n",
    "        colorthief = ColorThief(self.img_path)\n",
    "        img = colorthief.image\n",
    "        return img"
   ]
  },
  {
   "cell_type": "code",
   "execution_count": 21,
   "metadata": {},
   "outputs": [
    {
     "data": {
      "text/plain": [
       "['/Users/Rabbit/Downloads/china_test.jpg',\n",
       " '/Users/Rabbit/Downloads/vilnius_test.jpg',\n",
       " '/Users/Rabbit/Downloads/spices_test.jpg']"
      ]
     },
     "execution_count": 21,
     "metadata": {},
     "output_type": "execute_result"
    }
   ],
   "source": [
    "test_images"
   ]
  },
  {
   "cell_type": "code",
   "execution_count": 49,
   "metadata": {
    "collapsed": true
   },
   "outputs": [],
   "source": [
    "def run_palettization_to_rgb_list(images):\n",
    "    p_list = []\n",
    "    for link in images:\n",
    "        img = str(link)\n",
    "        p = Palettization(img)\n",
    "        p_list.append(p.get_rgb_palette())\n",
    "    return p_list"
   ]
  },
  {
   "cell_type": "code",
   "execution_count": 70,
   "metadata": {},
   "outputs": [],
   "source": [
    "decade_palettes = [ [(0.0, [(201, 195, 193), (31, 30, 29), (165, 151, 138), (148, 135, 126), (94, 89, 87), (119, 115, 112), (84, 84, 80), (101, 100, 92)])],\n",
    "                    [(3442.1891140569815, [(205, 202, 198), (33, 31, 28), (121, 119, 114), (157, 150, 139), (92, 92, 86), (100, 91, 86), (148, 139, 131), (102, 100, 91)])],\n",
    "                    [(3899.103815534721, [(214, 210, 207), (80, 66, 50), (153, 139, 121), (112, 96, 79), (126, 111, 89), (188, 174, 156), (148, 148, 148), (156, 148, 149)])],\n",
    "                    [(7872.9902950932819, [(66, 52, 45), (222, 222, 222), (110, 93, 82), (135, 128, 123), (122, 109, 97), (100, 100, 95), (165, 153, 147), (170, 164, 155)])],\n",
    "                    [(15468.418055458445, [(44, 44, 44), (205, 204, 201), (125, 125, 124), (99, 100, 94), (156, 156, 153), (164, 156, 152), (148, 148, 156), (92, 92, 100)])],\n",
    "                    [(11377.787368176734, [(192, 187, 186), (39, 45, 46), (135, 135, 134), (163, 164, 163), (106, 109, 109), (90, 92, 94), (157, 156, 164), (98, 100, 108)])],\n",
    "                    [(16861.608719121228, [(49, 46, 43), (195, 192, 189), (130, 128, 127), (155, 158, 161), (91, 86, 82), (148, 148, 156), (104, 99, 100), (107, 108, 106)])],\n",
    "                    [(38874.991751545182, [(206, 201, 199), (40, 38, 37), (94, 89, 86), (117, 114, 112), (151, 148, 139), (103, 100, 92), (148, 139, 138), (84, 92, 84)])],\n",
    "                    [(19747.072618635553, [(48, 49, 52), (210, 204, 202), (118, 120, 125), (166, 161, 160), (101, 90, 92), (105, 100, 91), (149, 138, 138), (154, 148, 139)])],\n",
    "                    [(17851.38526962269, [(181, 176, 172), (68, 65, 58), (116, 111, 103), (221, 220, 225), (131, 128, 125), (92, 84, 84), (84, 83, 84), (140, 124, 124)])],\n",
    "                    [(20429.461822270936, [(208, 201, 198), (27, 27, 29), (128, 124, 121), (92, 92, 89), (100, 92, 92), (156, 148, 140), (101, 100, 92), (156, 140, 140)])],\n",
    "                    [(24466.800045832199, [(196, 193, 186), (53, 46, 37), (131, 126, 118), (156, 156, 147), (106, 101, 92), (90, 83, 75), (155, 148, 148), (99, 92, 92)])],\n",
    "                    [(9728.2550088663593, [(213, 211, 209), (89, 88, 82), (133, 133, 127), (108, 109, 108), (173, 171, 165), (155, 157, 156), (116, 108, 108), (164, 156, 156)])] ]"
   ]
  },
  {
   "cell_type": "code",
   "execution_count": 97,
   "metadata": {},
   "outputs": [],
   "source": [
    "palette_1880 = pure_palette_list[0]"
   ]
  },
  {
   "cell_type": "code",
   "execution_count": 99,
   "metadata": {},
   "outputs": [
    {
     "data": {
      "text/plain": [
       "<matplotlib.image.AxesImage at 0x11ef0e0b8>"
      ]
     },
     "execution_count": 99,
     "metadata": {},
     "output_type": "execute_result"
    },
    {
     "ename": "ValueError",
     "evalue": "3-dimensional arrays must be of dtype unsigned byte, unsigned short, float32 or float64",
     "output_type": "error",
     "traceback": [
      "\u001b[0;31m---------------------------------------------------------------------------\u001b[0m",
      "\u001b[0;31mValueError\u001b[0m                                Traceback (most recent call last)",
      "\u001b[0;32m/anaconda/envs/py36/lib/python3.6/site-packages/IPython/core/formatters.py\u001b[0m in \u001b[0;36m__call__\u001b[0;34m(self, obj)\u001b[0m\n\u001b[1;32m    330\u001b[0m                 \u001b[0;32mpass\u001b[0m\u001b[0;34m\u001b[0m\u001b[0m\n\u001b[1;32m    331\u001b[0m             \u001b[0;32melse\u001b[0m\u001b[0;34m:\u001b[0m\u001b[0;34m\u001b[0m\u001b[0m\n\u001b[0;32m--> 332\u001b[0;31m                 \u001b[0;32mreturn\u001b[0m \u001b[0mprinter\u001b[0m\u001b[0;34m(\u001b[0m\u001b[0mobj\u001b[0m\u001b[0;34m)\u001b[0m\u001b[0;34m\u001b[0m\u001b[0m\n\u001b[0m\u001b[1;32m    333\u001b[0m             \u001b[0;31m# Finally look for special method names\u001b[0m\u001b[0;34m\u001b[0m\u001b[0;34m\u001b[0m\u001b[0m\n\u001b[1;32m    334\u001b[0m             \u001b[0mmethod\u001b[0m \u001b[0;34m=\u001b[0m \u001b[0mget_real_method\u001b[0m\u001b[0;34m(\u001b[0m\u001b[0mobj\u001b[0m\u001b[0;34m,\u001b[0m \u001b[0mself\u001b[0m\u001b[0;34m.\u001b[0m\u001b[0mprint_method\u001b[0m\u001b[0;34m)\u001b[0m\u001b[0;34m\u001b[0m\u001b[0m\n",
      "\u001b[0;32m/anaconda/envs/py36/lib/python3.6/site-packages/IPython/core/pylabtools.py\u001b[0m in \u001b[0;36m<lambda>\u001b[0;34m(fig)\u001b[0m\n\u001b[1;32m    235\u001b[0m \u001b[0;34m\u001b[0m\u001b[0m\n\u001b[1;32m    236\u001b[0m     \u001b[0;32mif\u001b[0m \u001b[0;34m'png'\u001b[0m \u001b[0;32min\u001b[0m \u001b[0mformats\u001b[0m\u001b[0;34m:\u001b[0m\u001b[0;34m\u001b[0m\u001b[0m\n\u001b[0;32m--> 237\u001b[0;31m         \u001b[0mpng_formatter\u001b[0m\u001b[0;34m.\u001b[0m\u001b[0mfor_type\u001b[0m\u001b[0;34m(\u001b[0m\u001b[0mFigure\u001b[0m\u001b[0;34m,\u001b[0m \u001b[0;32mlambda\u001b[0m \u001b[0mfig\u001b[0m\u001b[0;34m:\u001b[0m \u001b[0mprint_figure\u001b[0m\u001b[0;34m(\u001b[0m\u001b[0mfig\u001b[0m\u001b[0;34m,\u001b[0m \u001b[0;34m'png'\u001b[0m\u001b[0;34m,\u001b[0m \u001b[0;34m**\u001b[0m\u001b[0mkwargs\u001b[0m\u001b[0;34m)\u001b[0m\u001b[0;34m)\u001b[0m\u001b[0;34m\u001b[0m\u001b[0m\n\u001b[0m\u001b[1;32m    238\u001b[0m     \u001b[0;32mif\u001b[0m \u001b[0;34m'retina'\u001b[0m \u001b[0;32min\u001b[0m \u001b[0mformats\u001b[0m \u001b[0;32mor\u001b[0m \u001b[0;34m'png2x'\u001b[0m \u001b[0;32min\u001b[0m \u001b[0mformats\u001b[0m\u001b[0;34m:\u001b[0m\u001b[0;34m\u001b[0m\u001b[0m\n\u001b[1;32m    239\u001b[0m         \u001b[0mpng_formatter\u001b[0m\u001b[0;34m.\u001b[0m\u001b[0mfor_type\u001b[0m\u001b[0;34m(\u001b[0m\u001b[0mFigure\u001b[0m\u001b[0;34m,\u001b[0m \u001b[0;32mlambda\u001b[0m \u001b[0mfig\u001b[0m\u001b[0;34m:\u001b[0m \u001b[0mretina_figure\u001b[0m\u001b[0;34m(\u001b[0m\u001b[0mfig\u001b[0m\u001b[0;34m,\u001b[0m \u001b[0;34m**\u001b[0m\u001b[0mkwargs\u001b[0m\u001b[0;34m)\u001b[0m\u001b[0;34m)\u001b[0m\u001b[0;34m\u001b[0m\u001b[0m\n",
      "\u001b[0;32m/anaconda/envs/py36/lib/python3.6/site-packages/IPython/core/pylabtools.py\u001b[0m in \u001b[0;36mprint_figure\u001b[0;34m(fig, fmt, bbox_inches, **kwargs)\u001b[0m\n\u001b[1;32m    119\u001b[0m \u001b[0;34m\u001b[0m\u001b[0m\n\u001b[1;32m    120\u001b[0m     \u001b[0mbytes_io\u001b[0m \u001b[0;34m=\u001b[0m \u001b[0mBytesIO\u001b[0m\u001b[0;34m(\u001b[0m\u001b[0;34m)\u001b[0m\u001b[0;34m\u001b[0m\u001b[0m\n\u001b[0;32m--> 121\u001b[0;31m     \u001b[0mfig\u001b[0m\u001b[0;34m.\u001b[0m\u001b[0mcanvas\u001b[0m\u001b[0;34m.\u001b[0m\u001b[0mprint_figure\u001b[0m\u001b[0;34m(\u001b[0m\u001b[0mbytes_io\u001b[0m\u001b[0;34m,\u001b[0m \u001b[0;34m**\u001b[0m\u001b[0mkw\u001b[0m\u001b[0;34m)\u001b[0m\u001b[0;34m\u001b[0m\u001b[0m\n\u001b[0m\u001b[1;32m    122\u001b[0m     \u001b[0mdata\u001b[0m \u001b[0;34m=\u001b[0m \u001b[0mbytes_io\u001b[0m\u001b[0;34m.\u001b[0m\u001b[0mgetvalue\u001b[0m\u001b[0;34m(\u001b[0m\u001b[0;34m)\u001b[0m\u001b[0;34m\u001b[0m\u001b[0m\n\u001b[1;32m    123\u001b[0m     \u001b[0;32mif\u001b[0m \u001b[0mfmt\u001b[0m \u001b[0;34m==\u001b[0m \u001b[0;34m'svg'\u001b[0m\u001b[0;34m:\u001b[0m\u001b[0;34m\u001b[0m\u001b[0m\n",
      "\u001b[0;32m/anaconda/envs/py36/lib/python3.6/site-packages/matplotlib/backend_bases.py\u001b[0m in \u001b[0;36mprint_figure\u001b[0;34m(self, filename, dpi, facecolor, edgecolor, orientation, format, **kwargs)\u001b[0m\n\u001b[1;32m   2198\u001b[0m                     \u001b[0morientation\u001b[0m\u001b[0;34m=\u001b[0m\u001b[0morientation\u001b[0m\u001b[0;34m,\u001b[0m\u001b[0;34m\u001b[0m\u001b[0m\n\u001b[1;32m   2199\u001b[0m                     \u001b[0mdryrun\u001b[0m\u001b[0;34m=\u001b[0m\u001b[0;32mTrue\u001b[0m\u001b[0;34m,\u001b[0m\u001b[0;34m\u001b[0m\u001b[0m\n\u001b[0;32m-> 2200\u001b[0;31m                     **kwargs)\n\u001b[0m\u001b[1;32m   2201\u001b[0m                 \u001b[0mrenderer\u001b[0m \u001b[0;34m=\u001b[0m \u001b[0mself\u001b[0m\u001b[0;34m.\u001b[0m\u001b[0mfigure\u001b[0m\u001b[0;34m.\u001b[0m\u001b[0m_cachedRenderer\u001b[0m\u001b[0;34m\u001b[0m\u001b[0m\n\u001b[1;32m   2202\u001b[0m                 \u001b[0mbbox_inches\u001b[0m \u001b[0;34m=\u001b[0m \u001b[0mself\u001b[0m\u001b[0;34m.\u001b[0m\u001b[0mfigure\u001b[0m\u001b[0;34m.\u001b[0m\u001b[0mget_tightbbox\u001b[0m\u001b[0;34m(\u001b[0m\u001b[0mrenderer\u001b[0m\u001b[0;34m)\u001b[0m\u001b[0;34m\u001b[0m\u001b[0m\n",
      "\u001b[0;32m/anaconda/envs/py36/lib/python3.6/site-packages/matplotlib/backends/backend_agg.py\u001b[0m in \u001b[0;36mprint_png\u001b[0;34m(self, filename_or_obj, *args, **kwargs)\u001b[0m\n\u001b[1;32m    543\u001b[0m \u001b[0;34m\u001b[0m\u001b[0m\n\u001b[1;32m    544\u001b[0m     \u001b[0;32mdef\u001b[0m \u001b[0mprint_png\u001b[0m\u001b[0;34m(\u001b[0m\u001b[0mself\u001b[0m\u001b[0;34m,\u001b[0m \u001b[0mfilename_or_obj\u001b[0m\u001b[0;34m,\u001b[0m \u001b[0;34m*\u001b[0m\u001b[0margs\u001b[0m\u001b[0;34m,\u001b[0m \u001b[0;34m**\u001b[0m\u001b[0mkwargs\u001b[0m\u001b[0;34m)\u001b[0m\u001b[0;34m:\u001b[0m\u001b[0;34m\u001b[0m\u001b[0m\n\u001b[0;32m--> 545\u001b[0;31m         \u001b[0mFigureCanvasAgg\u001b[0m\u001b[0;34m.\u001b[0m\u001b[0mdraw\u001b[0m\u001b[0;34m(\u001b[0m\u001b[0mself\u001b[0m\u001b[0;34m)\u001b[0m\u001b[0;34m\u001b[0m\u001b[0m\n\u001b[0m\u001b[1;32m    546\u001b[0m         \u001b[0mrenderer\u001b[0m \u001b[0;34m=\u001b[0m \u001b[0mself\u001b[0m\u001b[0;34m.\u001b[0m\u001b[0mget_renderer\u001b[0m\u001b[0;34m(\u001b[0m\u001b[0;34m)\u001b[0m\u001b[0;34m\u001b[0m\u001b[0m\n\u001b[1;32m    547\u001b[0m         \u001b[0moriginal_dpi\u001b[0m \u001b[0;34m=\u001b[0m \u001b[0mrenderer\u001b[0m\u001b[0;34m.\u001b[0m\u001b[0mdpi\u001b[0m\u001b[0;34m\u001b[0m\u001b[0m\n",
      "\u001b[0;32m/anaconda/envs/py36/lib/python3.6/site-packages/matplotlib/backends/backend_agg.py\u001b[0m in \u001b[0;36mdraw\u001b[0;34m(self)\u001b[0m\n\u001b[1;32m    462\u001b[0m \u001b[0;34m\u001b[0m\u001b[0m\n\u001b[1;32m    463\u001b[0m         \u001b[0;32mtry\u001b[0m\u001b[0;34m:\u001b[0m\u001b[0;34m\u001b[0m\u001b[0m\n\u001b[0;32m--> 464\u001b[0;31m             \u001b[0mself\u001b[0m\u001b[0;34m.\u001b[0m\u001b[0mfigure\u001b[0m\u001b[0;34m.\u001b[0m\u001b[0mdraw\u001b[0m\u001b[0;34m(\u001b[0m\u001b[0mself\u001b[0m\u001b[0;34m.\u001b[0m\u001b[0mrenderer\u001b[0m\u001b[0;34m)\u001b[0m\u001b[0;34m\u001b[0m\u001b[0m\n\u001b[0m\u001b[1;32m    465\u001b[0m         \u001b[0;32mfinally\u001b[0m\u001b[0;34m:\u001b[0m\u001b[0;34m\u001b[0m\u001b[0m\n\u001b[1;32m    466\u001b[0m             \u001b[0mRendererAgg\u001b[0m\u001b[0;34m.\u001b[0m\u001b[0mlock\u001b[0m\u001b[0;34m.\u001b[0m\u001b[0mrelease\u001b[0m\u001b[0;34m(\u001b[0m\u001b[0;34m)\u001b[0m\u001b[0;34m\u001b[0m\u001b[0m\n",
      "\u001b[0;32m/anaconda/envs/py36/lib/python3.6/site-packages/matplotlib/artist.py\u001b[0m in \u001b[0;36mdraw_wrapper\u001b[0;34m(artist, renderer, *args, **kwargs)\u001b[0m\n\u001b[1;32m     61\u001b[0m     \u001b[0;32mdef\u001b[0m \u001b[0mdraw_wrapper\u001b[0m\u001b[0;34m(\u001b[0m\u001b[0martist\u001b[0m\u001b[0;34m,\u001b[0m \u001b[0mrenderer\u001b[0m\u001b[0;34m,\u001b[0m \u001b[0;34m*\u001b[0m\u001b[0margs\u001b[0m\u001b[0;34m,\u001b[0m \u001b[0;34m**\u001b[0m\u001b[0mkwargs\u001b[0m\u001b[0;34m)\u001b[0m\u001b[0;34m:\u001b[0m\u001b[0;34m\u001b[0m\u001b[0m\n\u001b[1;32m     62\u001b[0m         \u001b[0mbefore\u001b[0m\u001b[0;34m(\u001b[0m\u001b[0martist\u001b[0m\u001b[0;34m,\u001b[0m \u001b[0mrenderer\u001b[0m\u001b[0;34m)\u001b[0m\u001b[0;34m\u001b[0m\u001b[0m\n\u001b[0;32m---> 63\u001b[0;31m         \u001b[0mdraw\u001b[0m\u001b[0;34m(\u001b[0m\u001b[0martist\u001b[0m\u001b[0;34m,\u001b[0m \u001b[0mrenderer\u001b[0m\u001b[0;34m,\u001b[0m \u001b[0;34m*\u001b[0m\u001b[0margs\u001b[0m\u001b[0;34m,\u001b[0m \u001b[0;34m**\u001b[0m\u001b[0mkwargs\u001b[0m\u001b[0;34m)\u001b[0m\u001b[0;34m\u001b[0m\u001b[0m\n\u001b[0m\u001b[1;32m     64\u001b[0m         \u001b[0mafter\u001b[0m\u001b[0;34m(\u001b[0m\u001b[0martist\u001b[0m\u001b[0;34m,\u001b[0m \u001b[0mrenderer\u001b[0m\u001b[0;34m)\u001b[0m\u001b[0;34m\u001b[0m\u001b[0m\n\u001b[1;32m     65\u001b[0m \u001b[0;34m\u001b[0m\u001b[0m\n",
      "\u001b[0;32m/anaconda/envs/py36/lib/python3.6/site-packages/matplotlib/figure.py\u001b[0m in \u001b[0;36mdraw\u001b[0;34m(self, renderer)\u001b[0m\n\u001b[1;32m   1142\u001b[0m \u001b[0;34m\u001b[0m\u001b[0m\n\u001b[1;32m   1143\u001b[0m             mimage._draw_list_compositing_images(\n\u001b[0;32m-> 1144\u001b[0;31m                 renderer, self, dsu, self.suppressComposite)\n\u001b[0m\u001b[1;32m   1145\u001b[0m \u001b[0;34m\u001b[0m\u001b[0m\n\u001b[1;32m   1146\u001b[0m             \u001b[0mrenderer\u001b[0m\u001b[0;34m.\u001b[0m\u001b[0mclose_group\u001b[0m\u001b[0;34m(\u001b[0m\u001b[0;34m'figure'\u001b[0m\u001b[0;34m)\u001b[0m\u001b[0;34m\u001b[0m\u001b[0m\n",
      "\u001b[0;32m/anaconda/envs/py36/lib/python3.6/site-packages/matplotlib/image.py\u001b[0m in \u001b[0;36m_draw_list_compositing_images\u001b[0;34m(renderer, parent, dsu, suppress_composite)\u001b[0m\n\u001b[1;32m    137\u001b[0m     \u001b[0;32mif\u001b[0m \u001b[0mnot_composite\u001b[0m \u001b[0;32mor\u001b[0m \u001b[0;32mnot\u001b[0m \u001b[0mhas_images\u001b[0m\u001b[0;34m:\u001b[0m\u001b[0;34m\u001b[0m\u001b[0m\n\u001b[1;32m    138\u001b[0m         \u001b[0;32mfor\u001b[0m \u001b[0mzorder\u001b[0m\u001b[0;34m,\u001b[0m \u001b[0ma\u001b[0m \u001b[0;32min\u001b[0m \u001b[0mdsu\u001b[0m\u001b[0;34m:\u001b[0m\u001b[0;34m\u001b[0m\u001b[0m\n\u001b[0;32m--> 139\u001b[0;31m             \u001b[0ma\u001b[0m\u001b[0;34m.\u001b[0m\u001b[0mdraw\u001b[0m\u001b[0;34m(\u001b[0m\u001b[0mrenderer\u001b[0m\u001b[0;34m)\u001b[0m\u001b[0;34m\u001b[0m\u001b[0m\n\u001b[0m\u001b[1;32m    140\u001b[0m     \u001b[0;32melse\u001b[0m\u001b[0;34m:\u001b[0m\u001b[0;34m\u001b[0m\u001b[0m\n\u001b[1;32m    141\u001b[0m         \u001b[0;31m# Composite any adjacent images together\u001b[0m\u001b[0;34m\u001b[0m\u001b[0;34m\u001b[0m\u001b[0m\n",
      "\u001b[0;32m/anaconda/envs/py36/lib/python3.6/site-packages/matplotlib/artist.py\u001b[0m in \u001b[0;36mdraw_wrapper\u001b[0;34m(artist, renderer, *args, **kwargs)\u001b[0m\n\u001b[1;32m     61\u001b[0m     \u001b[0;32mdef\u001b[0m \u001b[0mdraw_wrapper\u001b[0m\u001b[0;34m(\u001b[0m\u001b[0martist\u001b[0m\u001b[0;34m,\u001b[0m \u001b[0mrenderer\u001b[0m\u001b[0;34m,\u001b[0m \u001b[0;34m*\u001b[0m\u001b[0margs\u001b[0m\u001b[0;34m,\u001b[0m \u001b[0;34m**\u001b[0m\u001b[0mkwargs\u001b[0m\u001b[0;34m)\u001b[0m\u001b[0;34m:\u001b[0m\u001b[0;34m\u001b[0m\u001b[0m\n\u001b[1;32m     62\u001b[0m         \u001b[0mbefore\u001b[0m\u001b[0;34m(\u001b[0m\u001b[0martist\u001b[0m\u001b[0;34m,\u001b[0m \u001b[0mrenderer\u001b[0m\u001b[0;34m)\u001b[0m\u001b[0;34m\u001b[0m\u001b[0m\n\u001b[0;32m---> 63\u001b[0;31m         \u001b[0mdraw\u001b[0m\u001b[0;34m(\u001b[0m\u001b[0martist\u001b[0m\u001b[0;34m,\u001b[0m \u001b[0mrenderer\u001b[0m\u001b[0;34m,\u001b[0m \u001b[0;34m*\u001b[0m\u001b[0margs\u001b[0m\u001b[0;34m,\u001b[0m \u001b[0;34m**\u001b[0m\u001b[0mkwargs\u001b[0m\u001b[0;34m)\u001b[0m\u001b[0;34m\u001b[0m\u001b[0m\n\u001b[0m\u001b[1;32m     64\u001b[0m         \u001b[0mafter\u001b[0m\u001b[0;34m(\u001b[0m\u001b[0martist\u001b[0m\u001b[0;34m,\u001b[0m \u001b[0mrenderer\u001b[0m\u001b[0;34m)\u001b[0m\u001b[0;34m\u001b[0m\u001b[0m\n\u001b[1;32m     65\u001b[0m \u001b[0;34m\u001b[0m\u001b[0m\n",
      "\u001b[0;32m/anaconda/envs/py36/lib/python3.6/site-packages/matplotlib/axes/_base.py\u001b[0m in \u001b[0;36mdraw\u001b[0;34m(self, renderer, inframe)\u001b[0m\n\u001b[1;32m   2424\u001b[0m             \u001b[0mrenderer\u001b[0m\u001b[0;34m.\u001b[0m\u001b[0mstop_rasterizing\u001b[0m\u001b[0;34m(\u001b[0m\u001b[0;34m)\u001b[0m\u001b[0;34m\u001b[0m\u001b[0m\n\u001b[1;32m   2425\u001b[0m \u001b[0;34m\u001b[0m\u001b[0m\n\u001b[0;32m-> 2426\u001b[0;31m         \u001b[0mmimage\u001b[0m\u001b[0;34m.\u001b[0m\u001b[0m_draw_list_compositing_images\u001b[0m\u001b[0;34m(\u001b[0m\u001b[0mrenderer\u001b[0m\u001b[0;34m,\u001b[0m \u001b[0mself\u001b[0m\u001b[0;34m,\u001b[0m \u001b[0mdsu\u001b[0m\u001b[0;34m)\u001b[0m\u001b[0;34m\u001b[0m\u001b[0m\n\u001b[0m\u001b[1;32m   2427\u001b[0m \u001b[0;34m\u001b[0m\u001b[0m\n\u001b[1;32m   2428\u001b[0m         \u001b[0mrenderer\u001b[0m\u001b[0;34m.\u001b[0m\u001b[0mclose_group\u001b[0m\u001b[0;34m(\u001b[0m\u001b[0;34m'axes'\u001b[0m\u001b[0;34m)\u001b[0m\u001b[0;34m\u001b[0m\u001b[0m\n",
      "\u001b[0;32m/anaconda/envs/py36/lib/python3.6/site-packages/matplotlib/image.py\u001b[0m in \u001b[0;36m_draw_list_compositing_images\u001b[0;34m(renderer, parent, dsu, suppress_composite)\u001b[0m\n\u001b[1;32m    137\u001b[0m     \u001b[0;32mif\u001b[0m \u001b[0mnot_composite\u001b[0m \u001b[0;32mor\u001b[0m \u001b[0;32mnot\u001b[0m \u001b[0mhas_images\u001b[0m\u001b[0;34m:\u001b[0m\u001b[0;34m\u001b[0m\u001b[0m\n\u001b[1;32m    138\u001b[0m         \u001b[0;32mfor\u001b[0m \u001b[0mzorder\u001b[0m\u001b[0;34m,\u001b[0m \u001b[0ma\u001b[0m \u001b[0;32min\u001b[0m \u001b[0mdsu\u001b[0m\u001b[0;34m:\u001b[0m\u001b[0;34m\u001b[0m\u001b[0m\n\u001b[0;32m--> 139\u001b[0;31m             \u001b[0ma\u001b[0m\u001b[0;34m.\u001b[0m\u001b[0mdraw\u001b[0m\u001b[0;34m(\u001b[0m\u001b[0mrenderer\u001b[0m\u001b[0;34m)\u001b[0m\u001b[0;34m\u001b[0m\u001b[0m\n\u001b[0m\u001b[1;32m    140\u001b[0m     \u001b[0;32melse\u001b[0m\u001b[0;34m:\u001b[0m\u001b[0;34m\u001b[0m\u001b[0m\n\u001b[1;32m    141\u001b[0m         \u001b[0;31m# Composite any adjacent images together\u001b[0m\u001b[0;34m\u001b[0m\u001b[0;34m\u001b[0m\u001b[0m\n",
      "\u001b[0;32m/anaconda/envs/py36/lib/python3.6/site-packages/matplotlib/artist.py\u001b[0m in \u001b[0;36mdraw_wrapper\u001b[0;34m(artist, renderer, *args, **kwargs)\u001b[0m\n\u001b[1;32m     61\u001b[0m     \u001b[0;32mdef\u001b[0m \u001b[0mdraw_wrapper\u001b[0m\u001b[0;34m(\u001b[0m\u001b[0martist\u001b[0m\u001b[0;34m,\u001b[0m \u001b[0mrenderer\u001b[0m\u001b[0;34m,\u001b[0m \u001b[0;34m*\u001b[0m\u001b[0margs\u001b[0m\u001b[0;34m,\u001b[0m \u001b[0;34m**\u001b[0m\u001b[0mkwargs\u001b[0m\u001b[0;34m)\u001b[0m\u001b[0;34m:\u001b[0m\u001b[0;34m\u001b[0m\u001b[0m\n\u001b[1;32m     62\u001b[0m         \u001b[0mbefore\u001b[0m\u001b[0;34m(\u001b[0m\u001b[0martist\u001b[0m\u001b[0;34m,\u001b[0m \u001b[0mrenderer\u001b[0m\u001b[0;34m)\u001b[0m\u001b[0;34m\u001b[0m\u001b[0m\n\u001b[0;32m---> 63\u001b[0;31m         \u001b[0mdraw\u001b[0m\u001b[0;34m(\u001b[0m\u001b[0martist\u001b[0m\u001b[0;34m,\u001b[0m \u001b[0mrenderer\u001b[0m\u001b[0;34m,\u001b[0m \u001b[0;34m*\u001b[0m\u001b[0margs\u001b[0m\u001b[0;34m,\u001b[0m \u001b[0;34m**\u001b[0m\u001b[0mkwargs\u001b[0m\u001b[0;34m)\u001b[0m\u001b[0;34m\u001b[0m\u001b[0m\n\u001b[0m\u001b[1;32m     64\u001b[0m         \u001b[0mafter\u001b[0m\u001b[0;34m(\u001b[0m\u001b[0martist\u001b[0m\u001b[0;34m,\u001b[0m \u001b[0mrenderer\u001b[0m\u001b[0;34m)\u001b[0m\u001b[0;34m\u001b[0m\u001b[0m\n\u001b[1;32m     65\u001b[0m \u001b[0;34m\u001b[0m\u001b[0m\n",
      "\u001b[0;32m/anaconda/envs/py36/lib/python3.6/site-packages/matplotlib/image.py\u001b[0m in \u001b[0;36mdraw\u001b[0;34m(self, renderer, *args, **kwargs)\u001b[0m\n\u001b[1;32m    541\u001b[0m         \u001b[0;32melse\u001b[0m\u001b[0;34m:\u001b[0m\u001b[0;34m\u001b[0m\u001b[0m\n\u001b[1;32m    542\u001b[0m             im, l, b, trans = self.make_image(\n\u001b[0;32m--> 543\u001b[0;31m                 renderer, renderer.get_image_magnification())\n\u001b[0m\u001b[1;32m    544\u001b[0m             \u001b[0;32mif\u001b[0m \u001b[0mim\u001b[0m \u001b[0;32mis\u001b[0m \u001b[0;32mnot\u001b[0m \u001b[0;32mNone\u001b[0m\u001b[0;34m:\u001b[0m\u001b[0;34m\u001b[0m\u001b[0m\n\u001b[1;32m    545\u001b[0m                 \u001b[0mrenderer\u001b[0m\u001b[0;34m.\u001b[0m\u001b[0mdraw_image\u001b[0m\u001b[0;34m(\u001b[0m\u001b[0mgc\u001b[0m\u001b[0;34m,\u001b[0m \u001b[0ml\u001b[0m\u001b[0;34m,\u001b[0m \u001b[0mb\u001b[0m\u001b[0;34m,\u001b[0m \u001b[0mim\u001b[0m\u001b[0;34m)\u001b[0m\u001b[0;34m\u001b[0m\u001b[0m\n",
      "\u001b[0;32m/anaconda/envs/py36/lib/python3.6/site-packages/matplotlib/image.py\u001b[0m in \u001b[0;36mmake_image\u001b[0;34m(self, renderer, magnification, unsampled)\u001b[0m\n\u001b[1;32m    768\u001b[0m         return self._make_image(\n\u001b[1;32m    769\u001b[0m             \u001b[0mself\u001b[0m\u001b[0;34m.\u001b[0m\u001b[0m_A\u001b[0m\u001b[0;34m,\u001b[0m \u001b[0mbbox\u001b[0m\u001b[0;34m,\u001b[0m \u001b[0mtransformed_bbox\u001b[0m\u001b[0;34m,\u001b[0m \u001b[0mself\u001b[0m\u001b[0;34m.\u001b[0m\u001b[0maxes\u001b[0m\u001b[0;34m.\u001b[0m\u001b[0mbbox\u001b[0m\u001b[0;34m,\u001b[0m \u001b[0mmagnification\u001b[0m\u001b[0;34m,\u001b[0m\u001b[0;34m\u001b[0m\u001b[0m\n\u001b[0;32m--> 770\u001b[0;31m             unsampled=unsampled)\n\u001b[0m\u001b[1;32m    771\u001b[0m \u001b[0;34m\u001b[0m\u001b[0m\n\u001b[1;32m    772\u001b[0m     \u001b[0;32mdef\u001b[0m \u001b[0m_check_unsampled_image\u001b[0m\u001b[0;34m(\u001b[0m\u001b[0mself\u001b[0m\u001b[0;34m,\u001b[0m \u001b[0mrenderer\u001b[0m\u001b[0;34m)\u001b[0m\u001b[0;34m:\u001b[0m\u001b[0;34m\u001b[0m\u001b[0m\n",
      "\u001b[0;32m/anaconda/envs/py36/lib/python3.6/site-packages/matplotlib/image.py\u001b[0m in \u001b[0;36m_make_image\u001b[0;34m(self, A, in_bbox, out_bbox, clip_bbox, magnification, unsampled, round_to_pixel_border)\u001b[0m\n\u001b[1;32m    424\u001b[0m                 \u001b[0mA\u001b[0m\u001b[0;34m,\u001b[0m \u001b[0moutput\u001b[0m\u001b[0;34m,\u001b[0m \u001b[0mt\u001b[0m\u001b[0;34m,\u001b[0m \u001b[0m_interpd_\u001b[0m\u001b[0;34m[\u001b[0m\u001b[0mself\u001b[0m\u001b[0;34m.\u001b[0m\u001b[0mget_interpolation\u001b[0m\u001b[0;34m(\u001b[0m\u001b[0;34m)\u001b[0m\u001b[0;34m]\u001b[0m\u001b[0;34m,\u001b[0m\u001b[0;34m\u001b[0m\u001b[0m\n\u001b[1;32m    425\u001b[0m                 \u001b[0mself\u001b[0m\u001b[0;34m.\u001b[0m\u001b[0mget_resample\u001b[0m\u001b[0;34m(\u001b[0m\u001b[0;34m)\u001b[0m\u001b[0;34m,\u001b[0m \u001b[0malpha\u001b[0m\u001b[0;34m,\u001b[0m\u001b[0;34m\u001b[0m\u001b[0m\n\u001b[0;32m--> 426\u001b[0;31m                 self.get_filternorm() or 0.0, self.get_filterrad() or 0.0)\n\u001b[0m\u001b[1;32m    427\u001b[0m \u001b[0;34m\u001b[0m\u001b[0m\n\u001b[1;32m    428\u001b[0m             \u001b[0;32mif\u001b[0m \u001b[0mcreated_rgba_mask\u001b[0m\u001b[0;34m:\u001b[0m\u001b[0;34m\u001b[0m\u001b[0m\n",
      "\u001b[0;31mValueError\u001b[0m: 3-dimensional arrays must be of dtype unsigned byte, unsigned short, float32 or float64"
     ]
    },
    {
     "data": {
      "text/plain": [
       "<matplotlib.figure.Figure at 0x1128378d0>"
      ]
     },
     "metadata": {},
     "output_type": "display_data"
    }
   ],
   "source": [
    "display_"
   ]
  },
  {
   "cell_type": "code",
   "execution_count": 93,
   "metadata": {},
   "outputs": [
    {
     "name": "stdout",
     "output_type": "stream",
     "text": [
      "[(201, 195, 193), (31, 30, 29), (165, 151, 138), (148, 135, 126), (94, 89, 87), (119, 115, 112), (84, 84, 80), (101, 100, 92)]\n",
      "[(205, 202, 198), (33, 31, 28), (121, 119, 114), (157, 150, 139), (92, 92, 86), (100, 91, 86), (148, 139, 131), (102, 100, 91)]\n",
      "[(214, 210, 207), (80, 66, 50), (153, 139, 121), (112, 96, 79), (126, 111, 89), (188, 174, 156), (148, 148, 148), (156, 148, 149)]\n",
      "[(66, 52, 45), (222, 222, 222), (110, 93, 82), (135, 128, 123), (122, 109, 97), (100, 100, 95), (165, 153, 147), (170, 164, 155)]\n",
      "[(44, 44, 44), (205, 204, 201), (125, 125, 124), (99, 100, 94), (156, 156, 153), (164, 156, 152), (148, 148, 156), (92, 92, 100)]\n",
      "[(192, 187, 186), (39, 45, 46), (135, 135, 134), (163, 164, 163), (106, 109, 109), (90, 92, 94), (157, 156, 164), (98, 100, 108)]\n",
      "[(49, 46, 43), (195, 192, 189), (130, 128, 127), (155, 158, 161), (91, 86, 82), (148, 148, 156), (104, 99, 100), (107, 108, 106)]\n",
      "[(206, 201, 199), (40, 38, 37), (94, 89, 86), (117, 114, 112), (151, 148, 139), (103, 100, 92), (148, 139, 138), (84, 92, 84)]\n",
      "[(48, 49, 52), (210, 204, 202), (118, 120, 125), (166, 161, 160), (101, 90, 92), (105, 100, 91), (149, 138, 138), (154, 148, 139)]\n",
      "[(181, 176, 172), (68, 65, 58), (116, 111, 103), (221, 220, 225), (131, 128, 125), (92, 84, 84), (84, 83, 84), (140, 124, 124)]\n",
      "[(208, 201, 198), (27, 27, 29), (128, 124, 121), (92, 92, 89), (100, 92, 92), (156, 148, 140), (101, 100, 92), (156, 140, 140)]\n",
      "[(196, 193, 186), (53, 46, 37), (131, 126, 118), (156, 156, 147), (106, 101, 92), (90, 83, 75), (155, 148, 148), (99, 92, 92)]\n",
      "[(213, 211, 209), (89, 88, 82), (133, 133, 127), (108, 109, 108), (173, 171, 165), (155, 157, 156), (116, 108, 108), (164, 156, 156)]\n"
     ]
    }
   ],
   "source": [
    "pure_palette_list = []\n",
    "for palette in decade_palettes:\n",
    "    print(palette[0][1])\n",
    "    pure_palette_list.append(palette[0][1])"
   ]
  },
  {
   "cell_type": "code",
   "execution_count": 110,
   "metadata": {
    "collapsed": true
   },
   "outputs": [],
   "source": [
    "def get_color_array(palette):\n",
    "    \"\"\"return array of palette colors\"\"\"\n",
    "    color_arr = []\n",
    "    for color in palette:\n",
    "        color_val = []\n",
    "        for rgb_val in color:\n",
    "            color_val.append(rgb_val / 255)\n",
    "        color_arr.append(tuple(color_val))\n",
    "    return color_arr\n",
    "\n",
    "\n",
    "def display_palette(palette):\n",
    "    \"\"\"\"\"\"\n",
    "    color_arr = get_color_array(palette)\n",
    "    return plt.imshow([(color_arr)])"
   ]
  },
  {
   "cell_type": "code",
   "execution_count": 198,
   "metadata": {},
   "outputs": [
    {
     "data": {
      "text/plain": [
       "<matplotlib.image.AxesImage at 0x1124b3e10>"
      ]
     },
     "execution_count": 198,
     "metadata": {},
     "output_type": "execute_result"
    },
    {
     "data": {
      "image/png": "[encoded data removed]",
      "text/plain": [
       "<matplotlib.figure.Figure at 0x1123fa358>"
      ]
     },
     "metadata": {},
     "output_type": "display_data"
    }
   ],
   "source": [
    "idx = 1\n",
    "display_palette(pure_palette_list[idx])"
   ]
  },
  {
   "cell_type": "code",
   "execution_count": 199,
   "metadata": {},
   "outputs": [
    {
     "data": {
      "text/plain": [
       "('1900',\n",
       " [(205, 202, 198),\n",
       "  (33, 31, 28),\n",
       "  (121, 119, 114),\n",
       "  (157, 150, 139),\n",
       "  (92, 92, 86),\n",
       "  (100, 91, 86),\n",
       "  (148, 139, 131),\n",
       "  (102, 100, 91)])"
      ]
     },
     "execution_count": 199,
     "metadata": {},
     "output_type": "execute_result"
    }
   ],
   "source": [
    "labeled_palettes[idx]"
   ]
  },
  {
   "cell_type": "code",
   "execution_count": null,
   "metadata": {
    "collapsed": true
   },
   "outputs": [],
   "source": []
  },
  {
   "cell_type": "code",
   "execution_count": 94,
   "metadata": {},
   "outputs": [
    {
     "data": {
      "text/plain": [
       "[[(201, 195, 193),\n",
       "  (31, 30, 29),\n",
       "  (165, 151, 138),\n",
       "  (148, 135, 126),\n",
       "  (94, 89, 87),\n",
       "  (119, 115, 112),\n",
       "  (84, 84, 80),\n",
       "  (101, 100, 92)],\n",
       " [(205, 202, 198),\n",
       "  (33, 31, 28),\n",
       "  (121, 119, 114),\n",
       "  (157, 150, 139),\n",
       "  (92, 92, 86),\n",
       "  (100, 91, 86),\n",
       "  (148, 139, 131),\n",
       "  (102, 100, 91)],\n",
       " [(214, 210, 207),\n",
       "  (80, 66, 50),\n",
       "  (153, 139, 121),\n",
       "  (112, 96, 79),\n",
       "  (126, 111, 89),\n",
       "  (188, 174, 156),\n",
       "  (148, 148, 148),\n",
       "  (156, 148, 149)],\n",
       " [(66, 52, 45),\n",
       "  (222, 222, 222),\n",
       "  (110, 93, 82),\n",
       "  (135, 128, 123),\n",
       "  (122, 109, 97),\n",
       "  (100, 100, 95),\n",
       "  (165, 153, 147),\n",
       "  (170, 164, 155)],\n",
       " [(44, 44, 44),\n",
       "  (205, 204, 201),\n",
       "  (125, 125, 124),\n",
       "  (99, 100, 94),\n",
       "  (156, 156, 153),\n",
       "  (164, 156, 152),\n",
       "  (148, 148, 156),\n",
       "  (92, 92, 100)],\n",
       " [(192, 187, 186),\n",
       "  (39, 45, 46),\n",
       "  (135, 135, 134),\n",
       "  (163, 164, 163),\n",
       "  (106, 109, 109),\n",
       "  (90, 92, 94),\n",
       "  (157, 156, 164),\n",
       "  (98, 100, 108)],\n",
       " [(49, 46, 43),\n",
       "  (195, 192, 189),\n",
       "  (130, 128, 127),\n",
       "  (155, 158, 161),\n",
       "  (91, 86, 82),\n",
       "  (148, 148, 156),\n",
       "  (104, 99, 100),\n",
       "  (107, 108, 106)],\n",
       " [(206, 201, 199),\n",
       "  (40, 38, 37),\n",
       "  (94, 89, 86),\n",
       "  (117, 114, 112),\n",
       "  (151, 148, 139),\n",
       "  (103, 100, 92),\n",
       "  (148, 139, 138),\n",
       "  (84, 92, 84)],\n",
       " [(48, 49, 52),\n",
       "  (210, 204, 202),\n",
       "  (118, 120, 125),\n",
       "  (166, 161, 160),\n",
       "  (101, 90, 92),\n",
       "  (105, 100, 91),\n",
       "  (149, 138, 138),\n",
       "  (154, 148, 139)],\n",
       " [(181, 176, 172),\n",
       "  (68, 65, 58),\n",
       "  (116, 111, 103),\n",
       "  (221, 220, 225),\n",
       "  (131, 128, 125),\n",
       "  (92, 84, 84),\n",
       "  (84, 83, 84),\n",
       "  (140, 124, 124)],\n",
       " [(208, 201, 198),\n",
       "  (27, 27, 29),\n",
       "  (128, 124, 121),\n",
       "  (92, 92, 89),\n",
       "  (100, 92, 92),\n",
       "  (156, 148, 140),\n",
       "  (101, 100, 92),\n",
       "  (156, 140, 140)],\n",
       " [(196, 193, 186),\n",
       "  (53, 46, 37),\n",
       "  (131, 126, 118),\n",
       "  (156, 156, 147),\n",
       "  (106, 101, 92),\n",
       "  (90, 83, 75),\n",
       "  (155, 148, 148),\n",
       "  (99, 92, 92)],\n",
       " [(213, 211, 209),\n",
       "  (89, 88, 82),\n",
       "  (133, 133, 127),\n",
       "  (108, 109, 108),\n",
       "  (173, 171, 165),\n",
       "  (155, 157, 156),\n",
       "  (116, 108, 108),\n",
       "  (164, 156, 156)]]"
      ]
     },
     "execution_count": 94,
     "metadata": {},
     "output_type": "execute_result"
    }
   ],
   "source": [
    "pure_palette_list"
   ]
  },
  {
   "cell_type": "code",
   "execution_count": null,
   "metadata": {
    "collapsed": true
   },
   "outputs": [],
   "source": [
    "plt.imshow()"
   ]
  },
  {
   "cell_type": "code",
   "execution_count": null,
   "metadata": {
    "collapsed": true
   },
   "outputs": [],
   "source": []
  },
  {
   "cell_type": "code",
   "execution_count": null,
   "metadata": {
    "collapsed": true
   },
   "outputs": [],
   "source": []
  },
  {
   "cell_type": "code",
   "execution_count": null,
   "metadata": {
    "collapsed": true
   },
   "outputs": [],
   "source": []
  },
  {
   "cell_type": "code",
   "execution_count": 50,
   "metadata": {},
   "outputs": [
    {
     "name": "stderr",
     "output_type": "stream",
     "text": [
      "/anaconda/envs/py36/lib/python3.6/site-packages/ipykernel_launcher.py:38: RuntimeWarning: invalid value encountered in true_divide\n"
     ]
    },
    {
     "data": {
      "text/plain": [
       "[[(152, 173, 201),\n",
       "  (33, 13, 12),\n",
       "  (156, 14, 12),\n",
       "  (170, 83, 69),\n",
       "  (228, 228, 236),\n",
       "  (145, 130, 127),\n",
       "  (148, 98, 110),\n",
       "  (124, 60, 132)],\n",
       " [(200, 161, 70),\n",
       "  (36, 46, 40),\n",
       "  (130, 146, 146),\n",
       "  (171, 176, 172),\n",
       "  (123, 145, 125),\n",
       "  (109, 112, 101),\n",
       "  (62, 85, 101),\n",
       "  (73, 97, 67)],\n",
       " [(42, 28, 29),\n",
       "  (228, 223, 204),\n",
       "  (122, 56, 37),\n",
       "  (172, 171, 171),\n",
       "  (210, 165, 89),\n",
       "  (210, 113, 29),\n",
       "  (132, 122, 120),\n",
       "  (157, 119, 81)]]"
      ]
     },
     "execution_count": 50,
     "metadata": {},
     "output_type": "execute_result"
    }
   ],
   "source": [
    "run_palettization_to_rgb_list(test_images)"
   ]
  },
  {
   "cell_type": "code",
   "execution_count": 163,
   "metadata": {
    "collapsed": true
   },
   "outputs": [],
   "source": [
    "decades = ['1880', '1900', '1910', '1920', '1930', '1940', '1950', '1960', '1970', '1980', '1990', '2000', '2010']"
   ]
  },
  {
   "cell_type": "code",
   "execution_count": 164,
   "metadata": {},
   "outputs": [
    {
     "data": {
      "text/plain": [
       "13"
      ]
     },
     "execution_count": 164,
     "metadata": {},
     "output_type": "execute_result"
    }
   ],
   "source": [
    "len(decades)"
   ]
  },
  {
   "cell_type": "code",
   "execution_count": 170,
   "metadata": {},
   "outputs": [],
   "source": [
    "labeled_palettes = list(zip(decades, pure_palette_list))"
   ]
  },
  {
   "cell_type": "code",
   "execution_count": 172,
   "metadata": {},
   "outputs": [
    {
     "data": {
      "text/plain": [
       "[('1880',\n",
       "  [(201, 195, 193),\n",
       "   (31, 30, 29),\n",
       "   (165, 151, 138),\n",
       "   (148, 135, 126),\n",
       "   (94, 89, 87),\n",
       "   (119, 115, 112),\n",
       "   (84, 84, 80),\n",
       "   (101, 100, 92)]),\n",
       " ('1900',\n",
       "  [(205, 202, 198),\n",
       "   (33, 31, 28),\n",
       "   (121, 119, 114),\n",
       "   (157, 150, 139),\n",
       "   (92, 92, 86),\n",
       "   (100, 91, 86),\n",
       "   (148, 139, 131),\n",
       "   (102, 100, 91)]),\n",
       " ('1910',\n",
       "  [(214, 210, 207),\n",
       "   (80, 66, 50),\n",
       "   (153, 139, 121),\n",
       "   (112, 96, 79),\n",
       "   (126, 111, 89),\n",
       "   (188, 174, 156),\n",
       "   (148, 148, 148),\n",
       "   (156, 148, 149)]),\n",
       " ('1920',\n",
       "  [(66, 52, 45),\n",
       "   (222, 222, 222),\n",
       "   (110, 93, 82),\n",
       "   (135, 128, 123),\n",
       "   (122, 109, 97),\n",
       "   (100, 100, 95),\n",
       "   (165, 153, 147),\n",
       "   (170, 164, 155)]),\n",
       " ('1930',\n",
       "  [(44, 44, 44),\n",
       "   (205, 204, 201),\n",
       "   (125, 125, 124),\n",
       "   (99, 100, 94),\n",
       "   (156, 156, 153),\n",
       "   (164, 156, 152),\n",
       "   (148, 148, 156),\n",
       "   (92, 92, 100)]),\n",
       " ('1940',\n",
       "  [(192, 187, 186),\n",
       "   (39, 45, 46),\n",
       "   (135, 135, 134),\n",
       "   (163, 164, 163),\n",
       "   (106, 109, 109),\n",
       "   (90, 92, 94),\n",
       "   (157, 156, 164),\n",
       "   (98, 100, 108)]),\n",
       " ('1950',\n",
       "  [(49, 46, 43),\n",
       "   (195, 192, 189),\n",
       "   (130, 128, 127),\n",
       "   (155, 158, 161),\n",
       "   (91, 86, 82),\n",
       "   (148, 148, 156),\n",
       "   (104, 99, 100),\n",
       "   (107, 108, 106)]),\n",
       " ('1960',\n",
       "  [(206, 201, 199),\n",
       "   (40, 38, 37),\n",
       "   (94, 89, 86),\n",
       "   (117, 114, 112),\n",
       "   (151, 148, 139),\n",
       "   (103, 100, 92),\n",
       "   (148, 139, 138),\n",
       "   (84, 92, 84)]),\n",
       " ('1970',\n",
       "  [(48, 49, 52),\n",
       "   (210, 204, 202),\n",
       "   (118, 120, 125),\n",
       "   (166, 161, 160),\n",
       "   (101, 90, 92),\n",
       "   (105, 100, 91),\n",
       "   (149, 138, 138),\n",
       "   (154, 148, 139)]),\n",
       " ('1980',\n",
       "  [(181, 176, 172),\n",
       "   (68, 65, 58),\n",
       "   (116, 111, 103),\n",
       "   (221, 220, 225),\n",
       "   (131, 128, 125),\n",
       "   (92, 84, 84),\n",
       "   (84, 83, 84),\n",
       "   (140, 124, 124)]),\n",
       " ('1990',\n",
       "  [(208, 201, 198),\n",
       "   (27, 27, 29),\n",
       "   (128, 124, 121),\n",
       "   (92, 92, 89),\n",
       "   (100, 92, 92),\n",
       "   (156, 148, 140),\n",
       "   (101, 100, 92),\n",
       "   (156, 140, 140)]),\n",
       " ('2000',\n",
       "  [(196, 193, 186),\n",
       "   (53, 46, 37),\n",
       "   (131, 126, 118),\n",
       "   (156, 156, 147),\n",
       "   (106, 101, 92),\n",
       "   (90, 83, 75),\n",
       "   (155, 148, 148),\n",
       "   (99, 92, 92)]),\n",
       " ('2010',\n",
       "  [(213, 211, 209),\n",
       "   (89, 88, 82),\n",
       "   (133, 133, 127),\n",
       "   (108, 109, 108),\n",
       "   (173, 171, 165),\n",
       "   (155, 157, 156),\n",
       "   (116, 108, 108),\n",
       "   (164, 156, 156)])]"
      ]
     },
     "execution_count": 172,
     "metadata": {},
     "output_type": "execute_result"
    }
   ],
   "source": [
    "labeled_palettes"
   ]
  },
  {
   "cell_type": "code",
   "execution_count": null,
   "metadata": {
    "collapsed": true
   },
   "outputs": [],
   "source": []
  },
  {
   "cell_type": "code",
   "execution_count": 51,
   "metadata": {},
   "outputs": [
    {
     "name": "stderr",
     "output_type": "stream",
     "text": [
      "/anaconda/envs/py36/lib/python3.6/site-packages/ipykernel_launcher.py:38: RuntimeWarning: invalid value encountered in true_divide\n"
     ]
    },
    {
     "data": {
      "text/plain": [
       "[[(234, 232, 230),\n",
       "  (68, 60, 54),\n",
       "  (149, 129, 98),\n",
       "  (131, 98, 76),\n",
       "  (150, 145, 132),\n",
       "  (181, 157, 130),\n",
       "  (198, 181, 152),\n",
       "  (108, 132, 93)],\n",
       " [(208, 205, 207),\n",
       "  (175, 136, 71),\n",
       "  (67, 51, 44),\n",
       "  (114, 81, 50),\n",
       "  (168, 168, 171),\n",
       "  (199, 168, 120),\n",
       "  (122, 118, 117),\n",
       "  (162, 136, 109)],\n",
       " [(121, 139, 157),\n",
       "  (76, 36, 23),\n",
       "  (133, 79, 57),\n",
       "  (227, 220, 214),\n",
       "  (174, 131, 113),\n",
       "  (51, 68, 81),\n",
       "  (185, 196, 212),\n",
       "  (188, 204, 210)],\n",
       " [(143, 166, 184),\n",
       "  (122, 102, 70),\n",
       "  (88, 64, 41),\n",
       "  (227, 219, 204),\n",
       "  (152, 135, 108),\n",
       "  (47, 35, 22),\n",
       "  (188, 212, 231),\n",
       "  (91, 119, 139)],\n",
       " [(106, 106, 105),\n",
       "  (160, 123, 116),\n",
       "  (100, 32, 34),\n",
       "  (218, 220, 220),\n",
       "  (192, 113, 111),\n",
       "  (95, 63, 38),\n",
       "  (41, 38, 35),\n",
       "  (161, 172, 180)],\n",
       " [(118, 109, 110),\n",
       "  (212, 155, 158),\n",
       "  (119, 33, 41),\n",
       "  (27, 8, 8),\n",
       "  (173, 94, 100),\n",
       "  (186, 189, 189),\n",
       "  (181, 179, 188),\n",
       "  (118, 52, 43)],\n",
       " [(177, 171, 172),\n",
       "  (47, 51, 34),\n",
       "  (88, 94, 70),\n",
       "  (111, 111, 98),\n",
       "  (226, 225, 226),\n",
       "  (87, 72, 59),\n",
       "  (133, 126, 115),\n",
       "  (132, 115, 113)],\n",
       " [(65, 64, 59),\n",
       "  (226, 217, 215),\n",
       "  (133, 92, 76),\n",
       "  (130, 129, 123),\n",
       "  (169, 142, 129),\n",
       "  (176, 159, 144),\n",
       "  (109, 100, 108),\n",
       "  (100, 164, 140)],\n",
       " [(191, 16, 20),\n",
       "  (30, 28, 28),\n",
       "  (196, 149, 138),\n",
       "  (123, 38, 38),\n",
       "  (83, 84, 83),\n",
       "  (141, 137, 134),\n",
       "  (137, 123, 132),\n",
       "  (82, 75, 90)],\n",
       " [(132, 122, 114),\n",
       "  (214, 173, 156),\n",
       "  (93, 42, 25),\n",
       "  (112, 62, 39),\n",
       "  (41, 26, 15),\n",
       "  (185, 188, 181),\n",
       "  (81, 80, 72),\n",
       "  (178, 179, 188)]]"
      ]
     },
     "execution_count": 51,
     "metadata": {},
     "output_type": "execute_result"
    }
   ],
   "source": [
    "run_palettization_to_rgb_list(loc_fashion_images)"
   ]
  },
  {
   "cell_type": "code",
   "execution_count": null,
   "metadata": {
    "collapsed": true
   },
   "outputs": [],
   "source": []
  },
  {
   "cell_type": "code",
   "execution_count": null,
   "metadata": {
    "collapsed": true
   },
   "outputs": [],
   "source": []
  },
  {
   "cell_type": "code",
   "execution_count": null,
   "metadata": {
    "collapsed": true
   },
   "outputs": [],
   "source": [
    "# %pdb"
   ]
  },
  {
   "cell_type": "code",
   "execution_count": 13,
   "metadata": {
    "collapsed": true
   },
   "outputs": [],
   "source": [
    "c = Color((0,0,0))"
   ]
  },
  {
   "cell_type": "code",
   "execution_count": 17,
   "metadata": {},
   "outputs": [
    {
     "data": {
      "text/plain": [
       "(0, 0, 0.0)"
      ]
     },
     "execution_count": 17,
     "metadata": {},
     "output_type": "execute_result"
    }
   ],
   "source": [
    "c.hsv"
   ]
  },
  {
   "cell_type": "code",
   "execution_count": null,
   "metadata": {
    "collapsed": true
   },
   "outputs": [],
   "source": []
  },
  {
   "cell_type": "code",
   "execution_count": null,
   "metadata": {
    "collapsed": true
   },
   "outputs": [],
   "source": [
    "palette_me_now = Palettization(img_path)"
   ]
  },
  {
   "cell_type": "code",
   "execution_count": null,
   "metadata": {
    "collapsed": true
   },
   "outputs": [],
   "source": [
    "# %pdb"
   ]
  },
  {
   "cell_type": "code",
   "execution_count": null,
   "metadata": {
    "collapsed": true
   },
   "outputs": [],
   "source": [
    "palette_me_now.zip_centroid_count()"
   ]
  },
  {
   "cell_type": "code",
   "execution_count": null,
   "metadata": {
    "collapsed": true
   },
   "outputs": [],
   "source": [
    "# img_palette"
   ]
  },
  {
   "cell_type": "code",
   "execution_count": null,
   "metadata": {
    "collapsed": true
   },
   "outputs": [],
   "source": [
    "palette_me_now.get_hsv_palette()"
   ]
  },
  {
   "cell_type": "code",
   "execution_count": 64,
   "metadata": {
    "collapsed": true
   },
   "outputs": [],
   "source": [
    "from colorthief import ColorThief"
   ]
  },
  {
   "cell_type": "code",
   "execution_count": 65,
   "metadata": {
    "collapsed": true
   },
   "outputs": [],
   "source": [
    "era = decade_palettes[0]"
   ]
  },
  {
   "cell_type": "code",
   "execution_count": 66,
   "metadata": {},
   "outputs": [
    {
     "ename": "AttributeError",
     "evalue": "'list' object has no attribute 'read'",
     "output_type": "error",
     "traceback": [
      "\u001b[0;31m---------------------------------------------------------------------------\u001b[0m",
      "\u001b[0;31mAttributeError\u001b[0m                            Traceback (most recent call last)",
      "\u001b[0;32m/anaconda/envs/py36/lib/python3.6/site-packages/PIL/Image.py\u001b[0m in \u001b[0;36mopen\u001b[0;34m(fp, mode)\u001b[0m\n\u001b[1;32m   2480\u001b[0m     \u001b[0;32mtry\u001b[0m\u001b[0;34m:\u001b[0m\u001b[0;34m\u001b[0m\u001b[0m\n\u001b[0;32m-> 2481\u001b[0;31m         \u001b[0mfp\u001b[0m\u001b[0;34m.\u001b[0m\u001b[0mseek\u001b[0m\u001b[0;34m(\u001b[0m\u001b[0;36m0\u001b[0m\u001b[0;34m)\u001b[0m\u001b[0;34m\u001b[0m\u001b[0m\n\u001b[0m\u001b[1;32m   2482\u001b[0m     \u001b[0;32mexcept\u001b[0m \u001b[0;34m(\u001b[0m\u001b[0mAttributeError\u001b[0m\u001b[0;34m,\u001b[0m \u001b[0mio\u001b[0m\u001b[0;34m.\u001b[0m\u001b[0mUnsupportedOperation\u001b[0m\u001b[0;34m)\u001b[0m\u001b[0;34m:\u001b[0m\u001b[0;34m\u001b[0m\u001b[0m\n",
      "\u001b[0;31mAttributeError\u001b[0m: 'list' object has no attribute 'seek'",
      "\nDuring handling of the above exception, another exception occurred:\n",
      "\u001b[0;31mAttributeError\u001b[0m                            Traceback (most recent call last)",
      "\u001b[0;32m<ipython-input-66-01d6cc48284a>\u001b[0m in \u001b[0;36m<module>\u001b[0;34m()\u001b[0m\n\u001b[0;32m----> 1\u001b[0;31m \u001b[0mera_palette\u001b[0m \u001b[0;34m=\u001b[0m \u001b[0mColorThief\u001b[0m\u001b[0;34m(\u001b[0m\u001b[0mera\u001b[0m\u001b[0;34m)\u001b[0m\u001b[0;34m\u001b[0m\u001b[0m\n\u001b[0m",
      "\u001b[0;32m/anaconda/envs/py36/lib/python3.6/site-packages/colorthief.py\u001b[0m in \u001b[0;36m__init__\u001b[0;34m(self, file)\u001b[0m\n\u001b[1;32m     37\u001b[0m                      \u001b[0;32mand\u001b[0m \u001b[0mbe\u001b[0m \u001b[0mopened\u001b[0m \u001b[0;32min\u001b[0m \u001b[0mbinary\u001b[0m \u001b[0mmode\u001b[0m\u001b[0;34m.\u001b[0m\u001b[0;34m\u001b[0m\u001b[0m\n\u001b[1;32m     38\u001b[0m         \"\"\"\n\u001b[0;32m---> 39\u001b[0;31m         \u001b[0mself\u001b[0m\u001b[0;34m.\u001b[0m\u001b[0mimage\u001b[0m \u001b[0;34m=\u001b[0m \u001b[0mImage\u001b[0m\u001b[0;34m.\u001b[0m\u001b[0mopen\u001b[0m\u001b[0;34m(\u001b[0m\u001b[0mfile\u001b[0m\u001b[0;34m)\u001b[0m\u001b[0;34m\u001b[0m\u001b[0m\n\u001b[0m\u001b[1;32m     40\u001b[0m \u001b[0;34m\u001b[0m\u001b[0m\n\u001b[1;32m     41\u001b[0m     \u001b[0;32mdef\u001b[0m \u001b[0mget_color\u001b[0m\u001b[0;34m(\u001b[0m\u001b[0mself\u001b[0m\u001b[0;34m,\u001b[0m \u001b[0mquality\u001b[0m\u001b[0;34m=\u001b[0m\u001b[0;36m10\u001b[0m\u001b[0;34m)\u001b[0m\u001b[0;34m:\u001b[0m\u001b[0;34m\u001b[0m\u001b[0m\n",
      "\u001b[0;32m/anaconda/envs/py36/lib/python3.6/site-packages/PIL/Image.py\u001b[0m in \u001b[0;36mopen\u001b[0;34m(fp, mode)\u001b[0m\n\u001b[1;32m   2481\u001b[0m         \u001b[0mfp\u001b[0m\u001b[0;34m.\u001b[0m\u001b[0mseek\u001b[0m\u001b[0;34m(\u001b[0m\u001b[0;36m0\u001b[0m\u001b[0;34m)\u001b[0m\u001b[0;34m\u001b[0m\u001b[0m\n\u001b[1;32m   2482\u001b[0m     \u001b[0;32mexcept\u001b[0m \u001b[0;34m(\u001b[0m\u001b[0mAttributeError\u001b[0m\u001b[0;34m,\u001b[0m \u001b[0mio\u001b[0m\u001b[0;34m.\u001b[0m\u001b[0mUnsupportedOperation\u001b[0m\u001b[0;34m)\u001b[0m\u001b[0;34m:\u001b[0m\u001b[0;34m\u001b[0m\u001b[0m\n\u001b[0;32m-> 2483\u001b[0;31m         \u001b[0mfp\u001b[0m \u001b[0;34m=\u001b[0m \u001b[0mio\u001b[0m\u001b[0;34m.\u001b[0m\u001b[0mBytesIO\u001b[0m\u001b[0;34m(\u001b[0m\u001b[0mfp\u001b[0m\u001b[0;34m.\u001b[0m\u001b[0mread\u001b[0m\u001b[0;34m(\u001b[0m\u001b[0;34m)\u001b[0m\u001b[0;34m)\u001b[0m\u001b[0;34m\u001b[0m\u001b[0m\n\u001b[0m\u001b[1;32m   2484\u001b[0m         \u001b[0mexclusive_fp\u001b[0m \u001b[0;34m=\u001b[0m \u001b[0;32mTrue\u001b[0m\u001b[0;34m\u001b[0m\u001b[0m\n\u001b[1;32m   2485\u001b[0m \u001b[0;34m\u001b[0m\u001b[0m\n",
      "\u001b[0;31mAttributeError\u001b[0m: 'list' object has no attribute 'read'"
     ]
    }
   ],
   "source": [
    "era_palette = ColorThief(era)"
   ]
  },
  {
   "cell_type": "code",
   "execution_count": null,
   "metadata": {
    "collapsed": true
   },
   "outputs": [],
   "source": []
  },
  {
   "cell_type": "code",
   "execution_count": null,
   "metadata": {
    "collapsed": true
   },
   "outputs": [],
   "source": []
  },
  {
   "cell_type": "code",
   "execution_count": null,
   "metadata": {
    "collapsed": true
   },
   "outputs": [],
   "source": []
  },
  {
   "cell_type": "code",
   "execution_count": null,
   "metadata": {
    "collapsed": true
   },
   "outputs": [],
   "source": []
  },
  {
   "cell_type": "code",
   "execution_count": null,
   "metadata": {
    "collapsed": true
   },
   "outputs": [],
   "source": [
    "try_me = [Palettization(link) for link in test_images]"
   ]
  },
  {
   "cell_type": "code",
   "execution_count": null,
   "metadata": {
    "collapsed": true
   },
   "outputs": [],
   "source": [
    "i = 2\n",
    "try_me[i].display_palette()\n",
    "\n",
    "try_me[i].zip_centroid_count()"
   ]
  },
  {
   "cell_type": "code",
   "execution_count": null,
   "metadata": {
    "collapsed": true
   },
   "outputs": [],
   "source": [
    "try_me[i].display_img()"
   ]
  },
  {
   "cell_type": "code",
   "execution_count": null,
   "metadata": {
    "collapsed": true
   },
   "outputs": [],
   "source": [
    "for item in try_me:\n",
    "    item.display_palette()"
   ]
  },
  {
   "cell_type": "code",
   "execution_count": null,
   "metadata": {
    "collapsed": true
   },
   "outputs": [],
   "source": [
    "palette_color_percent"
   ]
  },
  {
   "cell_type": "code",
   "execution_count": null,
   "metadata": {
    "collapsed": true
   },
   "outputs": [],
   "source": [
    "palette_color_percent = {}\n",
    "# label_\n",
    "img_pixel_sum = 0\n",
    "\n",
    "for image in try_me:\n",
    "    for i in image.zip_centroid_count():\n",
    "        img_pixel_sum += i['count']\n",
    "#     print(img_pixel_sum)\n",
    "        palette_color_percent[i['rgb']] = i['count'] / 540000\n",
    "\n",
    "sorted(palette_color_percent, key=lambda x: palette_color_percent[x], reverse=True)"
   ]
  },
  {
   "cell_type": "code",
   "execution_count": null,
   "metadata": {
    "collapsed": true
   },
   "outputs": [],
   "source": []
  },
  {
   "cell_type": "code",
   "execution_count": null,
   "metadata": {
    "collapsed": true
   },
   "outputs": [],
   "source": [
    "type(var)"
   ]
  },
  {
   "cell_type": "code",
   "execution_count": null,
   "metadata": {
    "collapsed": true
   },
   "outputs": [],
   "source": []
  },
  {
   "cell_type": "code",
   "execution_count": null,
   "metadata": {
    "collapsed": true
   },
   "outputs": [],
   "source": [
    "class SetSimilarity():\n",
    "    \"\"\"find set(palette) most 'central' of sets, consisting of items(rgb vector) \"\"\"\n",
    "    \n",
    "    #def __init__(self, set_of_palettes):\n",
    "    #    self.p_list= list_of_palettes\n",
    "        \n",
    "    def c2c_dist(self, color_a, color_b):\n",
    "        \"\"\"return the distance(float) between two items(rgb vectors)\"\"\"\n",
    "        dist_c2c = np.linalg.norm(np.array(color_a) - np.array(color_b))\n",
    "        return(dist_c2c)\n",
    "                \n",
    "    def c2p_dist(self, color_a, palette_b):\n",
    "        \"\"\"return minimum distance(float) between an item(rgb vector) and a set(palette)\"\"\"\n",
    "        \"\"\"find min dist between color_a and all colors in palet_b\n",
    "        use c2c_dist\"\"\"\n",
    "        dist_c2p_list = []\n",
    "        for color in palette_b:\n",
    "            dist = self.c2c_dist(color, color_a)\n",
    "            dist_c2p_list.append(dist)\n",
    "        dist_c2p = np.amin(dist_c2p_list)\n",
    "        return(dist_c2p)\n",
    "    \n",
    "    def p2p_dist(self, palette_a, palette_b):\n",
    "        \"\"\"return sum(float) of c2p_dist between two sets(palette)\"\"\"\n",
    "        # sum of c2p-dists\n",
    "        dist_p2p_list = []\n",
    "        for color in palette_a:\n",
    "            dist_p2p_list.append(self.c2p_dist(color, palette_b))\n",
    "            dist_p2p = np.sum(dist_p2p_list)\n",
    "        return(dist_p2p)\n",
    "    \n",
    "    def set_central_list(self, list_of_palettes):\n",
    "        \"\"\"return most 'central' set(palette(s), if there are multiples)\"\"\"\n",
    "        p_cent_list = []\n",
    "\n",
    "        for palette_a in list_of_palettes:\n",
    "            palette_a_centrality_list = []\n",
    "\n",
    "            for palette in list_of_palettes:\n",
    "                palette_a_centrality_list.append(self.p2p_dist(palette_a, palette))\n",
    "                \n",
    "            sum_temp = np.sum(palette_a_centrality_list)\n",
    "            p_cent_list.append((sum_temp, palette_a))\n",
    "\n",
    "        p_min = min(p_cent_list, key=itemgetter(0))[0]\n",
    "        p_cent_list_srtd = sorted(p_cent_list, key=lambda x: x[0])\n",
    "        \n",
    "        p_central = [ x for x in p_cent_list_srtd if x[0]==p_min ]\n",
    "        return(p_central)"
   ]
  },
  {
   "cell_type": "code",
   "execution_count": null,
   "metadata": {
    "collapsed": true
   },
   "outputs": [],
   "source": []
  },
  {
   "cell_type": "code",
   "execution_count": null,
   "metadata": {
    "collapsed": true
   },
   "outputs": [],
   "source": [
    "# p_1 = [ (200, 161, 70),\n",
    "#         (36, 46, 40),\n",
    "#         (156, 14, 12) ]\n",
    "\n",
    "# p_2 = [ (152, 173, 201),\n",
    "#         (172, 171, 171),\n",
    "#         (122, 56, 37) ]\n",
    "\n",
    "# p_3 = [ (123, 145, 125),\n",
    "#         (228, 228, 236),\n",
    "#         (210, 113, 29) ]\n",
    "\n",
    "# p_3_a = [ (228, 228, 236),\n",
    "#           (123, 145, 125),\n",
    "#           (210, 113, 29) ]\n",
    "\n",
    "# p_4 = [ (228, 223, 204),\n",
    "#         (157, 119, 81),\n",
    "#         (130, 146, 146),\n",
    "#         (210, 165, 89) ]\n",
    "\n",
    "# p_5 = [ (33, 13, 12),\n",
    "#         (42, 28, 29),\n",
    "#         (132, 122, 120),\n",
    "#         (170, 83, 69),\n",
    "#         (145, 130, 127),\n",
    "#         (109, 112, 101) ]\n",
    "\n",
    "# p_6 = [ (62, 85, 101),\n",
    "#         (148, 98, 110),\n",
    "#         (171, 176, 172),\n",
    "#         (124, 60, 132),\n",
    "#         (73, 97, 67) ]\n",
    "\n",
    "# p_test_lst = [ p_1, p_2, p_3, p_3_a, p_4, p_5, p_6 ]"
   ]
  },
  {
   "cell_type": "code",
   "execution_count": null,
   "metadata": {
    "collapsed": true
   },
   "outputs": [],
   "source": [
    "# p_test = SetSimilarity()"
   ]
  },
  {
   "cell_type": "code",
   "execution_count": null,
   "metadata": {
    "collapsed": true
   },
   "outputs": [],
   "source": [
    "print(p_test.c2c_dist(p_1[0], p_1[2]))\n",
    "\n",
    "print(p_test.c2p_dist(p_1[0], p_2))\n",
    "\n",
    "print(p_test.p2p_dist(p_1, p_6))\n",
    "\n",
    "print(p_test.set_central_list(p_test_lst))"
   ]
  },
  {
   "cell_type": "code",
   "execution_count": null,
   "metadata": {
    "collapsed": true
   },
   "outputs": [],
   "source": []
  },
  {
   "cell_type": "code",
   "execution_count": null,
   "metadata": {
    "collapsed": true
   },
   "outputs": [],
   "source": []
  },
  {
   "cell_type": "code",
   "execution_count": null,
   "metadata": {
    "collapsed": true,
    "scrolled": false
   },
   "outputs": [],
   "source": []
  },
  {
   "cell_type": "code",
   "execution_count": null,
   "metadata": {
    "collapsed": true
   },
   "outputs": [],
   "source": []
  },
  {
   "cell_type": "code",
   "execution_count": null,
   "metadata": {
    "collapsed": true
   },
   "outputs": [],
   "source": []
  },
  {
   "cell_type": "code",
   "execution_count": null,
   "metadata": {
    "collapsed": true
   },
   "outputs": [],
   "source": []
  },
  {
   "cell_type": "code",
   "execution_count": null,
   "metadata": {
    "collapsed": true
   },
   "outputs": [],
   "source": [
    "palette_1 = [ ( 255, 0, 0), (0, 255, 0) ]\n",
    "palette_2 = [ (0, 255, 0), (0, 0, 255), (42, 142, 242), (108, 212, 228) ]\n",
    "palette_3 = [ (255, 0, 0), (0, 0, 255) ]\n",
    "palette_4 = [ (127,127,127), (0, 0, 255) ]\n",
    "palette_5 = [ ( 255, 0, 0), (0, 255, 0) ]\n",
    "palette_list_ex = [palette_1, palette_2, palette_3, palette_4, palette_5]\n",
    "color_a = palette_1[0]\n",
    "color_b = palette_1[1]"
   ]
  },
  {
   "cell_type": "code",
   "execution_count": null,
   "metadata": {
    "collapsed": true
   },
   "outputs": [],
   "source": [
    "test_other = SetSimilarity()"
   ]
  },
  {
   "cell_type": "code",
   "execution_count": null,
   "metadata": {
    "collapsed": true
   },
   "outputs": [],
   "source": [
    "print(test_other.c2c_dist(palette_2[0], palette_1[1]))\n",
    "\n",
    "print(test_other.c2p_dist(color_a, palette_2))\n",
    "\n",
    "print(test_other.p2p_dist(palette_2, palette_4))\n",
    "\n",
    "print(test_other.set_central_list(palette_list_ex))"
   ]
  },
  {
   "cell_type": "code",
   "execution_count": null,
   "metadata": {
    "collapsed": true
   },
   "outputs": [],
   "source": []
  },
  {
   "cell_type": "code",
   "execution_count": null,
   "metadata": {
    "collapsed": true
   },
   "outputs": [],
   "source": [
    "from colour import Color"
   ]
  },
  {
   "cell_type": "code",
   "execution_count": null,
   "metadata": {
    "collapsed": true
   },
   "outputs": [],
   "source": [
    "c = Color()"
   ]
  },
  {
   "cell_type": "code",
   "execution_count": null,
   "metadata": {
    "collapsed": true
   },
   "outputs": [],
   "source": [
    "morning_pic = ['/Users/Rabbit/Desktop/Screen Shot 2017-10-25 at 07.56.08.png',\n",
    "              '/Users/Rabbit/Desktop/Screen Shot 2017-10-25 at 08.08.44.png', \n",
    "              '/Users/Rabbit/Desktop/Screen Shot 2017-10-25 at 08.17.04.png',\n",
    "              '/Users/Rabbit/Desktop/Screen Shot 2017-10-25 at 08.33.38.png']"
   ]
  },
  {
   "cell_type": "code",
   "execution_count": null,
   "metadata": {
    "collapsed": true
   },
   "outputs": [],
   "source": [
    "c_harmony = Palettization(morning_pic[0])"
   ]
  },
  {
   "cell_type": "code",
   "execution_count": null,
   "metadata": {
    "collapsed": true
   },
   "outputs": [],
   "source": [
    "c_harmony.display_palette()"
   ]
  },
  {
   "cell_type": "code",
   "execution_count": null,
   "metadata": {
    "collapsed": true
   },
   "outputs": [],
   "source": [
    "c_harmony.zip_centroid_count()"
   ]
  },
  {
   "cell_type": "code",
   "execution_count": null,
   "metadata": {
    "collapsed": true
   },
   "outputs": [],
   "source": [
    "c_harmony.display_img()"
   ]
  },
  {
   "cell_type": "code",
   "execution_count": null,
   "metadata": {
    "collapsed": true
   },
   "outputs": [],
   "source": []
  },
  {
   "cell_type": "code",
   "execution_count": null,
   "metadata": {
    "collapsed": true
   },
   "outputs": [],
   "source": [
    "import colorsys"
   ]
  },
  {
   "cell_type": "code",
   "execution_count": null,
   "metadata": {
    "collapsed": true
   },
   "outputs": [],
   "source": []
  },
  {
   "cell_type": "code",
   "execution_count": null,
   "metadata": {
    "collapsed": true
   },
   "outputs": [],
   "source": [
    "try_me[1].arrayify_centroids()"
   ]
  },
  {
   "cell_type": "code",
   "execution_count": null,
   "metadata": {
    "collapsed": true
   },
   "outputs": [],
   "source": [
    "get_palette(img_path)"
   ]
  },
  {
   "cell_type": "code",
   "execution_count": null,
   "metadata": {
    "collapsed": true
   },
   "outputs": [],
   "source": [
    "plt.imshow([(centroid_lst).astype('uint8')])"
   ]
  },
  {
   "cell_type": "code",
   "execution_count": null,
   "metadata": {
    "collapsed": true
   },
   "outputs": [],
   "source": []
  },
  {
   "cell_type": "code",
   "execution_count": null,
   "metadata": {
    "collapsed": true
   },
   "outputs": [],
   "source": [
    "import colorgram\n",
    "\n",
    "img = (morning_pic[0])"
   ]
  },
  {
   "cell_type": "code",
   "execution_count": null,
   "metadata": {
    "collapsed": true
   },
   "outputs": [],
   "source": [
    "colors = colorgram.extract(img, 6)"
   ]
  },
  {
   "cell_type": "code",
   "execution_count": null,
   "metadata": {
    "collapsed": true
   },
   "outputs": [],
   "source": [
    "colors[0]"
   ]
  },
  {
   "cell_type": "code",
   "execution_count": null,
   "metadata": {
    "collapsed": true
   },
   "outputs": [],
   "source": [
    "# for color in palette_color_percent:\n",
    "#     r_chan = color[0]\n",
    "#     b_chan = color[1]\n",
    "#     g_chan = color[2]\n",
    "#     r_vals.append(r_chan)\n",
    "#     b_vals.append(b_chan)\n",
    "#     g_vals.append(g_chan)\n",
    "\n",
    "def colorT_rgb2hsv(rgb_vector):\n",
    "    \"\"\"returns an hsv vector from rgb\"\"\"\n",
    "    hsv_vector = []\n",
    "    for color in rgb_vector:\n",
    "        r_prime = color[0]/255\n",
    "        b_prime = color[1]/255\n",
    "        g_prime = color[2]/255\n",
    "        \n",
    "        "
   ]
  },
  {
   "cell_type": "code",
   "execution_count": null,
   "metadata": {
    "collapsed": true
   },
   "outputs": [],
   "source": [
    "import colorsys\n",
    "\n",
    "def rgb_hsv(rgb_tup):\n",
    "    \"\"\"returns hsv tuple from rgb\"\"\"\n",
    "    \"\"\"thanks for your help Zach E.!\"\"\"\n",
    "    \n",
    "\n",
    "    r = rgb_tup[0]\n",
    "    b = rgb_tup[1]\n",
    "    g = rgb_tup[2]\n",
    "#         print(r, g, b)\n",
    "    h, s, v = colorsys.rgb_to_hsv(r / 255., g / 255., b / 255.)\n",
    "    h = h * 360\n",
    "    hsv = [h, s, v]\n",
    "    return tuple(hsv)"
   ]
  },
  {
   "cell_type": "code",
   "execution_count": null,
   "metadata": {
    "collapsed": true
   },
   "outputs": [],
   "source": [
    "var"
   ]
  },
  {
   "cell_type": "code",
   "execution_count": null,
   "metadata": {
    "collapsed": true
   },
   "outputs": [],
   "source": [
    "rgb_hsv(var)"
   ]
  },
  {
   "cell_type": "code",
   "execution_count": null,
   "metadata": {
    "collapsed": true
   },
   "outputs": [],
   "source": []
  },
  {
   "cell_type": "code",
   "execution_count": null,
   "metadata": {
    "collapsed": true
   },
   "outputs": [],
   "source": [
    "_1 = np.uint8([[_var]])\n",
    "hsv_1 = cv2.cvtColor(_1, cv2.COLOR_RGB2HSV)"
   ]
  },
  {
   "cell_type": "code",
   "execution_count": null,
   "metadata": {
    "collapsed": true
   },
   "outputs": [],
   "source": [
    "hsv_1"
   ]
  },
  {
   "cell_type": "code",
   "execution_count": null,
   "metadata": {
    "collapsed": true
   },
   "outputs": [],
   "source": [
    "green = np.uint8([[[0,255,0 ]]])\n",
    "hsv_green = cv2.cvtColor(green,cv2.COLOR_RGB2HSV)\n",
    "print(hsv_green)"
   ]
  },
  {
   "cell_type": "code",
   "execution_count": null,
   "metadata": {
    "collapsed": true
   },
   "outputs": [],
   "source": [
    "var = (108, 212, 228)"
   ]
  },
  {
   "cell_type": "code",
   "execution_count": null,
   "metadata": {
    "collapsed": true
   },
   "outputs": [],
   "source": [
    "from colorutils import Color\n",
    "\n",
    "def get_hsv(rgb):\n",
    "    c = Color(rgb)\n",
    "    return c.hsv"
   ]
  },
  {
   "cell_type": "code",
   "execution_count": null,
   "metadata": {
    "collapsed": true
   },
   "outputs": [],
   "source": [
    "get_hsv(var)\n",
    "    \n",
    "    \n",
    "    "
   ]
  },
  {
   "cell_type": "code",
   "execution_count": null,
   "metadata": {
    "collapsed": true
   },
   "outputs": [],
   "source": [
    "rgb2hsv(var)"
   ]
  },
  {
   "cell_type": "code",
   "execution_count": null,
   "metadata": {
    "collapsed": true
   },
   "outputs": [],
   "source": []
  }
 ],
 "metadata": {
  "kernelspec": {
   "display_name": "Python 3",
   "language": "python",
   "name": "python3"
  },
  "language_info": {
   "codemirror_mode": {
    "name": "ipython",
    "version": 3
   },
   "file_extension": ".py",
   "mimetype": "text/x-python",
   "name": "python",
   "nbconvert_exporter": "python",
   "pygments_lexer": "ipython3",
   "version": "3.6.2"
  }
 },
 "nbformat": 4,
 "nbformat_minor": 2
}
