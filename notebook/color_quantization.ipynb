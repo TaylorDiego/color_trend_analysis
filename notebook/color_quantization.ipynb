{
 "cells": [
  {
   "cell_type": "code",
   "execution_count": 1,
   "metadata": {
    "collapsed": true
   },
   "outputs": [],
   "source": [
    "from collections import defaultdict, OrderedDict\n",
    "from operator import itemgetter\n",
    "import numpy as np\n",
    "import cv2\n",
    "from colorthief import ColorThief\n",
    "import io\n",
    "import os\n",
    "import glob\n",
    "from colorutils import Color\n",
    "import matplotlib.pyplot as plt\n",
    "%matplotlib inline"
   ]
  },
  {
   "cell_type": "code",
   "execution_count": 2,
   "metadata": {
    "collapsed": true
   },
   "outputs": [],
   "source": [
    "class Palettization():\n",
    "    \"\"\"processes a single image path and returns image, centroids(dominant colors), palette\"\"\"\n",
    "    \n",
    "    def __init__(self, img_path):\n",
    "        self.img_path = img_path\n",
    "        self.rgb_palette = self.get_rgb_palette()\n",
    "        self.hsv_palette = self.get_hsv_palette()\n",
    "        self.color_arr = self.get_color_array()\n",
    "        self.centroid_lst = self.arrayify_centroids()\n",
    "        self.counts = self.centroid_cos_similar()\n",
    "\n",
    "    def get_rgb_palette(self):\n",
    "        \"\"\"return image color palette\"\"\"\n",
    "        colorthief = ColorThief(self.img_path)\n",
    "        rgb_palette = colorthief.get_palette(color_count=5, quality=1)\n",
    "        return rgb_palette\n",
    "\n",
    "\n",
    "    def get_color_array(self):\n",
    "        \"\"\"return array of palette colors\"\"\"\n",
    "        color_arr = []\n",
    "        for color in self.rgb_palette:\n",
    "            color_val = []\n",
    "            for rgb_val in color:\n",
    "                color_val.append(rgb_val / 255)\n",
    "            color_arr.append(tuple(color_val))\n",
    "        return color_arr\n",
    "\n",
    "\n",
    "    def arrayify_centroids(self):\n",
    "        \"\"\"return array of image palette (centroids)\"\"\"\n",
    "        self.centroid_lst = np.array(self.rgb_palette)\n",
    "        return self.centroid_lst\n",
    "    \n",
    "    def _centroid_cos_similar(self, pixels, centroid):\n",
    "        numerator = (pixels * centroid).sum(axis=1)\n",
    "        denominator = (np.linalg.norm(pixels, axis=1) * np.linalg.norm(centroid))\n",
    "        return (numerator / denominator)  \n",
    "\n",
    "\n",
    "    def centroid_cos_similar(self):\n",
    "        \"\"\"\"\"\"\n",
    "        lst = []\n",
    "        self.centroid_lst = self.rgb_palette\n",
    "        img = cv2.imread(self.img_path)\n",
    "        img = cv2.cvtColor(img, cv2.COLOR_BGR2RGB)\n",
    "        \n",
    "        for centroid in self.centroid_lst:\n",
    "            lst.append(self._centroid_cos_similar(img.reshape(-1, 3), centroid))\n",
    "\n",
    "        centroid_argmax = np.array(lst).argmax(axis=0)\n",
    "\n",
    "        _, counts = np.unique(centroid_argmax, return_counts=True)\n",
    "        return counts\n",
    "\n",
    "    \n",
    "    def get_hsv_palette(self):\n",
    "        palette_hsv = []\n",
    "        for color in self.rgb_palette:\n",
    "            c = Color(color)\n",
    "            palette_hsv.append(c.hsv)\n",
    "        return palette_hsv\n",
    "    \n",
    "    def zip_centroid_count(self):\n",
    "        \"\"\"\"\"\"\n",
    "        return [{'rgb': rgb, 'count':count} for rgb, count in zip(self.rgb_palette, self.counts)]\n",
    "    \n",
    "    \n",
    "    def display_palette(self):\n",
    "        \"\"\"\"\"\"\n",
    "        self.get_color_array()\n",
    "        return plt.imshow([(self.color_arr)])\n",
    "\n",
    "    \n",
    "    def display_img(self):\n",
    "        \"\"\"\"\"\"\n",
    "        colorthief = ColorThief(self.img_path)\n",
    "        img = colorthief.image\n",
    "        return img"
   ]
  },
  {
   "cell_type": "code",
   "execution_count": 3,
   "metadata": {
    "collapsed": true
   },
   "outputs": [],
   "source": [
    "class SetSimilarity():\n",
    "    \"\"\"find set(palette) most 'central' of sets, consisting of items(rgb vector) \"\"\"\n",
    "    \n",
    "    #def __init__(self, set_of_palettes):\n",
    "    #    self.p_list= list_of_palettes\n",
    "        \n",
    "    def c2c_dist(self, color_a, color_b):\n",
    "        \"\"\"return the distance(float) between two items(rgb vectors)\"\"\"\n",
    "        a = Color(color_a)\n",
    "        hsv_a = (a.hsv[0]/360, a.hsv[1], a.hsv[2])\n",
    "        b = Color(color_b)\n",
    "        hsv_b = (b.hsv[0]/360, b.hsv[1], b.hsv[2])\n",
    "        dist_c2c = np.linalg.norm(np.array(hsv_a) - np.array(hsv_b))\n",
    "        return(dist_c2c)\n",
    "                \n",
    "    def c2p_dist(self, color_a, palette_b):\n",
    "        \"\"\"return minimum distance(float) between an item(rgb vector) and a set(palette)\"\"\"\n",
    "        \"\"\"find min dist between color_a and all colors in palet_b\n",
    "        use c2c_dist\"\"\"\n",
    "        dist_c2p_list = []\n",
    "        for color in palette_b:\n",
    "            dist = self.c2c_dist(color, color_a)\n",
    "            dist_c2p_list.append(dist)\n",
    "        dist_c2p = np.amin(dist_c2p_list)\n",
    "        return(dist_c2p)\n",
    "    \n",
    "    def p2p_dist(self, palette_a, palette_b):\n",
    "        \"\"\"return sum(float) of c2p_dist between two sets(palette)\"\"\"\n",
    "        # sum of c2p-dists\n",
    "        dist_p2p_list = []\n",
    "        for color in palette_a:\n",
    "            dist_p2p_list.append(self.c2p_dist(color, palette_b))\n",
    "            dist_p2p = np.sum(dist_p2p_list)\n",
    "        return(dist_p2p)\n",
    "    \n",
    "    def set_central_list(self, list_of_palettes):\n",
    "        \"\"\"return most 'central' set(palette(s), if there are multiples)\"\"\"\n",
    "        p_cent_list = []\n",
    "\n",
    "        for palette_a in list_of_palettes:\n",
    "            palette_a_centrality_list = []\n",
    "\n",
    "            for palette in list_of_palettes:\n",
    "                palette_a_centrality_list.append(self.p2p_dist(palette_a, palette))\n",
    "                \n",
    "            sum_temp = np.sum(palette_a_centrality_list)\n",
    "            p_cent_list.append((sum_temp, palette_a))\n",
    "\n",
    "        p_min = min(p_cent_list, key=itemgetter(0))[0]\n",
    "        p_max = max(p_cent_list, key=itemgetter(0))[0]\n",
    "        p_cent_list_srtd = sorted(p_cent_list, key=lambda x: x[0])\n",
    "        \n",
    "#         p_cent_top = [ x for x in p_cent_list_srtd if x[0]==p_min ]\n",
    "#         p_cent_top_5 = p_cent_list_srtd[0:5]\n",
    "#         p_cent_bottom = [ x for x in p_cent_list_srtd if x[0]==p_max ]\n",
    "#         p_cent_bottom_5 = p_cent_list_srtd[-5:]\n",
    "        return(p_cent_list_srtd)"
   ]
  },
  {
   "cell_type": "code",
   "execution_count": 17,
   "metadata": {
    "collapsed": true
   },
   "outputs": [],
   "source": [
    "def run_palettization_to_rgb_list(images):\n",
    "    p_list = []\n",
    "    for link in images:\n",
    "        img = str(link)\n",
    "        print(img)\n",
    "        p = Palettization(img)\n",
    "        add_pal = get_rgb_palette(img)\n",
    "        print(add_pal)\n",
    "        p_list.append(add_pal)\n",
    "    return p_list"
   ]
  },
  {
   "cell_type": "code",
   "execution_count": 15,
   "metadata": {
    "collapsed": true
   },
   "outputs": [],
   "source": [
    "def get_rgb_palette(img_path):\n",
    "    \"\"\"return image color palette\"\"\"\n",
    "    colorthief = ColorThief(img_path)\n",
    "    rgb_palette = colorthief.get_palette(color_count=5, quality=1)\n",
    "    return rgb_palette\n",
    "\n",
    "def get_color_array(palette):\n",
    "    \"\"\"return array of palette colors\"\"\"\n",
    "    color_arr = []\n",
    "    for color in palette:\n",
    "        color_val = []\n",
    "        for rgb_val in color:\n",
    "            color_val.append(rgb_val / 255)\n",
    "        color_arr.append(tuple(color_val))\n",
    "    return color_arr\n",
    "\n",
    "\n",
    "def display_palette(palette):\n",
    "    \"\"\"\"\"\"\n",
    "    color_arr = get_color_array(palette)\n",
    "    return plt.imshow([(color_arr)])\n",
    "\n",
    "\n",
    "def display_img(img_path):\n",
    "    \"\"\"\"\"\"\n",
    "    colorthief = ColorThief(img_path)\n",
    "    img = colorthief.image\n",
    "    return img"
   ]
  },
  {
   "cell_type": "code",
   "execution_count": 6,
   "metadata": {},
   "outputs": [
    {
     "name": "stdout",
     "output_type": "stream",
     "text": [
      "bee_friendly_flowers  dali\t    dress_shirts_no_quarter  seventies\r\n",
      "coral\t\t      dress_shirts  jungle\t\t     van_gogh\r\n"
     ]
    }
   ],
   "source": [
    "!ls ../../photo_sets/"
   ]
  },
  {
   "cell_type": "code",
   "execution_count": 7,
   "metadata": {
    "collapsed": true
   },
   "outputs": [],
   "source": [
    "def make_file_list(root_path, sets_list, set_sel, file_type):\n",
    "    set_path = sets_list[set_sel]\n",
    "    path_string = str(root_path + set_path + file_type)\n",
    "    return glob.glob(path_string)\n"
   ]
  },
  {
   "cell_type": "code",
   "execution_count": 8,
   "metadata": {
    "collapsed": true
   },
   "outputs": [],
   "source": [
    "aws_root_path = '/home/ubuntu/photo_sets/'\n",
    "\n",
    "aws_sets_list = ['bee_friendly_flowers', \n",
    "                 'seventies', \n",
    "                 'dress_shirts' , \n",
    "                 'dress_shirts_no_quarter', \n",
    "                 'dali', \n",
    "                 'coral', \n",
    "                 'jungle', \n",
    "                 'van_gogh', ]\n",
    "\n",
    "aws_type = '/*.*'"
   ]
  },
  {
   "cell_type": "code",
   "execution_count": null,
   "metadata": {
    "collapsed": true
   },
   "outputs": [],
   "source": [
    "# photo_root_path = '/Users/Rabbit/capstone/photo_sets/'\n",
    "\n",
    "# photo_sets_list = ['bee_friendly_flowers', '1970s_google_imgs', 'dress_shirts']\n",
    "\n",
    "# photo_type = '/*.png'"
   ]
  },
  {
   "cell_type": "code",
   "execution_count": 18,
   "metadata": {},
   "outputs": [],
   "source": [
    "dress_shirts_nq_lst = make_file_list(aws_root_path, \n",
    "                                    aws_sets_list, \n",
    "                                    3, \n",
    "                                    aws_type)"
   ]
  },
  {
   "cell_type": "code",
   "execution_count": 19,
   "metadata": {},
   "outputs": [
    {
     "data": {
      "text/plain": [
       "['/home/ubuntu/photo_sets/dress_shirts_no_quarter/_r2_c4.png',\n",
       " '/home/ubuntu/photo_sets/dress_shirts_no_quarter/_r0_c0.png',\n",
       " '/home/ubuntu/photo_sets/dress_shirts_no_quarter/_r0_c2.png',\n",
       " '/home/ubuntu/photo_sets/dress_shirts_no_quarter/_r1_c3.png',\n",
       " '/home/ubuntu/photo_sets/dress_shirts_no_quarter/_r2_c3.png',\n",
       " '/home/ubuntu/photo_sets/dress_shirts_no_quarter/_r2_c2.png',\n",
       " '/home/ubuntu/photo_sets/dress_shirts_no_quarter/_r2_c5.png',\n",
       " '/home/ubuntu/photo_sets/dress_shirts_no_quarter/_r3_c1.png',\n",
       " '/home/ubuntu/photo_sets/dress_shirts_no_quarter/_r3_c5.png',\n",
       " '/home/ubuntu/photo_sets/dress_shirts_no_quarter/_r1_c0.png',\n",
       " '/home/ubuntu/photo_sets/dress_shirts_no_quarter/_r0_c1.png',\n",
       " '/home/ubuntu/photo_sets/dress_shirts_no_quarter/_r0_c6.png',\n",
       " '/home/ubuntu/photo_sets/dress_shirts_no_quarter/_r1_c4.png',\n",
       " '/home/ubuntu/photo_sets/dress_shirts_no_quarter/_r1_c1.png',\n",
       " '/home/ubuntu/photo_sets/dress_shirts_no_quarter/_r1_c5.png',\n",
       " '/home/ubuntu/photo_sets/dress_shirts_no_quarter/_r0_c5.png',\n",
       " '/home/ubuntu/photo_sets/dress_shirts_no_quarter/_r3_c6.png',\n",
       " '/home/ubuntu/photo_sets/dress_shirts_no_quarter/_r3_c4.png',\n",
       " '/home/ubuntu/photo_sets/dress_shirts_no_quarter/_r0_c3.png',\n",
       " '/home/ubuntu/photo_sets/dress_shirts_no_quarter/_r2_c6.png',\n",
       " '/home/ubuntu/photo_sets/dress_shirts_no_quarter/_r2_c1.png',\n",
       " '/home/ubuntu/photo_sets/dress_shirts_no_quarter/_r3_c3.png',\n",
       " '/home/ubuntu/photo_sets/dress_shirts_no_quarter/_r3_c0.png',\n",
       " '/home/ubuntu/photo_sets/dress_shirts_no_quarter/_r0_c4.png',\n",
       " '/home/ubuntu/photo_sets/dress_shirts_no_quarter/_r1_c2.png',\n",
       " '/home/ubuntu/photo_sets/dress_shirts_no_quarter/_r2_c0.png',\n",
       " '/home/ubuntu/photo_sets/dress_shirts_no_quarter/_r3_c2.png',\n",
       " '/home/ubuntu/photo_sets/dress_shirts_no_quarter/_r1_c6.png']"
      ]
     },
     "execution_count": 19,
     "metadata": {},
     "output_type": "execute_result"
    }
   ],
   "source": [
    "dress_shirts_nq_lst"
   ]
  },
  {
   "cell_type": "code",
   "execution_count": null,
   "metadata": {},
   "outputs": [],
   "source": [
    "dress_shirts_lst"
   ]
  },
  {
   "cell_type": "code",
   "execution_count": 42,
   "metadata": {
    "collapsed": true
   },
   "outputs": [],
   "source": [
    "bee_friendly_flowers_list = make_file_list(aws_root_path, \n",
    "                                    aws_sets_list, \n",
    "                                    0, \n",
    "                                    aws_type)"
   ]
  },
  {
   "cell_type": "code",
   "execution_count": null,
   "metadata": {
    "collapsed": true
   },
   "outputs": [],
   "source": [
    "# bee_friendly_flowers_list"
   ]
  },
  {
   "cell_type": "code",
   "execution_count": 50,
   "metadata": {
    "collapsed": true
   },
   "outputs": [],
   "source": [
    "seventies_list = make_file_list(aws_root_path,\n",
    "                                aws_sets_list,\n",
    "                                1,\n",
    "                                '/*.jpg')"
   ]
  },
  {
   "cell_type": "code",
   "execution_count": null,
   "metadata": {
    "collapsed": true
   },
   "outputs": [],
   "source": [
    "seventies_list_jpg = make_file_list(photo_root_path,\n",
    "                                photo_sets_list,\n",
    "                                1,\n",
    "                                '/*.jpg')"
   ]
  },
  {
   "cell_type": "code",
   "execution_count": 20,
   "metadata": {
    "collapsed": true
   },
   "outputs": [],
   "source": [
    "def list_to_central_pipeline(set_lst):\n",
    "    pal_lst = run_palettization_to_rgb_list(set_lst)\n",
    "    ss = SetSimilarity()\n",
    "    central_palette = ss.set_central_list(pal_lst)\n",
    "    return central_palette"
   ]
  },
  {
   "cell_type": "code",
   "execution_count": 21,
   "metadata": {
    "collapsed": true
   },
   "outputs": [],
   "source": [
    "def pure_palette_list(central_palette):\n",
    "    pure_palette_list = []\n",
    "    for palette in seventies_central_palette:\n",
    "        pure_palette_list.append(palette[0])\n",
    "    return pure_palette_list"
   ]
  },
  {
   "cell_type": "code",
   "execution_count": 11,
   "metadata": {},
   "outputs": [
    {
     "ename": "NameError",
     "evalue": "name 'list_to_central_pipeline' is not defined",
     "output_type": "error",
     "traceback": [
      "\u001b[0;31m---------------------------------------------------------------------------\u001b[0m",
      "\u001b[0;31mNameError\u001b[0m                                 Traceback (most recent call last)",
      "\u001b[0;32m<ipython-input-11-3a4605470ad3>\u001b[0m in \u001b[0;36m<module>\u001b[0;34m()\u001b[0m\n\u001b[0;32m----> 1\u001b[0;31m \u001b[0mlist_to_central_pipeline\u001b[0m\u001b[0;34m(\u001b[0m\u001b[0mdress_shirts_nq_lst\u001b[0m\u001b[0;34m)\u001b[0m\u001b[0;34m\u001b[0m\u001b[0m\n\u001b[0m",
      "\u001b[0;31mNameError\u001b[0m: name 'list_to_central_pipeline' is not defined"
     ]
    }
   ],
   "source": [
    "list_to_central_pipeline(dress_shirts_nq_lst)"
   ]
  },
  {
   "cell_type": "code",
   "execution_count": 51,
   "metadata": {},
   "outputs": [
    {
     "name": "stdout",
     "output_type": "stream",
     "text": [
      "/home/ubuntu/photo_sets/seventies/HT_retro_70s_home_1_jt_160905_4x3_992.jpg\n",
      "[(211, 77, 78), (49, 19, 20), (117, 40, 51), (225, 120, 173), (242, 199, 136)]\n",
      "/home/ubuntu/photo_sets/seventies/6709227143_3d1801bd98_b-520x733.jpg\n",
      "[(221, 6, 4), (240, 152, 11), (237, 92, 16), (178, 36, 4), (243, 201, 17)]\n",
      "/home/ubuntu/photo_sets/seventies/70s-men-fashion-281__700.jpg\n"
     ]
    },
    {
     "name": "stderr",
     "output_type": "stream",
     "text": [
      "/home/ubuntu/anaconda3/lib/python3.6/site-packages/ipykernel_launcher.py:38: RuntimeWarning: invalid value encountered in true_divide\n"
     ]
    },
    {
     "name": "stdout",
     "output_type": "stream",
     "text": [
      "[(135, 86, 52), (38, 31, 22), (236, 222, 184), (216, 123, 76), (203, 166, 161)]\n",
      "/home/ubuntu/photo_sets/seventies/room.jpg\n",
      "[(233, 133, 27), (59, 19, 12), (161, 50, 14), (250, 224, 203), (251, 215, 91)]\n",
      "/home/ubuntu/photo_sets/seventies/f35a887378aee1d226631089e486b38e.jpg\n",
      "[(223, 94, 61), (12, 38, 48), (231, 213, 121), (158, 153, 170), (50, 148, 68)]\n",
      "/home/ubuntu/photo_sets/seventies/Václav-Zeman-The-First-Generation-1974.jpg\n",
      "[(50, 44, 40), (231, 223, 214), (219, 65, 47), (194, 132, 152), (234, 171, 79)]\n",
      "/home/ubuntu/photo_sets/seventies/1main.jpg\n",
      "[(234, 132, 44), (39, 60, 70), (243, 234, 205), (205, 44, 42), (243, 218, 55)]\n",
      "/home/ubuntu/photo_sets/seventies/efdbc9532e8260b63d0b48745a5916d7.jpg\n",
      "[(76, 151, 92), (215, 98, 22), (89, 158, 185), (128, 50, 16), (127, 205, 44)]\n",
      "/home/ubuntu/photo_sets/seventies/3075165968_c9215cbb36.jpg\n",
      "[(207, 187, 150), (36, 24, 20), (120, 48, 38), (105, 119, 112), (127, 97, 47)]\n",
      "/home/ubuntu/photo_sets/seventies/cc8b7ccff0b23511d0c622fcd297c02c.jpg\n",
      "[(106, 59, 26), (225, 78, 7), (220, 209, 164), (179, 154, 123), (164, 172, 84)]\n",
      "/home/ubuntu/photo_sets/seventies/208b9fb5b409ba3779a5d3e98f41f35b--vintage-ads-retro-ads.jpg\n",
      "[(212, 47, 8), (247, 206, 160), (82, 37, 9), (209, 119, 55), (209, 146, 133)]\n",
      "/home/ubuntu/photo_sets/seventies/Ydz9c-1468504224-1001-blog-spacefoodsticks_main_1200.jpg\n",
      "[(163, 71, 55), (37, 77, 53), (212, 206, 181), (202, 179, 178), (183, 161, 117)]\n",
      "/home/ubuntu/photo_sets/seventies/d218b4051bfa39178b82c77f9c97c34d--big-mouths-vintage-toys-s.jpg\n",
      "[(190, 112, 71), (46, 34, 37), (224, 225, 198), (175, 172, 183), (133, 27, 10)]\n",
      "/home/ubuntu/photo_sets/seventies/620e711e599d1f500ae87071f33dd5a0--s-decor-retro-home-decor.jpg\n",
      "[(214, 177, 98), (59, 42, 27), (111, 65, 30), (134, 101, 42), (248, 232, 210)]\n",
      "/home/ubuntu/photo_sets/seventies/526e535cbb654194d8b622207a550fea.jpg\n",
      "[(20, 25, 30), (227, 93, 64), (85, 106, 151), (244, 239, 238), (132, 140, 141)]\n",
      "/home/ubuntu/photo_sets/seventies/human_factor_poster_01.jpg\n",
      "[(231, 172, 153), (50, 36, 38), (153, 188, 212), (148, 74, 61), (112, 129, 166)]\n",
      "/home/ubuntu/photo_sets/seventies/b9cef75289fc9f54858fc388ef42f942--feminism-poster-political-posters.jpg\n",
      "[(43, 29, 20), (242, 168, 25), (177, 40, 17), (227, 217, 210), (221, 95, 45)]\n",
      "/home/ubuntu/photo_sets/seventies/aT15w-1458316051-754-blog-sunshinefamily_ad_76.jpg\n",
      "[(181, 78, 45), (43, 20, 17), (244, 207, 141), (230, 160, 74), (189, 171, 164)]\n",
      "/home/ubuntu/photo_sets/seventies/1970s-decor-geometric-lines-1000x746.jpg\n",
      "[(186, 53, 37), (236, 208, 147), (55, 23, 18), (215, 149, 75), (169, 152, 158)]\n",
      "/home/ubuntu/photo_sets/seventies/brady_bunch_1970s.jpg\n",
      "[(38, 57, 73), (218, 119, 74), (229, 219, 221), (195, 47, 20), (235, 207, 140)]\n",
      "/home/ubuntu/photo_sets/seventies/91f9d50398c88b2c580e89184b9edf5a.jpg\n",
      "[(200, 40, 107), (236, 221, 196), (46, 39, 44), (250, 143, 191), (100, 124, 108)]\n",
      "/home/ubuntu/photo_sets/seventies/5c4aacc11d49fed320586cb53a482403.jpg\n",
      "[(232, 166, 169), (43, 46, 44), (89, 175, 158), (134, 88, 84), (113, 144, 152)]\n",
      "/home/ubuntu/photo_sets/seventies/9d9641f3876091907a691766ac3e938f.jpg\n",
      "[(39, 36, 42), (219, 172, 108), (95, 155, 144), (208, 43, 30), (52, 103, 186)]\n",
      "/home/ubuntu/photo_sets/seventies/M-retro-4.jpg\n",
      "[(71, 49, 32), (230, 146, 50), (241, 201, 48), (152, 127, 48), (246, 238, 209)]\n",
      "/home/ubuntu/photo_sets/seventies/aria-pura_fmt.jpg\n",
      "[(69, 157, 190), (214, 154, 144), (49, 39, 66), (82, 105, 69), (153, 219, 227)]\n",
      "/home/ubuntu/photo_sets/seventies/posters10n-3-web.jpg\n",
      "[(237, 228, 199), (35, 82, 66), (157, 48, 58), (199, 162, 61), (76, 185, 170)]\n",
      "/home/ubuntu/photo_sets/seventies/Newport-Lights-ad-yellow-t-shirt.jpg\n",
      "[(58, 80, 49), (246, 227, 55), (130, 92, 51), (199, 209, 209), (138, 136, 90)]\n",
      "/home/ubuntu/photo_sets/seventies/Concert-Poster-Art-classic-rock-20804540-450-330.jpg\n",
      "[(117, 151, 74), (45, 35, 27), (226, 125, 49), (27, 156, 176), (145, 212, 61)]\n",
      "/home/ubuntu/photo_sets/seventies/0776e5e547806a109ec999394790cbc0--vintage-airline-vintage-travel-posters.jpg\n",
      "[(210, 120, 89), (39, 44, 46), (155, 166, 103), (153, 60, 47), (138, 134, 160)]\n",
      "/home/ubuntu/photo_sets/seventies/bowie.jpg\n",
      "[(43, 22, 26), (206, 48, 23), (84, 177, 184), (231, 198, 174), (45, 113, 157)]\n",
      "/home/ubuntu/photo_sets/seventies/4080666566_6704eebaa1_o.jpg\n",
      "[(237, 218, 184), (65, 68, 66), (230, 182, 77), (179, 64, 46), (100, 148, 132)]\n",
      "/home/ubuntu/photo_sets/seventies/landscape-1463088645-1970s-toys-collage.jpg\n",
      "[(232, 223, 197), (26, 36, 42), (225, 36, 26), (203, 186, 30), (29, 171, 133)]\n",
      "/home/ubuntu/photo_sets/seventies/aruba.jpg\n",
      "[(41, 172, 200), (210, 136, 63), (34, 28, 32), (26, 129, 73), (234, 15, 13)]\n",
      "/home/ubuntu/photo_sets/seventies/doublemint_ad_2_1975_copy.jpg\n",
      "[(229, 182, 178), (75, 67, 47), (180, 71, 84), (162, 145, 47), (194, 106, 119)]\n",
      "/home/ubuntu/photo_sets/seventies/ce6691c717766c095c8735eecb406aac.jpg\n",
      "[(28, 10, 11), (185, 47, 23), (237, 226, 211), (75, 149, 161), (65, 120, 136)]\n",
      "/home/ubuntu/photo_sets/seventies/london-colourful-life-in-the-1970s-07-1024x614_c.jpg\n",
      "[(145, 80, 82), (29, 33, 55), (214, 216, 214), (140, 161, 192), (220, 133, 131)]\n",
      "/home/ubuntu/photo_sets/seventies/poster-grandfather-computer-22832.jpg\n",
      "[(12, 110, 84), (204, 62, 20), (229, 208, 149), (165, 161, 143), (91, 43, 26)]\n",
      "/home/ubuntu/photo_sets/seventies/15410a9a5c578f4257651130f6fd8b87.jpg\n",
      "[(28, 126, 100), (231, 222, 155), (11, 20, 16), (132, 203, 175), (136, 188, 180)]\n",
      "/home/ubuntu/photo_sets/seventies/e10-254_500.jpg\n",
      "[(166, 90, 66), (60, 101, 120), (222, 227, 206), (201, 214, 83), (116, 54, 41)]\n",
      "/home/ubuntu/photo_sets/seventies/45728eac5b9ee8c9e2d3cfed76397272--crochet-vests-crochet-sweaters.jpg\n",
      "[(191, 123, 58), (50, 28, 18), (163, 51, 27), (209, 197, 173), (205, 189, 137)]\n",
      "/home/ubuntu/photo_sets/seventies/b30d8a5b3cfce748b55f598119acd0ba--vintage-outfits-fashion-vintage.jpg\n",
      "[(166, 108, 61), (62, 38, 37), (215, 203, 194), (178, 179, 176), (85, 40, 32)]\n"
     ]
    }
   ],
   "source": [
    "pal_lst_seventies = run_palettization_to_rgb_list(seventies_list)"
   ]
  },
  {
   "cell_type": "code",
   "execution_count": 61,
   "metadata": {},
   "outputs": [],
   "source": [
    "# pal_lst_bee = run_palettization_to_rgb_list(bee_friendly_flowers_list)"
   ]
  },
  {
   "cell_type": "code",
   "execution_count": 60,
   "metadata": {},
   "outputs": [],
   "source": [
    "# pal_lst = run_palettization_to_rgb_list(dress_shirts_nq_lst)"
   ]
  },
  {
   "cell_type": "code",
   "execution_count": 52,
   "metadata": {
    "collapsed": true
   },
   "outputs": [],
   "source": [
    "seventy_ss = SetSimilarity()"
   ]
  },
  {
   "cell_type": "code",
   "execution_count": 54,
   "metadata": {
    "scrolled": true
   },
   "outputs": [
    {
     "data": {
      "text/plain": [
       "[(49.632341334420865,\n",
       "  [(191, 123, 58),\n",
       "   (50, 28, 18),\n",
       "   (163, 51, 27),\n",
       "   (209, 197, 173),\n",
       "   (205, 189, 137)]),\n",
       " (50.503257334298347,\n",
       "  [(71, 49, 32),\n",
       "   (230, 146, 50),\n",
       "   (241, 201, 48),\n",
       "   (152, 127, 48),\n",
       "   (246, 238, 209)]),\n",
       " (51.135606207794638,\n",
       "  [(135, 86, 52),\n",
       "   (38, 31, 22),\n",
       "   (236, 222, 184),\n",
       "   (216, 123, 76),\n",
       "   (203, 166, 161)]),\n",
       " (51.575139286005204,\n",
       "  [(234, 132, 44),\n",
       "   (39, 60, 70),\n",
       "   (243, 234, 205),\n",
       "   (205, 44, 42),\n",
       "   (243, 218, 55)]),\n",
       " (51.901696732534482,\n",
       "  [(181, 78, 45),\n",
       "   (43, 20, 17),\n",
       "   (244, 207, 141),\n",
       "   (230, 160, 74),\n",
       "   (189, 171, 164)]),\n",
       " (52.229959930871679,\n",
       "  [(163, 71, 55),\n",
       "   (37, 77, 53),\n",
       "   (212, 206, 181),\n",
       "   (202, 179, 178),\n",
       "   (183, 161, 117)]),\n",
       " (52.300473900293014,\n",
       "  [(106, 59, 26),\n",
       "   (225, 78, 7),\n",
       "   (220, 209, 164),\n",
       "   (179, 154, 123),\n",
       "   (164, 172, 84)]),\n",
       " (52.690279296870045,\n",
       "  [(212, 47, 8),\n",
       "   (247, 206, 160),\n",
       "   (82, 37, 9),\n",
       "   (209, 119, 55),\n",
       "   (209, 146, 133)]),\n",
       " (53.817669018251728,\n",
       "  [(214, 177, 98),\n",
       "   (59, 42, 27),\n",
       "   (111, 65, 30),\n",
       "   (134, 101, 42),\n",
       "   (248, 232, 210)]),\n",
       " (54.901038348893564,\n",
       "  [(166, 90, 66),\n",
       "   (60, 101, 120),\n",
       "   (222, 227, 206),\n",
       "   (201, 214, 83),\n",
       "   (116, 54, 41)]),\n",
       " (55.281093624338233,\n",
       "  [(43, 29, 20),\n",
       "   (242, 168, 25),\n",
       "   (177, 40, 17),\n",
       "   (227, 217, 210),\n",
       "   (221, 95, 45)]),\n",
       " (56.656185807046448,\n",
       "  [(233, 133, 27),\n",
       "   (59, 19, 12),\n",
       "   (161, 50, 14),\n",
       "   (250, 224, 203),\n",
       "   (251, 215, 91)]),\n",
       " (58.386458398117924,\n",
       "  [(237, 218, 184),\n",
       "   (65, 68, 66),\n",
       "   (230, 182, 77),\n",
       "   (179, 64, 46),\n",
       "   (100, 148, 132)]),\n",
       " (59.441223766108955,\n",
       "  [(76, 151, 92),\n",
       "   (215, 98, 22),\n",
       "   (89, 158, 185),\n",
       "   (128, 50, 16),\n",
       "   (127, 205, 44)]),\n",
       " (59.911176526440137,\n",
       "  [(232, 223, 197),\n",
       "   (26, 36, 42),\n",
       "   (225, 36, 26),\n",
       "   (203, 186, 30),\n",
       "   (29, 171, 133)]),\n",
       " (60.608657356415975,\n",
       "  [(221, 6, 4), (240, 152, 11), (237, 92, 16), (178, 36, 4), (243, 201, 17)]),\n",
       " (60.754281692919896,\n",
       "  [(12, 110, 84),\n",
       "   (204, 62, 20),\n",
       "   (229, 208, 149),\n",
       "   (165, 161, 143),\n",
       "   (91, 43, 26)]),\n",
       " (62.01757311521223,\n",
       "  [(117, 151, 74),\n",
       "   (45, 35, 27),\n",
       "   (226, 125, 49),\n",
       "   (27, 156, 176),\n",
       "   (145, 212, 61)]),\n",
       " (62.678288315379525,\n",
       "  [(166, 108, 61),\n",
       "   (62, 38, 37),\n",
       "   (215, 203, 194),\n",
       "   (178, 179, 176),\n",
       "   (85, 40, 32)]),\n",
       " (64.213100628565286,\n",
       "  [(186, 53, 37),\n",
       "   (236, 208, 147),\n",
       "   (55, 23, 18),\n",
       "   (215, 149, 75),\n",
       "   (169, 152, 158)]),\n",
       " (64.422531379091339,\n",
       "  [(207, 187, 150),\n",
       "   (36, 24, 20),\n",
       "   (120, 48, 38),\n",
       "   (105, 119, 112),\n",
       "   (127, 97, 47)]),\n",
       " (65.113820700600954,\n",
       "  [(58, 80, 49),\n",
       "   (246, 227, 55),\n",
       "   (130, 92, 51),\n",
       "   (199, 209, 209),\n",
       "   (138, 136, 90)]),\n",
       " (66.731724524281731,\n",
       "  [(210, 120, 89),\n",
       "   (39, 44, 46),\n",
       "   (155, 166, 103),\n",
       "   (153, 60, 47),\n",
       "   (138, 134, 160)]),\n",
       " (67.663391637155826,\n",
       "  [(28, 126, 100),\n",
       "   (231, 222, 155),\n",
       "   (11, 20, 16),\n",
       "   (132, 203, 175),\n",
       "   (136, 188, 180)]),\n",
       " (67.698491037752518,\n",
       "  [(223, 94, 61),\n",
       "   (12, 38, 48),\n",
       "   (231, 213, 121),\n",
       "   (158, 153, 170),\n",
       "   (50, 148, 68)]),\n",
       " (68.641296014142014,\n",
       "  [(38, 57, 73),\n",
       "   (218, 119, 74),\n",
       "   (229, 219, 221),\n",
       "   (195, 47, 20),\n",
       "   (235, 207, 140)]),\n",
       " (68.743284620692407,\n",
       "  [(50, 44, 40),\n",
       "   (231, 223, 214),\n",
       "   (219, 65, 47),\n",
       "   (194, 132, 152),\n",
       "   (234, 171, 79)]),\n",
       " (68.893216408463317,\n",
       "  [(237, 228, 199),\n",
       "   (35, 82, 66),\n",
       "   (157, 48, 58),\n",
       "   (199, 162, 61),\n",
       "   (76, 185, 170)]),\n",
       " (70.26789035156078,\n",
       "  [(39, 36, 42),\n",
       "   (219, 172, 108),\n",
       "   (95, 155, 144),\n",
       "   (208, 43, 30),\n",
       "   (52, 103, 186)]),\n",
       " (71.209959178665827,\n",
       "  [(43, 22, 26),\n",
       "   (206, 48, 23),\n",
       "   (84, 177, 184),\n",
       "   (231, 198, 174),\n",
       "   (45, 113, 157)]),\n",
       " (71.723106528342385,\n",
       "  [(69, 157, 190),\n",
       "   (214, 154, 144),\n",
       "   (49, 39, 66),\n",
       "   (82, 105, 69),\n",
       "   (153, 219, 227)]),\n",
       " (72.258498372434346,\n",
       "  [(20, 25, 30),\n",
       "   (227, 93, 64),\n",
       "   (85, 106, 151),\n",
       "   (244, 239, 238),\n",
       "   (132, 140, 141)]),\n",
       " (74.502090034810237,\n",
       "  [(28, 10, 11),\n",
       "   (185, 47, 23),\n",
       "   (237, 226, 211),\n",
       "   (75, 149, 161),\n",
       "   (65, 120, 136)]),\n",
       " (74.684018012671615,\n",
       "  [(41, 172, 200),\n",
       "   (210, 136, 63),\n",
       "   (34, 28, 32),\n",
       "   (26, 129, 73),\n",
       "   (234, 15, 13)]),\n",
       " (74.723464236769672,\n",
       "  [(190, 112, 71),\n",
       "   (46, 34, 37),\n",
       "   (224, 225, 198),\n",
       "   (175, 172, 183),\n",
       "   (133, 27, 10)]),\n",
       " (74.78684726249773,\n",
       "  [(231, 172, 153),\n",
       "   (50, 36, 38),\n",
       "   (153, 188, 212),\n",
       "   (148, 74, 61),\n",
       "   (112, 129, 166)]),\n",
       " (79.901583999682401,\n",
       "  [(229, 182, 178),\n",
       "   (75, 67, 47),\n",
       "   (180, 71, 84),\n",
       "   (162, 145, 47),\n",
       "   (194, 106, 119)]),\n",
       " (80.901172922996764,\n",
       "  [(145, 80, 82),\n",
       "   (29, 33, 55),\n",
       "   (214, 216, 214),\n",
       "   (140, 161, 192),\n",
       "   (220, 133, 131)]),\n",
       " (88.719360656427099,\n",
       "  [(232, 166, 169),\n",
       "   (43, 46, 44),\n",
       "   (89, 175, 158),\n",
       "   (134, 88, 84),\n",
       "   (113, 144, 152)]),\n",
       " (97.650985688806756,\n",
       "  [(200, 40, 107),\n",
       "   (236, 221, 196),\n",
       "   (46, 39, 44),\n",
       "   (250, 143, 191),\n",
       "   (100, 124, 108)]),\n",
       " (107.56735886983013,\n",
       "  [(211, 77, 78),\n",
       "   (49, 19, 20),\n",
       "   (117, 40, 51),\n",
       "   (225, 120, 173),\n",
       "   (242, 199, 136)])]"
      ]
     },
     "execution_count": 54,
     "metadata": {},
     "output_type": "execute_result"
    }
   ],
   "source": [
    "seventies_list_cent_pal = seventy_ss.set_central_list(pal_lst_seventies)\n",
    "seventies_list_cent_pal"
   ]
  },
  {
   "cell_type": "code",
   "execution_count": null,
   "metadata": {
    "collapsed": true
   },
   "outputs": [],
   "source": [
    "# # /home/ubuntu/photo_sets/dress_shirts_no_quarter/_r2_c6.png\n",
    "# # [(28, 32, 42), (191, 194, 200), (105, 109, 119), (132, 137, 150), (139, 148, 157)]\n",
    "# idx = 0\n",
    "# print(dress_shirts_nq_cent_pal[idx])\n",
    "# display_palette(dress_shirts_nq_cent_pal[idx][1])"
   ]
  },
  {
   "cell_type": "code",
   "execution_count": 55,
   "metadata": {},
   "outputs": [
    {
     "name": "stdout",
     "output_type": "stream",
     "text": [
      "(49.632341334420865, [(191, 123, 58), (50, 28, 18), (163, 51, 27), (209, 197, 173), (205, 189, 137)])\n"
     ]
    },
    {
     "data": {
      "text/plain": [
       "<matplotlib.image.AxesImage at 0x7fcdcdfd93c8>"
      ]
     },
     "execution_count": 55,
     "metadata": {},
     "output_type": "execute_result"
    },
    {
     "data": {
      "image/png": "[encoded data removed]",
      "text/plain": [
       "<matplotlib.figure.Figure at 0x7fcdb4ddd080>"
      ]
     },
     "metadata": {},
     "output_type": "display_data"
    }
   ],
   "source": [
    "# /home/ubuntu/photo_sets/seventies/45728eac5b9ee8c9e2d3cfed76397272--crochet-vests-crochet-sweaters.jpg\n",
    "# [(191, 123, 58), (50, 28, 18), (163, 51, 27), (209, 197, 173), (205, 189, 137)]\n",
    "idx = 0\n",
    "print(seventies_list_cent_pal[idx])\n",
    "display_palette(seventies_list_cent_pal[idx][1])"
   ]
  },
  {
   "cell_type": "code",
   "execution_count": 56,
   "metadata": {},
   "outputs": [
    {
     "name": "stdout",
     "output_type": "stream",
     "text": [
      "(50.503257334298347, [(71, 49, 32), (230, 146, 50), (241, 201, 48), (152, 127, 48), (246, 238, 209)])\n"
     ]
    },
    {
     "data": {
      "text/plain": [
       "<matplotlib.image.AxesImage at 0x7fcdb4dbf470>"
      ]
     },
     "execution_count": 56,
     "metadata": {},
     "output_type": "execute_result"
    },
    {
     "data": {
      "image/png": "[encoded data removed]",
      "text/plain": [
       "<matplotlib.figure.Figure at 0x7fcdb4dcab70>"
      ]
     },
     "metadata": {},
     "output_type": "display_data"
    }
   ],
   "source": [
    "# /home/ubuntu/photo_sets/seventies/M-retro-4.jpg\n",
    "# [(71, 49, 32), (230, 146, 50), (241, 201, 48), (152, 127, 48), (246, 238, 209)]\n",
    "idx = 1\n",
    "print(seventies_list_cent_pal[idx])\n",
    "display_palette(seventies_list_cent_pal[idx][1])"
   ]
  },
  {
   "cell_type": "code",
   "execution_count": 57,
   "metadata": {},
   "outputs": [
    {
     "name": "stdout",
     "output_type": "stream",
     "text": [
      "(51.135606207794638, [(135, 86, 52), (38, 31, 22), (236, 222, 184), (216, 123, 76), (203, 166, 161)])\n"
     ]
    },
    {
     "data": {
      "text/plain": [
       "<matplotlib.image.AxesImage at 0x7fcdb51a84a8>"
      ]
     },
     "execution_count": 57,
     "metadata": {},
     "output_type": "execute_result"
    },
    {
     "data": {
      "image/png": "[encoded data removed]",
      "text/plain": [
       "<matplotlib.figure.Figure at 0x7fcda4fa1eb8>"
      ]
     },
     "metadata": {},
     "output_type": "display_data"
    }
   ],
   "source": [
    "# /home/ubuntu/photo_sets/seventies/70s-men-fashion-281__700.jpg\n",
    "# [(135, 86, 52), (38, 31, 22), (236, 222, 184), (216, 123, 76), (203, 166, 161)]\n",
    "idx = 2\n",
    "print(seventies_list_cent_pal[idx])\n",
    "display_palette(seventies_list_cent_pal[idx][1])"
   ]
  },
  {
   "cell_type": "code",
   "execution_count": 58,
   "metadata": {},
   "outputs": [
    {
     "name": "stdout",
     "output_type": "stream",
     "text": [
      "(51.575139286005204, [(234, 132, 44), (39, 60, 70), (243, 234, 205), (205, 44, 42), (243, 218, 55)])\n"
     ]
    },
    {
     "data": {
      "text/plain": [
       "<matplotlib.image.AxesImage at 0x7fcd986a4d30>"
      ]
     },
     "execution_count": 58,
     "metadata": {},
     "output_type": "execute_result"
    },
    {
     "data": {
      "image/png": "[encoded data removed]",
      "text/plain": [
       "<matplotlib.figure.Figure at 0x7fcda4f9eb38>"
      ]
     },
     "metadata": {},
     "output_type": "display_data"
    }
   ],
   "source": [
    "# /home/ubuntu/photo_sets/seventies/1main.jpg\n",
    "# [(234, 132, 44), (39, 60, 70), (243, 234, 205), (205, 44, 42), (243, 218, 55)]\n",
    "idx = 3\n",
    "print(seventies_list_cent_pal[idx])\n",
    "display_palette(seventies_list_cent_pal[idx][1])"
   ]
  },
  {
   "cell_type": "code",
   "execution_count": 59,
   "metadata": {},
   "outputs": [
    {
     "name": "stdout",
     "output_type": "stream",
     "text": [
      "(51.901696732534482, [(181, 78, 45), (43, 20, 17), (244, 207, 141), (230, 160, 74), (189, 171, 164)])\n"
     ]
    },
    {
     "data": {
      "text/plain": [
       "<matplotlib.image.AxesImage at 0x7fcd9f1f9898>"
      ]
     },
     "execution_count": 59,
     "metadata": {},
     "output_type": "execute_result"
    },
    {
     "data": {
      "image/png": "[encoded data removed]",
      "text/plain": [
       "<matplotlib.figure.Figure at 0x7fcdb8a1c048>"
      ]
     },
     "metadata": {},
     "output_type": "display_data"
    }
   ],
   "source": [
    "# /home/ubuntu/photo_sets/seventies/aT15w-1458316051-754-blog-sunshinefamily_ad_76.jpg\n",
    "# [(181, 78, 45), (43, 20, 17), (244, 207, 141), (230, 160, 74), (189, 171, 164)]\n",
    "idx = 4\n",
    "print(seventies_list_cent_pal[idx])\n",
    "display_palette(seventies_list_cent_pal[idx][1])"
   ]
  },
  {
   "cell_type": "code",
   "execution_count": null,
   "metadata": {
    "collapsed": true
   },
   "outputs": [],
   "source": []
  },
  {
   "cell_type": "code",
   "execution_count": null,
   "metadata": {
    "collapsed": true
   },
   "outputs": [],
   "source": []
  },
  {
   "cell_type": "code",
   "execution_count": null,
   "metadata": {
    "collapsed": true
   },
   "outputs": [],
   "source": []
  },
  {
   "cell_type": "code",
   "execution_count": 44,
   "metadata": {
    "collapsed": true
   },
   "outputs": [],
   "source": [
    "bee_f_f_ss = SetSimilarity()"
   ]
  },
  {
   "cell_type": "code",
   "execution_count": 46,
   "metadata": {
    "scrolled": true
   },
   "outputs": [
    {
     "data": {
      "text/plain": [
       "[(11.94482749762774,\n",
       "  [(220, 217, 215),\n",
       "   (133, 111, 81),\n",
       "   (187, 170, 131),\n",
       "   (184, 111, 111),\n",
       "   (112, 132, 119)]),\n",
       " (12.865447774983654,\n",
       "  [(224, 217, 213),\n",
       "   (129, 84, 84),\n",
       "   (189, 137, 146),\n",
       "   (138, 125, 95),\n",
       "   (113, 120, 120)]),\n",
       " (13.316269304394339,\n",
       "  [(220, 218, 216),\n",
       "   (135, 132, 81),\n",
       "   (184, 182, 135),\n",
       "   (135, 113, 122),\n",
       "   (110, 139, 135)]),\n",
       " (13.593876948658224,\n",
       "  [(222, 220, 219),\n",
       "   (124, 91, 69),\n",
       "   (175, 153, 126),\n",
       "   (100, 117, 118),\n",
       "   (193, 105, 109)]),\n",
       " (14.064243920230815,\n",
       "  [(223, 216, 211),\n",
       "   (108, 69, 56),\n",
       "   (167, 118, 90),\n",
       "   (200, 138, 128),\n",
       "   (111, 117, 114)]),\n",
       " (14.16979179978286,\n",
       "  [(221, 216, 208),\n",
       "   (146, 136, 70),\n",
       "   (193, 185, 117),\n",
       "   (103, 114, 107),\n",
       "   (119, 107, 102)]),\n",
       " (14.520212018375741,\n",
       "  [(219, 218, 216),\n",
       "   (99, 80, 85),\n",
       "   (125, 130, 98),\n",
       "   (162, 142, 141),\n",
       "   (112, 128, 124)]),\n",
       " (14.522308500780113,\n",
       "  [(224, 220, 217),\n",
       "   (139, 106, 92),\n",
       "   (176, 150, 135),\n",
       "   (122, 128, 128),\n",
       "   (217, 115, 124)]),\n",
       " (14.915710977750816,\n",
       "  [(220, 218, 217),\n",
       "   (118, 94, 78),\n",
       "   (176, 96, 125),\n",
       "   (178, 139, 144),\n",
       "   (112, 123, 123)]),\n",
       " (15.686392576098267,\n",
       "  [(227, 218, 214),\n",
       "   (138, 131, 79),\n",
       "   (219, 104, 127),\n",
       "   (198, 168, 138),\n",
       "   (116, 141, 130)]),\n",
       " (16.286152190710784,\n",
       "  [(217, 212, 210),\n",
       "   (125, 77, 79),\n",
       "   (161, 138, 85),\n",
       "   (182, 129, 134),\n",
       "   (111, 115, 116)]),\n",
       " (16.287778025725498,\n",
       "  [(221, 217, 217),\n",
       "   (156, 79, 97),\n",
       "   (200, 135, 151),\n",
       "   (112, 130, 87),\n",
       "   (107, 127, 125)]),\n",
       " (16.88996066452102,\n",
       "  [(219, 217, 218),\n",
       "   (107, 97, 75),\n",
       "   (133, 90, 123),\n",
       "   (166, 152, 133),\n",
       "   (110, 122, 128)]),\n",
       " (20.095161711034571,\n",
       "  [(215, 217, 220),\n",
       "   (74, 73, 69),\n",
       "   (99, 117, 118),\n",
       "   (143, 147, 134),\n",
       "   (134, 101, 114)]),\n",
       " (20.30992739145433,\n",
       "  [(222, 220, 221),\n",
       "   (98, 82, 107),\n",
       "   (153, 138, 164),\n",
       "   (125, 130, 105),\n",
       "   (119, 126, 148)]),\n",
       " (20.387133003568014,\n",
       "  [(216, 212, 215),\n",
       "   (104, 106, 86),\n",
       "   (109, 95, 126),\n",
       "   (150, 148, 139),\n",
       "   (131, 108, 140)])]"
      ]
     },
     "execution_count": 46,
     "metadata": {},
     "output_type": "execute_result"
    }
   ],
   "source": [
    "bee_f_f_cent_pal = bee_f_f_ss.set_central_list(pal_lst_bee)\n",
    "bee_f_f_cent_pal"
   ]
  },
  {
   "cell_type": "code",
   "execution_count": 23,
   "metadata": {
    "collapsed": true
   },
   "outputs": [],
   "source": [
    "dress_shirts_nq_ss = SetSimilarity()"
   ]
  },
  {
   "cell_type": "code",
   "execution_count": 26,
   "metadata": {
    "scrolled": true
   },
   "outputs": [
    {
     "data": {
      "text/plain": [
       "[(31.824949344982549,\n",
       "  [(28, 32, 42),\n",
       "   (191, 194, 200),\n",
       "   (105, 109, 119),\n",
       "   (132, 137, 150),\n",
       "   (139, 148, 157)]),\n",
       " (32.241470624062046,\n",
       "  [(63, 65, 73),\n",
       "   (215, 217, 221),\n",
       "   (138, 140, 146),\n",
       "   (161, 163, 172),\n",
       "   (163, 172, 176)]),\n",
       " (32.959820960487271,\n",
       "  [(31, 31, 44),\n",
       "   (178, 178, 191),\n",
       "   (108, 108, 121),\n",
       "   (148, 140, 147),\n",
       "   (140, 148, 148)]),\n",
       " (33.848037337705314,\n",
       "  [(41, 42, 69),\n",
       "   (188, 189, 211),\n",
       "   (116, 115, 143),\n",
       "   (143, 144, 174),\n",
       "   (147, 156, 182)]),\n",
       " (33.954198591392831,\n",
       "  [(45, 48, 58),\n",
       "   (215, 216, 219),\n",
       "   (171, 173, 176),\n",
       "   (137, 140, 139),\n",
       "   (152, 154, 165)]),\n",
       " (35.413045390951716,\n",
       "  [(61, 45, 57),\n",
       "   (215, 214, 217),\n",
       "   (166, 163, 168),\n",
       "   (138, 126, 136),\n",
       "   (161, 147, 164)]),\n",
       " (35.74567801168515,\n",
       "  [(194, 194, 193),\n",
       "   (44, 44, 61),\n",
       "   (114, 114, 123),\n",
       "   (92, 83, 100),\n",
       "   (92, 92, 84)]),\n",
       " (36.093968977778182,\n",
       "  [(211, 209, 205),\n",
       "   (49, 51, 61),\n",
       "   (128, 128, 130),\n",
       "   (108, 100, 109),\n",
       "   (108, 108, 92)]),\n",
       " (36.756278954773087,\n",
       "  [(141, 143, 150),\n",
       "   (54, 61, 85),\n",
       "   (232, 228, 212),\n",
       "   (76, 75, 95),\n",
       "   (82, 85, 83)]),\n",
       " (37.137309295853044,\n",
       "  [(22, 28, 47),\n",
       "   (201, 209, 218),\n",
       "   (86, 94, 117),\n",
       "   (138, 149, 164),\n",
       "   (125, 134, 158)]),\n",
       " (38.189539920337374,\n",
       "  [(196, 195, 186),\n",
       "   (43, 53, 83),\n",
       "   (102, 111, 128),\n",
       "   (79, 80, 97),\n",
       "   (94, 93, 83)]),\n",
       " (38.889143486759878,\n",
       "  [(92, 57, 90),\n",
       "   (223, 217, 227),\n",
       "   (182, 164, 186),\n",
       "   (157, 139, 158),\n",
       "   (180, 151, 171)]),\n",
       " (39.045250610343864,\n",
       "  [(202, 203, 204),\n",
       "   (42, 43, 44),\n",
       "   (123, 124, 125),\n",
       "   (92, 91, 93),\n",
       "   (96, 100, 91)]),\n",
       " (39.553261928301765,\n",
       "  [(58, 49, 52),\n",
       "   (222, 220, 217),\n",
       "   (141, 132, 129),\n",
       "   (166, 169, 176),\n",
       "   (139, 146, 170)]),\n",
       " (44.345316063500924,\n",
       "  [(81, 72, 66),\n",
       "   (218, 197, 185),\n",
       "   (155, 131, 121),\n",
       "   (176, 175, 168),\n",
       "   (169, 163, 172)]),\n",
       " (44.538880526943153,\n",
       "  [(186, 181, 173),\n",
       "   (238, 234, 226),\n",
       "   (126, 121, 113),\n",
       "   (140, 131, 126),\n",
       "   (131, 129, 124)]),\n",
       " (44.755013899017293,\n",
       "  [(201, 201, 199),\n",
       "   (41, 40, 42),\n",
       "   (88, 86, 88),\n",
       "   (117, 117, 117),\n",
       "   (99, 100, 91)]),\n",
       " (46.951993601616223,\n",
       "  [(175, 136, 162),\n",
       "   (236, 217, 230),\n",
       "   (108, 68, 95),\n",
       "   (126, 67, 108),\n",
       "   (107, 78, 108)]),\n",
       " (47.862754196565184,\n",
       "  [(83, 41, 57),\n",
       "   (220, 214, 212),\n",
       "   (153, 121, 132),\n",
       "   (179, 160, 166),\n",
       "   (182, 136, 150)]),\n",
       " (48.068101840685472,\n",
       "  [(29, 27, 27),\n",
       "   (187, 184, 183),\n",
       "   (112, 110, 110),\n",
       "   (139, 139, 148),\n",
       "   (140, 148, 142)]),\n",
       " (48.151231307261448,\n",
       "  [(204, 197, 191),\n",
       "   (67, 62, 56),\n",
       "   (127, 121, 115),\n",
       "   (100, 91, 86),\n",
       "   (102, 100, 83)]),\n",
       " (49.656258223536518,\n",
       "  [(184, 183, 182),\n",
       "   (70, 68, 67),\n",
       "   (110, 107, 106),\n",
       "   (92, 83, 84),\n",
       "   (92, 92, 83)]),\n",
       " (50.339545192794681,\n",
       "  [(200, 187, 186),\n",
       "   (48, 43, 52),\n",
       "   (140, 70, 69),\n",
       "   (115, 116, 122),\n",
       "   (175, 93, 82)]),\n",
       " (50.90323832544675,\n",
       "  [(129, 137, 147),\n",
       "   (47, 59, 94),\n",
       "   (219, 214, 195),\n",
       "   (122, 51, 65),\n",
       "   (157, 78, 66)]),\n",
       " (51.030943163435481,\n",
       "  [(56, 78, 127),\n",
       "   (193, 217, 246),\n",
       "   (141, 166, 214),\n",
       "   (123, 147, 188),\n",
       "   (164, 179, 221)]),\n",
       " (51.995548843104238,\n",
       "  [(161, 155, 159),\n",
       "   (138, 62, 69),\n",
       "   (217, 225, 222),\n",
       "   (78, 99, 128),\n",
       "   (155, 84, 75)]),\n",
       " (52.058729908990415,\n",
       "  [(204, 193, 185),\n",
       "   (37, 34, 37),\n",
       "   (177, 106, 75),\n",
       "   (119, 121, 124),\n",
       "   (122, 75, 58)]),\n",
       " (53.066286038426071,\n",
       "  [(140, 136, 139),\n",
       "   (53, 46, 53),\n",
       "   (229, 224, 221),\n",
       "   (86, 61, 59),\n",
       "   (161, 100, 48)])]"
      ]
     },
     "execution_count": 26,
     "metadata": {},
     "output_type": "execute_result"
    }
   ],
   "source": [
    "dress_shirts_nq_cent_pal = dress_shirts_nq_ss.set_central_list(pal_lst)\n",
    "dress_shirts_nq_cent_pal[0]"
   ]
  },
  {
   "cell_type": "code",
   "execution_count": 48,
   "metadata": {},
   "outputs": [
    {
     "name": "stdout",
     "output_type": "stream",
     "text": [
      "(31.824949344982549, [(28, 32, 42), (191, 194, 200), (105, 109, 119), (132, 137, 150), (139, 148, 157)])\n"
     ]
    },
    {
     "data": {
      "text/plain": [
       "<matplotlib.image.AxesImage at 0x7fcda7ced898>"
      ]
     },
     "execution_count": 48,
     "metadata": {},
     "output_type": "execute_result"
    },
    {
     "data": {
      "image/png": "[encoded data removed]",
      "text/plain": [
       "<matplotlib.figure.Figure at 0x7fcd98ab8828>"
      ]
     },
     "metadata": {},
     "output_type": "display_data"
    }
   ],
   "source": [
    "# /home/ubuntu/photo_sets/dress_shirts_no_quarter/_r2_c6.png\n",
    "# [(28, 32, 42), (191, 194, 200), (105, 109, 119), (132, 137, 150), (139, 148, 157)]\n",
    "idx = 0\n",
    "print(dress_shirts_nq_cent_pal[idx])\n",
    "display_palette(dress_shirts_nq_cent_pal[idx][1])"
   ]
  },
  {
   "cell_type": "code",
   "execution_count": 38,
   "metadata": {},
   "outputs": [
    {
     "name": "stdout",
     "output_type": "stream",
     "text": [
      "(32.241470624062046, [(63, 65, 73), (215, 217, 221), (138, 140, 146), (161, 163, 172), (163, 172, 176)])\n"
     ]
    },
    {
     "data": {
      "text/plain": [
       "<matplotlib.image.AxesImage at 0x7fcd9a0a2208>"
      ]
     },
     "execution_count": 38,
     "metadata": {},
     "output_type": "execute_result"
    },
    {
     "data": {
      "image/png": "[encoded data removed]",
      "text/plain": [
       "<matplotlib.figure.Figure at 0x7fcd954269b0>"
      ]
     },
     "metadata": {},
     "output_type": "display_data"
    }
   ],
   "source": [
    "# /home/ubuntu/photo_sets/dress_shirts_no_quarter/_r3_c4.png\n",
    "# [(63, 65, 73), (215, 217, 221), (138, 140, 146), (161, 163, 172), (163, 172, 176)]\n",
    "idx = 1\n",
    "print(dress_shirts_nq_cent_pal[idx])\n",
    "display_palette(dress_shirts_nq_cent_pal[idx][1])"
   ]
  },
  {
   "cell_type": "code",
   "execution_count": 39,
   "metadata": {},
   "outputs": [
    {
     "name": "stdout",
     "output_type": "stream",
     "text": [
      "(32.959820960487271, [(31, 31, 44), (178, 178, 191), (108, 108, 121), (148, 140, 147), (140, 148, 148)])\n"
     ]
    },
    {
     "data": {
      "text/plain": [
       "<matplotlib.image.AxesImage at 0x7fcd9820ea90>"
      ]
     },
     "execution_count": 39,
     "metadata": {},
     "output_type": "execute_result"
    },
    {
     "data": {
      "image/png": "[encoded data removed]",
      "text/plain": [
       "<matplotlib.figure.Figure at 0x7fcd9a0b2be0>"
      ]
     },
     "metadata": {},
     "output_type": "display_data"
    }
   ],
   "source": [
    "# /home/ubuntu/photo_sets/dress_shirts_no_quarter/_r3_c5.png\n",
    "# [(31, 31, 44), (178, 178, 191), (108, 108, 121), (148, 140, 147), (140, 148, 148)]\n",
    "idx = 2\n",
    "print(dress_shirts_nq_cent_pal[idx])\n",
    "display_palette(dress_shirts_nq_cent_pal[idx][1])"
   ]
  },
  {
   "cell_type": "code",
   "execution_count": 40,
   "metadata": {},
   "outputs": [
    {
     "name": "stdout",
     "output_type": "stream",
     "text": [
      "(33.848037337705314, [(41, 42, 69), (188, 189, 211), (116, 115, 143), (143, 144, 174), (147, 156, 182)])\n"
     ]
    },
    {
     "data": {
      "text/plain": [
       "<matplotlib.image.AxesImage at 0x7fcd96b22400>"
      ]
     },
     "execution_count": 40,
     "metadata": {},
     "output_type": "execute_result"
    },
    {
     "data": {
      "image/png": "[encoded data removed]",
      "text/plain": [
       "<matplotlib.figure.Figure at 0x7fcd9a3ad278>"
      ]
     },
     "metadata": {},
     "output_type": "display_data"
    }
   ],
   "source": [
    "# /home/ubuntu/photo_sets/dress_shirts_no_quarter/_r0_c5.png\n",
    "# [(41, 42, 69), (188, 189, 211), (116, 115, 143), (143, 144, 174), (147, 156, 182)]\n",
    "idx = 3\n",
    "print(dress_shirts_nq_cent_pal[idx])\n",
    "display_palette(dress_shirts_nq_cent_pal[idx][1])"
   ]
  },
  {
   "cell_type": "code",
   "execution_count": 41,
   "metadata": {},
   "outputs": [
    {
     "name": "stdout",
     "output_type": "stream",
     "text": [
      "(33.954198591392831, [(45, 48, 58), (215, 216, 219), (171, 173, 176), (137, 140, 139), (152, 154, 165)])\n"
     ]
    },
    {
     "data": {
      "text/plain": [
       "<matplotlib.image.AxesImage at 0x7fcd98aeada0>"
      ]
     },
     "execution_count": 41,
     "metadata": {},
     "output_type": "execute_result"
    },
    {
     "data": {
      "image/png": "[encoded data removed]",
      "text/plain": [
       "<matplotlib.figure.Figure at 0x7fcd928cfef0>"
      ]
     },
     "metadata": {},
     "output_type": "display_data"
    }
   ],
   "source": [
    "# /home/ubuntu/photo_sets/dress_shirts_no_quarter/_r2_c4.png\n",
    "# [(45, 48, 58), (215, 216, 219), (171, 173, 176), (137, 140, 139), (152, 154, 165)]\n",
    "idx = 4\n",
    "print(dress_shirts_nq_cent_pal[idx])\n",
    "display_palette(dress_shirts_nq_cent_pal[idx][1])"
   ]
  },
  {
   "cell_type": "code",
   "execution_count": null,
   "metadata": {
    "collapsed": true
   },
   "outputs": [],
   "source": []
  },
  {
   "cell_type": "code",
   "execution_count": null,
   "metadata": {
    "collapsed": true
   },
   "outputs": [],
   "source": []
  },
  {
   "cell_type": "code",
   "execution_count": null,
   "metadata": {
    "collapsed": true
   },
   "outputs": [],
   "source": []
  },
  {
   "cell_type": "code",
   "execution_count": null,
   "metadata": {
    "collapsed": true
   },
   "outputs": [],
   "source": []
  },
  {
   "cell_type": "code",
   "execution_count": null,
   "metadata": {
    "collapsed": true
   },
   "outputs": [],
   "source": []
  },
  {
   "cell_type": "code",
   "execution_count": null,
   "metadata": {
    "collapsed": true
   },
   "outputs": [],
   "source": [
    "pal_lst_png = run_palettization_to_rgb_list(seventies_list_png)"
   ]
  },
  {
   "cell_type": "code",
   "execution_count": null,
   "metadata": {
    "collapsed": true
   },
   "outputs": [],
   "source": [
    "pal_lst_jpg = run_palettization_to_rgb_list(seventies_list_jpg)"
   ]
  },
  {
   "cell_type": "code",
   "execution_count": null,
   "metadata": {
    "collapsed": true
   },
   "outputs": [],
   "source": [
    "pal_list = pal_lst_png + pal_lst_jpg"
   ]
  },
  {
   "cell_type": "code",
   "execution_count": null,
   "metadata": {
    "collapsed": true
   },
   "outputs": [],
   "source": [
    "pal_list"
   ]
  },
  {
   "cell_type": "code",
   "execution_count": null,
   "metadata": {
    "collapsed": true
   },
   "outputs": [],
   "source": [
    "s_p_ss = SetSimilarity()"
   ]
  },
  {
   "cell_type": "code",
   "execution_count": null,
   "metadata": {
    "collapsed": true
   },
   "outputs": [],
   "source": [
    "cent_pal = s_p_ss.set_central_list(pal_lst)\n",
    "cent_pal"
   ]
  },
  {
   "cell_type": "code",
   "execution_count": null,
   "metadata": {
    "collapsed": true
   },
   "outputs": [],
   "source": []
  },
  {
   "cell_type": "code",
   "execution_count": null,
   "metadata": {
    "collapsed": true
   },
   "outputs": [],
   "source": []
  },
  {
   "cell_type": "code",
   "execution_count": null,
   "metadata": {
    "collapsed": true,
    "scrolled": true
   },
   "outputs": [],
   "source": [
    "pal_lst = run_palettization_to_rgb_list(dress_shirts_lst)"
   ]
  },
  {
   "cell_type": "code",
   "execution_count": null,
   "metadata": {
    "collapsed": true
   },
   "outputs": [],
   "source": [
    "d_s_ss = SetSimilarity()"
   ]
  },
  {
   "cell_type": "code",
   "execution_count": null,
   "metadata": {
    "collapsed": true,
    "scrolled": false
   },
   "outputs": [],
   "source": [
    "cent_pal = d_s_ss.set_central_list(pal_lst)\n",
    "print(cent_pal)"
   ]
  },
  {
   "cell_type": "code",
   "execution_count": null,
   "metadata": {
    "collapsed": true
   },
   "outputs": [],
   "source": [
    "display_palette(cent_pal[1][1])"
   ]
  },
  {
   "cell_type": "code",
   "execution_count": null,
   "metadata": {
    "collapsed": true
   },
   "outputs": [],
   "source": [
    "display_img('/Users/Rabbit/capstone/photo_sets/dress_shirts/_r0_c1.png')"
   ]
  },
  {
   "cell_type": "code",
   "execution_count": null,
   "metadata": {
    "collapsed": true
   },
   "outputs": [],
   "source": [
    "display_palette(cent_pal[1][1])"
   ]
  },
  {
   "cell_type": "code",
   "execution_count": null,
   "metadata": {
    "collapsed": true
   },
   "outputs": [],
   "source": [
    "display_img('/Users/Rabbit/capstone/photo_sets/dress_shirts/_r0_c2.png')"
   ]
  },
  {
   "cell_type": "code",
   "execution_count": null,
   "metadata": {
    "collapsed": true
   },
   "outputs": [],
   "source": [
    "display_palette(cent_pal[2][1])"
   ]
  },
  {
   "cell_type": "code",
   "execution_count": null,
   "metadata": {
    "collapsed": true
   },
   "outputs": [],
   "source": [
    "display_img('')"
   ]
  },
  {
   "cell_type": "code",
   "execution_count": null,
   "metadata": {
    "collapsed": true
   },
   "outputs": [],
   "source": []
  },
  {
   "cell_type": "code",
   "execution_count": null,
   "metadata": {
    "collapsed": true
   },
   "outputs": [],
   "source": [
    "pal_lst = run_palettization_to_rgb_list(bee_friendly_flowers_list)"
   ]
  },
  {
   "cell_type": "code",
   "execution_count": null,
   "metadata": {
    "collapsed": true
   },
   "outputs": [],
   "source": [
    "b_f_f_ss = SetSimilarity()"
   ]
  },
  {
   "cell_type": "code",
   "execution_count": null,
   "metadata": {
    "collapsed": true
   },
   "outputs": [],
   "source": [
    "cent_pal = b_f_f_ss.set_central_list(pal_lst)"
   ]
  },
  {
   "cell_type": "code",
   "execution_count": null,
   "metadata": {
    "collapsed": true
   },
   "outputs": [],
   "source": [
    "cent_pal"
   ]
  },
  {
   "cell_type": "code",
   "execution_count": null,
   "metadata": {
    "collapsed": true
   },
   "outputs": [],
   "source": [
    "display_palette(cent_pal[0][1])"
   ]
  },
  {
   "cell_type": "code",
   "execution_count": null,
   "metadata": {
    "collapsed": true
   },
   "outputs": [],
   "source": [
    "display_img('/Users/Rabbit/capstone/photo_sets/bee_friendly_flowers/_phlox.png')"
   ]
  },
  {
   "cell_type": "code",
   "execution_count": null,
   "metadata": {
    "collapsed": true
   },
   "outputs": [],
   "source": []
  },
  {
   "cell_type": "code",
   "execution_count": null,
   "metadata": {
    "collapsed": true
   },
   "outputs": [],
   "source": []
  },
  {
   "cell_type": "code",
   "execution_count": null,
   "metadata": {
    "collapsed": true
   },
   "outputs": [],
   "source": []
  },
  {
   "cell_type": "code",
   "execution_count": null,
   "metadata": {
    "collapsed": true
   },
   "outputs": [],
   "source": []
  },
  {
   "cell_type": "code",
   "execution_count": null,
   "metadata": {
    "collapsed": true
   },
   "outputs": [],
   "source": [
    "dress_shirt_ss = SetSimilarity()"
   ]
  },
  {
   "cell_type": "code",
   "execution_count": null,
   "metadata": {
    "collapsed": true
   },
   "outputs": [],
   "source": [
    "cent_pal = dress_shirt_ss.set_central_list(pal_lst)"
   ]
  },
  {
   "cell_type": "code",
   "execution_count": null,
   "metadata": {
    "collapsed": true
   },
   "outputs": [],
   "source": []
  },
  {
   "cell_type": "code",
   "execution_count": null,
   "metadata": {
    "collapsed": true
   },
   "outputs": [],
   "source": []
  },
  {
   "cell_type": "code",
   "execution_count": null,
   "metadata": {
    "collapsed": true
   },
   "outputs": [],
   "source": []
  },
  {
   "cell_type": "code",
   "execution_count": null,
   "metadata": {
    "collapsed": true
   },
   "outputs": [],
   "source": []
  },
  {
   "cell_type": "code",
   "execution_count": null,
   "metadata": {
    "collapsed": true
   },
   "outputs": [],
   "source": []
  },
  {
   "cell_type": "code",
   "execution_count": null,
   "metadata": {
    "collapsed": true
   },
   "outputs": [],
   "source": [
    "central_dress_shirt_palette = list_to_central_pipeline(dress_shirts_lst)"
   ]
  },
  {
   "cell_type": "code",
   "execution_count": null,
   "metadata": {
    "collapsed": true
   },
   "outputs": [],
   "source": [
    "print(central_dress_shirt_palette)"
   ]
  },
  {
   "cell_type": "code",
   "execution_count": null,
   "metadata": {
    "collapsed": true
   },
   "outputs": [],
   "source": [
    "pure_central_dress_shirt_palette = pure_palette_list(central_dress_shirt_palette)"
   ]
  },
  {
   "cell_type": "code",
   "execution_count": null,
   "metadata": {
    "collapsed": true
   },
   "outputs": [],
   "source": []
  },
  {
   "cell_type": "code",
   "execution_count": null,
   "metadata": {
    "collapsed": true
   },
   "outputs": [],
   "source": [
    "seventies_palettes = run_palettization_to_rgb_list(seventies_links)"
   ]
  },
  {
   "cell_type": "code",
   "execution_count": null,
   "metadata": {
    "collapsed": true
   },
   "outputs": [],
   "source": [
    "seventies_similarity = SetSimilarity()"
   ]
  },
  {
   "cell_type": "code",
   "execution_count": null,
   "metadata": {
    "collapsed": true
   },
   "outputs": [],
   "source": [
    "seventies_central_palette = seventies_similarity.set_central_list(seventies_palettes)"
   ]
  },
  {
   "cell_type": "code",
   "execution_count": null,
   "metadata": {
    "collapsed": true
   },
   "outputs": [],
   "source": [
    "seventies_central_palette"
   ]
  },
  {
   "cell_type": "code",
   "execution_count": null,
   "metadata": {
    "collapsed": true
   },
   "outputs": [],
   "source": [
    "display_palette(seventies_central_palette[0][1])"
   ]
  },
  {
   "cell_type": "code",
   "execution_count": null,
   "metadata": {
    "collapsed": true
   },
   "outputs": [],
   "source": [
    "idx = 1\n",
    "display_palette(sev)"
   ]
  },
  {
   "cell_type": "code",
   "execution_count": null,
   "metadata": {
    "collapsed": true
   },
   "outputs": [],
   "source": []
  },
  {
   "cell_type": "code",
   "execution_count": null,
   "metadata": {
    "collapsed": true
   },
   "outputs": [],
   "source": [
    "pure_palette_list.clear()"
   ]
  },
  {
   "cell_type": "code",
   "execution_count": null,
   "metadata": {
    "collapsed": true
   },
   "outputs": [],
   "source": [
    "display_palette(pure_palette_list)"
   ]
  },
  {
   "cell_type": "code",
   "execution_count": null,
   "metadata": {
    "collapsed": true
   },
   "outputs": [],
   "source": [
    "len(pure_palette_list)"
   ]
  },
  {
   "cell_type": "code",
   "execution_count": null,
   "metadata": {
    "collapsed": true
   },
   "outputs": [],
   "source": [
    "pure_hsv_palette_list = []\n",
    "for palette in seventies_palettes:\n",
    "    pure_hsv_palette_list.append(palette[0])\n",
    "    \n",
    "# pure_hsv_palette_list"
   ]
  },
  {
   "cell_type": "code",
   "execution_count": null,
   "metadata": {
    "collapsed": true
   },
   "outputs": [],
   "source": [
    "display_palette(seventies_central_palette)"
   ]
  },
  {
   "cell_type": "code",
   "execution_count": null,
   "metadata": {
    "collapsed": true
   },
   "outputs": [],
   "source": [
    "seventies_raw = ['1main.jpg',\n",
    "'208b9fb5b409ba3779a5d3e98f41f35b--vintage-ads-retro-ads.jpg',\n",
    "'3075165968_c9215cbb36.jpg',\n",
    "'4080666566_6704eebaa1_o.jpg',\n",
    "'45728eac5b9ee8c9e2d3cfed76397272--crochet-vests-crochet-sweaters.jpg',\n",
    "'526e535cbb654194d8b622207a550fea.jpg',\n",
    "'5c4aacc11d49fed320586cb53a482403.jpg',\n",
    "'620e711e599d1f500ae87071f33dd5a0--s-decor-retro-home-decor.jpg',\n",
    "'6709227143_3d1801bd98_b-520x733.jpg',\n",
    "'70s-men-fashion-281__700.jpg',\n",
    "'70sheader.png',\n",
    "'91f9d50398c88b2c580e89184b9edf5a.jpg',\n",
    "'9d9641f3876091907a691766ac3e938f.jpg',\n",
    "'Concert-Poster-Art-classic-rock-20804540-450-330.jpg',\n",
    "'HT_retro_70s_home_1_jt_160905_4x3_992.jpg',\n",
    "'M-retro-4.jpg',\n",
    "'Newport-Lights-ad-yellow-t-shirt.jpg',\n",
    "'Screen-Shot-2012-01-27-at-12.43.26-PM1.png',\n",
    "'Václav-Zeman-The-First-Generation-1974.jpg',\n",
    "'Ydz9c-1468504224-1001-blog-spacefoodsticks_main_1200.jpg',\n",
    "'aT15w-1458316051-754-blog-sunshinefamily_ad_76.jpg',\n",
    "'aria-pura_fmt.jpg',\n",
    "'aruba.jpg',\n",
    "'b30d8a5b3cfce748b55f598119acd0ba--vintage-outfits-fashion-vintage.jpg',\n",
    "'b9cef75289fc9f54858fc388ef42f942--feminism-poster-political-posters.jpg',\n",
    "'bowie.jpg',\n",
    "'brady_bunch_1970s.jpg',\n",
    "'cc8b7ccff0b23511d0c622fcd297c02c.jpg',\n",
    "'ce6691c717766c095c8735eecb406aac.jpg',\n",
    "'d218b4051bfa39178b82c77f9c97c34d--big-mouths-vintage-toys-s.jpg',\n",
    "'doublemint_ad_2_1975_copy.jpg',\n",
    "'e10-254_500.jpg',\n",
    "'efdbc9532e8260b63d0b48745a5916d7.jpg',\n",
    "'f35a887378aee1d226631089e486b38e.jpg',\n",
    "'human_factor_poster_01.jpg',\n",
    "'landscape-1463088645-1970s-toys-collage.jpg',\n",
    "'london-colourful-life-in-the-1970s-07-1024x614_c.jpg',\n",
    "'milton-16340-31.jpeg',\n",
    "'poster-grandfather-computer-22832.jpg',\n",
    "'posters10n-3-web.jpg',\n",
    "'room.jpg',\n",
    "'slang-1970s.png']"
   ]
  },
  {
   "cell_type": "code",
   "execution_count": null,
   "metadata": {
    "collapsed": true
   },
   "outputs": [],
   "source": []
  },
  {
   "cell_type": "code",
   "execution_count": null,
   "metadata": {
    "collapsed": true
   },
   "outputs": [],
   "source": []
  },
  {
   "cell_type": "code",
   "execution_count": null,
   "metadata": {
    "collapsed": true
   },
   "outputs": [],
   "source": []
  },
  {
   "cell_type": "code",
   "execution_count": null,
   "metadata": {
    "collapsed": true
   },
   "outputs": [],
   "source": []
  },
  {
   "cell_type": "code",
   "execution_count": null,
   "metadata": {
    "collapsed": true
   },
   "outputs": [],
   "source": []
  },
  {
   "cell_type": "code",
   "execution_count": null,
   "metadata": {
    "collapsed": true
   },
   "outputs": [],
   "source": [
    "rgb = (0, 255, 0)\n",
    "c = Color(rgb)\n",
    "print(c.hsv)\n",
    "# print(plt.imshow([[c.hsv]]))"
   ]
  },
  {
   "cell_type": "code",
   "execution_count": null,
   "metadata": {
    "collapsed": true
   },
   "outputs": [],
   "source": [
    "print(pure_palette_list)"
   ]
  },
  {
   "cell_type": "code",
   "execution_count": null,
   "metadata": {
    "collapsed": true
   },
   "outputs": [],
   "source": []
  },
  {
   "cell_type": "code",
   "execution_count": null,
   "metadata": {
    "collapsed": true
   },
   "outputs": [],
   "source": [
    "test_images = ['/Users/Rabbit/Downloads/china_test.jpg', \n",
    "               '/Users/Rabbit/Downloads/vilnius_test.jpg', \n",
    "               '/Users/Rabbit/Downloads/spices_test.jpg']"
   ]
  },
  {
   "cell_type": "code",
   "execution_count": null,
   "metadata": {
    "collapsed": true
   },
   "outputs": [],
   "source": [
    "loc_fashion_images = ['/Users/Rabbit/capstone/materials/scrape_fashion_2/2003.86.1.png', \n",
    "                     '/Users/Rabbit/capstone/materials/scrape_fashion_2/2006.44.1.png', \n",
    "                     '/Users/Rabbit/capstone/materials/scrape_fashion_2/2006.56.1.png', \n",
    "                     '/Users/Rabbit/capstone/materials/scrape_fashion_2/2006.56.2.png', \n",
    "                     '/Users/Rabbit/capstone/materials/scrape_fashion_2/2007.30.1.png', \n",
    "                     '/Users/Rabbit/capstone/materials/scrape_fashion_2/2008.4.1.png', \n",
    "                     '/Users/Rabbit/capstone/materials/scrape_fashion_2/2010.98.1.png', \n",
    "                     '/Users/Rabbit/capstone/materials/scrape_fashion_2/74.32.4.png', \n",
    "                     '/Users/Rabbit/capstone/materials/scrape_fashion_2/76.64.1.png', \n",
    "                     '/Users/Rabbit/capstone/materials/scrape_fashion_2/80.1.4.png']"
   ]
  },
  {
   "cell_type": "code",
   "execution_count": null,
   "metadata": {
    "collapsed": true
   },
   "outputs": [],
   "source": [
    "ColorThief?"
   ]
  },
  {
   "cell_type": "code",
   "execution_count": null,
   "metadata": {
    "collapsed": true
   },
   "outputs": [],
   "source": [
    "# img_path = loc_fashion_images[1]"
   ]
  },
  {
   "cell_type": "code",
   "execution_count": null,
   "metadata": {
    "collapsed": true
   },
   "outputs": [],
   "source": [
    "img_path = test_images[1]"
   ]
  },
  {
   "cell_type": "code",
   "execution_count": null,
   "metadata": {
    "collapsed": true
   },
   "outputs": [],
   "source": [
    "test_images"
   ]
  },
  {
   "cell_type": "code",
   "execution_count": null,
   "metadata": {
    "collapsed": true
   },
   "outputs": [],
   "source": [
    "decade_palettes = [ [(0.0, [(201, 195, 193), (31, 30, 29), (165, 151, 138), (148, 135, 126), (94, 89, 87), (119, 115, 112), (84, 84, 80), (101, 100, 92)])],\n",
    "                    [(3442.1891140569815, [(205, 202, 198), (33, 31, 28), (121, 119, 114), (157, 150, 139), (92, 92, 86), (100, 91, 86), (148, 139, 131), (102, 100, 91)])],\n",
    "                    [(3899.103815534721, [(214, 210, 207), (80, 66, 50), (153, 139, 121), (112, 96, 79), (126, 111, 89), (188, 174, 156), (148, 148, 148), (156, 148, 149)])],\n",
    "                    [(7872.9902950932819, [(66, 52, 45), (222, 222, 222), (110, 93, 82), (135, 128, 123), (122, 109, 97), (100, 100, 95), (165, 153, 147), (170, 164, 155)])],\n",
    "                    [(15468.418055458445, [(44, 44, 44), (205, 204, 201), (125, 125, 124), (99, 100, 94), (156, 156, 153), (164, 156, 152), (148, 148, 156), (92, 92, 100)])],\n",
    "                    [(11377.787368176734, [(192, 187, 186), (39, 45, 46), (135, 135, 134), (163, 164, 163), (106, 109, 109), (90, 92, 94), (157, 156, 164), (98, 100, 108)])],\n",
    "                    [(16861.608719121228, [(49, 46, 43), (195, 192, 189), (130, 128, 127), (155, 158, 161), (91, 86, 82), (148, 148, 156), (104, 99, 100), (107, 108, 106)])],\n",
    "                    [(38874.991751545182, [(206, 201, 199), (40, 38, 37), (94, 89, 86), (117, 114, 112), (151, 148, 139), (103, 100, 92), (148, 139, 138), (84, 92, 84)])],\n",
    "                    [(19747.072618635553, [(48, 49, 52), (210, 204, 202), (118, 120, 125), (166, 161, 160), (101, 90, 92), (105, 100, 91), (149, 138, 138), (154, 148, 139)])],\n",
    "                    [(17851.38526962269, [(181, 176, 172), (68, 65, 58), (116, 111, 103), (221, 220, 225), (131, 128, 125), (92, 84, 84), (84, 83, 84), (140, 124, 124)])],\n",
    "                    [(20429.461822270936, [(208, 201, 198), (27, 27, 29), (128, 124, 121), (92, 92, 89), (100, 92, 92), (156, 148, 140), (101, 100, 92), (156, 140, 140)])],\n",
    "                    [(24466.800045832199, [(196, 193, 186), (53, 46, 37), (131, 126, 118), (156, 156, 147), (106, 101, 92), (90, 83, 75), (155, 148, 148), (99, 92, 92)])],\n",
    "                    [(9728.2550088663593, [(213, 211, 209), (89, 88, 82), (133, 133, 127), (108, 109, 108), (173, 171, 165), (155, 157, 156), (116, 108, 108), (164, 156, 156)])] ]"
   ]
  },
  {
   "cell_type": "code",
   "execution_count": null,
   "metadata": {
    "collapsed": true
   },
   "outputs": [],
   "source": [
    "palette_1880 = pure_palette_list[0]"
   ]
  },
  {
   "cell_type": "code",
   "execution_count": null,
   "metadata": {
    "collapsed": true
   },
   "outputs": [],
   "source": [
    "hsv_palettes = [\n",
    "[(0.0, [(201, 195, 193), (31, 30, 29), (165, 151, 138), (148, 135, 126), (94, 89, 87), (119, 115, 112), (84, 84, 80), (101, 100, 92)])],\n",
    "[(21.932750312643389, [(205, 202, 198), (33, 31, 28), (121, 119, 114), (157, 150, 139), (92, 92, 86), (100, 91, 86), (148, 139, 131), (102, 100, 91)])],\n",
    "[(24.14241698432032, [(66, 52, 45), (222, 222, 222), (110, 93, 82), (135, 128, 123), (122, 109, 97), (100, 100, 95), (165, 153, 147), (170, 164, 155)])],\n",
    "[(55.344889047438663, [(225, 224, 223), (151, 127, 100), (188, 169, 144), (212, 198, 179), (124, 124, 124), (172, 172, 172), (153, 124, 124), (186, 172, 172)])],\n",
    "[(133.74628216139538, [(211, 208, 208), (41, 34, 31), (103, 82, 74), (129, 122, 120), (153, 142, 138), (117, 101, 90), (168, 156, 147), (84, 92, 92)])],\n",
    "[(87.906318108503413, [(181, 179, 177), (59, 49, 38), (87, 72, 59), (223, 221, 218), (115, 103, 92), (101, 87, 72), (136, 120, 106), (151, 136, 119)])],\n",
    "[(126.15456696139745, [(63, 57, 48), (221, 221, 219), (138, 131, 122), (110, 98, 86), (119, 110, 96), (165, 154, 143), (174, 167, 153), (177, 175, 167)])],\n",
    "[(277.76148378796586, [(143, 139, 130), (42, 37, 32), (228, 223, 219), (189, 183, 174), (207, 200, 190), (77, 67, 57), (84, 76, 59), (195, 196, 185)])],\n",
    "[(146.86350031680615, [(212, 210, 207), (52, 42, 38), (106, 92, 86), (130, 122, 118), (119, 108, 99), (92, 92, 87), (162, 157, 147), (157, 146, 141)])],\n",
    "[(121.14453392085414, [(193, 186, 186), (67, 59, 55), (119, 110, 106), (94, 82, 76), (103, 93, 82), (141, 130, 124), (232, 223, 223), (150, 141, 131)])],\n",
    "[(133.37420110918586, [(231, 228, 226), (78, 76, 73), (147, 143, 139), (116, 107, 105), (173, 163, 158), (190, 179, 161), (122, 117, 106), (183, 178, 175)])],\n",
    "[(172.57672755092165, [(196, 193, 186), (53, 46, 37), (131, 126, 118), (156, 156, 147), (106, 101, 92), (90, 83, 75), (155, 148, 148), (99, 92, 92)])],\n",
    "[(62.529411138383566, [(50, 48, 46), (231, 229, 227), (111, 103, 94), (137, 134, 130), (99, 100, 96), (134, 122, 102), (169, 159, 148), (188, 177, 158)])]\n",
    "]"
   ]
  },
  {
   "cell_type": "code",
   "execution_count": null,
   "metadata": {
    "collapsed": true
   },
   "outputs": [],
   "source": []
  },
  {
   "cell_type": "code",
   "execution_count": null,
   "metadata": {
    "collapsed": true
   },
   "outputs": [],
   "source": [
    "rgb = (201, 195, 193)\n",
    "c = Color(rgb)\n",
    "print(c.hsv)\n",
    "# print(plt.imshow([[c.hsv]]))"
   ]
  },
  {
   "cell_type": "code",
   "execution_count": null,
   "metadata": {
    "collapsed": true
   },
   "outputs": [],
   "source": [
    "rgb = (31, 30, 29)\n",
    "c = Color(rgb)\n",
    "print(c.hsv)\n",
    "# print(plt.imshow([[c.hsv]]))"
   ]
  },
  {
   "cell_type": "code",
   "execution_count": null,
   "metadata": {
    "collapsed": true
   },
   "outputs": [],
   "source": []
  },
  {
   "cell_type": "code",
   "execution_count": null,
   "metadata": {
    "collapsed": true
   },
   "outputs": [],
   "source": []
  },
  {
   "cell_type": "code",
   "execution_count": null,
   "metadata": {
    "collapsed": true
   },
   "outputs": [],
   "source": []
  },
  {
   "cell_type": "code",
   "execution_count": null,
   "metadata": {
    "collapsed": true
   },
   "outputs": [],
   "source": [
    "idx = 2"
   ]
  },
  {
   "cell_type": "code",
   "execution_count": null,
   "metadata": {
    "collapsed": true
   },
   "outputs": [],
   "source": [
    "print(display_palette(pure_hsv_palette_list[idx]))"
   ]
  },
  {
   "cell_type": "code",
   "execution_count": null,
   "metadata": {
    "collapsed": true
   },
   "outputs": [],
   "source": [
    "print(labeled_palettes[idx])\n",
    "print(display_palette(pure_palette_list[idx]))"
   ]
  },
  {
   "cell_type": "code",
   "execution_count": null,
   "metadata": {
    "collapsed": true
   },
   "outputs": [],
   "source": []
  },
  {
   "cell_type": "code",
   "execution_count": null,
   "metadata": {
    "collapsed": true
   },
   "outputs": [],
   "source": []
  },
  {
   "cell_type": "code",
   "execution_count": null,
   "metadata": {
    "collapsed": true
   },
   "outputs": [],
   "source": []
  },
  {
   "cell_type": "code",
   "execution_count": null,
   "metadata": {
    "collapsed": true
   },
   "outputs": [],
   "source": []
  },
  {
   "cell_type": "code",
   "execution_count": null,
   "metadata": {
    "collapsed": true
   },
   "outputs": [],
   "source": []
  },
  {
   "cell_type": "code",
   "execution_count": null,
   "metadata": {
    "collapsed": true
   },
   "outputs": [],
   "source": []
  },
  {
   "cell_type": "code",
   "execution_count": null,
   "metadata": {
    "collapsed": true
   },
   "outputs": [],
   "source": []
  },
  {
   "cell_type": "code",
   "execution_count": null,
   "metadata": {
    "collapsed": true
   },
   "outputs": [],
   "source": []
  },
  {
   "cell_type": "code",
   "execution_count": null,
   "metadata": {
    "collapsed": true
   },
   "outputs": [],
   "source": []
  },
  {
   "cell_type": "code",
   "execution_count": null,
   "metadata": {
    "collapsed": true
   },
   "outputs": [],
   "source": []
  },
  {
   "cell_type": "code",
   "execution_count": null,
   "metadata": {
    "collapsed": true
   },
   "outputs": [],
   "source": []
  },
  {
   "cell_type": "code",
   "execution_count": null,
   "metadata": {
    "collapsed": true
   },
   "outputs": [],
   "source": []
  },
  {
   "cell_type": "code",
   "execution_count": null,
   "metadata": {
    "collapsed": true
   },
   "outputs": [],
   "source": []
  },
  {
   "cell_type": "code",
   "execution_count": null,
   "metadata": {
    "collapsed": true
   },
   "outputs": [],
   "source": []
  },
  {
   "cell_type": "code",
   "execution_count": null,
   "metadata": {
    "collapsed": true
   },
   "outputs": [],
   "source": []
  },
  {
   "cell_type": "code",
   "execution_count": null,
   "metadata": {
    "collapsed": true
   },
   "outputs": [],
   "source": []
  },
  {
   "cell_type": "code",
   "execution_count": null,
   "metadata": {
    "collapsed": true
   },
   "outputs": [],
   "source": []
  },
  {
   "cell_type": "code",
   "execution_count": null,
   "metadata": {
    "collapsed": true
   },
   "outputs": [],
   "source": []
  },
  {
   "cell_type": "code",
   "execution_count": null,
   "metadata": {
    "collapsed": true
   },
   "outputs": [],
   "source": []
  },
  {
   "cell_type": "code",
   "execution_count": null,
   "metadata": {
    "collapsed": true
   },
   "outputs": [],
   "source": []
  },
  {
   "cell_type": "code",
   "execution_count": null,
   "metadata": {
    "collapsed": true
   },
   "outputs": [],
   "source": [
    "print(labeled_palettes[0])\n",
    "print(display_palette(pure_palette_list[0]))"
   ]
  },
  {
   "cell_type": "code",
   "execution_count": null,
   "metadata": {
    "collapsed": true
   },
   "outputs": [],
   "source": [
    "print(labeled_palettes[1])\n",
    "print(display_palette(pure_palette_list[1]))"
   ]
  },
  {
   "cell_type": "code",
   "execution_count": null,
   "metadata": {
    "collapsed": true
   },
   "outputs": [],
   "source": [
    "print(labeled_palettes[2])\n",
    "print(display_palette(pure_palette_list[2]))"
   ]
  },
  {
   "cell_type": "code",
   "execution_count": null,
   "metadata": {
    "collapsed": true
   },
   "outputs": [],
   "source": [
    "print(labeled_palettes[3])\n",
    "print(display_palette(pure_palette_list[3]))"
   ]
  },
  {
   "cell_type": "code",
   "execution_count": null,
   "metadata": {
    "collapsed": true
   },
   "outputs": [],
   "source": [
    "print(labeled_palettes[4])\n",
    "print(display_palette(pure_palette_list[4]))"
   ]
  },
  {
   "cell_type": "code",
   "execution_count": null,
   "metadata": {
    "collapsed": true
   },
   "outputs": [],
   "source": [
    "print(labeled_palettes[5])\n",
    "print(display_palette(pure_palette_list[5]))"
   ]
  },
  {
   "cell_type": "code",
   "execution_count": null,
   "metadata": {
    "collapsed": true
   },
   "outputs": [],
   "source": [
    "print(labeled_palettes[6])\n",
    "print(display_palette(pure_palette_list[6]))"
   ]
  },
  {
   "cell_type": "code",
   "execution_count": null,
   "metadata": {
    "collapsed": true
   },
   "outputs": [],
   "source": [
    "print(labeled_palettes[7])\n",
    "print(display_palette(pure_palette_list[7]))"
   ]
  },
  {
   "cell_type": "code",
   "execution_count": null,
   "metadata": {
    "collapsed": true
   },
   "outputs": [],
   "source": [
    "print(labeled_palettes[8])\n",
    "print(display_palette(pure_palette_list[8]))"
   ]
  },
  {
   "cell_type": "code",
   "execution_count": null,
   "metadata": {
    "collapsed": true
   },
   "outputs": [],
   "source": [
    "print(labeled_palettes[9])\n",
    "print(display_palette(pure_palette_list[9]))"
   ]
  },
  {
   "cell_type": "code",
   "execution_count": null,
   "metadata": {
    "collapsed": true
   },
   "outputs": [],
   "source": [
    "print(labeled_palettes[10])\n",
    "print(display_palette(pure_palette_list[10]))"
   ]
  },
  {
   "cell_type": "code",
   "execution_count": null,
   "metadata": {
    "collapsed": true
   },
   "outputs": [],
   "source": [
    "print(labeled_palettes[11])\n",
    "print(display_palette(pure_palette_list[11]))"
   ]
  },
  {
   "cell_type": "code",
   "execution_count": null,
   "metadata": {
    "collapsed": true
   },
   "outputs": [],
   "source": [
    "print(labeled_palettes[12])\n",
    "print(display_palette(pure_palette_list[12]))"
   ]
  },
  {
   "cell_type": "code",
   "execution_count": null,
   "metadata": {
    "collapsed": true
   },
   "outputs": [],
   "source": []
  },
  {
   "cell_type": "code",
   "execution_count": null,
   "metadata": {
    "collapsed": true
   },
   "outputs": [],
   "source": []
  },
  {
   "cell_type": "code",
   "execution_count": null,
   "metadata": {
    "collapsed": true
   },
   "outputs": [],
   "source": []
  },
  {
   "cell_type": "code",
   "execution_count": null,
   "metadata": {
    "collapsed": true
   },
   "outputs": [],
   "source": []
  },
  {
   "cell_type": "code",
   "execution_count": null,
   "metadata": {
    "collapsed": true
   },
   "outputs": [],
   "source": []
  },
  {
   "cell_type": "code",
   "execution_count": null,
   "metadata": {
    "collapsed": true
   },
   "outputs": [],
   "source": []
  },
  {
   "cell_type": "code",
   "execution_count": null,
   "metadata": {
    "collapsed": true
   },
   "outputs": [],
   "source": [
    "run_palettization_to_rgb_list(test_images)"
   ]
  },
  {
   "cell_type": "code",
   "execution_count": null,
   "metadata": {
    "collapsed": true
   },
   "outputs": [],
   "source": [
    "decades = ['1880', '1900', '1910', '1920', '1930', '1940', '1950', '1960', '1970', '1980', '1990', '2000', '2010']"
   ]
  },
  {
   "cell_type": "code",
   "execution_count": null,
   "metadata": {
    "collapsed": true
   },
   "outputs": [],
   "source": [
    "len(decades)"
   ]
  },
  {
   "cell_type": "code",
   "execution_count": null,
   "metadata": {
    "collapsed": true
   },
   "outputs": [],
   "source": [
    "labeled_palettes = list(zip(decades, pure_palette_list))"
   ]
  },
  {
   "cell_type": "code",
   "execution_count": null,
   "metadata": {
    "collapsed": true
   },
   "outputs": [],
   "source": [
    "labeled_palettes"
   ]
  },
  {
   "cell_type": "code",
   "execution_count": null,
   "metadata": {
    "collapsed": true
   },
   "outputs": [],
   "source": []
  },
  {
   "cell_type": "code",
   "execution_count": null,
   "metadata": {
    "collapsed": true
   },
   "outputs": [],
   "source": [
    "run_palettization_to_rgb_list(loc_fashion_images)"
   ]
  },
  {
   "cell_type": "code",
   "execution_count": null,
   "metadata": {
    "collapsed": true
   },
   "outputs": [],
   "source": []
  },
  {
   "cell_type": "code",
   "execution_count": null,
   "metadata": {
    "collapsed": true
   },
   "outputs": [],
   "source": []
  },
  {
   "cell_type": "code",
   "execution_count": null,
   "metadata": {
    "collapsed": true
   },
   "outputs": [],
   "source": [
    "# %pdb"
   ]
  },
  {
   "cell_type": "code",
   "execution_count": null,
   "metadata": {
    "collapsed": true
   },
   "outputs": [],
   "source": [
    "c = Color((0,0,0))"
   ]
  },
  {
   "cell_type": "code",
   "execution_count": null,
   "metadata": {
    "collapsed": true
   },
   "outputs": [],
   "source": [
    "c.hsv"
   ]
  },
  {
   "cell_type": "code",
   "execution_count": null,
   "metadata": {
    "collapsed": true
   },
   "outputs": [],
   "source": []
  },
  {
   "cell_type": "code",
   "execution_count": null,
   "metadata": {
    "collapsed": true
   },
   "outputs": [],
   "source": [
    "palette_me_now = Palettization(img_path)"
   ]
  },
  {
   "cell_type": "code",
   "execution_count": null,
   "metadata": {
    "collapsed": true
   },
   "outputs": [],
   "source": [
    "# %pdb"
   ]
  },
  {
   "cell_type": "code",
   "execution_count": null,
   "metadata": {
    "collapsed": true
   },
   "outputs": [],
   "source": [
    "palette_me_now.zip_centroid_count()"
   ]
  },
  {
   "cell_type": "code",
   "execution_count": null,
   "metadata": {
    "collapsed": true
   },
   "outputs": [],
   "source": [
    "# img_palette"
   ]
  },
  {
   "cell_type": "code",
   "execution_count": null,
   "metadata": {
    "collapsed": true
   },
   "outputs": [],
   "source": [
    "palette_me_now.get_hsv_palette()"
   ]
  },
  {
   "cell_type": "code",
   "execution_count": null,
   "metadata": {
    "collapsed": true
   },
   "outputs": [],
   "source": [
    "from colorthief import ColorThief"
   ]
  },
  {
   "cell_type": "code",
   "execution_count": null,
   "metadata": {
    "collapsed": true
   },
   "outputs": [],
   "source": [
    "era = decade_palettes[0]"
   ]
  },
  {
   "cell_type": "code",
   "execution_count": null,
   "metadata": {
    "collapsed": true
   },
   "outputs": [],
   "source": [
    "era_palette = ColorThief(era)"
   ]
  },
  {
   "cell_type": "code",
   "execution_count": null,
   "metadata": {
    "collapsed": true
   },
   "outputs": [],
   "source": [
    "!ls ../.."
   ]
  },
  {
   "cell_type": "code",
   "execution_count": null,
   "metadata": {
    "collapsed": true
   },
   "outputs": [],
   "source": [
    "seventies_links = []\n",
    "\n",
    "for img in seventies_raw:\n",
    "    seventies_links.append('/Users/Rabbit/capstone/1970s_google_imgs/'+ str(img))"
   ]
  },
  {
   "cell_type": "code",
   "execution_count": null,
   "metadata": {
    "collapsed": true
   },
   "outputs": [],
   "source": [
    "seventies_links[0]"
   ]
  },
  {
   "cell_type": "code",
   "execution_count": null,
   "metadata": {
    "collapsed": true
   },
   "outputs": [],
   "source": [
    "try_me = [Palettization(link) for link in seventies_links]"
   ]
  },
  {
   "cell_type": "code",
   "execution_count": null,
   "metadata": {
    "collapsed": true
   },
   "outputs": [],
   "source": [
    "try_me"
   ]
  },
  {
   "cell_type": "code",
   "execution_count": null,
   "metadata": {
    "collapsed": true
   },
   "outputs": [],
   "source": [
    "i = 2\n",
    "try_me[i].display_palette()\n",
    "\n",
    "try_me[i].zip_centroid_count()"
   ]
  },
  {
   "cell_type": "code",
   "execution_count": null,
   "metadata": {
    "collapsed": true
   },
   "outputs": [],
   "source": [
    "try_me[i].display_img()"
   ]
  },
  {
   "cell_type": "code",
   "execution_count": null,
   "metadata": {
    "collapsed": true
   },
   "outputs": [],
   "source": [
    "for item in try_me:\n",
    "    item.display_palette()"
   ]
  },
  {
   "cell_type": "code",
   "execution_count": null,
   "metadata": {
    "collapsed": true
   },
   "outputs": [],
   "source": [
    "palette_color_percent"
   ]
  },
  {
   "cell_type": "code",
   "execution_count": null,
   "metadata": {
    "collapsed": true
   },
   "outputs": [],
   "source": [
    "palette_color_percent = {}\n",
    "# label_\n",
    "img_pixel_sum = 0\n",
    "\n",
    "for image in try_me:\n",
    "    for i in image.zip_centroid_count():\n",
    "        img_pixel_sum += i['count']\n",
    "#     print(img_pixel_sum)\n",
    "        palette_color_percent[i['rgb']] = i['count'] / 540000\n",
    "\n",
    "sorted(palette_color_percent, key=lambda x: palette_color_percent[x], reverse=True)"
   ]
  },
  {
   "cell_type": "code",
   "execution_count": null,
   "metadata": {
    "collapsed": true
   },
   "outputs": [],
   "source": []
  },
  {
   "cell_type": "code",
   "execution_count": null,
   "metadata": {
    "collapsed": true
   },
   "outputs": [],
   "source": [
    "type(var)"
   ]
  },
  {
   "cell_type": "code",
   "execution_count": null,
   "metadata": {
    "collapsed": true
   },
   "outputs": [],
   "source": []
  },
  {
   "cell_type": "code",
   "execution_count": null,
   "metadata": {
    "collapsed": true
   },
   "outputs": [],
   "source": []
  },
  {
   "cell_type": "code",
   "execution_count": null,
   "metadata": {
    "collapsed": true
   },
   "outputs": [],
   "source": [
    "# p_1 = [ (200, 161, 70),\n",
    "#         (36, 46, 40),\n",
    "#         (156, 14, 12) ]\n",
    "\n",
    "# p_2 = [ (152, 173, 201),\n",
    "#         (172, 171, 171),\n",
    "#         (122, 56, 37) ]\n",
    "\n",
    "# p_3 = [ (123, 145, 125),\n",
    "#         (228, 228, 236),\n",
    "#         (210, 113, 29) ]\n",
    "\n",
    "# p_3_a = [ (228, 228, 236),\n",
    "#           (123, 145, 125),\n",
    "#           (210, 113, 29) ]\n",
    "\n",
    "# p_4 = [ (228, 223, 204),\n",
    "#         (157, 119, 81),\n",
    "#         (130, 146, 146),\n",
    "#         (210, 165, 89) ]\n",
    "\n",
    "# p_5 = [ (33, 13, 12),\n",
    "#         (42, 28, 29),\n",
    "#         (132, 122, 120),\n",
    "#         (170, 83, 69),\n",
    "#         (145, 130, 127),\n",
    "#         (109, 112, 101) ]\n",
    "\n",
    "# p_6 = [ (62, 85, 101),\n",
    "#         (148, 98, 110),\n",
    "#         (171, 176, 172),\n",
    "#         (124, 60, 132),\n",
    "#         (73, 97, 67) ]\n",
    "\n",
    "# p_test_lst = [ p_1, p_2, p_3, p_3_a, p_4, p_5, p_6 ]"
   ]
  },
  {
   "cell_type": "code",
   "execution_count": null,
   "metadata": {
    "collapsed": true
   },
   "outputs": [],
   "source": [
    "# p_test = SetSimilarity()"
   ]
  },
  {
   "cell_type": "code",
   "execution_count": null,
   "metadata": {
    "collapsed": true
   },
   "outputs": [],
   "source": [
    "print(p_test.c2c_dist(p_1[0], p_1[2]))\n",
    "\n",
    "print(p_test.c2p_dist(p_1[0], p_2))\n",
    "\n",
    "print(p_test.p2p_dist(p_1, p_6))\n",
    "\n",
    "print(p_test.set_central_list(p_test_lst))"
   ]
  },
  {
   "cell_type": "code",
   "execution_count": null,
   "metadata": {
    "collapsed": true
   },
   "outputs": [],
   "source": []
  },
  {
   "cell_type": "code",
   "execution_count": null,
   "metadata": {
    "collapsed": true
   },
   "outputs": [],
   "source": []
  },
  {
   "cell_type": "code",
   "execution_count": null,
   "metadata": {
    "collapsed": true,
    "scrolled": false
   },
   "outputs": [],
   "source": []
  },
  {
   "cell_type": "code",
   "execution_count": null,
   "metadata": {
    "collapsed": true
   },
   "outputs": [],
   "source": []
  },
  {
   "cell_type": "code",
   "execution_count": null,
   "metadata": {
    "collapsed": true
   },
   "outputs": [],
   "source": []
  },
  {
   "cell_type": "code",
   "execution_count": null,
   "metadata": {
    "collapsed": true
   },
   "outputs": [],
   "source": []
  },
  {
   "cell_type": "code",
   "execution_count": null,
   "metadata": {
    "collapsed": true
   },
   "outputs": [],
   "source": [
    "palette_1 = [ ( 255, 0, 0), (0, 255, 0) ]\n",
    "palette_2 = [ (0, 255, 0), (0, 0, 255), (42, 142, 242), (108, 212, 228) ]\n",
    "palette_3 = [ (255, 0, 0), (0, 0, 255) ]\n",
    "palette_4 = [ (127,127,127), (0, 0, 255) ]\n",
    "palette_5 = [ ( 255, 0, 0), (0, 255, 0) ]\n",
    "palette_list_ex = [palette_1, palette_2, palette_3, palette_4, palette_5]\n",
    "color_a = palette_1[0]\n",
    "color_b = palette_1[1]"
   ]
  },
  {
   "cell_type": "code",
   "execution_count": null,
   "metadata": {
    "collapsed": true
   },
   "outputs": [],
   "source": [
    "test_other = SetSimilarity()"
   ]
  },
  {
   "cell_type": "code",
   "execution_count": null,
   "metadata": {
    "collapsed": true
   },
   "outputs": [],
   "source": [
    "print(test_other.c2c_dist(palette_2[0], palette_1[1]))\n",
    "\n",
    "print(test_other.c2p_dist(color_a, palette_2))\n",
    "\n",
    "print(test_other.p2p_dist(palette_2, palette_4))\n",
    "\n",
    "print(test_other.set_central_list(palette_list_ex))"
   ]
  },
  {
   "cell_type": "code",
   "execution_count": null,
   "metadata": {
    "collapsed": true
   },
   "outputs": [],
   "source": []
  },
  {
   "cell_type": "code",
   "execution_count": null,
   "metadata": {
    "collapsed": true
   },
   "outputs": [],
   "source": [
    "from colour import Color"
   ]
  },
  {
   "cell_type": "code",
   "execution_count": null,
   "metadata": {
    "collapsed": true
   },
   "outputs": [],
   "source": [
    "c = Color()"
   ]
  },
  {
   "cell_type": "code",
   "execution_count": null,
   "metadata": {
    "collapsed": true
   },
   "outputs": [],
   "source": [
    "morning_pic = ['/Users/Rabbit/Desktop/Screen Shot 2017-10-25 at 07.56.08.png',\n",
    "              '/Users/Rabbit/Desktop/Screen Shot 2017-10-25 at 08.08.44.png', \n",
    "              '/Users/Rabbit/Desktop/Screen Shot 2017-10-25 at 08.17.04.png',\n",
    "              '/Users/Rabbit/Desktop/Screen Shot 2017-10-25 at 08.33.38.png']"
   ]
  },
  {
   "cell_type": "code",
   "execution_count": null,
   "metadata": {
    "collapsed": true
   },
   "outputs": [],
   "source": [
    "c_harmony = Palettization(morning_pic[0])"
   ]
  },
  {
   "cell_type": "code",
   "execution_count": null,
   "metadata": {
    "collapsed": true
   },
   "outputs": [],
   "source": [
    "c_harmony.display_palette()"
   ]
  },
  {
   "cell_type": "code",
   "execution_count": null,
   "metadata": {
    "collapsed": true
   },
   "outputs": [],
   "source": [
    "c_harmony.zip_centroid_count()"
   ]
  },
  {
   "cell_type": "code",
   "execution_count": null,
   "metadata": {
    "collapsed": true
   },
   "outputs": [],
   "source": [
    "c_harmony.display_img()"
   ]
  },
  {
   "cell_type": "code",
   "execution_count": null,
   "metadata": {
    "collapsed": true
   },
   "outputs": [],
   "source": []
  },
  {
   "cell_type": "code",
   "execution_count": null,
   "metadata": {
    "collapsed": true
   },
   "outputs": [],
   "source": [
    "import colorsys"
   ]
  },
  {
   "cell_type": "code",
   "execution_count": null,
   "metadata": {
    "collapsed": true
   },
   "outputs": [],
   "source": []
  },
  {
   "cell_type": "code",
   "execution_count": null,
   "metadata": {
    "collapsed": true
   },
   "outputs": [],
   "source": [
    "try_me[1].arrayify_centroids()"
   ]
  },
  {
   "cell_type": "code",
   "execution_count": null,
   "metadata": {
    "collapsed": true
   },
   "outputs": [],
   "source": [
    "get_palette(img_path)"
   ]
  },
  {
   "cell_type": "code",
   "execution_count": null,
   "metadata": {
    "collapsed": true
   },
   "outputs": [],
   "source": [
    "plt.imshow([(centroid_lst).astype('uint8')])"
   ]
  },
  {
   "cell_type": "code",
   "execution_count": null,
   "metadata": {
    "collapsed": true
   },
   "outputs": [],
   "source": []
  },
  {
   "cell_type": "code",
   "execution_count": null,
   "metadata": {
    "collapsed": true
   },
   "outputs": [],
   "source": [
    "import colorgram\n",
    "\n",
    "img = (morning_pic[0])"
   ]
  },
  {
   "cell_type": "code",
   "execution_count": null,
   "metadata": {
    "collapsed": true
   },
   "outputs": [],
   "source": [
    "colors = colorgram.extract(img, 6)"
   ]
  },
  {
   "cell_type": "code",
   "execution_count": null,
   "metadata": {
    "collapsed": true
   },
   "outputs": [],
   "source": [
    "colors[0]"
   ]
  },
  {
   "cell_type": "code",
   "execution_count": null,
   "metadata": {
    "collapsed": true
   },
   "outputs": [],
   "source": [
    "# for color in palette_color_percent:\n",
    "#     r_chan = color[0]\n",
    "#     b_chan = color[1]\n",
    "#     g_chan = color[2]\n",
    "#     r_vals.append(r_chan)\n",
    "#     b_vals.append(b_chan)\n",
    "#     g_vals.append(g_chan)\n",
    "\n",
    "def colorT_rgb2hsv(rgb_vector):\n",
    "    \"\"\"returns an hsv vector from rgb\"\"\"\n",
    "    hsv_vector = []\n",
    "    for color in rgb_vector:\n",
    "        r_prime = color[0]/255\n",
    "        b_prime = color[1]/255\n",
    "        g_prime = color[2]/255\n",
    "        \n",
    "        "
   ]
  },
  {
   "cell_type": "code",
   "execution_count": null,
   "metadata": {
    "collapsed": true
   },
   "outputs": [],
   "source": [
    "import colorsys\n",
    "\n",
    "def rgb_hsv(rgb_tup):\n",
    "    \"\"\"returns hsv tuple from rgb\"\"\"\n",
    "    \"\"\"thanks for your help Zach E.!\"\"\"\n",
    "    \n",
    "\n",
    "    r = rgb_tup[0]\n",
    "    b = rgb_tup[1]\n",
    "    g = rgb_tup[2]\n",
    "#         print(r, g, b)\n",
    "    h, s, v = colorsys.rgb_to_hsv(r / 255., g / 255., b / 255.)\n",
    "    h = h * 360\n",
    "    hsv = [h, s, v]\n",
    "    return tuple(hsv)"
   ]
  },
  {
   "cell_type": "code",
   "execution_count": null,
   "metadata": {
    "collapsed": true
   },
   "outputs": [],
   "source": [
    "var"
   ]
  },
  {
   "cell_type": "code",
   "execution_count": null,
   "metadata": {
    "collapsed": true
   },
   "outputs": [],
   "source": [
    "rgb_hsv(var)"
   ]
  },
  {
   "cell_type": "code",
   "execution_count": null,
   "metadata": {
    "collapsed": true
   },
   "outputs": [],
   "source": []
  },
  {
   "cell_type": "code",
   "execution_count": null,
   "metadata": {
    "collapsed": true
   },
   "outputs": [],
   "source": [
    "_1 = np.uint8([[_var]])\n",
    "hsv_1 = cv2.cvtColor(_1, cv2.COLOR_RGB2HSV)"
   ]
  },
  {
   "cell_type": "code",
   "execution_count": null,
   "metadata": {
    "collapsed": true
   },
   "outputs": [],
   "source": [
    "hsv_1"
   ]
  },
  {
   "cell_type": "code",
   "execution_count": null,
   "metadata": {
    "collapsed": true
   },
   "outputs": [],
   "source": [
    "green = np.uint8([[[0,255,0 ]]])\n",
    "hsv_green = cv2.cvtColor(green,cv2.COLOR_RGB2HSV)\n",
    "print(hsv_green)"
   ]
  },
  {
   "cell_type": "code",
   "execution_count": null,
   "metadata": {
    "collapsed": true
   },
   "outputs": [],
   "source": [
    "var = (108, 212, 228)"
   ]
  },
  {
   "cell_type": "code",
   "execution_count": null,
   "metadata": {
    "collapsed": true
   },
   "outputs": [],
   "source": [
    "from colorutils import Color\n",
    "\n",
    "def get_hsv(rgb):\n",
    "    c = Color(rgb)\n",
    "    return c.hsv"
   ]
  },
  {
   "cell_type": "code",
   "execution_count": null,
   "metadata": {
    "collapsed": true
   },
   "outputs": [],
   "source": [
    "get_hsv(var)\n",
    "    \n",
    "    \n",
    "    "
   ]
  },
  {
   "cell_type": "code",
   "execution_count": null,
   "metadata": {
    "collapsed": true
   },
   "outputs": [],
   "source": [
    "rgb2hsv(var)"
   ]
  },
  {
   "cell_type": "code",
   "execution_count": null,
   "metadata": {
    "collapsed": true
   },
   "outputs": [],
   "source": []
  }
 ],
 "metadata": {
  "kernelspec": {
   "display_name": "Python 3",
   "language": "python",
   "name": "python3"
  },
  "language_info": {
   "codemirror_mode": {
    "name": "ipython",
    "version": 3
   },
   "file_extension": ".py",
   "mimetype": "text/x-python",
   "name": "python",
   "nbconvert_exporter": "python",
   "pygments_lexer": "ipython3",
   "version": "3.6.2"
  }
 },
 "nbformat": 4,
 "nbformat_minor": 2
}
