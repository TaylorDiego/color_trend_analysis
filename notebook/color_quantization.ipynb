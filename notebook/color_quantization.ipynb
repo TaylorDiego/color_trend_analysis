{
 "cells": [
  {
   "cell_type": "code",
   "execution_count": 1,
   "metadata": {
    "collapsed": true
   },
   "outputs": [],
   "source": [
    "from collections import defaultdict, OrderedDict\n",
    "from operator import itemgetter\n",
    "import numpy as np\n",
    "import cv2\n",
    "from colorthief import ColorThief\n",
    "import io\n",
    "import os\n",
    "import glob\n",
    "from colorutils import Color\n",
    "import matplotlib.pyplot as plt\n",
    "%matplotlib inline"
   ]
  },
  {
   "cell_type": "code",
   "execution_count": 27,
   "metadata": {
    "collapsed": true
   },
   "outputs": [],
   "source": [
    "class Palettization():\n",
    "    \"\"\"processes a single image path and returns image, centroids(dominant colors), palette\"\"\"\n",
    "    \n",
    "    def __init__(self, img_path):\n",
    "        self.img_path = img_path\n",
    "        self.rgb_palette = self.get_rgb_palette()\n",
    "        self.hsv_palette = self.get_hsv_palette()\n",
    "        self.color_arr = self.get_color_array()\n",
    "        self.centroid_lst = self.arrayify_centroids()\n",
    "        self.counts = self.centroid_cos_similar()\n",
    "\n",
    "    def get_rgb_palette(self):\n",
    "        \"\"\"return image color palette\"\"\"\n",
    "        colorthief = ColorThief(self.img_path)\n",
    "        rgb_palette = colorthief.get_palette(color_count=5, quality=1)\n",
    "        return rgb_palette\n",
    "\n",
    "\n",
    "    def get_color_array(self):\n",
    "        \"\"\"return array of palette colors\"\"\"\n",
    "        color_arr = []\n",
    "        for color in self.rgb_palette:\n",
    "            color_val = []\n",
    "            for rgb_val in color:\n",
    "                color_val.append(rgb_val / 255)\n",
    "            color_arr.append(tuple(color_val))\n",
    "        return color_arr\n",
    "\n",
    "\n",
    "    def arrayify_centroids(self):\n",
    "        \"\"\"return array of image palette (centroids)\"\"\"\n",
    "        self.centroid_lst = np.array(self.rgb_palette)\n",
    "        return self.centroid_lst\n",
    "    \n",
    "    def _centroid_cos_similar(self, pixels, centroid):\n",
    "        numerator = (pixels * centroid).sum(axis=1)\n",
    "        denominator = (np.linalg.norm(pixels, axis=1) * np.linalg.norm(centroid))\n",
    "        return (numerator / denominator)  \n",
    "\n",
    "\n",
    "    def centroid_cos_similar(self):\n",
    "        \"\"\"\"\"\"\n",
    "        lst = []\n",
    "        self.centroid_lst = self.rgb_palette\n",
    "        img = cv2.imread(self.img_path)\n",
    "        img = cv2.cvtColor(img, cv2.COLOR_BGR2RGB)\n",
    "        \n",
    "        for centroid in self.centroid_lst:\n",
    "            lst.append(self._centroid_cos_similar(img.reshape(-1, 3), centroid))\n",
    "\n",
    "        centroid_argmax = np.array(lst).argmax(axis=0)\n",
    "\n",
    "        _, counts = np.unique(centroid_argmax, return_counts=True)\n",
    "        return counts\n",
    "\n",
    "    \n",
    "    def get_hsv_palette(self):\n",
    "        palette_hsv = []\n",
    "        for color in self.rgb_palette:\n",
    "            c = Color(color)\n",
    "            palette_hsv.append(c.hsv)\n",
    "        return palette_hsv\n",
    "    \n",
    "    def zip_centroid_count(self):\n",
    "        \"\"\"\"\"\"\n",
    "        return [{'rgb': rgb, 'count':count} for rgb, count in zip(self.rgb_palette, self.counts)]\n",
    "    \n",
    "    \n",
    "    def display_palette(self):\n",
    "        \"\"\"\"\"\"\n",
    "        self.get_color_array()\n",
    "        return plt.imshow([(self.color_arr)])\n",
    "\n",
    "    \n",
    "    def display_img(self):\n",
    "        \"\"\"\"\"\"\n",
    "        colorthief = ColorThief(self.img_path)\n",
    "        img = colorthief.image\n",
    "        return img"
   ]
  },
  {
   "cell_type": "code",
   "execution_count": 28,
   "metadata": {
    "collapsed": true
   },
   "outputs": [],
   "source": [
    "class SetSimilarity():\n",
    "    \"\"\"find set(palette) most 'central' of sets, consisting of items(rgb vector) \"\"\"\n",
    "    \n",
    "    #def __init__(self, set_of_palettes):\n",
    "    #    self.p_list= list_of_palettes\n",
    "        \n",
    "    def c2c_dist(self, color_a, color_b):\n",
    "        \"\"\"return the distance(float) between two items(rgb vectors)\"\"\"\n",
    "        dist_c2c = np.linalg.norm(np.array(color_a) - np.array(color_b))\n",
    "        return(dist_c2c)\n",
    "                \n",
    "    def c2p_dist(self, color_a, palette_b):\n",
    "        \"\"\"return minimum distance(float) between an item(rgb vector) and a set(palette)\"\"\"\n",
    "        \"\"\"find min dist between color_a and all colors in palet_b\n",
    "        use c2c_dist\"\"\"\n",
    "        dist_c2p_list = []\n",
    "        for color in palette_b:\n",
    "            dist = self.c2c_dist(color, color_a)\n",
    "            dist_c2p_list.append(dist)\n",
    "        dist_c2p = np.amin(dist_c2p_list)\n",
    "        return(dist_c2p)\n",
    "    \n",
    "    def p2p_dist(self, palette_a, palette_b):\n",
    "        \"\"\"return sum(float) of c2p_dist between two sets(palette)\"\"\"\n",
    "        # sum of c2p-dists\n",
    "        dist_p2p_list = []\n",
    "        for color in palette_a:\n",
    "            dist_p2p_list.append(self.c2p_dist(color, palette_b))\n",
    "            dist_p2p = np.sum(dist_p2p_list)\n",
    "        return(dist_p2p)\n",
    "    \n",
    "    def set_central_list(self, list_of_palettes):\n",
    "        \"\"\"return most 'central' set(palette(s), if there are multiples)\"\"\"\n",
    "        p_cent_list = []\n",
    "\n",
    "        for palette_a in list_of_palettes:\n",
    "            palette_a_centrality_list = []\n",
    "\n",
    "            for palette in list_of_palettes:\n",
    "                palette_a_centrality_list.append(self.p2p_dist(palette_a, palette))\n",
    "                \n",
    "            sum_temp = np.sum(palette_a_centrality_list)\n",
    "            p_cent_list.append((sum_temp, palette_a))\n",
    "\n",
    "        p_min = min(p_cent_list, key=itemgetter(0))[0]\n",
    "        p_cent_list_srtd = sorted(p_cent_list, key=lambda x: x[0])\n",
    "        \n",
    "        p_central = [ x for x in p_cent_list_srtd if x[0]==p_min ]\n",
    "        return(p_central)"
   ]
  },
  {
   "cell_type": "code",
   "execution_count": 17,
   "metadata": {
    "collapsed": true
   },
   "outputs": [],
   "source": [
    "def run_palettization_to_rgb_list(images):\n",
    "    p_list = []\n",
    "    for link in images:\n",
    "        img = str(link)\n",
    "        p = Palettization(img)\n",
    "        add_pal = p.get_rgb_palette()\n",
    "        print(add_pal)\n",
    "        p_list.append(add_pal)\n",
    "    return p_list"
   ]
  },
  {
   "cell_type": "code",
   "execution_count": 5,
   "metadata": {
    "collapsed": true
   },
   "outputs": [],
   "source": [
    "def get_color_array(palette):\n",
    "    \"\"\"return array of palette colors\"\"\"\n",
    "    color_arr = []\n",
    "    for color in palette:\n",
    "        color_val = []\n",
    "        for rgb_val in color:\n",
    "            color_val.append(rgb_val / 255)\n",
    "        color_arr.append(tuple(color_val))\n",
    "    return color_arr\n",
    "\n",
    "\n",
    "def display_palette(palette):\n",
    "    \"\"\"\"\"\"\n",
    "    color_arr = get_color_array(palette)\n",
    "    return plt.imshow([(color_arr)])"
   ]
  },
  {
   "cell_type": "code",
   "execution_count": 6,
   "metadata": {},
   "outputs": [
    {
     "name": "stdout",
     "output_type": "stream",
     "text": [
      "\u001b[34m1970s_google_imgs\u001b[m\u001b[m    \u001b[34mbee_friendly_flowers\u001b[m\u001b[m \u001b[34mdress_shirts\u001b[m\u001b[m\r\n"
     ]
    }
   ],
   "source": [
    "!ls ../../photo_sets/"
   ]
  },
  {
   "cell_type": "code",
   "execution_count": 7,
   "metadata": {},
   "outputs": [],
   "source": [
    "def make_file_list(root_path, sets_list, set_sel, file_type):\n",
    "    set_path = sets_list[set_sel]\n",
    "    path_string = str(root_path + set_path + file_type)\n",
    "    return glob.glob(path_string)\n"
   ]
  },
  {
   "cell_type": "code",
   "execution_count": 8,
   "metadata": {
    "collapsed": true
   },
   "outputs": [],
   "source": [
    "photo_root_path = '/Users/Rabbit/capstone/photo_sets/'\n",
    "\n",
    "photo_sets_list = ['bee_friendly_flowers', '1970s_google_imgs', 'dress_shirts']\n",
    "\n",
    "photo_type = '/*.png'"
   ]
  },
  {
   "cell_type": "code",
   "execution_count": 9,
   "metadata": {},
   "outputs": [],
   "source": [
    "dress_shirts_lst = make_file_list(photo_root_path, \n",
    "                                    photo_sets_list, \n",
    "                                    2, \n",
    "                                    photo_type)"
   ]
  },
  {
   "cell_type": "code",
   "execution_count": 10,
   "metadata": {},
   "outputs": [],
   "source": [
    "# dress_shirts_lst"
   ]
  },
  {
   "cell_type": "code",
   "execution_count": 11,
   "metadata": {},
   "outputs": [],
   "source": [
    "bee_friendly_flowers_list = make_file_list(photo_root_path, \n",
    "                                    photo_sets_list, \n",
    "                                    0, \n",
    "                                    photo_type)"
   ]
  },
  {
   "cell_type": "code",
   "execution_count": 12,
   "metadata": {},
   "outputs": [],
   "source": [
    "# bee_friendly_flowers_list"
   ]
  },
  {
   "cell_type": "code",
   "execution_count": null,
   "metadata": {
    "collapsed": true
   },
   "outputs": [],
   "source": [
    "def list_to_central_pipeline(set_lst):\n",
    "    pal_lst = run_palettization_to_rgb_list(set_lst)\n",
    "    ss = SetSimilarity()\n",
    "    central_palette = ss.set_central_list(pal_lst)\n",
    "    return central_palette"
   ]
  },
  {
   "cell_type": "code",
   "execution_count": 23,
   "metadata": {
    "collapsed": true
   },
   "outputs": [],
   "source": [
    "def pure_palette_list(central_palette):\n",
    "    pure_palette_list = []\n",
    "    for palette in seventies_central_palette:\n",
    "        pure_palette_list.append(palette[0])\n",
    "    return pure_palette_list"
   ]
  },
  {
   "cell_type": "code",
   "execution_count": null,
   "metadata": {
    "collapsed": true
   },
   "outputs": [],
   "source": []
  },
  {
   "cell_type": "code",
   "execution_count": null,
   "metadata": {
    "collapsed": true
   },
   "outputs": [],
   "source": []
  },
  {
   "cell_type": "code",
   "execution_count": null,
   "metadata": {
    "collapsed": true
   },
   "outputs": [],
   "source": []
  },
  {
   "cell_type": "code",
   "execution_count": null,
   "metadata": {
    "collapsed": true
   },
   "outputs": [],
   "source": []
  },
  {
   "cell_type": "code",
   "execution_count": null,
   "metadata": {
    "collapsed": true
   },
   "outputs": [],
   "source": []
  },
  {
   "cell_type": "code",
   "execution_count": null,
   "metadata": {
    "collapsed": true
   },
   "outputs": [],
   "source": []
  },
  {
   "cell_type": "code",
   "execution_count": 29,
   "metadata": {},
   "outputs": [
    {
     "name": "stdout",
     "output_type": "stream",
     "text": [
      "[(224, 220, 217), (139, 106, 92), (176, 150, 135), (122, 128, 128), (217, 115, 124)]\n",
      "[(216, 212, 215), (104, 106, 86), (109, 95, 126), (150, 148, 139), (131, 108, 140)]\n",
      "[(222, 220, 221), (98, 82, 107), (153, 138, 164), (125, 130, 105), (119, 126, 148)]\n",
      "[(215, 217, 220), (74, 73, 69), (99, 117, 118), (143, 147, 134), (134, 101, 114)]\n",
      "[(221, 217, 217), (156, 79, 97), (200, 135, 151), (112, 130, 87), (107, 127, 125)]\n",
      "[(227, 218, 214), (138, 131, 79), (219, 104, 127), (198, 168, 138), (116, 141, 130)]\n",
      "[(220, 217, 215), (133, 111, 81), (187, 170, 131), (184, 111, 111), (112, 132, 119)]\n",
      "[(217, 212, 210), (125, 77, 79), (161, 138, 85), (182, 129, 134), (111, 115, 116)]\n",
      "[(219, 217, 218), (107, 97, 75), (133, 90, 123), (166, 152, 133), (110, 122, 128)]\n",
      "[(220, 218, 217), (118, 94, 78), (176, 96, 125), (178, 139, 144), (112, 123, 123)]\n",
      "[(220, 218, 216), (135, 132, 81), (184, 182, 135), (135, 113, 122), (110, 139, 135)]\n",
      "[(219, 218, 216), (99, 80, 85), (125, 130, 98), (162, 142, 141), (112, 128, 124)]\n",
      "[(224, 217, 213), (129, 84, 84), (189, 137, 146), (138, 125, 95), (113, 120, 120)]\n",
      "[(223, 216, 211), (108, 69, 56), (167, 118, 90), (200, 138, 128), (111, 117, 114)]\n",
      "[(221, 216, 208), (146, 136, 70), (193, 185, 117), (103, 114, 107), (119, 107, 102)]\n",
      "[(222, 220, 219), (124, 91, 69), (175, 153, 126), (100, 117, 118), (193, 105, 109)]\n"
     ]
    }
   ],
   "source": [
    "pal_lst = run_palettization_to_rgb_list(bee_friendly_flowers_list)"
   ]
  },
  {
   "cell_type": "code",
   "execution_count": 30,
   "metadata": {
    "collapsed": true
   },
   "outputs": [],
   "source": [
    "b_f_f_ss = SetSimilarity()"
   ]
  },
  {
   "cell_type": "code",
   "execution_count": 31,
   "metadata": {
    "collapsed": true
   },
   "outputs": [],
   "source": [
    "cent_pal = b_f_f_ss.set_central_list(pal_lst)"
   ]
  },
  {
   "cell_type": "code",
   "execution_count": 34,
   "metadata": {},
   "outputs": [
    {
     "name": "stdout",
     "output_type": "stream",
     "text": [
      "[(1650.9504783368775, [(224, 217, 213), (129, 84, 84), (189, 137, 146), (138, 125, 95), (113, 120, 120)])]\n"
     ]
    }
   ],
   "source": [
    "print(cent_pal)"
   ]
  },
  {
   "cell_type": "code",
   "execution_count": 35,
   "metadata": {
    "collapsed": true
   },
   "outputs": [],
   "source": [
    "cent_pal_pal = [(224, 217, 213), (129, 84, 84), (189, 137, 146), (138, 125, 95), (113, 120, 120)]"
   ]
  },
  {
   "cell_type": "code",
   "execution_count": 36,
   "metadata": {},
   "outputs": [
    {
     "data": {
      "text/plain": [
       "<matplotlib.image.AxesImage at 0x16a681a20>"
      ]
     },
     "execution_count": 36,
     "metadata": {},
     "output_type": "execute_result"
    },
    {
     "data": {
      "image/png": "[encoded data removed]",
      "text/plain": [
       "<matplotlib.figure.Figure at 0x115ca1320>"
      ]
     },
     "metadata": {},
     "output_type": "display_data"
    }
   ],
   "source": [
    "display_palette(cent_pal_pal)"
   ]
  },
  {
   "cell_type": "code",
   "execution_count": null,
   "metadata": {
    "collapsed": true
   },
   "outputs": [],
   "source": []
  },
  {
   "cell_type": "code",
   "execution_count": null,
   "metadata": {
    "collapsed": true
   },
   "outputs": [],
   "source": []
  },
  {
   "cell_type": "code",
   "execution_count": null,
   "metadata": {
    "collapsed": true
   },
   "outputs": [],
   "source": []
  },
  {
   "cell_type": "code",
   "execution_count": null,
   "metadata": {
    "collapsed": true
   },
   "outputs": [],
   "source": []
  },
  {
   "cell_type": "code",
   "execution_count": null,
   "metadata": {
    "collapsed": true
   },
   "outputs": [],
   "source": []
  },
  {
   "cell_type": "code",
   "execution_count": null,
   "metadata": {
    "collapsed": true
   },
   "outputs": [],
   "source": [
    "dress_shirt_ss = SetSimilarity()"
   ]
  },
  {
   "cell_type": "code",
   "execution_count": null,
   "metadata": {
    "collapsed": true
   },
   "outputs": [],
   "source": [
    "cent_pal = dress_shirt_ss.set_central_list(pal_lst)"
   ]
  },
  {
   "cell_type": "code",
   "execution_count": null,
   "metadata": {
    "collapsed": true
   },
   "outputs": [],
   "source": []
  },
  {
   "cell_type": "code",
   "execution_count": null,
   "metadata": {
    "collapsed": true
   },
   "outputs": [],
   "source": []
  },
  {
   "cell_type": "code",
   "execution_count": null,
   "metadata": {
    "collapsed": true
   },
   "outputs": [],
   "source": []
  },
  {
   "cell_type": "code",
   "execution_count": null,
   "metadata": {
    "collapsed": true
   },
   "outputs": [],
   "source": []
  },
  {
   "cell_type": "code",
   "execution_count": null,
   "metadata": {
    "collapsed": true
   },
   "outputs": [],
   "source": []
  },
  {
   "cell_type": "code",
   "execution_count": null,
   "metadata": {},
   "outputs": [],
   "source": [
    "central_dress_shirt_palette = list_to_central_pipeline(dress_shirts_lst)"
   ]
  },
  {
   "cell_type": "code",
   "execution_count": null,
   "metadata": {
    "collapsed": true
   },
   "outputs": [],
   "source": [
    "print(central_dress_shirt_palette)"
   ]
  },
  {
   "cell_type": "code",
   "execution_count": null,
   "metadata": {
    "collapsed": true
   },
   "outputs": [],
   "source": [
    "pure_central_dress_shirt_palette = pure_palette_list(central_dress_shirt_palette)"
   ]
  },
  {
   "cell_type": "code",
   "execution_count": null,
   "metadata": {
    "collapsed": true
   },
   "outputs": [],
   "source": []
  },
  {
   "cell_type": "code",
   "execution_count": null,
   "metadata": {},
   "outputs": [],
   "source": [
    "seventies_palettes = run_palettization_to_rgb_list(seventies_links)"
   ]
  },
  {
   "cell_type": "code",
   "execution_count": null,
   "metadata": {
    "collapsed": true
   },
   "outputs": [],
   "source": [
    "seventies_similarity = SetSimilarity()"
   ]
  },
  {
   "cell_type": "code",
   "execution_count": null,
   "metadata": {
    "collapsed": true
   },
   "outputs": [],
   "source": [
    "seventies_central_palette = seventies_similarity.set_central_list(seventies_palettes)"
   ]
  },
  {
   "cell_type": "code",
   "execution_count": null,
   "metadata": {},
   "outputs": [],
   "source": [
    "seventies_central_palette"
   ]
  },
  {
   "cell_type": "code",
   "execution_count": null,
   "metadata": {},
   "outputs": [],
   "source": [
    "display_palette(seventies_central_palette[0][1])"
   ]
  },
  {
   "cell_type": "code",
   "execution_count": null,
   "metadata": {},
   "outputs": [],
   "source": [
    "idx = 1\n",
    "display_palette(sev)"
   ]
  },
  {
   "cell_type": "code",
   "execution_count": null,
   "metadata": {
    "collapsed": true
   },
   "outputs": [],
   "source": []
  },
  {
   "cell_type": "code",
   "execution_count": null,
   "metadata": {
    "collapsed": true
   },
   "outputs": [],
   "source": [
    "pure_palette_list.clear()"
   ]
  },
  {
   "cell_type": "code",
   "execution_count": null,
   "metadata": {},
   "outputs": [],
   "source": [
    "display_palette(pure_palette_list)"
   ]
  },
  {
   "cell_type": "code",
   "execution_count": null,
   "metadata": {},
   "outputs": [],
   "source": [
    "len(pure_palette_list)"
   ]
  },
  {
   "cell_type": "code",
   "execution_count": null,
   "metadata": {
    "collapsed": true
   },
   "outputs": [],
   "source": [
    "pure_hsv_palette_list = []\n",
    "for palette in seventies_palettes:\n",
    "    pure_hsv_palette_list.append(palette[0])\n",
    "    \n",
    "# pure_hsv_palette_list"
   ]
  },
  {
   "cell_type": "code",
   "execution_count": null,
   "metadata": {},
   "outputs": [],
   "source": [
    "display_palette(seventies_central_palette)"
   ]
  },
  {
   "cell_type": "code",
   "execution_count": null,
   "metadata": {
    "collapsed": true
   },
   "outputs": [],
   "source": [
    "seventies_raw = ['1main.jpg',\n",
    "'208b9fb5b409ba3779a5d3e98f41f35b--vintage-ads-retro-ads.jpg',\n",
    "'3075165968_c9215cbb36.jpg',\n",
    "'4080666566_6704eebaa1_o.jpg',\n",
    "'45728eac5b9ee8c9e2d3cfed76397272--crochet-vests-crochet-sweaters.jpg',\n",
    "'526e535cbb654194d8b622207a550fea.jpg',\n",
    "'5c4aacc11d49fed320586cb53a482403.jpg',\n",
    "'620e711e599d1f500ae87071f33dd5a0--s-decor-retro-home-decor.jpg',\n",
    "'6709227143_3d1801bd98_b-520x733.jpg',\n",
    "'70s-men-fashion-281__700.jpg',\n",
    "'70sheader.png',\n",
    "'91f9d50398c88b2c580e89184b9edf5a.jpg',\n",
    "'9d9641f3876091907a691766ac3e938f.jpg',\n",
    "'Concert-Poster-Art-classic-rock-20804540-450-330.jpg',\n",
    "'HT_retro_70s_home_1_jt_160905_4x3_992.jpg',\n",
    "'M-retro-4.jpg',\n",
    "'Newport-Lights-ad-yellow-t-shirt.jpg',\n",
    "'Screen-Shot-2012-01-27-at-12.43.26-PM1.png',\n",
    "'Václav-Zeman-The-First-Generation-1974.jpg',\n",
    "'Ydz9c-1468504224-1001-blog-spacefoodsticks_main_1200.jpg',\n",
    "'aT15w-1458316051-754-blog-sunshinefamily_ad_76.jpg',\n",
    "'aria-pura_fmt.jpg',\n",
    "'aruba.jpg',\n",
    "'b30d8a5b3cfce748b55f598119acd0ba--vintage-outfits-fashion-vintage.jpg',\n",
    "'b9cef75289fc9f54858fc388ef42f942--feminism-poster-political-posters.jpg',\n",
    "'bowie.jpg',\n",
    "'brady_bunch_1970s.jpg',\n",
    "'cc8b7ccff0b23511d0c622fcd297c02c.jpg',\n",
    "'ce6691c717766c095c8735eecb406aac.jpg',\n",
    "'d218b4051bfa39178b82c77f9c97c34d--big-mouths-vintage-toys-s.jpg',\n",
    "'doublemint_ad_2_1975_copy.jpg',\n",
    "'e10-254_500.jpg',\n",
    "'efdbc9532e8260b63d0b48745a5916d7.jpg',\n",
    "'f35a887378aee1d226631089e486b38e.jpg',\n",
    "'human_factor_poster_01.jpg',\n",
    "'landscape-1463088645-1970s-toys-collage.jpg',\n",
    "'london-colourful-life-in-the-1970s-07-1024x614_c.jpg',\n",
    "'milton-16340-31.jpeg',\n",
    "'poster-grandfather-computer-22832.jpg',\n",
    "'posters10n-3-web.jpg',\n",
    "'room.jpg',\n",
    "'slang-1970s.png']"
   ]
  },
  {
   "cell_type": "code",
   "execution_count": null,
   "metadata": {
    "collapsed": true
   },
   "outputs": [],
   "source": []
  },
  {
   "cell_type": "code",
   "execution_count": null,
   "metadata": {
    "collapsed": true
   },
   "outputs": [],
   "source": []
  },
  {
   "cell_type": "code",
   "execution_count": null,
   "metadata": {
    "collapsed": true
   },
   "outputs": [],
   "source": []
  },
  {
   "cell_type": "code",
   "execution_count": null,
   "metadata": {
    "collapsed": true
   },
   "outputs": [],
   "source": []
  },
  {
   "cell_type": "code",
   "execution_count": null,
   "metadata": {
    "collapsed": true
   },
   "outputs": [],
   "source": []
  },
  {
   "cell_type": "code",
   "execution_count": null,
   "metadata": {},
   "outputs": [],
   "source": [
    "rgb = (0, 255, 0)\n",
    "c = Color(rgb)\n",
    "print(c.hsv)\n",
    "# print(plt.imshow([[c.hsv]]))"
   ]
  },
  {
   "cell_type": "code",
   "execution_count": null,
   "metadata": {},
   "outputs": [],
   "source": [
    "print(pure_palette_list)"
   ]
  },
  {
   "cell_type": "code",
   "execution_count": null,
   "metadata": {
    "collapsed": true
   },
   "outputs": [],
   "source": []
  },
  {
   "cell_type": "code",
   "execution_count": null,
   "metadata": {
    "collapsed": true
   },
   "outputs": [],
   "source": [
    "test_images = ['/Users/Rabbit/Downloads/china_test.jpg', \n",
    "               '/Users/Rabbit/Downloads/vilnius_test.jpg', \n",
    "               '/Users/Rabbit/Downloads/spices_test.jpg']"
   ]
  },
  {
   "cell_type": "code",
   "execution_count": null,
   "metadata": {
    "collapsed": true
   },
   "outputs": [],
   "source": [
    "loc_fashion_images = ['/Users/Rabbit/capstone/materials/scrape_fashion_2/2003.86.1.png', \n",
    "                     '/Users/Rabbit/capstone/materials/scrape_fashion_2/2006.44.1.png', \n",
    "                     '/Users/Rabbit/capstone/materials/scrape_fashion_2/2006.56.1.png', \n",
    "                     '/Users/Rabbit/capstone/materials/scrape_fashion_2/2006.56.2.png', \n",
    "                     '/Users/Rabbit/capstone/materials/scrape_fashion_2/2007.30.1.png', \n",
    "                     '/Users/Rabbit/capstone/materials/scrape_fashion_2/2008.4.1.png', \n",
    "                     '/Users/Rabbit/capstone/materials/scrape_fashion_2/2010.98.1.png', \n",
    "                     '/Users/Rabbit/capstone/materials/scrape_fashion_2/74.32.4.png', \n",
    "                     '/Users/Rabbit/capstone/materials/scrape_fashion_2/76.64.1.png', \n",
    "                     '/Users/Rabbit/capstone/materials/scrape_fashion_2/80.1.4.png']"
   ]
  },
  {
   "cell_type": "code",
   "execution_count": null,
   "metadata": {
    "collapsed": true
   },
   "outputs": [],
   "source": [
    "ColorThief?"
   ]
  },
  {
   "cell_type": "code",
   "execution_count": null,
   "metadata": {
    "collapsed": true
   },
   "outputs": [],
   "source": [
    "# img_path = loc_fashion_images[1]"
   ]
  },
  {
   "cell_type": "code",
   "execution_count": null,
   "metadata": {
    "collapsed": true
   },
   "outputs": [],
   "source": [
    "img_path = test_images[1]"
   ]
  },
  {
   "cell_type": "code",
   "execution_count": null,
   "metadata": {},
   "outputs": [],
   "source": [
    "test_images"
   ]
  },
  {
   "cell_type": "code",
   "execution_count": null,
   "metadata": {
    "collapsed": true
   },
   "outputs": [],
   "source": [
    "decade_palettes = [ [(0.0, [(201, 195, 193), (31, 30, 29), (165, 151, 138), (148, 135, 126), (94, 89, 87), (119, 115, 112), (84, 84, 80), (101, 100, 92)])],\n",
    "                    [(3442.1891140569815, [(205, 202, 198), (33, 31, 28), (121, 119, 114), (157, 150, 139), (92, 92, 86), (100, 91, 86), (148, 139, 131), (102, 100, 91)])],\n",
    "                    [(3899.103815534721, [(214, 210, 207), (80, 66, 50), (153, 139, 121), (112, 96, 79), (126, 111, 89), (188, 174, 156), (148, 148, 148), (156, 148, 149)])],\n",
    "                    [(7872.9902950932819, [(66, 52, 45), (222, 222, 222), (110, 93, 82), (135, 128, 123), (122, 109, 97), (100, 100, 95), (165, 153, 147), (170, 164, 155)])],\n",
    "                    [(15468.418055458445, [(44, 44, 44), (205, 204, 201), (125, 125, 124), (99, 100, 94), (156, 156, 153), (164, 156, 152), (148, 148, 156), (92, 92, 100)])],\n",
    "                    [(11377.787368176734, [(192, 187, 186), (39, 45, 46), (135, 135, 134), (163, 164, 163), (106, 109, 109), (90, 92, 94), (157, 156, 164), (98, 100, 108)])],\n",
    "                    [(16861.608719121228, [(49, 46, 43), (195, 192, 189), (130, 128, 127), (155, 158, 161), (91, 86, 82), (148, 148, 156), (104, 99, 100), (107, 108, 106)])],\n",
    "                    [(38874.991751545182, [(206, 201, 199), (40, 38, 37), (94, 89, 86), (117, 114, 112), (151, 148, 139), (103, 100, 92), (148, 139, 138), (84, 92, 84)])],\n",
    "                    [(19747.072618635553, [(48, 49, 52), (210, 204, 202), (118, 120, 125), (166, 161, 160), (101, 90, 92), (105, 100, 91), (149, 138, 138), (154, 148, 139)])],\n",
    "                    [(17851.38526962269, [(181, 176, 172), (68, 65, 58), (116, 111, 103), (221, 220, 225), (131, 128, 125), (92, 84, 84), (84, 83, 84), (140, 124, 124)])],\n",
    "                    [(20429.461822270936, [(208, 201, 198), (27, 27, 29), (128, 124, 121), (92, 92, 89), (100, 92, 92), (156, 148, 140), (101, 100, 92), (156, 140, 140)])],\n",
    "                    [(24466.800045832199, [(196, 193, 186), (53, 46, 37), (131, 126, 118), (156, 156, 147), (106, 101, 92), (90, 83, 75), (155, 148, 148), (99, 92, 92)])],\n",
    "                    [(9728.2550088663593, [(213, 211, 209), (89, 88, 82), (133, 133, 127), (108, 109, 108), (173, 171, 165), (155, 157, 156), (116, 108, 108), (164, 156, 156)])] ]"
   ]
  },
  {
   "cell_type": "code",
   "execution_count": null,
   "metadata": {
    "collapsed": true
   },
   "outputs": [],
   "source": [
    "palette_1880 = pure_palette_list[0]"
   ]
  },
  {
   "cell_type": "code",
   "execution_count": null,
   "metadata": {
    "collapsed": true
   },
   "outputs": [],
   "source": [
    "hsv_palettes = [\n",
    "[(0.0, [(201, 195, 193), (31, 30, 29), (165, 151, 138), (148, 135, 126), (94, 89, 87), (119, 115, 112), (84, 84, 80), (101, 100, 92)])],\n",
    "[(21.932750312643389, [(205, 202, 198), (33, 31, 28), (121, 119, 114), (157, 150, 139), (92, 92, 86), (100, 91, 86), (148, 139, 131), (102, 100, 91)])],\n",
    "[(24.14241698432032, [(66, 52, 45), (222, 222, 222), (110, 93, 82), (135, 128, 123), (122, 109, 97), (100, 100, 95), (165, 153, 147), (170, 164, 155)])],\n",
    "[(55.344889047438663, [(225, 224, 223), (151, 127, 100), (188, 169, 144), (212, 198, 179), (124, 124, 124), (172, 172, 172), (153, 124, 124), (186, 172, 172)])],\n",
    "[(133.74628216139538, [(211, 208, 208), (41, 34, 31), (103, 82, 74), (129, 122, 120), (153, 142, 138), (117, 101, 90), (168, 156, 147), (84, 92, 92)])],\n",
    "[(87.906318108503413, [(181, 179, 177), (59, 49, 38), (87, 72, 59), (223, 221, 218), (115, 103, 92), (101, 87, 72), (136, 120, 106), (151, 136, 119)])],\n",
    "[(126.15456696139745, [(63, 57, 48), (221, 221, 219), (138, 131, 122), (110, 98, 86), (119, 110, 96), (165, 154, 143), (174, 167, 153), (177, 175, 167)])],\n",
    "[(277.76148378796586, [(143, 139, 130), (42, 37, 32), (228, 223, 219), (189, 183, 174), (207, 200, 190), (77, 67, 57), (84, 76, 59), (195, 196, 185)])],\n",
    "[(146.86350031680615, [(212, 210, 207), (52, 42, 38), (106, 92, 86), (130, 122, 118), (119, 108, 99), (92, 92, 87), (162, 157, 147), (157, 146, 141)])],\n",
    "[(121.14453392085414, [(193, 186, 186), (67, 59, 55), (119, 110, 106), (94, 82, 76), (103, 93, 82), (141, 130, 124), (232, 223, 223), (150, 141, 131)])],\n",
    "[(133.37420110918586, [(231, 228, 226), (78, 76, 73), (147, 143, 139), (116, 107, 105), (173, 163, 158), (190, 179, 161), (122, 117, 106), (183, 178, 175)])],\n",
    "[(172.57672755092165, [(196, 193, 186), (53, 46, 37), (131, 126, 118), (156, 156, 147), (106, 101, 92), (90, 83, 75), (155, 148, 148), (99, 92, 92)])],\n",
    "[(62.529411138383566, [(50, 48, 46), (231, 229, 227), (111, 103, 94), (137, 134, 130), (99, 100, 96), (134, 122, 102), (169, 159, 148), (188, 177, 158)])]\n",
    "]"
   ]
  },
  {
   "cell_type": "code",
   "execution_count": null,
   "metadata": {
    "collapsed": true
   },
   "outputs": [],
   "source": []
  },
  {
   "cell_type": "code",
   "execution_count": null,
   "metadata": {},
   "outputs": [],
   "source": [
    "rgb = (201, 195, 193)\n",
    "c = Color(rgb)\n",
    "print(c.hsv)\n",
    "# print(plt.imshow([[c.hsv]]))"
   ]
  },
  {
   "cell_type": "code",
   "execution_count": null,
   "metadata": {},
   "outputs": [],
   "source": [
    "rgb = (31, 30, 29)\n",
    "c = Color(rgb)\n",
    "print(c.hsv)\n",
    "# print(plt.imshow([[c.hsv]]))"
   ]
  },
  {
   "cell_type": "code",
   "execution_count": null,
   "metadata": {
    "collapsed": true
   },
   "outputs": [],
   "source": []
  },
  {
   "cell_type": "code",
   "execution_count": null,
   "metadata": {
    "collapsed": true
   },
   "outputs": [],
   "source": []
  },
  {
   "cell_type": "code",
   "execution_count": null,
   "metadata": {
    "collapsed": true
   },
   "outputs": [],
   "source": []
  },
  {
   "cell_type": "code",
   "execution_count": null,
   "metadata": {
    "collapsed": true
   },
   "outputs": [],
   "source": [
    "idx = 2"
   ]
  },
  {
   "cell_type": "code",
   "execution_count": null,
   "metadata": {},
   "outputs": [],
   "source": [
    "print(display_palette(pure_hsv_palette_list[idx]))"
   ]
  },
  {
   "cell_type": "code",
   "execution_count": null,
   "metadata": {},
   "outputs": [],
   "source": [
    "print(labeled_palettes[idx])\n",
    "print(display_palette(pure_palette_list[idx]))"
   ]
  },
  {
   "cell_type": "code",
   "execution_count": null,
   "metadata": {
    "collapsed": true
   },
   "outputs": [],
   "source": []
  },
  {
   "cell_type": "code",
   "execution_count": null,
   "metadata": {
    "collapsed": true
   },
   "outputs": [],
   "source": []
  },
  {
   "cell_type": "code",
   "execution_count": null,
   "metadata": {
    "collapsed": true
   },
   "outputs": [],
   "source": []
  },
  {
   "cell_type": "code",
   "execution_count": null,
   "metadata": {
    "collapsed": true
   },
   "outputs": [],
   "source": []
  },
  {
   "cell_type": "code",
   "execution_count": null,
   "metadata": {
    "collapsed": true
   },
   "outputs": [],
   "source": []
  },
  {
   "cell_type": "code",
   "execution_count": null,
   "metadata": {
    "collapsed": true
   },
   "outputs": [],
   "source": []
  },
  {
   "cell_type": "code",
   "execution_count": null,
   "metadata": {
    "collapsed": true
   },
   "outputs": [],
   "source": []
  },
  {
   "cell_type": "code",
   "execution_count": null,
   "metadata": {
    "collapsed": true
   },
   "outputs": [],
   "source": []
  },
  {
   "cell_type": "code",
   "execution_count": null,
   "metadata": {
    "collapsed": true
   },
   "outputs": [],
   "source": []
  },
  {
   "cell_type": "code",
   "execution_count": null,
   "metadata": {
    "collapsed": true
   },
   "outputs": [],
   "source": []
  },
  {
   "cell_type": "code",
   "execution_count": null,
   "metadata": {
    "collapsed": true
   },
   "outputs": [],
   "source": []
  },
  {
   "cell_type": "code",
   "execution_count": null,
   "metadata": {
    "collapsed": true
   },
   "outputs": [],
   "source": []
  },
  {
   "cell_type": "code",
   "execution_count": null,
   "metadata": {
    "collapsed": true
   },
   "outputs": [],
   "source": []
  },
  {
   "cell_type": "code",
   "execution_count": null,
   "metadata": {
    "collapsed": true
   },
   "outputs": [],
   "source": []
  },
  {
   "cell_type": "code",
   "execution_count": null,
   "metadata": {
    "collapsed": true
   },
   "outputs": [],
   "source": []
  },
  {
   "cell_type": "code",
   "execution_count": null,
   "metadata": {
    "collapsed": true
   },
   "outputs": [],
   "source": []
  },
  {
   "cell_type": "code",
   "execution_count": null,
   "metadata": {
    "collapsed": true
   },
   "outputs": [],
   "source": []
  },
  {
   "cell_type": "code",
   "execution_count": null,
   "metadata": {
    "collapsed": true
   },
   "outputs": [],
   "source": []
  },
  {
   "cell_type": "code",
   "execution_count": null,
   "metadata": {
    "collapsed": true
   },
   "outputs": [],
   "source": []
  },
  {
   "cell_type": "code",
   "execution_count": null,
   "metadata": {
    "collapsed": true
   },
   "outputs": [],
   "source": []
  },
  {
   "cell_type": "code",
   "execution_count": null,
   "metadata": {},
   "outputs": [],
   "source": [
    "print(labeled_palettes[0])\n",
    "print(display_palette(pure_palette_list[0]))"
   ]
  },
  {
   "cell_type": "code",
   "execution_count": null,
   "metadata": {},
   "outputs": [],
   "source": [
    "print(labeled_palettes[1])\n",
    "print(display_palette(pure_palette_list[1]))"
   ]
  },
  {
   "cell_type": "code",
   "execution_count": null,
   "metadata": {},
   "outputs": [],
   "source": [
    "print(labeled_palettes[2])\n",
    "print(display_palette(pure_palette_list[2]))"
   ]
  },
  {
   "cell_type": "code",
   "execution_count": null,
   "metadata": {},
   "outputs": [],
   "source": [
    "print(labeled_palettes[3])\n",
    "print(display_palette(pure_palette_list[3]))"
   ]
  },
  {
   "cell_type": "code",
   "execution_count": null,
   "metadata": {},
   "outputs": [],
   "source": [
    "print(labeled_palettes[4])\n",
    "print(display_palette(pure_palette_list[4]))"
   ]
  },
  {
   "cell_type": "code",
   "execution_count": null,
   "metadata": {},
   "outputs": [],
   "source": [
    "print(labeled_palettes[5])\n",
    "print(display_palette(pure_palette_list[5]))"
   ]
  },
  {
   "cell_type": "code",
   "execution_count": null,
   "metadata": {},
   "outputs": [],
   "source": [
    "print(labeled_palettes[6])\n",
    "print(display_palette(pure_palette_list[6]))"
   ]
  },
  {
   "cell_type": "code",
   "execution_count": null,
   "metadata": {},
   "outputs": [],
   "source": [
    "print(labeled_palettes[7])\n",
    "print(display_palette(pure_palette_list[7]))"
   ]
  },
  {
   "cell_type": "code",
   "execution_count": null,
   "metadata": {},
   "outputs": [],
   "source": [
    "print(labeled_palettes[8])\n",
    "print(display_palette(pure_palette_list[8]))"
   ]
  },
  {
   "cell_type": "code",
   "execution_count": null,
   "metadata": {},
   "outputs": [],
   "source": [
    "print(labeled_palettes[9])\n",
    "print(display_palette(pure_palette_list[9]))"
   ]
  },
  {
   "cell_type": "code",
   "execution_count": null,
   "metadata": {},
   "outputs": [],
   "source": [
    "print(labeled_palettes[10])\n",
    "print(display_palette(pure_palette_list[10]))"
   ]
  },
  {
   "cell_type": "code",
   "execution_count": null,
   "metadata": {},
   "outputs": [],
   "source": [
    "print(labeled_palettes[11])\n",
    "print(display_palette(pure_palette_list[11]))"
   ]
  },
  {
   "cell_type": "code",
   "execution_count": null,
   "metadata": {},
   "outputs": [],
   "source": [
    "print(labeled_palettes[12])\n",
    "print(display_palette(pure_palette_list[12]))"
   ]
  },
  {
   "cell_type": "code",
   "execution_count": null,
   "metadata": {
    "collapsed": true
   },
   "outputs": [],
   "source": []
  },
  {
   "cell_type": "code",
   "execution_count": null,
   "metadata": {
    "collapsed": true
   },
   "outputs": [],
   "source": []
  },
  {
   "cell_type": "code",
   "execution_count": null,
   "metadata": {
    "collapsed": true
   },
   "outputs": [],
   "source": []
  },
  {
   "cell_type": "code",
   "execution_count": null,
   "metadata": {
    "collapsed": true
   },
   "outputs": [],
   "source": []
  },
  {
   "cell_type": "code",
   "execution_count": null,
   "metadata": {
    "collapsed": true
   },
   "outputs": [],
   "source": []
  },
  {
   "cell_type": "code",
   "execution_count": null,
   "metadata": {
    "collapsed": true
   },
   "outputs": [],
   "source": []
  },
  {
   "cell_type": "code",
   "execution_count": null,
   "metadata": {},
   "outputs": [],
   "source": [
    "run_palettization_to_rgb_list(test_images)"
   ]
  },
  {
   "cell_type": "code",
   "execution_count": null,
   "metadata": {
    "collapsed": true
   },
   "outputs": [],
   "source": [
    "decades = ['1880', '1900', '1910', '1920', '1930', '1940', '1950', '1960', '1970', '1980', '1990', '2000', '2010']"
   ]
  },
  {
   "cell_type": "code",
   "execution_count": null,
   "metadata": {},
   "outputs": [],
   "source": [
    "len(decades)"
   ]
  },
  {
   "cell_type": "code",
   "execution_count": null,
   "metadata": {
    "collapsed": true
   },
   "outputs": [],
   "source": [
    "labeled_palettes = list(zip(decades, pure_palette_list))"
   ]
  },
  {
   "cell_type": "code",
   "execution_count": null,
   "metadata": {},
   "outputs": [],
   "source": [
    "labeled_palettes"
   ]
  },
  {
   "cell_type": "code",
   "execution_count": null,
   "metadata": {
    "collapsed": true
   },
   "outputs": [],
   "source": []
  },
  {
   "cell_type": "code",
   "execution_count": null,
   "metadata": {},
   "outputs": [],
   "source": [
    "run_palettization_to_rgb_list(loc_fashion_images)"
   ]
  },
  {
   "cell_type": "code",
   "execution_count": null,
   "metadata": {
    "collapsed": true
   },
   "outputs": [],
   "source": []
  },
  {
   "cell_type": "code",
   "execution_count": null,
   "metadata": {
    "collapsed": true
   },
   "outputs": [],
   "source": []
  },
  {
   "cell_type": "code",
   "execution_count": null,
   "metadata": {
    "collapsed": true
   },
   "outputs": [],
   "source": [
    "# %pdb"
   ]
  },
  {
   "cell_type": "code",
   "execution_count": null,
   "metadata": {
    "collapsed": true
   },
   "outputs": [],
   "source": [
    "c = Color((0,0,0))"
   ]
  },
  {
   "cell_type": "code",
   "execution_count": null,
   "metadata": {},
   "outputs": [],
   "source": [
    "c.hsv"
   ]
  },
  {
   "cell_type": "code",
   "execution_count": null,
   "metadata": {
    "collapsed": true
   },
   "outputs": [],
   "source": []
  },
  {
   "cell_type": "code",
   "execution_count": null,
   "metadata": {
    "collapsed": true
   },
   "outputs": [],
   "source": [
    "palette_me_now = Palettization(img_path)"
   ]
  },
  {
   "cell_type": "code",
   "execution_count": null,
   "metadata": {
    "collapsed": true
   },
   "outputs": [],
   "source": [
    "# %pdb"
   ]
  },
  {
   "cell_type": "code",
   "execution_count": null,
   "metadata": {
    "collapsed": true
   },
   "outputs": [],
   "source": [
    "palette_me_now.zip_centroid_count()"
   ]
  },
  {
   "cell_type": "code",
   "execution_count": null,
   "metadata": {
    "collapsed": true
   },
   "outputs": [],
   "source": [
    "# img_palette"
   ]
  },
  {
   "cell_type": "code",
   "execution_count": null,
   "metadata": {
    "collapsed": true
   },
   "outputs": [],
   "source": [
    "palette_me_now.get_hsv_palette()"
   ]
  },
  {
   "cell_type": "code",
   "execution_count": null,
   "metadata": {
    "collapsed": true
   },
   "outputs": [],
   "source": [
    "from colorthief import ColorThief"
   ]
  },
  {
   "cell_type": "code",
   "execution_count": null,
   "metadata": {
    "collapsed": true
   },
   "outputs": [],
   "source": [
    "era = decade_palettes[0]"
   ]
  },
  {
   "cell_type": "code",
   "execution_count": null,
   "metadata": {},
   "outputs": [],
   "source": [
    "era_palette = ColorThief(era)"
   ]
  },
  {
   "cell_type": "code",
   "execution_count": null,
   "metadata": {},
   "outputs": [],
   "source": [
    "!ls ../.."
   ]
  },
  {
   "cell_type": "code",
   "execution_count": null,
   "metadata": {
    "collapsed": true
   },
   "outputs": [],
   "source": [
    "seventies_links = []\n",
    "\n",
    "for img in seventies_raw:\n",
    "    seventies_links.append('/Users/Rabbit/capstone/1970s_google_imgs/'+ str(img))"
   ]
  },
  {
   "cell_type": "code",
   "execution_count": null,
   "metadata": {},
   "outputs": [],
   "source": [
    "seventies_links[0]"
   ]
  },
  {
   "cell_type": "code",
   "execution_count": null,
   "metadata": {},
   "outputs": [],
   "source": [
    "try_me = [Palettization(link) for link in seventies_links]"
   ]
  },
  {
   "cell_type": "code",
   "execution_count": null,
   "metadata": {},
   "outputs": [],
   "source": [
    "try_me"
   ]
  },
  {
   "cell_type": "code",
   "execution_count": null,
   "metadata": {},
   "outputs": [],
   "source": [
    "i = 2\n",
    "try_me[i].display_palette()\n",
    "\n",
    "try_me[i].zip_centroid_count()"
   ]
  },
  {
   "cell_type": "code",
   "execution_count": null,
   "metadata": {},
   "outputs": [],
   "source": [
    "try_me[i].display_img()"
   ]
  },
  {
   "cell_type": "code",
   "execution_count": null,
   "metadata": {},
   "outputs": [],
   "source": [
    "for item in try_me:\n",
    "    item.display_palette()"
   ]
  },
  {
   "cell_type": "code",
   "execution_count": null,
   "metadata": {
    "collapsed": true
   },
   "outputs": [],
   "source": [
    "palette_color_percent"
   ]
  },
  {
   "cell_type": "code",
   "execution_count": null,
   "metadata": {
    "collapsed": true
   },
   "outputs": [],
   "source": [
    "palette_color_percent = {}\n",
    "# label_\n",
    "img_pixel_sum = 0\n",
    "\n",
    "for image in try_me:\n",
    "    for i in image.zip_centroid_count():\n",
    "        img_pixel_sum += i['count']\n",
    "#     print(img_pixel_sum)\n",
    "        palette_color_percent[i['rgb']] = i['count'] / 540000\n",
    "\n",
    "sorted(palette_color_percent, key=lambda x: palette_color_percent[x], reverse=True)"
   ]
  },
  {
   "cell_type": "code",
   "execution_count": null,
   "metadata": {
    "collapsed": true
   },
   "outputs": [],
   "source": []
  },
  {
   "cell_type": "code",
   "execution_count": null,
   "metadata": {
    "collapsed": true
   },
   "outputs": [],
   "source": [
    "type(var)"
   ]
  },
  {
   "cell_type": "code",
   "execution_count": null,
   "metadata": {
    "collapsed": true
   },
   "outputs": [],
   "source": []
  },
  {
   "cell_type": "code",
   "execution_count": null,
   "metadata": {
    "collapsed": true
   },
   "outputs": [],
   "source": []
  },
  {
   "cell_type": "code",
   "execution_count": null,
   "metadata": {
    "collapsed": true
   },
   "outputs": [],
   "source": [
    "# p_1 = [ (200, 161, 70),\n",
    "#         (36, 46, 40),\n",
    "#         (156, 14, 12) ]\n",
    "\n",
    "# p_2 = [ (152, 173, 201),\n",
    "#         (172, 171, 171),\n",
    "#         (122, 56, 37) ]\n",
    "\n",
    "# p_3 = [ (123, 145, 125),\n",
    "#         (228, 228, 236),\n",
    "#         (210, 113, 29) ]\n",
    "\n",
    "# p_3_a = [ (228, 228, 236),\n",
    "#           (123, 145, 125),\n",
    "#           (210, 113, 29) ]\n",
    "\n",
    "# p_4 = [ (228, 223, 204),\n",
    "#         (157, 119, 81),\n",
    "#         (130, 146, 146),\n",
    "#         (210, 165, 89) ]\n",
    "\n",
    "# p_5 = [ (33, 13, 12),\n",
    "#         (42, 28, 29),\n",
    "#         (132, 122, 120),\n",
    "#         (170, 83, 69),\n",
    "#         (145, 130, 127),\n",
    "#         (109, 112, 101) ]\n",
    "\n",
    "# p_6 = [ (62, 85, 101),\n",
    "#         (148, 98, 110),\n",
    "#         (171, 176, 172),\n",
    "#         (124, 60, 132),\n",
    "#         (73, 97, 67) ]\n",
    "\n",
    "# p_test_lst = [ p_1, p_2, p_3, p_3_a, p_4, p_5, p_6 ]"
   ]
  },
  {
   "cell_type": "code",
   "execution_count": null,
   "metadata": {
    "collapsed": true
   },
   "outputs": [],
   "source": [
    "# p_test = SetSimilarity()"
   ]
  },
  {
   "cell_type": "code",
   "execution_count": null,
   "metadata": {
    "collapsed": true
   },
   "outputs": [],
   "source": [
    "print(p_test.c2c_dist(p_1[0], p_1[2]))\n",
    "\n",
    "print(p_test.c2p_dist(p_1[0], p_2))\n",
    "\n",
    "print(p_test.p2p_dist(p_1, p_6))\n",
    "\n",
    "print(p_test.set_central_list(p_test_lst))"
   ]
  },
  {
   "cell_type": "code",
   "execution_count": null,
   "metadata": {
    "collapsed": true
   },
   "outputs": [],
   "source": []
  },
  {
   "cell_type": "code",
   "execution_count": null,
   "metadata": {
    "collapsed": true
   },
   "outputs": [],
   "source": []
  },
  {
   "cell_type": "code",
   "execution_count": null,
   "metadata": {
    "collapsed": true,
    "scrolled": false
   },
   "outputs": [],
   "source": []
  },
  {
   "cell_type": "code",
   "execution_count": null,
   "metadata": {
    "collapsed": true
   },
   "outputs": [],
   "source": []
  },
  {
   "cell_type": "code",
   "execution_count": null,
   "metadata": {
    "collapsed": true
   },
   "outputs": [],
   "source": []
  },
  {
   "cell_type": "code",
   "execution_count": null,
   "metadata": {
    "collapsed": true
   },
   "outputs": [],
   "source": []
  },
  {
   "cell_type": "code",
   "execution_count": null,
   "metadata": {
    "collapsed": true
   },
   "outputs": [],
   "source": [
    "palette_1 = [ ( 255, 0, 0), (0, 255, 0) ]\n",
    "palette_2 = [ (0, 255, 0), (0, 0, 255), (42, 142, 242), (108, 212, 228) ]\n",
    "palette_3 = [ (255, 0, 0), (0, 0, 255) ]\n",
    "palette_4 = [ (127,127,127), (0, 0, 255) ]\n",
    "palette_5 = [ ( 255, 0, 0), (0, 255, 0) ]\n",
    "palette_list_ex = [palette_1, palette_2, palette_3, palette_4, palette_5]\n",
    "color_a = palette_1[0]\n",
    "color_b = palette_1[1]"
   ]
  },
  {
   "cell_type": "code",
   "execution_count": null,
   "metadata": {
    "collapsed": true
   },
   "outputs": [],
   "source": [
    "test_other = SetSimilarity()"
   ]
  },
  {
   "cell_type": "code",
   "execution_count": null,
   "metadata": {
    "collapsed": true
   },
   "outputs": [],
   "source": [
    "print(test_other.c2c_dist(palette_2[0], palette_1[1]))\n",
    "\n",
    "print(test_other.c2p_dist(color_a, palette_2))\n",
    "\n",
    "print(test_other.p2p_dist(palette_2, palette_4))\n",
    "\n",
    "print(test_other.set_central_list(palette_list_ex))"
   ]
  },
  {
   "cell_type": "code",
   "execution_count": null,
   "metadata": {
    "collapsed": true
   },
   "outputs": [],
   "source": []
  },
  {
   "cell_type": "code",
   "execution_count": null,
   "metadata": {
    "collapsed": true
   },
   "outputs": [],
   "source": [
    "from colour import Color"
   ]
  },
  {
   "cell_type": "code",
   "execution_count": null,
   "metadata": {
    "collapsed": true
   },
   "outputs": [],
   "source": [
    "c = Color()"
   ]
  },
  {
   "cell_type": "code",
   "execution_count": null,
   "metadata": {
    "collapsed": true
   },
   "outputs": [],
   "source": [
    "morning_pic = ['/Users/Rabbit/Desktop/Screen Shot 2017-10-25 at 07.56.08.png',\n",
    "              '/Users/Rabbit/Desktop/Screen Shot 2017-10-25 at 08.08.44.png', \n",
    "              '/Users/Rabbit/Desktop/Screen Shot 2017-10-25 at 08.17.04.png',\n",
    "              '/Users/Rabbit/Desktop/Screen Shot 2017-10-25 at 08.33.38.png']"
   ]
  },
  {
   "cell_type": "code",
   "execution_count": null,
   "metadata": {
    "collapsed": true
   },
   "outputs": [],
   "source": [
    "c_harmony = Palettization(morning_pic[0])"
   ]
  },
  {
   "cell_type": "code",
   "execution_count": null,
   "metadata": {
    "collapsed": true
   },
   "outputs": [],
   "source": [
    "c_harmony.display_palette()"
   ]
  },
  {
   "cell_type": "code",
   "execution_count": null,
   "metadata": {
    "collapsed": true
   },
   "outputs": [],
   "source": [
    "c_harmony.zip_centroid_count()"
   ]
  },
  {
   "cell_type": "code",
   "execution_count": null,
   "metadata": {
    "collapsed": true
   },
   "outputs": [],
   "source": [
    "c_harmony.display_img()"
   ]
  },
  {
   "cell_type": "code",
   "execution_count": null,
   "metadata": {
    "collapsed": true
   },
   "outputs": [],
   "source": []
  },
  {
   "cell_type": "code",
   "execution_count": null,
   "metadata": {
    "collapsed": true
   },
   "outputs": [],
   "source": [
    "import colorsys"
   ]
  },
  {
   "cell_type": "code",
   "execution_count": null,
   "metadata": {
    "collapsed": true
   },
   "outputs": [],
   "source": []
  },
  {
   "cell_type": "code",
   "execution_count": null,
   "metadata": {
    "collapsed": true
   },
   "outputs": [],
   "source": [
    "try_me[1].arrayify_centroids()"
   ]
  },
  {
   "cell_type": "code",
   "execution_count": null,
   "metadata": {
    "collapsed": true
   },
   "outputs": [],
   "source": [
    "get_palette(img_path)"
   ]
  },
  {
   "cell_type": "code",
   "execution_count": null,
   "metadata": {
    "collapsed": true
   },
   "outputs": [],
   "source": [
    "plt.imshow([(centroid_lst).astype('uint8')])"
   ]
  },
  {
   "cell_type": "code",
   "execution_count": null,
   "metadata": {
    "collapsed": true
   },
   "outputs": [],
   "source": []
  },
  {
   "cell_type": "code",
   "execution_count": null,
   "metadata": {
    "collapsed": true
   },
   "outputs": [],
   "source": [
    "import colorgram\n",
    "\n",
    "img = (morning_pic[0])"
   ]
  },
  {
   "cell_type": "code",
   "execution_count": null,
   "metadata": {
    "collapsed": true
   },
   "outputs": [],
   "source": [
    "colors = colorgram.extract(img, 6)"
   ]
  },
  {
   "cell_type": "code",
   "execution_count": null,
   "metadata": {
    "collapsed": true
   },
   "outputs": [],
   "source": [
    "colors[0]"
   ]
  },
  {
   "cell_type": "code",
   "execution_count": null,
   "metadata": {
    "collapsed": true
   },
   "outputs": [],
   "source": [
    "# for color in palette_color_percent:\n",
    "#     r_chan = color[0]\n",
    "#     b_chan = color[1]\n",
    "#     g_chan = color[2]\n",
    "#     r_vals.append(r_chan)\n",
    "#     b_vals.append(b_chan)\n",
    "#     g_vals.append(g_chan)\n",
    "\n",
    "def colorT_rgb2hsv(rgb_vector):\n",
    "    \"\"\"returns an hsv vector from rgb\"\"\"\n",
    "    hsv_vector = []\n",
    "    for color in rgb_vector:\n",
    "        r_prime = color[0]/255\n",
    "        b_prime = color[1]/255\n",
    "        g_prime = color[2]/255\n",
    "        \n",
    "        "
   ]
  },
  {
   "cell_type": "code",
   "execution_count": null,
   "metadata": {
    "collapsed": true
   },
   "outputs": [],
   "source": [
    "import colorsys\n",
    "\n",
    "def rgb_hsv(rgb_tup):\n",
    "    \"\"\"returns hsv tuple from rgb\"\"\"\n",
    "    \"\"\"thanks for your help Zach E.!\"\"\"\n",
    "    \n",
    "\n",
    "    r = rgb_tup[0]\n",
    "    b = rgb_tup[1]\n",
    "    g = rgb_tup[2]\n",
    "#         print(r, g, b)\n",
    "    h, s, v = colorsys.rgb_to_hsv(r / 255., g / 255., b / 255.)\n",
    "    h = h * 360\n",
    "    hsv = [h, s, v]\n",
    "    return tuple(hsv)"
   ]
  },
  {
   "cell_type": "code",
   "execution_count": null,
   "metadata": {
    "collapsed": true
   },
   "outputs": [],
   "source": [
    "var"
   ]
  },
  {
   "cell_type": "code",
   "execution_count": null,
   "metadata": {
    "collapsed": true
   },
   "outputs": [],
   "source": [
    "rgb_hsv(var)"
   ]
  },
  {
   "cell_type": "code",
   "execution_count": null,
   "metadata": {
    "collapsed": true
   },
   "outputs": [],
   "source": []
  },
  {
   "cell_type": "code",
   "execution_count": null,
   "metadata": {
    "collapsed": true
   },
   "outputs": [],
   "source": [
    "_1 = np.uint8([[_var]])\n",
    "hsv_1 = cv2.cvtColor(_1, cv2.COLOR_RGB2HSV)"
   ]
  },
  {
   "cell_type": "code",
   "execution_count": null,
   "metadata": {
    "collapsed": true
   },
   "outputs": [],
   "source": [
    "hsv_1"
   ]
  },
  {
   "cell_type": "code",
   "execution_count": null,
   "metadata": {
    "collapsed": true
   },
   "outputs": [],
   "source": [
    "green = np.uint8([[[0,255,0 ]]])\n",
    "hsv_green = cv2.cvtColor(green,cv2.COLOR_RGB2HSV)\n",
    "print(hsv_green)"
   ]
  },
  {
   "cell_type": "code",
   "execution_count": null,
   "metadata": {
    "collapsed": true
   },
   "outputs": [],
   "source": [
    "var = (108, 212, 228)"
   ]
  },
  {
   "cell_type": "code",
   "execution_count": null,
   "metadata": {
    "collapsed": true
   },
   "outputs": [],
   "source": [
    "from colorutils import Color\n",
    "\n",
    "def get_hsv(rgb):\n",
    "    c = Color(rgb)\n",
    "    return c.hsv"
   ]
  },
  {
   "cell_type": "code",
   "execution_count": null,
   "metadata": {
    "collapsed": true
   },
   "outputs": [],
   "source": [
    "get_hsv(var)\n",
    "    \n",
    "    \n",
    "    "
   ]
  },
  {
   "cell_type": "code",
   "execution_count": null,
   "metadata": {
    "collapsed": true
   },
   "outputs": [],
   "source": [
    "rgb2hsv(var)"
   ]
  },
  {
   "cell_type": "code",
   "execution_count": null,
   "metadata": {
    "collapsed": true
   },
   "outputs": [],
   "source": []
  }
 ],
 "metadata": {
  "kernelspec": {
   "display_name": "Python 3",
   "language": "python",
   "name": "python3"
  },
  "language_info": {
   "codemirror_mode": {
    "name": "ipython",
    "version": 3
   },
   "file_extension": ".py",
   "mimetype": "text/x-python",
   "name": "python",
   "nbconvert_exporter": "python",
   "pygments_lexer": "ipython3",
   "version": "3.6.2"
  }
 },
 "nbformat": 4,
 "nbformat_minor": 2
}
